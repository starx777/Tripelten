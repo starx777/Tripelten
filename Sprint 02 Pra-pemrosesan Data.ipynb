{
 "cells": [
  {
   "cell_type": "markdown",
   "metadata": {},
   "source": [
    "<div style=\"border:solid black 2px; padding: 20px\"><h1 style=\"color:black; margin-bottom:20px\">Reviewer's comment v1</h1>\n",
    "Halo Juliman !\n",
    "\n",
    "Perkenalkan saya Dipta, disini saya akan mereview tugas Juliman ya.\n",
    "\n",
    "Saya akan memberikan beberapa komen seperti dibawah ini, tolong jangan dipindah, dirubah, maupun dihapus ya.\n",
    "\n",
    "Komen yang saya berikan akan muncul dalam warna hijau, kuning, atau pun merah seperti ini:\n",
    "\n",
    "<div class=\"alert alert-success\">\n",
    "<b>Reviewer's comment</b> <a class=\"tocSkip\"></a>\n",
    "\n",
    "Bagus, semua berjalan lancar.\n",
    "\n",
    "</div>\n",
    "\n",
    "<div class=\"alert alert-warning\">\n",
    "<b>Reviewer's comment</b> <a class=\"tocSkip\"></a>\n",
    "\n",
    "Terdapat beberapa catatan.\n",
    "\n",
    "</div>\n",
    "\n",
    "<div class=\"alert alert-danger\">\n",
    "<b>Reviewer's comment</b> <a class=\"tocSkip\"></a>\n",
    "\n",
    "Perlu beberapa perbaikan\n",
    "\n",
    "</div>\n",
    "\n",
    "Dan tentu saja Juliman dapat menjawab saya dengan menggunakan ini\n",
    "\n",
    "<div class=\"alert alert-block alert-info\">\n",
    "<b>Student answer.</b> <a class=\"tocSkip\"></a>\n",
    "    \n",
    "Baik kak\n",
    "</div>"
   ]
  },
  {
   "cell_type": "markdown",
   "metadata": {},
   "source": [
    "# Menganalisis Risiko Gagal Bayar Peminjam\n",
    "\n",
    "Tugas Anda adalah menyiapkan laporan untuk divisi kredit suatu bank. Anda akan mencari tahu pengaruh status perkawinan seorang nasabah dan jumlah anak yang dimilikinya terhadap probabilitas gagal bayar dalam pelunasan pinjaman. Pihak bank sudah memiliki beberapa data mengenai kelayakan kredit nasabah.\n",
    "\n",
    "Laporan Anda akan dipertimbangkan pada saat membuat **penilaian kredit** untuk calon nasabah. **Penilaian kredit** digunakan untuk mengevaluasi kemampuan calon peminjam untuk melunasi pinjaman mereka.\n",
    "\n",
    "Tujuan proyek ini adalah mencari tahu pengaruh status perkawinan seorang nasabah dan jumlah anak yang dimilikinya terhadap probabilitas gagal bayar dalam pelunasan pinjaman"
   ]
  },
  {
   "cell_type": "markdown",
   "metadata": {},
   "source": [
    "<div class=\"alert alert-success\">\n",
    "<b>Reviewer's comment</b> <a class=\"tocSkip\"></a>\n",
    "\n",
    "Bagus, sudah dijelaskan deskripsi dari project\n",
    "\n",
    "</div>"
   ]
  },
  {
   "cell_type": "markdown",
   "metadata": {},
   "source": [
    "## Buka *file* data dan baca informasi umumnya."
   ]
  },
  {
   "cell_type": "code",
   "execution_count": 135,
   "metadata": {},
   "outputs": [],
   "source": [
    "# Muat semua *library*\n",
    "import pandas as pd\n",
    "import numpy as np\n",
    "\n",
    "# Muat datanya\n",
    "credit_scoring = pd.read_csv('/datasets/credit_scoring_eng.csv')"
   ]
  },
  {
   "cell_type": "markdown",
   "metadata": {},
   "source": [
    "<div class=\"alert alert-success\">\n",
    "<b>Reviewer's comment</b> <a class=\"tocSkip\"></a>\n",
    "\n",
    "Bagus, semua berjalan lancar.\n",
    "\n",
    "</div>"
   ]
  },
  {
   "cell_type": "markdown",
   "metadata": {},
   "source": [
    "## Soal 1. Eksplorasi data\n",
    "\n",
    "**Deskripsi Data**\n",
    "- `children` - jumlah anak dalam keluarga\n",
    "- `days_employed` - pengalaman kerja nasabah dalam hari\n",
    "- `dob_years` - usia nasabah dalam tahun\n",
    "- `education` - tingkat pendidikan nasabah\n",
    "- `education_id` - pengidentifikasi untuk tingkat pendidikan nasabah\n",
    "- `family_status` - pengidentifikasi untuk status perkawinan nasabah\n",
    "- `family_status_id` - tanda pengenal status perkawinan\n",
    "- `gender` - jenis kelamin nasabah\n",
    "- `income_type` - jenis pekerjaan\n",
    "- `debt` - apakah nasabah memiliki hutang pembayaran pinjaman\n",
    "- `total_income` - pendapatan bulanan\n",
    "- `purpose` - tujuan mendapatkan pinjaman"
   ]
  },
  {
   "cell_type": "code",
   "execution_count": 136,
   "metadata": {},
   "outputs": [
    {
     "data": {
      "text/plain": [
       "(21525, 12)"
      ]
     },
     "execution_count": 136,
     "metadata": {},
     "output_type": "execute_result"
    }
   ],
   "source": [
    "# Mari kita lihat berapa banyak baris dan kolom yang dimiliki oleh dataset kita\n",
    "credit_scoring.shape"
   ]
  },
  {
   "cell_type": "code",
   "execution_count": 137,
   "metadata": {},
   "outputs": [],
   "source": [
    "original_dataset_shape = credit_scoring.shape"
   ]
  },
  {
   "cell_type": "code",
   "execution_count": 138,
   "metadata": {
    "scrolled": true
   },
   "outputs": [
    {
     "data": {
      "text/html": [
       "<div>\n",
       "<style scoped>\n",
       "    .dataframe tbody tr th:only-of-type {\n",
       "        vertical-align: middle;\n",
       "    }\n",
       "\n",
       "    .dataframe tbody tr th {\n",
       "        vertical-align: top;\n",
       "    }\n",
       "\n",
       "    .dataframe thead th {\n",
       "        text-align: right;\n",
       "    }\n",
       "</style>\n",
       "<table border=\"1\" class=\"dataframe\">\n",
       "  <thead>\n",
       "    <tr style=\"text-align: right;\">\n",
       "      <th></th>\n",
       "      <th>children</th>\n",
       "      <th>days_employed</th>\n",
       "      <th>dob_years</th>\n",
       "      <th>education</th>\n",
       "      <th>education_id</th>\n",
       "      <th>family_status</th>\n",
       "      <th>family_status_id</th>\n",
       "      <th>gender</th>\n",
       "      <th>income_type</th>\n",
       "      <th>debt</th>\n",
       "      <th>total_income</th>\n",
       "      <th>purpose</th>\n",
       "    </tr>\n",
       "  </thead>\n",
       "  <tbody>\n",
       "    <tr>\n",
       "      <th>0</th>\n",
       "      <td>1</td>\n",
       "      <td>-8437.673028</td>\n",
       "      <td>42</td>\n",
       "      <td>bachelor's degree</td>\n",
       "      <td>0</td>\n",
       "      <td>married</td>\n",
       "      <td>0</td>\n",
       "      <td>F</td>\n",
       "      <td>employee</td>\n",
       "      <td>0</td>\n",
       "      <td>40620.102</td>\n",
       "      <td>purchase of the house</td>\n",
       "    </tr>\n",
       "    <tr>\n",
       "      <th>1</th>\n",
       "      <td>1</td>\n",
       "      <td>-4024.803754</td>\n",
       "      <td>36</td>\n",
       "      <td>secondary education</td>\n",
       "      <td>1</td>\n",
       "      <td>married</td>\n",
       "      <td>0</td>\n",
       "      <td>F</td>\n",
       "      <td>employee</td>\n",
       "      <td>0</td>\n",
       "      <td>17932.802</td>\n",
       "      <td>car purchase</td>\n",
       "    </tr>\n",
       "    <tr>\n",
       "      <th>2</th>\n",
       "      <td>0</td>\n",
       "      <td>-5623.422610</td>\n",
       "      <td>33</td>\n",
       "      <td>Secondary Education</td>\n",
       "      <td>1</td>\n",
       "      <td>married</td>\n",
       "      <td>0</td>\n",
       "      <td>M</td>\n",
       "      <td>employee</td>\n",
       "      <td>0</td>\n",
       "      <td>23341.752</td>\n",
       "      <td>purchase of the house</td>\n",
       "    </tr>\n",
       "    <tr>\n",
       "      <th>3</th>\n",
       "      <td>3</td>\n",
       "      <td>-4124.747207</td>\n",
       "      <td>32</td>\n",
       "      <td>secondary education</td>\n",
       "      <td>1</td>\n",
       "      <td>married</td>\n",
       "      <td>0</td>\n",
       "      <td>M</td>\n",
       "      <td>employee</td>\n",
       "      <td>0</td>\n",
       "      <td>42820.568</td>\n",
       "      <td>supplementary education</td>\n",
       "    </tr>\n",
       "    <tr>\n",
       "      <th>4</th>\n",
       "      <td>0</td>\n",
       "      <td>340266.072047</td>\n",
       "      <td>53</td>\n",
       "      <td>secondary education</td>\n",
       "      <td>1</td>\n",
       "      <td>civil partnership</td>\n",
       "      <td>1</td>\n",
       "      <td>F</td>\n",
       "      <td>retiree</td>\n",
       "      <td>0</td>\n",
       "      <td>25378.572</td>\n",
       "      <td>to have a wedding</td>\n",
       "    </tr>\n",
       "  </tbody>\n",
       "</table>\n",
       "</div>"
      ],
      "text/plain": [
       "   children  days_employed  dob_years            education  education_id  \\\n",
       "0         1   -8437.673028         42    bachelor's degree             0   \n",
       "1         1   -4024.803754         36  secondary education             1   \n",
       "2         0   -5623.422610         33  Secondary Education             1   \n",
       "3         3   -4124.747207         32  secondary education             1   \n",
       "4         0  340266.072047         53  secondary education             1   \n",
       "\n",
       "       family_status  family_status_id gender income_type  debt  total_income  \\\n",
       "0            married                 0      F    employee     0     40620.102   \n",
       "1            married                 0      F    employee     0     17932.802   \n",
       "2            married                 0      M    employee     0     23341.752   \n",
       "3            married                 0      M    employee     0     42820.568   \n",
       "4  civil partnership                 1      F     retiree     0     25378.572   \n",
       "\n",
       "                   purpose  \n",
       "0    purchase of the house  \n",
       "1             car purchase  \n",
       "2    purchase of the house  \n",
       "3  supplementary education  \n",
       "4        to have a wedding  "
      ]
     },
     "execution_count": 138,
     "metadata": {},
     "output_type": "execute_result"
    }
   ],
   "source": [
    "# Mari tampilkan N baris pertama\n",
    "credit_scoring.head(5)"
   ]
  },
  {
   "cell_type": "markdown",
   "metadata": {},
   "source": [
    "Terdapat beberapa masalah yang membutuhkan penyelidikan dan perubahan lebih lanjut:\n",
    "- Beberapa nilai di kolom 'days_employed' merupakan nilai negatif.\n",
    "- Kurangnya konsistensi dalam menggunakan huruf besar/kecil di kolom 'education'"
   ]
  },
  {
   "cell_type": "code",
   "execution_count": 139,
   "metadata": {
    "scrolled": false
   },
   "outputs": [
    {
     "name": "stdout",
     "output_type": "stream",
     "text": [
      "<class 'pandas.core.frame.DataFrame'>\n",
      "RangeIndex: 21525 entries, 0 to 21524\n",
      "Data columns (total 12 columns):\n",
      " #   Column            Non-Null Count  Dtype  \n",
      "---  ------            --------------  -----  \n",
      " 0   children          21525 non-null  int64  \n",
      " 1   days_employed     19351 non-null  float64\n",
      " 2   dob_years         21525 non-null  int64  \n",
      " 3   education         21525 non-null  object \n",
      " 4   education_id      21525 non-null  int64  \n",
      " 5   family_status     21525 non-null  object \n",
      " 6   family_status_id  21525 non-null  int64  \n",
      " 7   gender            21525 non-null  object \n",
      " 8   income_type       21525 non-null  object \n",
      " 9   debt              21525 non-null  int64  \n",
      " 10  total_income      19351 non-null  float64\n",
      " 11  purpose           21525 non-null  object \n",
      "dtypes: float64(2), int64(5), object(5)\n",
      "memory usage: 2.0+ MB\n"
     ]
    }
   ],
   "source": [
    "# Dapatkan informasi data\n",
    "credit_scoring.info()"
   ]
  },
  {
   "cell_type": "code",
   "execution_count": 140,
   "metadata": {},
   "outputs": [
    {
     "data": {
      "text/plain": [
       "children               0\n",
       "days_employed       2174\n",
       "dob_years              0\n",
       "education              0\n",
       "education_id           0\n",
       "family_status          0\n",
       "family_status_id       0\n",
       "gender                 0\n",
       "income_type            0\n",
       "debt                   0\n",
       "total_income        2174\n",
       "purpose                0\n",
       "dtype: int64"
      ]
     },
     "execution_count": 140,
     "metadata": {},
     "output_type": "execute_result"
    }
   ],
   "source": [
    "credit_scoring.isna().sum()"
   ]
  },
  {
   "cell_type": "markdown",
   "metadata": {},
   "source": [
    "Total nilai untuk setiap kolom seharusnya 21525, namun pada kolom 'day_employed' dan 'toal_income' hanya 19351. Nilai yang hilang ada di kolom 'day_employed' dan total_income sebanyak 2174."
   ]
  },
  {
   "cell_type": "code",
   "execution_count": 141,
   "metadata": {
    "scrolled": false
   },
   "outputs": [
    {
     "data": {
      "text/html": [
       "<div>\n",
       "<style scoped>\n",
       "    .dataframe tbody tr th:only-of-type {\n",
       "        vertical-align: middle;\n",
       "    }\n",
       "\n",
       "    .dataframe tbody tr th {\n",
       "        vertical-align: top;\n",
       "    }\n",
       "\n",
       "    .dataframe thead th {\n",
       "        text-align: right;\n",
       "    }\n",
       "</style>\n",
       "<table border=\"1\" class=\"dataframe\">\n",
       "  <thead>\n",
       "    <tr style=\"text-align: right;\">\n",
       "      <th></th>\n",
       "      <th>children</th>\n",
       "      <th>days_employed</th>\n",
       "      <th>dob_years</th>\n",
       "      <th>education</th>\n",
       "      <th>education_id</th>\n",
       "      <th>family_status</th>\n",
       "      <th>family_status_id</th>\n",
       "      <th>gender</th>\n",
       "      <th>income_type</th>\n",
       "      <th>debt</th>\n",
       "      <th>total_income</th>\n",
       "      <th>purpose</th>\n",
       "    </tr>\n",
       "  </thead>\n",
       "  <tbody>\n",
       "    <tr>\n",
       "      <th>12</th>\n",
       "      <td>0</td>\n",
       "      <td>NaN</td>\n",
       "      <td>65</td>\n",
       "      <td>secondary education</td>\n",
       "      <td>1</td>\n",
       "      <td>civil partnership</td>\n",
       "      <td>1</td>\n",
       "      <td>M</td>\n",
       "      <td>retiree</td>\n",
       "      <td>0</td>\n",
       "      <td>NaN</td>\n",
       "      <td>to have a wedding</td>\n",
       "    </tr>\n",
       "    <tr>\n",
       "      <th>26</th>\n",
       "      <td>0</td>\n",
       "      <td>NaN</td>\n",
       "      <td>41</td>\n",
       "      <td>secondary education</td>\n",
       "      <td>1</td>\n",
       "      <td>married</td>\n",
       "      <td>0</td>\n",
       "      <td>M</td>\n",
       "      <td>civil servant</td>\n",
       "      <td>0</td>\n",
       "      <td>NaN</td>\n",
       "      <td>education</td>\n",
       "    </tr>\n",
       "    <tr>\n",
       "      <th>29</th>\n",
       "      <td>0</td>\n",
       "      <td>NaN</td>\n",
       "      <td>63</td>\n",
       "      <td>secondary education</td>\n",
       "      <td>1</td>\n",
       "      <td>unmarried</td>\n",
       "      <td>4</td>\n",
       "      <td>F</td>\n",
       "      <td>retiree</td>\n",
       "      <td>0</td>\n",
       "      <td>NaN</td>\n",
       "      <td>building a real estate</td>\n",
       "    </tr>\n",
       "    <tr>\n",
       "      <th>41</th>\n",
       "      <td>0</td>\n",
       "      <td>NaN</td>\n",
       "      <td>50</td>\n",
       "      <td>secondary education</td>\n",
       "      <td>1</td>\n",
       "      <td>married</td>\n",
       "      <td>0</td>\n",
       "      <td>F</td>\n",
       "      <td>civil servant</td>\n",
       "      <td>0</td>\n",
       "      <td>NaN</td>\n",
       "      <td>second-hand car purchase</td>\n",
       "    </tr>\n",
       "    <tr>\n",
       "      <th>55</th>\n",
       "      <td>0</td>\n",
       "      <td>NaN</td>\n",
       "      <td>54</td>\n",
       "      <td>secondary education</td>\n",
       "      <td>1</td>\n",
       "      <td>civil partnership</td>\n",
       "      <td>1</td>\n",
       "      <td>F</td>\n",
       "      <td>retiree</td>\n",
       "      <td>1</td>\n",
       "      <td>NaN</td>\n",
       "      <td>to have a wedding</td>\n",
       "    </tr>\n",
       "    <tr>\n",
       "      <th>...</th>\n",
       "      <td>...</td>\n",
       "      <td>...</td>\n",
       "      <td>...</td>\n",
       "      <td>...</td>\n",
       "      <td>...</td>\n",
       "      <td>...</td>\n",
       "      <td>...</td>\n",
       "      <td>...</td>\n",
       "      <td>...</td>\n",
       "      <td>...</td>\n",
       "      <td>...</td>\n",
       "      <td>...</td>\n",
       "    </tr>\n",
       "    <tr>\n",
       "      <th>21489</th>\n",
       "      <td>2</td>\n",
       "      <td>NaN</td>\n",
       "      <td>47</td>\n",
       "      <td>Secondary Education</td>\n",
       "      <td>1</td>\n",
       "      <td>married</td>\n",
       "      <td>0</td>\n",
       "      <td>M</td>\n",
       "      <td>business</td>\n",
       "      <td>0</td>\n",
       "      <td>NaN</td>\n",
       "      <td>purchase of a car</td>\n",
       "    </tr>\n",
       "    <tr>\n",
       "      <th>21495</th>\n",
       "      <td>1</td>\n",
       "      <td>NaN</td>\n",
       "      <td>50</td>\n",
       "      <td>secondary education</td>\n",
       "      <td>1</td>\n",
       "      <td>civil partnership</td>\n",
       "      <td>1</td>\n",
       "      <td>F</td>\n",
       "      <td>employee</td>\n",
       "      <td>0</td>\n",
       "      <td>NaN</td>\n",
       "      <td>wedding ceremony</td>\n",
       "    </tr>\n",
       "    <tr>\n",
       "      <th>21497</th>\n",
       "      <td>0</td>\n",
       "      <td>NaN</td>\n",
       "      <td>48</td>\n",
       "      <td>BACHELOR'S DEGREE</td>\n",
       "      <td>0</td>\n",
       "      <td>married</td>\n",
       "      <td>0</td>\n",
       "      <td>F</td>\n",
       "      <td>business</td>\n",
       "      <td>0</td>\n",
       "      <td>NaN</td>\n",
       "      <td>building a property</td>\n",
       "    </tr>\n",
       "    <tr>\n",
       "      <th>21502</th>\n",
       "      <td>1</td>\n",
       "      <td>NaN</td>\n",
       "      <td>42</td>\n",
       "      <td>secondary education</td>\n",
       "      <td>1</td>\n",
       "      <td>married</td>\n",
       "      <td>0</td>\n",
       "      <td>F</td>\n",
       "      <td>employee</td>\n",
       "      <td>0</td>\n",
       "      <td>NaN</td>\n",
       "      <td>building a real estate</td>\n",
       "    </tr>\n",
       "    <tr>\n",
       "      <th>21510</th>\n",
       "      <td>2</td>\n",
       "      <td>NaN</td>\n",
       "      <td>28</td>\n",
       "      <td>secondary education</td>\n",
       "      <td>1</td>\n",
       "      <td>married</td>\n",
       "      <td>0</td>\n",
       "      <td>F</td>\n",
       "      <td>employee</td>\n",
       "      <td>0</td>\n",
       "      <td>NaN</td>\n",
       "      <td>car purchase</td>\n",
       "    </tr>\n",
       "  </tbody>\n",
       "</table>\n",
       "<p>2174 rows × 12 columns</p>\n",
       "</div>"
      ],
      "text/plain": [
       "       children  days_employed  dob_years            education  education_id  \\\n",
       "12            0            NaN         65  secondary education             1   \n",
       "26            0            NaN         41  secondary education             1   \n",
       "29            0            NaN         63  secondary education             1   \n",
       "41            0            NaN         50  secondary education             1   \n",
       "55            0            NaN         54  secondary education             1   \n",
       "...         ...            ...        ...                  ...           ...   \n",
       "21489         2            NaN         47  Secondary Education             1   \n",
       "21495         1            NaN         50  secondary education             1   \n",
       "21497         0            NaN         48    BACHELOR'S DEGREE             0   \n",
       "21502         1            NaN         42  secondary education             1   \n",
       "21510         2            NaN         28  secondary education             1   \n",
       "\n",
       "           family_status  family_status_id gender    income_type  debt  \\\n",
       "12     civil partnership                 1      M        retiree     0   \n",
       "26               married                 0      M  civil servant     0   \n",
       "29             unmarried                 4      F        retiree     0   \n",
       "41               married                 0      F  civil servant     0   \n",
       "55     civil partnership                 1      F        retiree     1   \n",
       "...                  ...               ...    ...            ...   ...   \n",
       "21489            married                 0      M       business     0   \n",
       "21495  civil partnership                 1      F       employee     0   \n",
       "21497            married                 0      F       business     0   \n",
       "21502            married                 0      F       employee     0   \n",
       "21510            married                 0      F       employee     0   \n",
       "\n",
       "       total_income                   purpose  \n",
       "12              NaN         to have a wedding  \n",
       "26              NaN                 education  \n",
       "29              NaN    building a real estate  \n",
       "41              NaN  second-hand car purchase  \n",
       "55              NaN         to have a wedding  \n",
       "...             ...                       ...  \n",
       "21489           NaN         purchase of a car  \n",
       "21495           NaN          wedding ceremony  \n",
       "21497           NaN       building a property  \n",
       "21502           NaN    building a real estate  \n",
       "21510           NaN              car purchase  \n",
       "\n",
       "[2174 rows x 12 columns]"
      ]
     },
     "execution_count": 141,
     "metadata": {},
     "output_type": "execute_result"
    }
   ],
   "source": [
    "# Mari kita lihat tabel yang difilter dengan nilai yang hilang di kolom pertama yang mengandung data yang hilang\n",
    "credit_scoring[credit_scoring['days_employed'].isna()]"
   ]
  },
  {
   "cell_type": "markdown",
   "metadata": {},
   "source": [
    "Nilai yang hilang tampak simetris pada kolom 'days_employed' dan 'total_income'"
   ]
  },
  {
   "cell_type": "code",
   "execution_count": 142,
   "metadata": {},
   "outputs": [
    {
     "data": {
      "text/html": [
       "<div>\n",
       "<style scoped>\n",
       "    .dataframe tbody tr th:only-of-type {\n",
       "        vertical-align: middle;\n",
       "    }\n",
       "\n",
       "    .dataframe tbody tr th {\n",
       "        vertical-align: top;\n",
       "    }\n",
       "\n",
       "    .dataframe thead th {\n",
       "        text-align: right;\n",
       "    }\n",
       "</style>\n",
       "<table border=\"1\" class=\"dataframe\">\n",
       "  <thead>\n",
       "    <tr style=\"text-align: right;\">\n",
       "      <th></th>\n",
       "      <th>children</th>\n",
       "      <th>days_employed</th>\n",
       "      <th>dob_years</th>\n",
       "      <th>education</th>\n",
       "      <th>education_id</th>\n",
       "      <th>family_status</th>\n",
       "      <th>family_status_id</th>\n",
       "      <th>gender</th>\n",
       "      <th>income_type</th>\n",
       "      <th>debt</th>\n",
       "      <th>total_income</th>\n",
       "      <th>purpose</th>\n",
       "    </tr>\n",
       "  </thead>\n",
       "  <tbody>\n",
       "    <tr>\n",
       "      <th>12</th>\n",
       "      <td>0</td>\n",
       "      <td>NaN</td>\n",
       "      <td>65</td>\n",
       "      <td>secondary education</td>\n",
       "      <td>1</td>\n",
       "      <td>civil partnership</td>\n",
       "      <td>1</td>\n",
       "      <td>M</td>\n",
       "      <td>retiree</td>\n",
       "      <td>0</td>\n",
       "      <td>NaN</td>\n",
       "      <td>to have a wedding</td>\n",
       "    </tr>\n",
       "    <tr>\n",
       "      <th>26</th>\n",
       "      <td>0</td>\n",
       "      <td>NaN</td>\n",
       "      <td>41</td>\n",
       "      <td>secondary education</td>\n",
       "      <td>1</td>\n",
       "      <td>married</td>\n",
       "      <td>0</td>\n",
       "      <td>M</td>\n",
       "      <td>civil servant</td>\n",
       "      <td>0</td>\n",
       "      <td>NaN</td>\n",
       "      <td>education</td>\n",
       "    </tr>\n",
       "    <tr>\n",
       "      <th>29</th>\n",
       "      <td>0</td>\n",
       "      <td>NaN</td>\n",
       "      <td>63</td>\n",
       "      <td>secondary education</td>\n",
       "      <td>1</td>\n",
       "      <td>unmarried</td>\n",
       "      <td>4</td>\n",
       "      <td>F</td>\n",
       "      <td>retiree</td>\n",
       "      <td>0</td>\n",
       "      <td>NaN</td>\n",
       "      <td>building a real estate</td>\n",
       "    </tr>\n",
       "    <tr>\n",
       "      <th>41</th>\n",
       "      <td>0</td>\n",
       "      <td>NaN</td>\n",
       "      <td>50</td>\n",
       "      <td>secondary education</td>\n",
       "      <td>1</td>\n",
       "      <td>married</td>\n",
       "      <td>0</td>\n",
       "      <td>F</td>\n",
       "      <td>civil servant</td>\n",
       "      <td>0</td>\n",
       "      <td>NaN</td>\n",
       "      <td>second-hand car purchase</td>\n",
       "    </tr>\n",
       "    <tr>\n",
       "      <th>55</th>\n",
       "      <td>0</td>\n",
       "      <td>NaN</td>\n",
       "      <td>54</td>\n",
       "      <td>secondary education</td>\n",
       "      <td>1</td>\n",
       "      <td>civil partnership</td>\n",
       "      <td>1</td>\n",
       "      <td>F</td>\n",
       "      <td>retiree</td>\n",
       "      <td>1</td>\n",
       "      <td>NaN</td>\n",
       "      <td>to have a wedding</td>\n",
       "    </tr>\n",
       "    <tr>\n",
       "      <th>...</th>\n",
       "      <td>...</td>\n",
       "      <td>...</td>\n",
       "      <td>...</td>\n",
       "      <td>...</td>\n",
       "      <td>...</td>\n",
       "      <td>...</td>\n",
       "      <td>...</td>\n",
       "      <td>...</td>\n",
       "      <td>...</td>\n",
       "      <td>...</td>\n",
       "      <td>...</td>\n",
       "      <td>...</td>\n",
       "    </tr>\n",
       "    <tr>\n",
       "      <th>21489</th>\n",
       "      <td>2</td>\n",
       "      <td>NaN</td>\n",
       "      <td>47</td>\n",
       "      <td>Secondary Education</td>\n",
       "      <td>1</td>\n",
       "      <td>married</td>\n",
       "      <td>0</td>\n",
       "      <td>M</td>\n",
       "      <td>business</td>\n",
       "      <td>0</td>\n",
       "      <td>NaN</td>\n",
       "      <td>purchase of a car</td>\n",
       "    </tr>\n",
       "    <tr>\n",
       "      <th>21495</th>\n",
       "      <td>1</td>\n",
       "      <td>NaN</td>\n",
       "      <td>50</td>\n",
       "      <td>secondary education</td>\n",
       "      <td>1</td>\n",
       "      <td>civil partnership</td>\n",
       "      <td>1</td>\n",
       "      <td>F</td>\n",
       "      <td>employee</td>\n",
       "      <td>0</td>\n",
       "      <td>NaN</td>\n",
       "      <td>wedding ceremony</td>\n",
       "    </tr>\n",
       "    <tr>\n",
       "      <th>21497</th>\n",
       "      <td>0</td>\n",
       "      <td>NaN</td>\n",
       "      <td>48</td>\n",
       "      <td>BACHELOR'S DEGREE</td>\n",
       "      <td>0</td>\n",
       "      <td>married</td>\n",
       "      <td>0</td>\n",
       "      <td>F</td>\n",
       "      <td>business</td>\n",
       "      <td>0</td>\n",
       "      <td>NaN</td>\n",
       "      <td>building a property</td>\n",
       "    </tr>\n",
       "    <tr>\n",
       "      <th>21502</th>\n",
       "      <td>1</td>\n",
       "      <td>NaN</td>\n",
       "      <td>42</td>\n",
       "      <td>secondary education</td>\n",
       "      <td>1</td>\n",
       "      <td>married</td>\n",
       "      <td>0</td>\n",
       "      <td>F</td>\n",
       "      <td>employee</td>\n",
       "      <td>0</td>\n",
       "      <td>NaN</td>\n",
       "      <td>building a real estate</td>\n",
       "    </tr>\n",
       "    <tr>\n",
       "      <th>21510</th>\n",
       "      <td>2</td>\n",
       "      <td>NaN</td>\n",
       "      <td>28</td>\n",
       "      <td>secondary education</td>\n",
       "      <td>1</td>\n",
       "      <td>married</td>\n",
       "      <td>0</td>\n",
       "      <td>F</td>\n",
       "      <td>employee</td>\n",
       "      <td>0</td>\n",
       "      <td>NaN</td>\n",
       "      <td>car purchase</td>\n",
       "    </tr>\n",
       "  </tbody>\n",
       "</table>\n",
       "<p>2174 rows × 12 columns</p>\n",
       "</div>"
      ],
      "text/plain": [
       "       children  days_employed  dob_years            education  education_id  \\\n",
       "12            0            NaN         65  secondary education             1   \n",
       "26            0            NaN         41  secondary education             1   \n",
       "29            0            NaN         63  secondary education             1   \n",
       "41            0            NaN         50  secondary education             1   \n",
       "55            0            NaN         54  secondary education             1   \n",
       "...         ...            ...        ...                  ...           ...   \n",
       "21489         2            NaN         47  Secondary Education             1   \n",
       "21495         1            NaN         50  secondary education             1   \n",
       "21497         0            NaN         48    BACHELOR'S DEGREE             0   \n",
       "21502         1            NaN         42  secondary education             1   \n",
       "21510         2            NaN         28  secondary education             1   \n",
       "\n",
       "           family_status  family_status_id gender    income_type  debt  \\\n",
       "12     civil partnership                 1      M        retiree     0   \n",
       "26               married                 0      M  civil servant     0   \n",
       "29             unmarried                 4      F        retiree     0   \n",
       "41               married                 0      F  civil servant     0   \n",
       "55     civil partnership                 1      F        retiree     1   \n",
       "...                  ...               ...    ...            ...   ...   \n",
       "21489            married                 0      M       business     0   \n",
       "21495  civil partnership                 1      F       employee     0   \n",
       "21497            married                 0      F       business     0   \n",
       "21502            married                 0      F       employee     0   \n",
       "21510            married                 0      F       employee     0   \n",
       "\n",
       "       total_income                   purpose  \n",
       "12              NaN         to have a wedding  \n",
       "26              NaN                 education  \n",
       "29              NaN    building a real estate  \n",
       "41              NaN  second-hand car purchase  \n",
       "55              NaN         to have a wedding  \n",
       "...             ...                       ...  \n",
       "21489           NaN         purchase of a car  \n",
       "21495           NaN          wedding ceremony  \n",
       "21497           NaN       building a property  \n",
       "21502           NaN    building a real estate  \n",
       "21510           NaN              car purchase  \n",
       "\n",
       "[2174 rows x 12 columns]"
      ]
     },
     "execution_count": 142,
     "metadata": {},
     "output_type": "execute_result"
    }
   ],
   "source": [
    "# Mari kita terapkan beberapa kondisi untuk memfilter data dan melihat jumlah baris dalam tabel yang telah difilter.\n",
    "missing_value = credit_scoring.loc[(credit_scoring['days_employed'].isna()) & (credit_scoring['total_income'].isna())]\n",
    "missing_value\n"
   ]
  },
  {
   "cell_type": "markdown",
   "metadata": {},
   "source": [
    "**Kesimpulan sementara**\n",
    "\n",
    "1. Jumlah baris dalam tabel yang difilter sama dengan jumlah nilai yang hilang.\n",
    "2. Langkah selanjutnya adalah menganalisa pengaruh data yang hilang terhadap keseluruhan data dengan cara :\n",
    "- Menghitung persentase nilai yang hilang dibandingkan dengan keseluruhan data.\n",
    "- Mencari nilai yang unik pada kolom-kolom lain yang berhubungan dengan data yang hilang."
   ]
  },
  {
   "cell_type": "markdown",
   "metadata": {},
   "source": [
    "<div class=\"alert alert-success\">\n",
    "<b>Reviewer's comment</b> <a class=\"tocSkip\"></a>\n",
    "\n",
    "Bagus, semua berjalan lancar.\n",
    "\n",
    "</div>"
   ]
  },
  {
   "cell_type": "code",
   "execution_count": 143,
   "metadata": {},
   "outputs": [
    {
     "name": "stdout",
     "output_type": "stream",
     "text": [
      "Persentase data yang hilang pada kolom 'day_employed' adalah 10.1 %\n",
      "Persentase data yang hilang pada kolom 'total_income' adalah 10.1 %\n"
     ]
    }
   ],
   "source": [
    "# Mari kita periksa nasabah yang tidak memiliki data tentang karakteristik yang teridentifikasi dan kolom dengan nilai yang hilang\n",
    "a = (credit_scoring['days_employed'].isna().sum() / len(credit_scoring))*100\n",
    "b = (credit_scoring['total_income'].isna().sum() / len(credit_scoring))*100\n",
    "print(\"Persentase data yang hilang pada kolom 'day_employed' adalah {:.1f} %\".format(round(a, 2)))\n",
    "print(\"Persentase data yang hilang pada kolom 'total_income' adalah {:.1f} %\".format(round(b, 2)))\n"
   ]
  },
  {
   "cell_type": "markdown",
   "metadata": {},
   "source": [
    "Data yang hilang untuk kedua kolom sekitar 10%, selanjutnya kita akan mencari tahu hubungan data yang hilang ini dengan nilai-nilai pada kolom-kolom lain."
   ]
  },
  {
   "cell_type": "code",
   "execution_count": 144,
   "metadata": {
    "scrolled": false
   },
   "outputs": [
    {
     "name": "stdout",
     "output_type": "stream",
     "text": [
      "children :\n",
      "[-1, 0, 1, 2, 3, 4, 5, 20]\n",
      "\n",
      "days_employed :\n",
      "[nan]\n",
      "\n",
      "dob_years :\n",
      "[0, 19, 20, 21, 22, 23, 24, 25, 26, 27, 28, 29, 30, 31, 32, 33, 34, 35, 36, 37, 38, 39, 40, 41, 42, 43, 44, 45, 46, 47, 48, 49, 50, 51, 52, 53, 54, 55, 56, 57, 58, 59, 60, 61, 62, 63, 64, 65, 66, 67, 68, 69, 70, 71, 72, 73]\n",
      "\n",
      "education :\n",
      "[\"BACHELOR'S DEGREE\", \"Bachelor's Degree\", 'PRIMARY EDUCATION', 'Primary Education', 'SECONDARY EDUCATION', 'SOME COLLEGE', 'Secondary Education', 'Some College', \"bachelor's degree\", 'primary education', 'secondary education', 'some college']\n",
      "\n",
      "education_id :\n",
      "[0, 1, 2, 3]\n",
      "\n",
      "family_status :\n",
      "['civil partnership', 'divorced', 'married', 'unmarried', 'widow / widower']\n",
      "\n",
      "family_status_id :\n",
      "[0, 1, 2, 3, 4]\n",
      "\n",
      "gender :\n",
      "['F', 'M']\n",
      "\n",
      "income_type :\n",
      "['business', 'civil servant', 'employee', 'entrepreneur', 'retiree']\n",
      "\n",
      "debt :\n",
      "[0, 1]\n",
      "\n",
      "total_income :\n",
      "[nan]\n",
      "\n",
      "purpose :\n",
      "['building a property', 'building a real estate', 'buy commercial real estate', 'buy real estate', 'buy residential real estate', 'buying a second-hand car', 'buying my own car', 'buying property for renting out', 'car', 'car purchase', 'cars', 'construction of own property', 'education', 'getting an education', 'getting higher education', 'going to university', 'having a wedding', 'housing', 'housing renovation', 'housing transactions', 'profile education', 'property', 'purchase of a car', 'purchase of my own house', 'purchase of the house', 'purchase of the house for my family', 'real estate transactions', 'second-hand car purchase', 'supplementary education', 'to become educated', 'to buy a car', 'to get a supplementary education', 'to have a wedding', 'to own a car', 'transactions with commercial real estate', 'transactions with my real estate', 'university education', 'wedding ceremony']\n",
      "\n"
     ]
    }
   ],
   "source": [
    "# Periksalah distribusinya\n",
    "# Periksa nilai unik pada kolom-kolom yang mempunyai nilai hilang ('missing_value')\n",
    "for column in missing_value:\n",
    "    unique_value = sorted(missing_value[column].unique())\n",
    "    \n",
    "    print(f'{column} :')     \n",
    "    print(f'{unique_value}\\n') "
   ]
  },
  {
   "cell_type": "code",
   "execution_count": 145,
   "metadata": {},
   "outputs": [],
   "source": [
    "#Fungsi untuk memeriksa distribusi pada tabel yang difilter 'missing_value'\n",
    "def distribution_missing(missing_col):\n",
    "    print(missing_value[missing_col].value_counts(normalize=True))"
   ]
  },
  {
   "cell_type": "code",
   "execution_count": 146,
   "metadata": {},
   "outputs": [
    {
     "name": "stdout",
     "output_type": "stream",
     "text": [
      " 0     0.661914\n",
      " 1     0.218491\n",
      " 2     0.093836\n",
      " 3     0.016559\n",
      " 20    0.004140\n",
      " 4     0.003220\n",
      "-1     0.001380\n",
      " 5     0.000460\n",
      "Name: children, dtype: float64\n"
     ]
    }
   ],
   "source": [
    "# Distribusi untuk kolom 'children'\n",
    "distribution_missing('children')"
   ]
  },
  {
   "cell_type": "code",
   "execution_count": 147,
   "metadata": {},
   "outputs": [
    {
     "name": "stdout",
     "output_type": "stream",
     "text": [
      "Series([], Name: days_employed, dtype: float64)\n"
     ]
    }
   ],
   "source": [
    "# Distribusi untuk kolom 'days_employed'\n",
    "distribution_missing('days_employed')"
   ]
  },
  {
   "cell_type": "code",
   "execution_count": 148,
   "metadata": {},
   "outputs": [
    {
     "name": "stdout",
     "output_type": "stream",
     "text": [
      "34    0.031739\n",
      "40    0.030359\n",
      "31    0.029899\n",
      "42    0.029899\n",
      "35    0.029439\n",
      "36    0.028979\n",
      "47    0.027139\n",
      "41    0.027139\n",
      "30    0.026679\n",
      "28    0.026219\n",
      "57    0.025759\n",
      "58    0.025759\n",
      "54    0.025299\n",
      "38    0.024839\n",
      "56    0.024839\n",
      "37    0.024379\n",
      "52    0.024379\n",
      "39    0.023459\n",
      "33    0.023459\n",
      "50    0.023459\n",
      "51    0.022999\n",
      "45    0.022999\n",
      "49    0.022999\n",
      "29    0.022999\n",
      "43    0.022999\n",
      "46    0.022079\n",
      "55    0.022079\n",
      "48    0.021159\n",
      "53    0.020239\n",
      "44    0.020239\n",
      "60    0.017939\n",
      "61    0.017479\n",
      "62    0.017479\n",
      "64    0.017019\n",
      "32    0.017019\n",
      "27    0.016559\n",
      "23    0.016559\n",
      "26    0.016099\n",
      "59    0.015639\n",
      "63    0.013339\n",
      "25    0.010580\n",
      "24    0.009660\n",
      "66    0.009200\n",
      "65    0.009200\n",
      "21    0.008280\n",
      "22    0.007820\n",
      "67    0.007360\n",
      "0     0.004600\n",
      "68    0.004140\n",
      "69    0.002300\n",
      "20    0.002300\n",
      "71    0.002300\n",
      "70    0.001380\n",
      "72    0.000920\n",
      "19    0.000460\n",
      "73    0.000460\n",
      "Name: dob_years, dtype: float64\n"
     ]
    }
   ],
   "source": [
    "# Distribusi untuk kolom 'dob_years'\n",
    "distribution_missing('dob_years')"
   ]
  },
  {
   "cell_type": "code",
   "execution_count": 149,
   "metadata": {},
   "outputs": [
    {
     "name": "stdout",
     "output_type": "stream",
     "text": [
      "secondary education    0.647654\n",
      "bachelor's degree      0.228151\n",
      "SECONDARY EDUCATION    0.030819\n",
      "Secondary Education    0.029899\n",
      "some college           0.025299\n",
      "Bachelor's Degree      0.011500\n",
      "BACHELOR'S DEGREE      0.010580\n",
      "primary education      0.008740\n",
      "Some College           0.003220\n",
      "SOME COLLEGE           0.003220\n",
      "Primary Education      0.000460\n",
      "PRIMARY EDUCATION      0.000460\n",
      "Name: education, dtype: float64\n"
     ]
    }
   ],
   "source": [
    "#Distribusi untuk kolom 'education'\n",
    "distribution_missing('education')"
   ]
  },
  {
   "cell_type": "code",
   "execution_count": 150,
   "metadata": {},
   "outputs": [
    {
     "name": "stdout",
     "output_type": "stream",
     "text": [
      "1    0.708372\n",
      "0    0.250230\n",
      "2    0.031739\n",
      "3    0.009660\n",
      "Name: education_id, dtype: float64\n"
     ]
    }
   ],
   "source": [
    "#Distribusi untuk kolom 'education_id'\n",
    "distribution_missing('education_id')"
   ]
  },
  {
   "cell_type": "code",
   "execution_count": 151,
   "metadata": {},
   "outputs": [
    {
     "name": "stdout",
     "output_type": "stream",
     "text": [
      "married              0.568997\n",
      "civil partnership    0.203312\n",
      "unmarried            0.132475\n",
      "divorced             0.051518\n",
      "widow / widower      0.043698\n",
      "Name: family_status, dtype: float64\n"
     ]
    }
   ],
   "source": [
    "#Distribusi untuk kolom 'family_status'\n",
    "distribution_missing('family_status')"
   ]
  },
  {
   "cell_type": "code",
   "execution_count": 152,
   "metadata": {},
   "outputs": [
    {
     "name": "stdout",
     "output_type": "stream",
     "text": [
      "0    0.568997\n",
      "1    0.203312\n",
      "4    0.132475\n",
      "3    0.051518\n",
      "2    0.043698\n",
      "Name: family_status_id, dtype: float64\n"
     ]
    }
   ],
   "source": [
    "#Distribusi untuk kolom 'family_status_id'\n",
    "distribution_missing('family_status_id')"
   ]
  },
  {
   "cell_type": "code",
   "execution_count": 153,
   "metadata": {},
   "outputs": [
    {
     "name": "stdout",
     "output_type": "stream",
     "text": [
      "F    0.682613\n",
      "M    0.317387\n",
      "Name: gender, dtype: float64\n"
     ]
    }
   ],
   "source": [
    "#Distribusi untuk kolom 'gender'\n",
    "distribution_missing('gender')"
   ]
  },
  {
   "cell_type": "code",
   "execution_count": 154,
   "metadata": {},
   "outputs": [
    {
     "name": "stdout",
     "output_type": "stream",
     "text": [
      "employee         0.508280\n",
      "business         0.233671\n",
      "retiree          0.189972\n",
      "civil servant    0.067617\n",
      "entrepreneur     0.000460\n",
      "Name: income_type, dtype: float64\n"
     ]
    }
   ],
   "source": [
    "#Distribusi untuk kolom 'income_type'\n",
    "distribution_missing('income_type')"
   ]
  },
  {
   "cell_type": "code",
   "execution_count": 155,
   "metadata": {},
   "outputs": [
    {
     "name": "stdout",
     "output_type": "stream",
     "text": [
      "Series([], Name: total_income, dtype: float64)\n"
     ]
    }
   ],
   "source": [
    "#Distribusi untuk kolom 'total_income'\n",
    "distribution_missing('total_income')"
   ]
  },
  {
   "cell_type": "code",
   "execution_count": 156,
   "metadata": {},
   "outputs": [
    {
     "name": "stdout",
     "output_type": "stream",
     "text": [
      "having a wedding                            0.042318\n",
      "to have a wedding                           0.037259\n",
      "wedding ceremony                            0.034959\n",
      "construction of own property                0.034499\n",
      "housing transactions                        0.034039\n",
      "buy real estate                             0.033119\n",
      "transactions with my real estate            0.032659\n",
      "purchase of the house for my family         0.032659\n",
      "housing renovation                          0.032199\n",
      "transactions with commercial real estate    0.032199\n",
      "buy commercial real estate                  0.030819\n",
      "buying property for renting out             0.029899\n",
      "property                                    0.028519\n",
      "buy residential real estate                 0.028059\n",
      "real estate transactions                    0.028059\n",
      "housing                                     0.027599\n",
      "building a property                         0.027139\n",
      "cars                                        0.026219\n",
      "going to university                         0.025759\n",
      "to become educated                          0.025299\n",
      "second-hand car purchase                    0.024839\n",
      "buying my own car                           0.024379\n",
      "purchase of the house                       0.023919\n",
      "to own a car                                0.023919\n",
      "to get a supplementary education            0.023459\n",
      "getting an education                        0.022999\n",
      "supplementary education                     0.022079\n",
      "profile education                           0.021619\n",
      "purchase of a car                           0.021159\n",
      "purchase of my own house                    0.021159\n",
      "building a real estate                      0.021159\n",
      "car purchase                                0.019779\n",
      "buying a second-hand car                    0.019319\n",
      "education                                   0.019319\n",
      "car                                         0.018859\n",
      "university education                        0.018399\n",
      "getting higher education                    0.016559\n",
      "to buy a car                                0.013799\n",
      "Name: purpose, dtype: float64\n"
     ]
    }
   ],
   "source": [
    "#Distribusi untuk kolom 'purpose'\n",
    "distribution_missing('purpose')"
   ]
  },
  {
   "cell_type": "code",
   "execution_count": 157,
   "metadata": {},
   "outputs": [
    {
     "name": "stdout",
     "output_type": "stream",
     "text": [
      "0    0.921803\n",
      "1    0.078197\n",
      "Name: debt, dtype: float64\n"
     ]
    }
   ],
   "source": [
    "#Distribusi untuk kolom 'debt'\n",
    "distribution_missing('debt')"
   ]
  },
  {
   "cell_type": "markdown",
   "metadata": {},
   "source": [
    "<div class=\"alert alert-danger\">\n",
    "<b>Reviewer's comment</b> <a class=\"tocSkip\"></a>\n",
    "\n",
    "disini masih ada yang kurang ya, mas juliman belum ngecek distribusi/precentage data yang missing terhadap kolom2 lain. contohnya ada diatas dan lalu ambil kesimpulan. contohnya data yg missing di dominasi oleh user yg debt 0 artinya didominasi user yg tidak telat bayar. nah coba cari distribusi seperti diatas untuk kolom2 lain ya.\n",
    "\n",
    "</div>"
   ]
  },
  {
   "cell_type": "markdown",
   "metadata": {},
   "source": [
    "Berikut ini temuan untuk kolom-kolom yang berkaitan dengan data yang hilang selain kolom 'days_employed ' dan 'total_income'.\n",
    "1. 'children', terdapat nilai negatif\n",
    "2. 'education', beberapa tingkat pendidikan yang sama dituliskan secara berbeda\n",
    "3. 'education_id', tidak ada yang aneh\n",
    "4. 'family_status', tidak ada yang aneh\n",
    "5. 'family_status_id ', tidak ada yang aneh\n",
    "6. 'gender', tidak ada yang aneh\n",
    "7. 'income_type', tidak ada yang aneh\n",
    "8. 'debt', tidak ada yang aneh\n",
    "9. 'purpose', beberapa tujuan yang sama dituliskan secara berbeda\n",
    "\n",
    "\n",
    "\n",
    "**Kemungkinan penyebab hilangnya nilai dalam data**\n",
    "\n",
    "Nilai yang hilang terlihat memiliki pola, nilai yang hilang pada kolom 'days_employed' dan 'total_income' ada dibaris yang sama. Kemungkinan calon nasabah memilih untuk tidak mengisi data pekerjaan untuk lama bekerja dan data pendapatan karena bersifat pribadi.\n",
    "\n",
    "Berikutnya kita memeriksa keseluruhan dataset dan membandingkannya dengan data yang telah difilter untuk pengambilan kesimpulan"
   ]
  },
  {
   "cell_type": "code",
   "execution_count": 158,
   "metadata": {},
   "outputs": [
    {
     "name": "stdout",
     "output_type": "stream",
     "text": [
      "children :\n",
      "[ 1  0  3  2 -1  4 20  5]\n",
      "\n",
      "education :\n",
      "[\"bachelor's degree\" 'secondary education' 'Secondary Education'\n",
      " 'SECONDARY EDUCATION' \"BACHELOR'S DEGREE\" 'some college'\n",
      " 'primary education' \"Bachelor's Degree\" 'SOME COLLEGE' 'Some College'\n",
      " 'PRIMARY EDUCATION' 'Primary Education' 'Graduate Degree'\n",
      " 'GRADUATE DEGREE' 'graduate degree']\n",
      "\n",
      "family_status :\n",
      "['married' 'civil partnership' 'widow / widower' 'divorced' 'unmarried']\n",
      "\n",
      "gender :\n",
      "['F' 'M' 'XNA']\n",
      "\n",
      "income_type :\n",
      "['employee' 'retiree' 'business' 'civil servant' 'unemployed'\n",
      " 'entrepreneur' 'student' 'paternity / maternity leave']\n",
      "\n",
      "debt :\n",
      "[0 1]\n",
      "\n",
      "purpose :\n",
      "['purchase of the house' 'car purchase' 'supplementary education'\n",
      " 'to have a wedding' 'housing transactions' 'education' 'having a wedding'\n",
      " 'purchase of the house for my family' 'buy real estate'\n",
      " 'buy commercial real estate' 'buy residential real estate'\n",
      " 'construction of own property' 'property' 'building a property'\n",
      " 'buying a second-hand car' 'buying my own car'\n",
      " 'transactions with commercial real estate' 'building a real estate'\n",
      " 'housing' 'transactions with my real estate' 'cars' 'to become educated'\n",
      " 'second-hand car purchase' 'getting an education' 'car'\n",
      " 'wedding ceremony' 'to get a supplementary education'\n",
      " 'purchase of my own house' 'real estate transactions'\n",
      " 'getting higher education' 'to own a car' 'purchase of a car'\n",
      " 'profile education' 'university education'\n",
      " 'buying property for renting out' 'to buy a car' 'housing renovation'\n",
      " 'going to university']\n",
      "\n"
     ]
    }
   ],
   "source": [
    "# Memeriksa distribusi di seluruh *dataset*\n",
    "column_check = ['children','education','family_status','gender','income_type','debt','purpose']\n",
    "\n",
    "def check_dataset(data):\n",
    "    for column in column_check:\n",
    "        print(f'{column} :')\n",
    "        print(f'{credit_scoring[column].unique()}\\n')\n",
    "check_dataset(column_check)"
   ]
  },
  {
   "cell_type": "code",
   "execution_count": 159,
   "metadata": {},
   "outputs": [],
   "source": [
    "# Distribusi untuk keselurhan dataset\n",
    "def distribution_dataset(dataset_col):\n",
    "    print(credit_scoring[dataset_col].value_counts(normalize=True))"
   ]
  },
  {
   "cell_type": "code",
   "execution_count": 160,
   "metadata": {},
   "outputs": [
    {
     "name": "stdout",
     "output_type": "stream",
     "text": [
      " 0     0.657329\n",
      " 1     0.223833\n",
      " 2     0.095470\n",
      " 3     0.015331\n",
      " 20    0.003531\n",
      "-1     0.002184\n",
      " 4     0.001905\n",
      " 5     0.000418\n",
      "Name: children, dtype: float64\n"
     ]
    }
   ],
   "source": [
    "# Distribusi untuk kolom 'children'\n",
    "distribution_dataset('children')"
   ]
  },
  {
   "cell_type": "code",
   "execution_count": 161,
   "metadata": {},
   "outputs": [
    {
     "name": "stdout",
     "output_type": "stream",
     "text": [
      "-327.685916     0.000052\n",
      "-1580.622577    0.000052\n",
      "-4122.460569    0.000052\n",
      "-2828.237691    0.000052\n",
      "-2636.090517    0.000052\n",
      "                  ...   \n",
      "-7120.517564    0.000052\n",
      "-2146.884040    0.000052\n",
      "-881.454684     0.000052\n",
      "-794.666350     0.000052\n",
      "-3382.113891    0.000052\n",
      "Name: days_employed, Length: 19351, dtype: float64\n"
     ]
    }
   ],
   "source": [
    "# Distribusi untuk kolom 'days_employed'\n",
    "distribution_dataset('days_employed')"
   ]
  },
  {
   "cell_type": "code",
   "execution_count": 162,
   "metadata": {},
   "outputs": [
    {
     "name": "stdout",
     "output_type": "stream",
     "text": [
      "35    0.028664\n",
      "40    0.028293\n",
      "41    0.028200\n",
      "34    0.028014\n",
      "38    0.027782\n",
      "42    0.027735\n",
      "33    0.026992\n",
      "39    0.026620\n",
      "31    0.026016\n",
      "36    0.025784\n",
      "44    0.025412\n",
      "29    0.025319\n",
      "30    0.025087\n",
      "48    0.024994\n",
      "37    0.024948\n",
      "50    0.023879\n",
      "43    0.023833\n",
      "32    0.023693\n",
      "49    0.023600\n",
      "28    0.023368\n",
      "45    0.023089\n",
      "27    0.022904\n",
      "56    0.022625\n",
      "52    0.022485\n",
      "47    0.022300\n",
      "54    0.022253\n",
      "46    0.022067\n",
      "58    0.021417\n",
      "57    0.021370\n",
      "53    0.021324\n",
      "51    0.020813\n",
      "59    0.020627\n",
      "55    0.020581\n",
      "26    0.018955\n",
      "60    0.017515\n",
      "25    0.016585\n",
      "61    0.016492\n",
      "62    0.016353\n",
      "63    0.012497\n",
      "64    0.012311\n",
      "24    0.012265\n",
      "23    0.011800\n",
      "65    0.009013\n",
      "66    0.008502\n",
      "22    0.008502\n",
      "67    0.007758\n",
      "21    0.005157\n",
      "0     0.004692\n",
      "68    0.004599\n",
      "69    0.003949\n",
      "70    0.003020\n",
      "71    0.002695\n",
      "20    0.002369\n",
      "72    0.001533\n",
      "19    0.000650\n",
      "73    0.000372\n",
      "74    0.000279\n",
      "75    0.000046\n",
      "Name: dob_years, dtype: float64\n"
     ]
    }
   ],
   "source": [
    "# Distribusi untuk kolom 'dob_years'\n",
    "distribution_dataset('dob_years')"
   ]
  },
  {
   "cell_type": "code",
   "execution_count": 163,
   "metadata": {},
   "outputs": [
    {
     "name": "stdout",
     "output_type": "stream",
     "text": [
      "secondary education    0.638792\n",
      "bachelor's degree      0.219187\n",
      "SECONDARY EDUCATION    0.035865\n",
      "Secondary Education    0.033031\n",
      "some college           0.031034\n",
      "BACHELOR'S DEGREE      0.012729\n",
      "Bachelor's Degree      0.012451\n",
      "primary education      0.011614\n",
      "Some College           0.002184\n",
      "SOME COLLEGE           0.001347\n",
      "PRIMARY EDUCATION      0.000790\n",
      "Primary Education      0.000697\n",
      "graduate degree        0.000186\n",
      "GRADUATE DEGREE        0.000046\n",
      "Graduate Degree        0.000046\n",
      "Name: education, dtype: float64\n"
     ]
    }
   ],
   "source": [
    "# Distribusi untuk kolom 'education'\n",
    "distribution_dataset('education')"
   ]
  },
  {
   "cell_type": "code",
   "execution_count": 164,
   "metadata": {},
   "outputs": [
    {
     "name": "stdout",
     "output_type": "stream",
     "text": [
      "1    0.707689\n",
      "0    0.244367\n",
      "2    0.034564\n",
      "3    0.013101\n",
      "4    0.000279\n",
      "Name: education_id, dtype: float64\n"
     ]
    }
   ],
   "source": [
    "# Distribusi untuk kolom 'education_id'\n",
    "distribution_dataset('education_id')"
   ]
  },
  {
   "cell_type": "code",
   "execution_count": 165,
   "metadata": {},
   "outputs": [
    {
     "name": "stdout",
     "output_type": "stream",
     "text": [
      "married              0.575145\n",
      "civil partnership    0.194053\n",
      "unmarried            0.130685\n",
      "divorced             0.055517\n",
      "widow / widower      0.044599\n",
      "Name: family_status, dtype: float64\n"
     ]
    }
   ],
   "source": [
    "# Distribusi untuk kolom 'family_status'\n",
    "distribution_dataset('family_status')"
   ]
  },
  {
   "cell_type": "code",
   "execution_count": 166,
   "metadata": {},
   "outputs": [
    {
     "name": "stdout",
     "output_type": "stream",
     "text": [
      "0    0.575145\n",
      "1    0.194053\n",
      "4    0.130685\n",
      "3    0.055517\n",
      "2    0.044599\n",
      "Name: family_status_id, dtype: float64\n"
     ]
    }
   ],
   "source": [
    "# Distribusi untuk kolom 'family_status_id'\n",
    "distribution_dataset('family_status_id')"
   ]
  },
  {
   "cell_type": "code",
   "execution_count": 167,
   "metadata": {},
   "outputs": [
    {
     "name": "stdout",
     "output_type": "stream",
     "text": [
      "F      0.661370\n",
      "M      0.338583\n",
      "XNA    0.000046\n",
      "Name: gender, dtype: float64\n"
     ]
    }
   ],
   "source": [
    "# Distribusi untuk kolom 'gender'\n",
    "distribution_dataset('gender')"
   ]
  },
  {
   "cell_type": "code",
   "execution_count": 168,
   "metadata": {},
   "outputs": [
    {
     "name": "stdout",
     "output_type": "stream",
     "text": [
      "employee                       0.516562\n",
      "business                       0.236237\n",
      "retiree                        0.179141\n",
      "civil servant                  0.067782\n",
      "unemployed                     0.000093\n",
      "entrepreneur                   0.000093\n",
      "paternity / maternity leave    0.000046\n",
      "student                        0.000046\n",
      "Name: income_type, dtype: float64\n"
     ]
    }
   ],
   "source": [
    "# Distribusi untuk kolom 'income_type'\n",
    "distribution_dataset('income_type')"
   ]
  },
  {
   "cell_type": "code",
   "execution_count": 169,
   "metadata": {},
   "outputs": [
    {
     "name": "stdout",
     "output_type": "stream",
     "text": [
      "0    0.919117\n",
      "1    0.080883\n",
      "Name: debt, dtype: float64\n"
     ]
    }
   ],
   "source": [
    "# Distribusi untuk kolom 'debt'\n",
    "distribution_dataset('debt')"
   ]
  },
  {
   "cell_type": "code",
   "execution_count": 170,
   "metadata": {},
   "outputs": [
    {
     "name": "stdout",
     "output_type": "stream",
     "text": [
      "42413.096    0.000103\n",
      "17312.717    0.000103\n",
      "31791.384    0.000103\n",
      "14427.878    0.000052\n",
      "20837.034    0.000052\n",
      "               ...   \n",
      "27715.458    0.000052\n",
      "23834.534    0.000052\n",
      "26124.613    0.000052\n",
      "28692.182    0.000052\n",
      "41428.916    0.000052\n",
      "Name: total_income, Length: 19348, dtype: float64\n"
     ]
    }
   ],
   "source": [
    "# Distribusi untuk kolom 'total_income'\n",
    "distribution_dataset('total_income')"
   ]
  },
  {
   "cell_type": "code",
   "execution_count": 171,
   "metadata": {},
   "outputs": [
    {
     "name": "stdout",
     "output_type": "stream",
     "text": [
      "wedding ceremony                            0.037027\n",
      "having a wedding                            0.036098\n",
      "to have a wedding                           0.035958\n",
      "real estate transactions                    0.031405\n",
      "buy commercial real estate                  0.030848\n",
      "housing transactions                        0.030337\n",
      "buying property for renting out             0.030337\n",
      "transactions with commercial real estate    0.030244\n",
      "purchase of the house                       0.030058\n",
      "housing                                     0.030058\n",
      "purchase of the house for my family         0.029779\n",
      "construction of own property                0.029501\n",
      "property                                    0.029454\n",
      "transactions with my real estate            0.029268\n",
      "building a real estate                      0.029082\n",
      "buy real estate                             0.028990\n",
      "building a property                         0.028804\n",
      "purchase of my own house                    0.028804\n",
      "housing renovation                          0.028432\n",
      "buy residential real estate                 0.028200\n",
      "buying my own car                           0.023461\n",
      "going to university                         0.023043\n",
      "car                                         0.022997\n",
      "second-hand car purchase                    0.022718\n",
      "to own a car                                0.022300\n",
      "buying a second-hand car                    0.022253\n",
      "cars                                        0.022207\n",
      "to buy a car                                0.021928\n",
      "car purchase                                0.021463\n",
      "supplementary education                     0.021463\n",
      "purchase of a car                           0.021138\n",
      "university education                        0.021045\n",
      "to get a supplementary education            0.020767\n",
      "education                                   0.020767\n",
      "getting an education                        0.020581\n",
      "profile education                           0.020256\n",
      "getting higher education                    0.019791\n",
      "to become educated                          0.019141\n",
      "Name: purpose, dtype: float64\n"
     ]
    }
   ],
   "source": [
    "# Distribusi untuk kolom 'purpose'\n",
    "distribution_dataset('purpose')"
   ]
  },
  {
   "cell_type": "markdown",
   "metadata": {},
   "source": [
    "Dari hasil pemeriksaan distrisbusi, terlihat nilai antara keseluruhan dataset **credit_scoring** dan tabel yang difilter **missing_values** memiliki pola yang sama."
   ]
  },
  {
   "cell_type": "markdown",
   "metadata": {},
   "source": [
    "<div class=\"alert alert-danger\">\n",
    "<b>Reviewer's comment</b> <a class=\"tocSkip\"></a>\n",
    "\n",
    "yang ini juga cari distribusi seperti atasnya ya tapi pakai full dataset. lalu dibandingkan satu sama lain distribusinya antara pakai full dataset dan data yang hanya null values\n",
    "\n",
    "</div>"
   ]
  },
  {
   "cell_type": "markdown",
   "metadata": {},
   "source": [
    "**Kesimpulan sementara**\n",
    "\n",
    "Kode diatas memeriksa distribusi untuk keseluruhan dataset untuk semua kolom kategorik dan beberapa kolom numerik. \n",
    "\n",
    "Beberapa kolom numerik diabaikan/tidak diperiksa karena :\n",
    "- Dapat diwakilkan oleh kolom kategorik yang berkaitan\n",
    "- Data yang sangat banyak di kolom numerik sehingga sulit dianalisa secara visual\n",
    "\n",
    "Distribusi dataset yang asli dan yang telah difilter relatif sama untuk kolom berikut:\n",
    "- 'children'\n",
    "- 'education'\n",
    "- 'family_status'\n",
    "- 'debt'\n",
    "- 'purpose'\n",
    "\n",
    "Ada sedikit perbedaan pada kolom berikut ini:\n",
    "- 'gender', terdapat value 'XNA' di dataset asli yang tidak ditemukan di tabel yang difilter.\n",
    "- 'income_type', terdapat value 'paternity / maternity leave' di dataset asli yang tidak ditemukan di tabel yang difilter."
   ]
  },
  {
   "cell_type": "markdown",
   "metadata": {},
   "source": [
    "**Kesimpulan**\n",
    "\n",
    "Secara umum ada kesamaan data antara tabel yang difilter dan dataset kecuali untuk kolom 'gender' dan 'purpose'.\n",
    "\n",
    "Berikut ini kesimpulan yang bisa ambil sampai saat ini:\n",
    "- Tidak ada perbedaan yang signifikan antara tabel yang difilter dengan dataset secara keseluruhan.\n",
    "- Data yang hilang memiliki pola untuk setiap kolom 'days_employed' dan 'total_income'.\n",
    "- Baris yang hilang sekitar 10% dari total dataset, dengan asumsi calon nasabah tidak mengisi datanya.\n",
    "\n",
    "\n"
   ]
  },
  {
   "cell_type": "markdown",
   "metadata": {},
   "source": [
    "Langkah berikutnya adalah transformasi data dengan mengatasi masalah duplikat dengan memeriksa ejaan, memperbaiki pencatatan, dll"
   ]
  },
  {
   "cell_type": "markdown",
   "metadata": {},
   "source": [
    "<div class=\"alert alert-success\">\n",
    "<b>Reviewer's comment</b> <a class=\"tocSkip\"></a>\n",
    "\n",
    "Bagus, semua berjalan lancar.\n",
    "\n",
    "</div>"
   ]
  },
  {
   "cell_type": "markdown",
   "metadata": {},
   "source": [
    "## Transformasi data"
   ]
  },
  {
   "cell_type": "markdown",
   "metadata": {},
   "source": [
    "Pengecekan data di kolom 'education'"
   ]
  },
  {
   "cell_type": "code",
   "execution_count": 172,
   "metadata": {},
   "outputs": [
    {
     "data": {
      "text/plain": [
       "array([\"bachelor's degree\", 'secondary education', 'Secondary Education',\n",
       "       'SECONDARY EDUCATION', \"BACHELOR'S DEGREE\", 'some college',\n",
       "       'primary education', \"Bachelor's Degree\", 'SOME COLLEGE',\n",
       "       'Some College', 'PRIMARY EDUCATION', 'Primary Education',\n",
       "       'Graduate Degree', 'GRADUATE DEGREE', 'graduate degree'],\n",
       "      dtype=object)"
      ]
     },
     "execution_count": 172,
     "metadata": {},
     "output_type": "execute_result"
    }
   ],
   "source": [
    "# Mari kita lihat semua nilai di kolom pendidikan untuk memeriksa ejaan apa yang perlu diperbaiki\n",
    "credit_scoring['education'].unique()"
   ]
  },
  {
   "cell_type": "code",
   "execution_count": 173,
   "metadata": {},
   "outputs": [],
   "source": [
    "# Fungsi mengubah ke huruf kecil\n",
    "def huruf_kecil(data):\n",
    "    return data.lower()"
   ]
  },
  {
   "cell_type": "code",
   "execution_count": 174,
   "metadata": {
    "scrolled": true
   },
   "outputs": [],
   "source": [
    "# Perbaiki pencatatan jika diperlukan\n",
    "credit_scoring['education'] = credit_scoring['education'].apply(huruf_kecil)"
   ]
  },
  {
   "cell_type": "code",
   "execution_count": 175,
   "metadata": {},
   "outputs": [
    {
     "data": {
      "text/plain": [
       "array([\"bachelor's degree\", 'secondary education', 'some college',\n",
       "       'primary education', 'graduate degree'], dtype=object)"
      ]
     },
     "execution_count": 175,
     "metadata": {},
     "output_type": "execute_result"
    }
   ],
   "source": [
    "# Periksa semua nilai di kolom untuk memastikan bahwa kita telah memperbaikinya dengan tepat\n",
    "credit_scoring['education'].unique()"
   ]
  },
  {
   "cell_type": "markdown",
   "metadata": {},
   "source": [
    "<div class=\"alert alert-success\">\n",
    "<b>Reviewer's comment</b> <a class=\"tocSkip\"></a>\n",
    "\n",
    "Bagus, semua berjalan lancar.\n",
    "\n",
    "</div>"
   ]
  },
  {
   "cell_type": "markdown",
   "metadata": {},
   "source": [
    "Pengecekan data di kolom 'children'"
   ]
  },
  {
   "cell_type": "code",
   "execution_count": 176,
   "metadata": {},
   "outputs": [
    {
     "data": {
      "text/plain": [
       "array([ 1,  0,  3,  2, -1,  4, 20,  5])"
      ]
     },
     "execution_count": 176,
     "metadata": {},
     "output_type": "execute_result"
    }
   ],
   "source": [
    "# Mari kita lihat distribusi nilai pada kolom `children`\n",
    "credit_scoring['children'].unique()"
   ]
  },
  {
   "cell_type": "markdown",
   "metadata": {},
   "source": [
    "Terdapat value 2 value yang tidak masuk diakal yaitu -1 dan 20.\n",
    "- -1 akan diganti menjadi 1 karena kemungkinan ada kesalahan input tanda '-'\n",
    "- 20 akan diganti menjadi 2 karena kemungkinan ada kesalahan penambahan digit '0'"
   ]
  },
  {
   "cell_type": "code",
   "execution_count": 177,
   "metadata": {},
   "outputs": [],
   "source": [
    "# [perbaiki data berdasarkan keputusan Anda]\n",
    "credit_scoring['children'] = credit_scoring['children'].replace(-1,1)\n",
    "credit_scoring['children'] = credit_scoring['children'].replace(20,2)"
   ]
  },
  {
   "cell_type": "code",
   "execution_count": 178,
   "metadata": {},
   "outputs": [
    {
     "data": {
      "text/plain": [
       "array([1, 0, 3, 2, 4, 5])"
      ]
     },
     "execution_count": 178,
     "metadata": {},
     "output_type": "execute_result"
    }
   ],
   "source": [
    "# Periksa kembali kolom `children` untuk memastikan bahwa semuanya telah diperbaiki\n",
    "credit_scoring['children'].unique()"
   ]
  },
  {
   "cell_type": "markdown",
   "metadata": {},
   "source": [
    "<div class=\"alert alert-success\">\n",
    "<b>Reviewer's comment</b> <a class=\"tocSkip\"></a>\n",
    "\n",
    "Bagus, semua berjalan lancar.\n",
    "\n",
    "</div>"
   ]
  },
  {
   "cell_type": "markdown",
   "metadata": {},
   "source": [
    "Pemeriksaan data di kolom 'days_employed'"
   ]
  },
  {
   "cell_type": "code",
   "execution_count": 179,
   "metadata": {},
   "outputs": [
    {
     "name": "stdout",
     "output_type": "stream",
     "text": [
      "0         -8437.673028\n",
      "1         -4024.803754\n",
      "2         -5623.422610\n",
      "3         -4124.747207\n",
      "4        340266.072047\n",
      "             ...      \n",
      "21520     -4529.316663\n",
      "21521    343937.404131\n",
      "21522     -2113.346888\n",
      "21523     -3112.481705\n",
      "21524     -1984.507589\n",
      "Name: days_employed, Length: 21525, dtype: float64\n"
     ]
    },
    {
     "data": {
      "text/plain": [
       "0.7389547038327526"
      ]
     },
     "execution_count": 179,
     "metadata": {},
     "output_type": "execute_result"
    }
   ],
   "source": [
    "# Temukan data yang bermasalah di `days_employed` \n",
    "print(credit_scoring['days_employed'])\n",
    "\n",
    "# Mencari nilai negatif di kolom 'days_employed' dan menghitung persentasenya\n",
    "credit_scoring[credit_scoring['days_employed'] < 0]['days_employed'].count() / len(credit_scoring)"
   ]
  },
  {
   "cell_type": "code",
   "execution_count": 180,
   "metadata": {},
   "outputs": [],
   "source": [
    "# Terdapat sekitar 82% nilai negatif pada kolom 'days_employed'\n",
    "# Menghilangkan nilai negatif pada kolom 'days_employed'\n",
    "credit_scoring['days_employed'] = abs(credit_scoring['days_employed'])"
   ]
  },
  {
   "cell_type": "code",
   "execution_count": 181,
   "metadata": {},
   "outputs": [
    {
     "data": {
      "text/plain": [
       "0.0"
      ]
     },
     "execution_count": 181,
     "metadata": {},
     "output_type": "execute_result"
    }
   ],
   "source": [
    "# Pemeriksaan nilai negatif pada kolom 'days_employed'\n",
    "credit_scoring[credit_scoring['days_employed'] < 0]['days_employed'].count() / len(credit_scoring)"
   ]
  },
  {
   "cell_type": "code",
   "execution_count": 182,
   "metadata": {},
   "outputs": [
    {
     "data": {
      "text/plain": [
       "3445"
      ]
     },
     "execution_count": 182,
     "metadata": {},
     "output_type": "execute_result"
    }
   ],
   "source": [
    "# Mencari lama kerja diatas 60 tahun di kolom 'days_employed'\n",
    "credit_scoring.loc[credit_scoring['days_employed'] > (60 * 365),'days_employed'].count()"
   ]
  },
  {
   "cell_type": "markdown",
   "metadata": {},
   "source": [
    "**Kesimpulan Sementara**\n",
    "\n",
    "1. Terdapat 3445 lama kerja diatas 60 tahun. Data ini kurang valid, jika pada umumnya seseorang mulai bekerja pada usia 20 tahun ditambah masa kerja 60 tahun, maka usia total sebesar 80 tahun atau sudah memasuki usia pensiun/tidak bekerja. \n",
    "2. Dengan demikian nilai ini sebaiknya diganti sesuai dengan usia calon nasabah di kolom 'dob_years' dengan asumsi usia awal kerja 20 tahun."
   ]
  },
  {
   "cell_type": "code",
   "execution_count": 183,
   "metadata": {},
   "outputs": [],
   "source": [
    "# Mengganti usia calon nasabah yang masa kerjanya diatas 60 tahun menjadi 50 tahun\n",
    "credit_scoring.loc[credit_scoring['days_employed'] > (60 * 365),'days_employed'] = (credit_scoring['dob_years'] - 20) * 365"
   ]
  },
  {
   "cell_type": "code",
   "execution_count": 184,
   "metadata": {},
   "outputs": [
    {
     "data": {
      "text/plain": [
       "0"
      ]
     },
     "execution_count": 184,
     "metadata": {},
     "output_type": "execute_result"
    }
   ],
   "source": [
    "# Pemeriksaan ulang jumlah calon nasabah yang masa kerjanya diatas 60 tahun\n",
    "credit_scoring.loc[credit_scoring['days_employed'] > (60 * 365),'days_employed'].count()"
   ]
  },
  {
   "cell_type": "markdown",
   "metadata": {},
   "source": [
    "<div class=\"alert alert-success\">\n",
    "<b>Reviewer's comment</b> <a class=\"tocSkip\"></a>\n",
    "\n",
    "Bagus, semua berjalan lancar.\n",
    "\n",
    "</div>"
   ]
  },
  {
   "cell_type": "code",
   "execution_count": 185,
   "metadata": {
    "scrolled": true
   },
   "outputs": [
    {
     "data": {
      "text/plain": [
       "[0,\n",
       " 19,\n",
       " 20,\n",
       " 21,\n",
       " 22,\n",
       " 23,\n",
       " 24,\n",
       " 25,\n",
       " 26,\n",
       " 27,\n",
       " 28,\n",
       " 29,\n",
       " 30,\n",
       " 31,\n",
       " 32,\n",
       " 33,\n",
       " 34,\n",
       " 35,\n",
       " 36,\n",
       " 37,\n",
       " 38,\n",
       " 39,\n",
       " 40,\n",
       " 41,\n",
       " 42,\n",
       " 43,\n",
       " 44,\n",
       " 45,\n",
       " 46,\n",
       " 47,\n",
       " 48,\n",
       " 49,\n",
       " 50,\n",
       " 51,\n",
       " 52,\n",
       " 53,\n",
       " 54,\n",
       " 55,\n",
       " 56,\n",
       " 57,\n",
       " 58,\n",
       " 59,\n",
       " 60,\n",
       " 61,\n",
       " 62,\n",
       " 63,\n",
       " 64,\n",
       " 65,\n",
       " 66,\n",
       " 67,\n",
       " 68,\n",
       " 69,\n",
       " 70,\n",
       " 71,\n",
       " 72,\n",
       " 73,\n",
       " 74,\n",
       " 75]"
      ]
     },
     "execution_count": 185,
     "metadata": {},
     "output_type": "execute_result"
    }
   ],
   "source": [
    "# Periksa `dob_years` untuk nilai yang mencurigakan dan hitung persentasenya\n",
    "sorted(credit_scoring['dob_years'].unique())"
   ]
  },
  {
   "cell_type": "code",
   "execution_count": 186,
   "metadata": {},
   "outputs": [
    {
     "data": {
      "text/plain": [
       "101"
      ]
     },
     "execution_count": 186,
     "metadata": {},
     "output_type": "execute_result"
    }
   ],
   "source": [
    "# Terdapat usia 0 di kolom 'dob_years'\n",
    "# Hitung jumlah usia 0 di kolom 'dob_years'\n",
    "credit_scoring.loc[credit_scoring['dob_years'] == 0,'dob_years'].count()"
   ]
  },
  {
   "cell_type": "code",
   "execution_count": 187,
   "metadata": {},
   "outputs": [
    {
     "data": {
      "text/plain": [
       "0.4692218350754936"
      ]
     },
     "execution_count": 187,
     "metadata": {},
     "output_type": "execute_result"
    }
   ],
   "source": [
    "# Persentase usia calon nasabah yang tidak valid\n",
    "(credit_scoring.loc[credit_scoring['dob_years'] == 0,'dob_years'].count() / len(credit_scoring))*100"
   ]
  },
  {
   "cell_type": "markdown",
   "metadata": {},
   "source": [
    "Persentase usia calon nasabah yang bernilai 0 relatif kecil sekitar 0.47%\n",
    "Karena usia 0 tidak mungkin untuk melakukan peminjaman, maka diganti dengan nilai terkecil yang valid yakni 19"
   ]
  },
  {
   "cell_type": "code",
   "execution_count": 188,
   "metadata": {},
   "outputs": [],
   "source": [
    "#Mengganti usia calon nasabah yang bernilai 0 menjadi 19\n",
    "credit_scoring['dob_years'] = credit_scoring['dob_years'].replace(0,19)"
   ]
  },
  {
   "cell_type": "code",
   "execution_count": 189,
   "metadata": {},
   "outputs": [
    {
     "data": {
      "text/plain": [
       "0"
      ]
     },
     "execution_count": 189,
     "metadata": {},
     "output_type": "execute_result"
    }
   ],
   "source": [
    "# Periksa hasilnya - pastikan bahwa masalahnya telah diperbaiki\n",
    "credit_scoring.loc[credit_scoring['dob_years'] == 0,'dob_years'].count()"
   ]
  },
  {
   "cell_type": "markdown",
   "metadata": {},
   "source": [
    "<div class=\"alert alert-success\">\n",
    "<b>Reviewer's comment</b> <a class=\"tocSkip\"></a>\n",
    "\n",
    "Bagus, semua berjalan lancar.\n",
    "\n",
    "</div>"
   ]
  },
  {
   "cell_type": "markdown",
   "metadata": {},
   "source": [
    "Pemeriksaan kolom `family_status`"
   ]
  },
  {
   "cell_type": "code",
   "execution_count": 190,
   "metadata": {},
   "outputs": [
    {
     "data": {
      "text/plain": [
       "array(['married', 'civil partnership', 'widow / widower', 'divorced',\n",
       "       'unmarried'], dtype=object)"
      ]
     },
     "execution_count": 190,
     "metadata": {},
     "output_type": "execute_result"
    }
   ],
   "source": [
    "# Mari kita lihat nilai untuk kolom ini\n",
    "credit_scoring['family_status'].unique()"
   ]
  },
  {
   "cell_type": "markdown",
   "metadata": {},
   "source": [
    "Tidak ada masalah di kolom 'family_status"
   ]
  },
  {
   "cell_type": "markdown",
   "metadata": {},
   "source": [
    "<div class=\"alert alert-success\">\n",
    "<b>Reviewer's comment</b> <a class=\"tocSkip\"></a>\n",
    "\n",
    "Bagus, semua berjalan lancar.\n",
    "\n",
    "</div>"
   ]
  },
  {
   "cell_type": "markdown",
   "metadata": {},
   "source": [
    "**Pemeriksaan kolom `gender`**"
   ]
  },
  {
   "cell_type": "code",
   "execution_count": 191,
   "metadata": {},
   "outputs": [
    {
     "data": {
      "text/plain": [
       "array(['F', 'M', 'XNA'], dtype=object)"
      ]
     },
     "execution_count": 191,
     "metadata": {},
     "output_type": "execute_result"
    }
   ],
   "source": [
    "# Mari kita liat nilai dalam kolom ini\n",
    "credit_scoring['gender'].unique()"
   ]
  },
  {
   "cell_type": "code",
   "execution_count": 192,
   "metadata": {},
   "outputs": [
    {
     "data": {
      "text/plain": [
       "1"
      ]
     },
     "execution_count": 192,
     "metadata": {},
     "output_type": "execute_result"
    }
   ],
   "source": [
    "# Terdapat value 'XNA' yang tidak dapat diidentifikasi\n",
    "# Mencari jumlah baris yang memiliki value 'XNA'\n",
    "credit_scoring.loc[credit_scoring['gender'] == 'XNA', 'gender'].count()"
   ]
  },
  {
   "cell_type": "code",
   "execution_count": 193,
   "metadata": {},
   "outputs": [],
   "source": [
    "# Hanya ada 1 baris yang memiliki value 'XNA' pada kolom 'gender'\n",
    "# Kemungkinan calon nasabah tidak memberikan data jenis kelaminnya\n",
    "# Dengan demikian baris ini dapat dihilangkan\n",
    "\n",
    "# Menghilangkan baris dengan value 'XNA' pada kolom 'gender'\n",
    "credit_scoring = credit_scoring.loc[credit_scoring['gender'] != 'XNA']"
   ]
  },
  {
   "cell_type": "code",
   "execution_count": 194,
   "metadata": {},
   "outputs": [
    {
     "data": {
      "text/plain": [
       "0"
      ]
     },
     "execution_count": 194,
     "metadata": {},
     "output_type": "execute_result"
    }
   ],
   "source": [
    "# Pemeriksaan ulang pada kolom 'gender'\n",
    "credit_scoring.loc[credit_scoring['gender'] == 'XNA', 'gender'].count()"
   ]
  },
  {
   "cell_type": "markdown",
   "metadata": {},
   "source": [
    "<div class=\"alert alert-success\">\n",
    "<b>Reviewer's comment</b> <a class=\"tocSkip\"></a>\n",
    "\n",
    "Bagus, semua berjalan lancar.\n",
    "\n",
    "</div>"
   ]
  },
  {
   "cell_type": "markdown",
   "metadata": {},
   "source": [
    "Pemeriksaan kolom `income_type`"
   ]
  },
  {
   "cell_type": "code",
   "execution_count": 195,
   "metadata": {},
   "outputs": [
    {
     "data": {
      "text/plain": [
       "array(['employee', 'retiree', 'business', 'civil servant', 'unemployed',\n",
       "       'entrepreneur', 'student', 'paternity / maternity leave'],\n",
       "      dtype=object)"
      ]
     },
     "execution_count": 195,
     "metadata": {},
     "output_type": "execute_result"
    }
   ],
   "source": [
    "# Mari kita lihat nilai dalam kolom ini\n",
    "credit_scoring['income_type'].unique()"
   ]
  },
  {
   "cell_type": "markdown",
   "metadata": {},
   "source": [
    "Tidak ada masalah untuk kolom 'income_type'"
   ]
  },
  {
   "cell_type": "markdown",
   "metadata": {},
   "source": [
    "<div class=\"alert alert-success\">\n",
    "<b>Reviewer's comment</b> <a class=\"tocSkip\"></a>\n",
    "\n",
    "Bagus, semua berjalan lancar.\n",
    "\n",
    "</div>"
   ]
  },
  {
   "cell_type": "markdown",
   "metadata": {},
   "source": [
    "**Pemeriksaan Duplikat**"
   ]
  },
  {
   "cell_type": "code",
   "execution_count": 196,
   "metadata": {},
   "outputs": [
    {
     "data": {
      "text/plain": [
       "71"
      ]
     },
     "execution_count": 196,
     "metadata": {},
     "output_type": "execute_result"
    }
   ],
   "source": [
    "# Periksa duplikat\n",
    "credit_scoring.duplicated().sum()"
   ]
  },
  {
   "cell_type": "code",
   "execution_count": 197,
   "metadata": {},
   "outputs": [],
   "source": [
    "# Menghapus duplikat\n",
    "credit_scoring.drop_duplicates(inplace = True)"
   ]
  },
  {
   "cell_type": "code",
   "execution_count": 198,
   "metadata": {},
   "outputs": [
    {
     "data": {
      "text/plain": [
       "0"
      ]
     },
     "execution_count": 198,
     "metadata": {},
     "output_type": "execute_result"
    }
   ],
   "source": [
    "# Periksa ulang duplikat\n",
    "credit_scoring.duplicated().sum()"
   ]
  },
  {
   "cell_type": "code",
   "execution_count": 199,
   "metadata": {},
   "outputs": [
    {
     "name": "stdout",
     "output_type": "stream",
     "text": [
      "(21453, 12)\n",
      "(21525, 12)\n",
      "72\n",
      "0.3344947735191638\n"
     ]
    }
   ],
   "source": [
    "# Periksa ukuran dataset yang sekarang Anda miliki setelah manipulasi pertama yang Anda lakukan\n",
    "new_dataset_shape = credit_scoring.shape\n",
    "print(new_dataset_shape)\n",
    "print(original_dataset_shape)\n",
    "\n",
    "# Menghitung perubahan baris dataset\n",
    "print(original_dataset_shape[0] - new_dataset_shape[0])\n",
    "\n",
    "# Menghitung persentase perubahan dataset\n",
    "print(((original_dataset_shape[0] - new_dataset_shape[0])/original_dataset_shape[0])*100 )"
   ]
  },
  {
   "cell_type": "markdown",
   "metadata": {},
   "source": [
    "<div class=\"alert alert-success\">\n",
    "<b>Reviewer's comment</b> <a class=\"tocSkip\"></a>\n",
    "\n",
    "Bagus, semua berjalan lancar.\n",
    "\n",
    "</div>"
   ]
  },
  {
   "cell_type": "markdown",
   "metadata": {},
   "source": [
    "Dataset baru : 21453 baris dan 12 kolom\n",
    "Dataset asli : 21525 baris dan 12 kolom\n",
    "\n",
    "Ada 72 baris yang dihapus yang merupakan baris dari :\n",
    "- 71 data duplikat\n",
    "- 1 data jenis kelamin 'XNA' yang tidak dapat diidentifikasi dari kolom 'gender'\n",
    "\n",
    "Persentase data yang dihapus sekitar 0.3% dari dataset asli.\n"
   ]
  },
  {
   "cell_type": "markdown",
   "metadata": {},
   "source": [
    "# Bekerja dengan nilai yang hilang"
   ]
  },
  {
   "cell_type": "code",
   "execution_count": 200,
   "metadata": {
    "scrolled": true
   },
   "outputs": [
    {
     "data": {
      "text/plain": [
       "[19,\n",
       " 20,\n",
       " 21,\n",
       " 22,\n",
       " 23,\n",
       " 24,\n",
       " 25,\n",
       " 26,\n",
       " 27,\n",
       " 28,\n",
       " 29,\n",
       " 30,\n",
       " 31,\n",
       " 32,\n",
       " 33,\n",
       " 34,\n",
       " 35,\n",
       " 36,\n",
       " 37,\n",
       " 38,\n",
       " 39,\n",
       " 40,\n",
       " 41,\n",
       " 42,\n",
       " 43,\n",
       " 44,\n",
       " 45,\n",
       " 46,\n",
       " 47,\n",
       " 48,\n",
       " 49,\n",
       " 50,\n",
       " 51,\n",
       " 52,\n",
       " 53,\n",
       " 54,\n",
       " 55,\n",
       " 56,\n",
       " 57,\n",
       " 58,\n",
       " 59,\n",
       " 60,\n",
       " 61,\n",
       " 62,\n",
       " 63,\n",
       " 64,\n",
       " 65,\n",
       " 66,\n",
       " 67,\n",
       " 68,\n",
       " 69,\n",
       " 70,\n",
       " 71,\n",
       " 72,\n",
       " 73,\n",
       " 74,\n",
       " 75]"
      ]
     },
     "execution_count": 200,
     "metadata": {},
     "output_type": "execute_result"
    }
   ],
   "source": [
    "# Urutan usia calon nasabah dari kolom 'dob_years'\n",
    "sorted(credit_scoring['dob_years'].unique())"
   ]
  },
  {
   "cell_type": "markdown",
   "metadata": {},
   "source": [
    "### Memperbaiki nilai yang hilang di `total_income`"
   ]
  },
  {
   "cell_type": "markdown",
   "metadata": {},
   "source": [
    "Kategori Usia"
   ]
  },
  {
   "cell_type": "code",
   "execution_count": 201,
   "metadata": {},
   "outputs": [],
   "source": [
    "# Mari kita tulis sebuah fungsi untuk menghitung kategori usia\n",
    "def age_category(usia):\n",
    "    if usia < 30:\n",
    "        category = 'Dewasa Muda'\n",
    "    elif 29 < usia < 40:\n",
    "        category = 'Dewasa'\n",
    "    elif 39 < usia < 50:\n",
    "        category = 'Paruh Baya'\n",
    "    elif 49 < usia < 60:\n",
    "        category = 'Lansia'\n",
    "    else:\n",
    "        category = 'Tua'\n",
    "    return category    "
   ]
  },
  {
   "cell_type": "code",
   "execution_count": 202,
   "metadata": {},
   "outputs": [
    {
     "data": {
      "text/plain": [
       "'Dewasa Muda'"
      ]
     },
     "execution_count": 202,
     "metadata": {},
     "output_type": "execute_result"
    }
   ],
   "source": [
    "# Lakukan pengujian untuk melihat apakah fungsi Anda bekerja atau tidak\n",
    "age_category(17)"
   ]
  },
  {
   "cell_type": "code",
   "execution_count": 203,
   "metadata": {},
   "outputs": [
    {
     "data": {
      "text/html": [
       "<div>\n",
       "<style scoped>\n",
       "    .dataframe tbody tr th:only-of-type {\n",
       "        vertical-align: middle;\n",
       "    }\n",
       "\n",
       "    .dataframe tbody tr th {\n",
       "        vertical-align: top;\n",
       "    }\n",
       "\n",
       "    .dataframe thead th {\n",
       "        text-align: right;\n",
       "    }\n",
       "</style>\n",
       "<table border=\"1\" class=\"dataframe\">\n",
       "  <thead>\n",
       "    <tr style=\"text-align: right;\">\n",
       "      <th></th>\n",
       "      <th>children</th>\n",
       "      <th>days_employed</th>\n",
       "      <th>dob_years</th>\n",
       "      <th>education</th>\n",
       "      <th>education_id</th>\n",
       "      <th>family_status</th>\n",
       "      <th>family_status_id</th>\n",
       "      <th>gender</th>\n",
       "      <th>income_type</th>\n",
       "      <th>debt</th>\n",
       "      <th>total_income</th>\n",
       "      <th>purpose</th>\n",
       "      <th>age_category</th>\n",
       "    </tr>\n",
       "  </thead>\n",
       "  <tbody>\n",
       "    <tr>\n",
       "      <th>0</th>\n",
       "      <td>1</td>\n",
       "      <td>8437.673028</td>\n",
       "      <td>42</td>\n",
       "      <td>bachelor's degree</td>\n",
       "      <td>0</td>\n",
       "      <td>married</td>\n",
       "      <td>0</td>\n",
       "      <td>F</td>\n",
       "      <td>employee</td>\n",
       "      <td>0</td>\n",
       "      <td>40620.102</td>\n",
       "      <td>purchase of the house</td>\n",
       "      <td>Paruh Baya</td>\n",
       "    </tr>\n",
       "    <tr>\n",
       "      <th>1</th>\n",
       "      <td>1</td>\n",
       "      <td>4024.803754</td>\n",
       "      <td>36</td>\n",
       "      <td>secondary education</td>\n",
       "      <td>1</td>\n",
       "      <td>married</td>\n",
       "      <td>0</td>\n",
       "      <td>F</td>\n",
       "      <td>employee</td>\n",
       "      <td>0</td>\n",
       "      <td>17932.802</td>\n",
       "      <td>car purchase</td>\n",
       "      <td>Dewasa</td>\n",
       "    </tr>\n",
       "    <tr>\n",
       "      <th>2</th>\n",
       "      <td>0</td>\n",
       "      <td>5623.422610</td>\n",
       "      <td>33</td>\n",
       "      <td>secondary education</td>\n",
       "      <td>1</td>\n",
       "      <td>married</td>\n",
       "      <td>0</td>\n",
       "      <td>M</td>\n",
       "      <td>employee</td>\n",
       "      <td>0</td>\n",
       "      <td>23341.752</td>\n",
       "      <td>purchase of the house</td>\n",
       "      <td>Dewasa</td>\n",
       "    </tr>\n",
       "    <tr>\n",
       "      <th>3</th>\n",
       "      <td>3</td>\n",
       "      <td>4124.747207</td>\n",
       "      <td>32</td>\n",
       "      <td>secondary education</td>\n",
       "      <td>1</td>\n",
       "      <td>married</td>\n",
       "      <td>0</td>\n",
       "      <td>M</td>\n",
       "      <td>employee</td>\n",
       "      <td>0</td>\n",
       "      <td>42820.568</td>\n",
       "      <td>supplementary education</td>\n",
       "      <td>Dewasa</td>\n",
       "    </tr>\n",
       "    <tr>\n",
       "      <th>4</th>\n",
       "      <td>0</td>\n",
       "      <td>12045.000000</td>\n",
       "      <td>53</td>\n",
       "      <td>secondary education</td>\n",
       "      <td>1</td>\n",
       "      <td>civil partnership</td>\n",
       "      <td>1</td>\n",
       "      <td>F</td>\n",
       "      <td>retiree</td>\n",
       "      <td>0</td>\n",
       "      <td>25378.572</td>\n",
       "      <td>to have a wedding</td>\n",
       "      <td>Lansia</td>\n",
       "    </tr>\n",
       "  </tbody>\n",
       "</table>\n",
       "</div>"
      ],
      "text/plain": [
       "   children  days_employed  dob_years            education  education_id  \\\n",
       "0         1    8437.673028         42    bachelor's degree             0   \n",
       "1         1    4024.803754         36  secondary education             1   \n",
       "2         0    5623.422610         33  secondary education             1   \n",
       "3         3    4124.747207         32  secondary education             1   \n",
       "4         0   12045.000000         53  secondary education             1   \n",
       "\n",
       "       family_status  family_status_id gender income_type  debt  total_income  \\\n",
       "0            married                 0      F    employee     0     40620.102   \n",
       "1            married                 0      F    employee     0     17932.802   \n",
       "2            married                 0      M    employee     0     23341.752   \n",
       "3            married                 0      M    employee     0     42820.568   \n",
       "4  civil partnership                 1      F     retiree     0     25378.572   \n",
       "\n",
       "                   purpose age_category  \n",
       "0    purchase of the house   Paruh Baya  \n",
       "1             car purchase       Dewasa  \n",
       "2    purchase of the house       Dewasa  \n",
       "3  supplementary education       Dewasa  \n",
       "4        to have a wedding       Lansia  "
      ]
     },
     "execution_count": 203,
     "metadata": {},
     "output_type": "execute_result"
    }
   ],
   "source": [
    "# Buatlah kolom baru berdasarkan fungsi\n",
    "credit_scoring['age_category'] = credit_scoring['dob_years'].apply(age_category)\n",
    "credit_scoring.head()"
   ]
  },
  {
   "cell_type": "code",
   "execution_count": 204,
   "metadata": {},
   "outputs": [
    {
     "data": {
      "text/plain": [
       "Dewasa         5662\n",
       "Paruh Baya     5354\n",
       "Lansia         4657\n",
       "Dewasa Muda    3280\n",
       "Tua            2500\n",
       "Name: age_category, dtype: int64"
      ]
     },
     "execution_count": 204,
     "metadata": {},
     "output_type": "execute_result"
    }
   ],
   "source": [
    "# Periksa bagaimana nilai di dalam kolom baru\n",
    "credit_scoring['age_category'].value_counts()"
   ]
  },
  {
   "cell_type": "markdown",
   "metadata": {},
   "source": [
    "<div class=\"alert alert-success\">\n",
    "<b>Reviewer's comment</b> <a class=\"tocSkip\"></a>\n",
    "\n",
    "Bagus, semua berjalan lancar.\n",
    "\n",
    "</div>"
   ]
  },
  {
   "cell_type": "code",
   "execution_count": 205,
   "metadata": {},
   "outputs": [],
   "source": [
    "# Buat tabel tanpa nilai yang hilang dan tampilkan beberapa barisnya untuk memastikan semuanya berjalan dengan baik\n",
    "data_clean = credit_scoring.loc[~(credit_scoring['days_employed'].isna()) & ~(credit_scoring['total_income'].isna())]"
   ]
  },
  {
   "cell_type": "code",
   "execution_count": 206,
   "metadata": {},
   "outputs": [
    {
     "data": {
      "text/plain": [
       "26787.26668764858"
      ]
     },
     "execution_count": 206,
     "metadata": {},
     "output_type": "execute_result"
    }
   ],
   "source": [
    "# Perhatikan nilai rata-rata untuk pendapatan berdasarkan faktor yang telah Anda identifikasi\n",
    "data_clean['total_income'].mean()"
   ]
  },
  {
   "cell_type": "code",
   "execution_count": 207,
   "metadata": {
    "scrolled": true
   },
   "outputs": [
    {
     "data": {
      "text/plain": [
       "23201.8735"
      ]
     },
     "execution_count": 207,
     "metadata": {},
     "output_type": "execute_result"
    }
   ],
   "source": [
    "# Perhatikan nilai median untuk pendapatan berdasarkan faktor yang telah Anda identifikasi\n",
    "data_clean['total_income'].median()\n"
   ]
  },
  {
   "cell_type": "code",
   "execution_count": 208,
   "metadata": {},
   "outputs": [
    {
     "name": "stdout",
     "output_type": "stream",
     "text": [
      "3306.762\n",
      "362496.645\n"
     ]
    }
   ],
   "source": [
    "# Memeriksa nilai gaji terkecil dan terbesar di kolom 'total_income'\n",
    "print(credit_scoring['total_income'].min())\n",
    "print(credit_scoring['total_income'].max())"
   ]
  },
  {
   "cell_type": "markdown",
   "metadata": {},
   "source": [
    "- Nilai rata-rata untuk total_income  = 26787.26668764858\n",
    "- Nilai tengah untuk total_income = 23201.8735\n",
    "- Nilai terkecil untuk total_income = 3306.762\n",
    "- Nilai terbesar untuk total_income = 362496.645\n",
    "\n",
    "Dari data diatas ditemukan outlier yang signifikan, sehingga lebih baik menggunakan median untuk mengisi nilai yang hilang"
   ]
  },
  {
   "cell_type": "code",
   "execution_count": 209,
   "metadata": {},
   "outputs": [],
   "source": [
    "# Memasang variable yang akan menampung nilai unik dari kolom 'income_type'\n",
    "income_values = credit_scoring['income_type'].unique()\n",
    "\n",
    "# Dengan nilai unik pada kolom 'income_type', kita bisa melakukan looping\n",
    "# untuk mendapatkan median pada setiap nilai untik tersebut\n",
    "# setelah itu kita dapat mengisi nilai yang hilang dengan median untuk setiap kategori 'income_type'\n",
    "for value in income_values:\n",
    "    median = data_clean.loc[data_clean['income_type'] == value, 'total_income'].median()\n",
    "    credit_scoring.loc[(credit_scoring['income_type'] == value) & (credit_scoring['total_income'].isna()), 'total_income'] = median"
   ]
  },
  {
   "cell_type": "code",
   "execution_count": 210,
   "metadata": {},
   "outputs": [
    {
     "data": {
      "text/plain": [
       "0"
      ]
     },
     "execution_count": 210,
     "metadata": {},
     "output_type": "execute_result"
    }
   ],
   "source": [
    "# Periksa jumlah entri di kolom 'total_income'\n",
    "credit_scoring['total_income'].isna().sum()"
   ]
  },
  {
   "cell_type": "code",
   "execution_count": 211,
   "metadata": {},
   "outputs": [
    {
     "name": "stdout",
     "output_type": "stream",
     "text": [
      "<class 'pandas.core.frame.DataFrame'>\n",
      "Int64Index: 21453 entries, 0 to 21524\n",
      "Data columns (total 13 columns):\n",
      " #   Column            Non-Null Count  Dtype  \n",
      "---  ------            --------------  -----  \n",
      " 0   children          21453 non-null  int64  \n",
      " 1   days_employed     19350 non-null  float64\n",
      " 2   dob_years         21453 non-null  int64  \n",
      " 3   education         21453 non-null  object \n",
      " 4   education_id      21453 non-null  int64  \n",
      " 5   family_status     21453 non-null  object \n",
      " 6   family_status_id  21453 non-null  int64  \n",
      " 7   gender            21453 non-null  object \n",
      " 8   income_type       21453 non-null  object \n",
      " 9   debt              21453 non-null  int64  \n",
      " 10  total_income      21453 non-null  float64\n",
      " 11  purpose           21453 non-null  object \n",
      " 12  age_category      21453 non-null  object \n",
      "dtypes: float64(2), int64(5), object(6)\n",
      "memory usage: 2.3+ MB\n"
     ]
    }
   ],
   "source": [
    "# Periksa jumlah entri di dataset\n",
    "credit_scoring.info()"
   ]
  },
  {
   "cell_type": "markdown",
   "metadata": {},
   "source": [
    "Data untuk kolom 'total_income' sudah sesuai dengan kolom-kolom lainnya kecuali data pada kolom 'days_employed."
   ]
  },
  {
   "cell_type": "code",
   "execution_count": 212,
   "metadata": {},
   "outputs": [
    {
     "data": {
      "text/plain": [
       "income_type\n",
       "business                       32386.741818\n",
       "civil servant                  27343.729582\n",
       "employee                       25820.841683\n",
       "entrepreneur                   79866.103000\n",
       "paternity / maternity leave     8612.661000\n",
       "retiree                        21940.394503\n",
       "student                        15712.260000\n",
       "unemployed                     21014.360500\n",
       "Name: total_income, dtype: float64"
      ]
     },
     "execution_count": 212,
     "metadata": {},
     "output_type": "execute_result"
    }
   ],
   "source": [
    "data_clean.groupby(['income_type'])['total_income'].mean()"
   ]
  },
  {
   "cell_type": "code",
   "execution_count": 213,
   "metadata": {},
   "outputs": [
    {
     "data": {
      "text/plain": [
       "income_type\n",
       "business                       27571.0825\n",
       "civil servant                  24071.6695\n",
       "employee                       22815.1035\n",
       "entrepreneur                   79866.1030\n",
       "paternity / maternity leave     8612.6610\n",
       "retiree                        18962.3180\n",
       "student                        15712.2600\n",
       "unemployed                     21014.3605\n",
       "Name: total_income, dtype: float64"
      ]
     },
     "execution_count": 213,
     "metadata": {},
     "output_type": "execute_result"
    }
   ],
   "source": [
    "data_clean.groupby(['income_type'])['total_income'].median()"
   ]
  },
  {
   "cell_type": "markdown",
   "metadata": {},
   "source": [
    "<div class=\"alert alert-danger\">\n",
    "<b>Reviewer's comment</b> <a class=\"tocSkip\"></a>\n",
    "\n",
    "- disini diminta untuk menggunakan conditional fillna ya, jadi tidak straight forward seperti diatas.\n",
    "- maksudnya adalah jika mas juliman menggunakan income_type + median. maka proses fillna adalah sebagai berikut\n",
    "    - ketika income_type == business, maka akan di fillna 27571.0825 dst dst.\n",
    "\n",
    "</div>"
   ]
  },
  {
   "cell_type": "markdown",
   "metadata": {},
   "source": [
    "###  Memperbaiki nilai di `days_employed`"
   ]
  },
  {
   "cell_type": "code",
   "execution_count": 214,
   "metadata": {
    "pycharm": {
     "name": "#%%\n"
    }
   },
   "outputs": [
    {
     "name": "stdout",
     "output_type": "stream",
     "text": [
      "age_category\n",
      "Dewasa          1601.784231\n",
      "Dewasa Muda     1000.328028\n",
      "Lansia          4796.767897\n",
      "Paruh Baya      2111.489906\n",
      "Tua            15330.000000\n",
      "Name: days_employed, dtype: float64\n",
      "\n",
      "gender\n",
      "F    2531.439644\n",
      "M    1661.491868\n",
      "Name: days_employed, dtype: float64\n",
      "\n",
      "family_status\n",
      "civil partnership     1943.995523\n",
      "divorced              2398.424010\n",
      "married               2300.117387\n",
      "unmarried             1456.183548\n",
      "widow / widower      12775.000000\n",
      "Name: days_employed, dtype: float64\n",
      "\n",
      "education\n",
      "bachelor's degree      1893.079012\n",
      "graduate degree        5660.057032\n",
      "primary education      3043.933615\n",
      "secondary education    2385.737683\n",
      "some college           1206.479128\n",
      "Name: days_employed, dtype: float64\n",
      "\n",
      "income_type\n",
      "business                        1546.333214\n",
      "civil servant                   2689.368353\n",
      "employee                        1574.202821\n",
      "entrepreneur                     520.848083\n",
      "paternity / maternity leave     3296.759962\n",
      "retiree                        14600.000000\n",
      "student                          578.751554\n",
      "unemployed                      6570.000000\n",
      "Name: days_employed, dtype: float64\n",
      "\n",
      "total_income\n",
      "3306.762      13505.000000\n",
      "3392.845       6205.000000\n",
      "3418.824       3642.820023\n",
      "3471.216      17520.000000\n",
      "3503.298      14965.000000\n",
      "                  ...     \n",
      "273809.483     5734.127087\n",
      "274402.943     4719.273476\n",
      "276204.162     5248.554336\n",
      "352136.354     2577.664662\n",
      "362496.645     1477.438114\n",
      "Name: days_employed, Length: 19350, dtype: float64\n",
      "\n"
     ]
    }
   ],
   "source": [
    "# Distribusi median dari `days_employed` berdasarkan parameter yang Anda identifikasi\n",
    "for column in ['age_category', 'gender', 'family_status', 'education', 'income_type', 'total_income' ]:\n",
    "    print(credit_scoring.groupby(column)['days_employed'].median())\n",
    "    print()"
   ]
  },
  {
   "cell_type": "code",
   "execution_count": 215,
   "metadata": {},
   "outputs": [
    {
     "name": "stdout",
     "output_type": "stream",
     "text": [
      "age_category\n",
      "Dewasa          2049.019141\n",
      "Dewasa Muda     1187.971698\n",
      "Lansia          6762.690337\n",
      "Paruh Baya      2910.403876\n",
      "Tua            13435.192297\n",
      "Name: days_employed, dtype: float64\n",
      "\n",
      "gender\n",
      "F    5112.006805\n",
      "M    3248.397551\n",
      "Name: days_employed, dtype: float64\n",
      "\n",
      "family_status\n",
      "civil partnership    4093.130368\n",
      "divorced             4575.167339\n",
      "married              4443.260269\n",
      "unmarried            3369.004341\n",
      "widow / widower      9670.055089\n",
      "Name: days_employed, dtype: float64\n",
      "\n",
      "education\n",
      "bachelor's degree      3585.088950\n",
      "graduate degree        7882.624358\n",
      "primary education      6613.689872\n",
      "secondary education    4852.103366\n",
      "some college           2226.466075\n",
      "Name: days_employed, dtype: float64\n",
      "\n",
      "income_type\n",
      "business                        2111.470404\n",
      "civil servant                   3399.896902\n",
      "employee                        2326.499216\n",
      "entrepreneur                     520.848083\n",
      "paternity / maternity leave     3296.759962\n",
      "retiree                        14285.037758\n",
      "student                          578.751554\n",
      "unemployed                      6570.000000\n",
      "Name: days_employed, dtype: float64\n",
      "\n",
      "total_income\n",
      "3306.762      13505.000000\n",
      "3392.845       6205.000000\n",
      "3418.824       3642.820023\n",
      "3471.216      17520.000000\n",
      "3503.298      14965.000000\n",
      "                  ...     \n",
      "273809.483     5734.127087\n",
      "274402.943     4719.273476\n",
      "276204.162     5248.554336\n",
      "352136.354     2577.664662\n",
      "362496.645     1477.438114\n",
      "Name: days_employed, Length: 19350, dtype: float64\n",
      "\n"
     ]
    }
   ],
   "source": [
    "# Distribusi rata-rata dari `days_employed` berdasarkan parameter yang Anda identifikasi\n",
    "for column in ['age_category', 'gender', 'family_status', 'education', 'income_type', 'total_income' ]:\n",
    "    print(credit_scoring.groupby(column)['days_employed'].mean())\n",
    "    print()"
   ]
  },
  {
   "cell_type": "markdown",
   "metadata": {},
   "source": [
    "Karena data memiliki outlier yang significant pada beberapa kolom diatas, maka median sebaiknya digunakan untuk mengisi nilai yang hilang"
   ]
  },
  {
   "cell_type": "code",
   "execution_count": 216,
   "metadata": {},
   "outputs": [],
   "source": [
    "# Memasang variable yang akan menampung nilai unik dari kolom 'income_type'\n",
    "income_values = credit_scoring['income_type'].unique()\n",
    "\n",
    "# Dengan nilai unik pada kolom 'income_type', kita bisa melakukan looping\n",
    "# untuk mendapatkan median pada setiap nilai untik tersebut\n",
    "# setelah itu kita dapat mengisi nilai yang hilang dengan median untuk setiap kategori 'income_type'\n",
    "for value in income_values:\n",
    "    median = data_clean.loc[data_clean['income_type'] == value, 'days_employed'].median()\n",
    "    credit_scoring.loc[(credit_scoring['income_type'] == value) & (credit_scoring['days_employed'].isna()), 'days_employed'] = median"
   ]
  },
  {
   "cell_type": "code",
   "execution_count": 217,
   "metadata": {},
   "outputs": [
    {
     "data": {
      "text/plain": [
       "0"
      ]
     },
     "execution_count": 217,
     "metadata": {},
     "output_type": "execute_result"
    }
   ],
   "source": [
    "# Periksa jumlah entri di kolom 'days_employed'\n",
    "credit_scoring['days_employed'].isna().sum()"
   ]
  },
  {
   "cell_type": "code",
   "execution_count": 218,
   "metadata": {},
   "outputs": [
    {
     "name": "stdout",
     "output_type": "stream",
     "text": [
      "<class 'pandas.core.frame.DataFrame'>\n",
      "Int64Index: 21453 entries, 0 to 21524\n",
      "Data columns (total 13 columns):\n",
      " #   Column            Non-Null Count  Dtype  \n",
      "---  ------            --------------  -----  \n",
      " 0   children          21453 non-null  int64  \n",
      " 1   days_employed     21453 non-null  float64\n",
      " 2   dob_years         21453 non-null  int64  \n",
      " 3   education         21453 non-null  object \n",
      " 4   education_id      21453 non-null  int64  \n",
      " 5   family_status     21453 non-null  object \n",
      " 6   family_status_id  21453 non-null  int64  \n",
      " 7   gender            21453 non-null  object \n",
      " 8   income_type       21453 non-null  object \n",
      " 9   debt              21453 non-null  int64  \n",
      " 10  total_income      21453 non-null  float64\n",
      " 11  purpose           21453 non-null  object \n",
      " 12  age_category      21453 non-null  object \n",
      "dtypes: float64(2), int64(5), object(6)\n",
      "memory usage: 2.3+ MB\n"
     ]
    }
   ],
   "source": [
    "# Periksa entri di semua kolom - pastikan kita memperbaiki semua nilai yang hilang\n",
    "credit_scoring.info()"
   ]
  },
  {
   "cell_type": "markdown",
   "metadata": {},
   "source": [
    "Semua nilai yang hilang telah diperbaiki dengan jumlah data setiap kolom sebanyak 21453 "
   ]
  },
  {
   "cell_type": "markdown",
   "metadata": {},
   "source": [
    "<div class=\"alert alert-danger\">\n",
    "<b>Reviewer's comment</b> <a class=\"tocSkip\"></a>\n",
    "\n",
    "- disini diminta untuk menggunakan conditional fillna ya, jadi tidak straight forward seperti diatas. contohnya seperti di fillna income ya\n",
    "\n",
    "</div>"
   ]
  },
  {
   "cell_type": "markdown",
   "metadata": {},
   "source": [
    "## Pengkategorian Data\n",
    "\n",
    "Pengkategorian kolom kategorik dan numerik untuk pengambilan keputusan"
   ]
  },
  {
   "cell_type": "code",
   "execution_count": 219,
   "metadata": {
    "scrolled": true
   },
   "outputs": [],
   "source": [
    "# Tampilkan nilai data yang Anda pilih untuk pengkategorian\n",
    "column_category = ['gender','children','education','age_category']"
   ]
  },
  {
   "cell_type": "markdown",
   "metadata": {},
   "source": [
    "Memeriksa Nilai Unik"
   ]
  },
  {
   "cell_type": "code",
   "execution_count": 220,
   "metadata": {},
   "outputs": [
    {
     "name": "stdout",
     "output_type": "stream",
     "text": [
      "gender\n",
      "['F' 'M']\n",
      "\n",
      "children\n",
      "[1 0 3 2 4 5]\n",
      "\n",
      "education\n",
      "[\"bachelor's degree\" 'secondary education' 'some college'\n",
      " 'primary education' 'graduate degree']\n",
      "\n",
      "age_category\n",
      "['Paruh Baya' 'Dewasa' 'Lansia' 'Dewasa Muda' 'Tua']\n",
      "\n"
     ]
    }
   ],
   "source": [
    "# Periksa nilai unik\n",
    "for x in column_category:\n",
    "    print(x)\n",
    "    print(credit_scoring[x].unique())\n",
    "    print()"
   ]
  },
  {
   "cell_type": "markdown",
   "metadata": {},
   "source": [
    "Mengkategorkan data berdasarkan ada atau tidaknya pinjaman calon nasabah\n"
   ]
  },
  {
   "cell_type": "code",
   "execution_count": 221,
   "metadata": {},
   "outputs": [],
   "source": [
    "# Mari kita tulis sebuah fungsi untuk mengategorikan data berdasarkan topik umum\n",
    "def rename_debt(value):\n",
    "    if value == 1:\n",
    "        desc = 'Memiliki Hutang'\n",
    "    else:\n",
    "        desc = 'Tidak Punya Hutang'\n",
    "    return desc"
   ]
  },
  {
   "cell_type": "code",
   "execution_count": 222,
   "metadata": {},
   "outputs": [
    {
     "data": {
      "text/html": [
       "<div>\n",
       "<style scoped>\n",
       "    .dataframe tbody tr th:only-of-type {\n",
       "        vertical-align: middle;\n",
       "    }\n",
       "\n",
       "    .dataframe tbody tr th {\n",
       "        vertical-align: top;\n",
       "    }\n",
       "\n",
       "    .dataframe thead th {\n",
       "        text-align: right;\n",
       "    }\n",
       "</style>\n",
       "<table border=\"1\" class=\"dataframe\">\n",
       "  <thead>\n",
       "    <tr style=\"text-align: right;\">\n",
       "      <th></th>\n",
       "      <th>children</th>\n",
       "      <th>days_employed</th>\n",
       "      <th>dob_years</th>\n",
       "      <th>education</th>\n",
       "      <th>education_id</th>\n",
       "      <th>family_status</th>\n",
       "      <th>family_status_id</th>\n",
       "      <th>gender</th>\n",
       "      <th>income_type</th>\n",
       "      <th>debt</th>\n",
       "      <th>total_income</th>\n",
       "      <th>purpose</th>\n",
       "      <th>age_category</th>\n",
       "      <th>debt_description</th>\n",
       "    </tr>\n",
       "  </thead>\n",
       "  <tbody>\n",
       "    <tr>\n",
       "      <th>0</th>\n",
       "      <td>1</td>\n",
       "      <td>8437.673028</td>\n",
       "      <td>42</td>\n",
       "      <td>bachelor's degree</td>\n",
       "      <td>0</td>\n",
       "      <td>married</td>\n",
       "      <td>0</td>\n",
       "      <td>F</td>\n",
       "      <td>employee</td>\n",
       "      <td>0</td>\n",
       "      <td>40620.102</td>\n",
       "      <td>purchase of the house</td>\n",
       "      <td>Paruh Baya</td>\n",
       "      <td>Tidak Punya Hutang</td>\n",
       "    </tr>\n",
       "    <tr>\n",
       "      <th>1</th>\n",
       "      <td>1</td>\n",
       "      <td>4024.803754</td>\n",
       "      <td>36</td>\n",
       "      <td>secondary education</td>\n",
       "      <td>1</td>\n",
       "      <td>married</td>\n",
       "      <td>0</td>\n",
       "      <td>F</td>\n",
       "      <td>employee</td>\n",
       "      <td>0</td>\n",
       "      <td>17932.802</td>\n",
       "      <td>car purchase</td>\n",
       "      <td>Dewasa</td>\n",
       "      <td>Tidak Punya Hutang</td>\n",
       "    </tr>\n",
       "    <tr>\n",
       "      <th>2</th>\n",
       "      <td>0</td>\n",
       "      <td>5623.422610</td>\n",
       "      <td>33</td>\n",
       "      <td>secondary education</td>\n",
       "      <td>1</td>\n",
       "      <td>married</td>\n",
       "      <td>0</td>\n",
       "      <td>M</td>\n",
       "      <td>employee</td>\n",
       "      <td>0</td>\n",
       "      <td>23341.752</td>\n",
       "      <td>purchase of the house</td>\n",
       "      <td>Dewasa</td>\n",
       "      <td>Tidak Punya Hutang</td>\n",
       "    </tr>\n",
       "    <tr>\n",
       "      <th>3</th>\n",
       "      <td>3</td>\n",
       "      <td>4124.747207</td>\n",
       "      <td>32</td>\n",
       "      <td>secondary education</td>\n",
       "      <td>1</td>\n",
       "      <td>married</td>\n",
       "      <td>0</td>\n",
       "      <td>M</td>\n",
       "      <td>employee</td>\n",
       "      <td>0</td>\n",
       "      <td>42820.568</td>\n",
       "      <td>supplementary education</td>\n",
       "      <td>Dewasa</td>\n",
       "      <td>Tidak Punya Hutang</td>\n",
       "    </tr>\n",
       "    <tr>\n",
       "      <th>4</th>\n",
       "      <td>0</td>\n",
       "      <td>12045.000000</td>\n",
       "      <td>53</td>\n",
       "      <td>secondary education</td>\n",
       "      <td>1</td>\n",
       "      <td>civil partnership</td>\n",
       "      <td>1</td>\n",
       "      <td>F</td>\n",
       "      <td>retiree</td>\n",
       "      <td>0</td>\n",
       "      <td>25378.572</td>\n",
       "      <td>to have a wedding</td>\n",
       "      <td>Lansia</td>\n",
       "      <td>Tidak Punya Hutang</td>\n",
       "    </tr>\n",
       "  </tbody>\n",
       "</table>\n",
       "</div>"
      ],
      "text/plain": [
       "   children  days_employed  dob_years            education  education_id  \\\n",
       "0         1    8437.673028         42    bachelor's degree             0   \n",
       "1         1    4024.803754         36  secondary education             1   \n",
       "2         0    5623.422610         33  secondary education             1   \n",
       "3         3    4124.747207         32  secondary education             1   \n",
       "4         0   12045.000000         53  secondary education             1   \n",
       "\n",
       "       family_status  family_status_id gender income_type  debt  total_income  \\\n",
       "0            married                 0      F    employee     0     40620.102   \n",
       "1            married                 0      F    employee     0     17932.802   \n",
       "2            married                 0      M    employee     0     23341.752   \n",
       "3            married                 0      M    employee     0     42820.568   \n",
       "4  civil partnership                 1      F     retiree     0     25378.572   \n",
       "\n",
       "                   purpose age_category    debt_description  \n",
       "0    purchase of the house   Paruh Baya  Tidak Punya Hutang  \n",
       "1             car purchase       Dewasa  Tidak Punya Hutang  \n",
       "2    purchase of the house       Dewasa  Tidak Punya Hutang  \n",
       "3  supplementary education       Dewasa  Tidak Punya Hutang  \n",
       "4        to have a wedding       Lansia  Tidak Punya Hutang  "
      ]
     },
     "execution_count": 222,
     "metadata": {},
     "output_type": "execute_result"
    }
   ],
   "source": [
    "# Buat kolom yang memuat kategori\n",
    "credit_scoring['debt_description'] = credit_scoring['debt'].apply(rename_debt)\n",
    "\n",
    "credit_scoring.head()"
   ]
  },
  {
   "cell_type": "code",
   "execution_count": 223,
   "metadata": {},
   "outputs": [],
   "source": [
    "# Mari kita tulis sebuah fungsi untuk mengategorikan tujuan\n",
    "def purpose_cat(value):\n",
    "    if value == 'building a property':\n",
    "        desc = 'property'\n",
    "    elif value == 'building a real estate':\n",
    "        desc = 'property'\n",
    "    elif value == 'buy commercial real estate':\n",
    "        desc = 'property'\n",
    "    elif value == 'buy real estate':\n",
    "        desc = 'property'\n",
    "    elif value == 'buy residential real estate':\n",
    "        desc = 'property'      \n",
    "    elif value == 'buying property for renting out':\n",
    "        desc = 'property'\n",
    "    elif value == 'construction of own property':\n",
    "        desc = 'property'\n",
    "    elif value == 'housing':\n",
    "        desc = 'property'\n",
    "    elif value == 'housing renovation':\n",
    "        desc = 'property'\n",
    "    elif value == 'housing transactions':\n",
    "        desc = 'property'\n",
    "    elif value == 'purchase of my own house':\n",
    "        desc = 'property'        \n",
    "    elif value == 'purchase of the house':\n",
    "        desc = 'property'        \n",
    "    elif value == 'purchase of the house for my family':\n",
    "        desc = 'property'\n",
    "    elif value == 'real estate transactions':\n",
    "        desc = 'property'\n",
    "    elif value == 'transactions with commercial real estate':\n",
    "        desc = 'property'\n",
    "    elif value == 'transactions with my real estate':\n",
    "        desc = 'property'\n",
    "    elif value == 'property':\n",
    "        desc = 'property'\n",
    "    elif value == 'buying a second-hand car':\n",
    "        desc = 'car'      \n",
    "    elif value == 'buying my own car':\n",
    "        desc = 'car'  \n",
    "    elif value == 'car':\n",
    "        desc = 'car'  \n",
    "    elif value == 'car purchase':\n",
    "        desc = 'car'      \n",
    "    elif value == 'cars':\n",
    "        desc = 'car'  \n",
    "    elif value == 'purchase of a car':\n",
    "        desc = 'car'  \n",
    "    elif value == 'second-hand car purchase':\n",
    "        desc = 'car'      \n",
    "    elif value == 'to buy a car':\n",
    "        desc = 'car'  \n",
    "    elif value == 'to own a car':\n",
    "        desc = 'car'  \n",
    "    elif value == 'education':\n",
    "        desc = 'education' \n",
    "    elif value == 'getting an education':\n",
    "        desc = 'education'\n",
    "    elif value == 'getting higher education':\n",
    "        desc = 'education'\n",
    "    elif value == 'going to university':\n",
    "        desc = 'education' \n",
    "    elif value == 'profile education':\n",
    "        desc = 'education'\n",
    "    elif value == 'supplementary education':\n",
    "        desc = 'education'\n",
    "    elif value == 'to become educated':\n",
    "        desc = 'education' \n",
    "    elif value == 'to get a supplementary education':\n",
    "        desc = 'education'\n",
    "    elif value == 'university education':\n",
    "        desc = 'education'\n",
    "    else:\n",
    "        desc = 'wedding'\n",
    "    return desc"
   ]
  },
  {
   "cell_type": "code",
   "execution_count": 224,
   "metadata": {},
   "outputs": [
    {
     "data": {
      "text/html": [
       "<div>\n",
       "<style scoped>\n",
       "    .dataframe tbody tr th:only-of-type {\n",
       "        vertical-align: middle;\n",
       "    }\n",
       "\n",
       "    .dataframe tbody tr th {\n",
       "        vertical-align: top;\n",
       "    }\n",
       "\n",
       "    .dataframe thead th {\n",
       "        text-align: right;\n",
       "    }\n",
       "</style>\n",
       "<table border=\"1\" class=\"dataframe\">\n",
       "  <thead>\n",
       "    <tr style=\"text-align: right;\">\n",
       "      <th></th>\n",
       "      <th>children</th>\n",
       "      <th>days_employed</th>\n",
       "      <th>dob_years</th>\n",
       "      <th>education</th>\n",
       "      <th>education_id</th>\n",
       "      <th>family_status</th>\n",
       "      <th>family_status_id</th>\n",
       "      <th>gender</th>\n",
       "      <th>income_type</th>\n",
       "      <th>debt</th>\n",
       "      <th>total_income</th>\n",
       "      <th>purpose</th>\n",
       "      <th>age_category</th>\n",
       "      <th>debt_description</th>\n",
       "      <th>purpose_category</th>\n",
       "    </tr>\n",
       "  </thead>\n",
       "  <tbody>\n",
       "    <tr>\n",
       "      <th>0</th>\n",
       "      <td>1</td>\n",
       "      <td>8437.673028</td>\n",
       "      <td>42</td>\n",
       "      <td>bachelor's degree</td>\n",
       "      <td>0</td>\n",
       "      <td>married</td>\n",
       "      <td>0</td>\n",
       "      <td>F</td>\n",
       "      <td>employee</td>\n",
       "      <td>0</td>\n",
       "      <td>40620.102</td>\n",
       "      <td>purchase of the house</td>\n",
       "      <td>Paruh Baya</td>\n",
       "      <td>Tidak Punya Hutang</td>\n",
       "      <td>property</td>\n",
       "    </tr>\n",
       "    <tr>\n",
       "      <th>1</th>\n",
       "      <td>1</td>\n",
       "      <td>4024.803754</td>\n",
       "      <td>36</td>\n",
       "      <td>secondary education</td>\n",
       "      <td>1</td>\n",
       "      <td>married</td>\n",
       "      <td>0</td>\n",
       "      <td>F</td>\n",
       "      <td>employee</td>\n",
       "      <td>0</td>\n",
       "      <td>17932.802</td>\n",
       "      <td>car purchase</td>\n",
       "      <td>Dewasa</td>\n",
       "      <td>Tidak Punya Hutang</td>\n",
       "      <td>car</td>\n",
       "    </tr>\n",
       "    <tr>\n",
       "      <th>2</th>\n",
       "      <td>0</td>\n",
       "      <td>5623.422610</td>\n",
       "      <td>33</td>\n",
       "      <td>secondary education</td>\n",
       "      <td>1</td>\n",
       "      <td>married</td>\n",
       "      <td>0</td>\n",
       "      <td>M</td>\n",
       "      <td>employee</td>\n",
       "      <td>0</td>\n",
       "      <td>23341.752</td>\n",
       "      <td>purchase of the house</td>\n",
       "      <td>Dewasa</td>\n",
       "      <td>Tidak Punya Hutang</td>\n",
       "      <td>property</td>\n",
       "    </tr>\n",
       "    <tr>\n",
       "      <th>3</th>\n",
       "      <td>3</td>\n",
       "      <td>4124.747207</td>\n",
       "      <td>32</td>\n",
       "      <td>secondary education</td>\n",
       "      <td>1</td>\n",
       "      <td>married</td>\n",
       "      <td>0</td>\n",
       "      <td>M</td>\n",
       "      <td>employee</td>\n",
       "      <td>0</td>\n",
       "      <td>42820.568</td>\n",
       "      <td>supplementary education</td>\n",
       "      <td>Dewasa</td>\n",
       "      <td>Tidak Punya Hutang</td>\n",
       "      <td>education</td>\n",
       "    </tr>\n",
       "    <tr>\n",
       "      <th>4</th>\n",
       "      <td>0</td>\n",
       "      <td>12045.000000</td>\n",
       "      <td>53</td>\n",
       "      <td>secondary education</td>\n",
       "      <td>1</td>\n",
       "      <td>civil partnership</td>\n",
       "      <td>1</td>\n",
       "      <td>F</td>\n",
       "      <td>retiree</td>\n",
       "      <td>0</td>\n",
       "      <td>25378.572</td>\n",
       "      <td>to have a wedding</td>\n",
       "      <td>Lansia</td>\n",
       "      <td>Tidak Punya Hutang</td>\n",
       "      <td>wedding</td>\n",
       "    </tr>\n",
       "  </tbody>\n",
       "</table>\n",
       "</div>"
      ],
      "text/plain": [
       "   children  days_employed  dob_years            education  education_id  \\\n",
       "0         1    8437.673028         42    bachelor's degree             0   \n",
       "1         1    4024.803754         36  secondary education             1   \n",
       "2         0    5623.422610         33  secondary education             1   \n",
       "3         3    4124.747207         32  secondary education             1   \n",
       "4         0   12045.000000         53  secondary education             1   \n",
       "\n",
       "       family_status  family_status_id gender income_type  debt  total_income  \\\n",
       "0            married                 0      F    employee     0     40620.102   \n",
       "1            married                 0      F    employee     0     17932.802   \n",
       "2            married                 0      M    employee     0     23341.752   \n",
       "3            married                 0      M    employee     0     42820.568   \n",
       "4  civil partnership                 1      F     retiree     0     25378.572   \n",
       "\n",
       "                   purpose age_category    debt_description purpose_category  \n",
       "0    purchase of the house   Paruh Baya  Tidak Punya Hutang         property  \n",
       "1             car purchase       Dewasa  Tidak Punya Hutang              car  \n",
       "2    purchase of the house       Dewasa  Tidak Punya Hutang         property  \n",
       "3  supplementary education       Dewasa  Tidak Punya Hutang        education  \n",
       "4        to have a wedding       Lansia  Tidak Punya Hutang          wedding  "
      ]
     },
     "execution_count": 224,
     "metadata": {},
     "output_type": "execute_result"
    }
   ],
   "source": [
    "# Buat kolom yang memuat kategori\n",
    "credit_scoring['purpose_category'] = credit_scoring['purpose'].apply(purpose_cat)\n",
    "\n",
    "credit_scoring.head()"
   ]
  },
  {
   "cell_type": "markdown",
   "metadata": {},
   "source": [
    "<div class=\"alert alert-success\">\n",
    "<b>Reviewer's comment</b> <a class=\"tocSkip\"></a>\n",
    "\n",
    "sudah oke yah!\n",
    "\n",
    "</div>"
   ]
  },
  {
   "cell_type": "markdown",
   "metadata": {},
   "source": [
    "## Memeriksa hipotesis\n"
   ]
  },
  {
   "cell_type": "markdown",
   "metadata": {},
   "source": [
    "**Apakah terdapat korelasi antara memiliki anak dengan melakukan pelunasan tepat waktu?**"
   ]
  },
  {
   "cell_type": "code",
   "execution_count": 225,
   "metadata": {},
   "outputs": [
    {
     "name": "stdout",
     "output_type": "stream",
     "text": [
      "       children  debt\n",
      "0             1     0\n",
      "1             1     0\n",
      "2             0     0\n",
      "3             3     0\n",
      "4             0     0\n",
      "...         ...   ...\n",
      "21520         1     0\n",
      "21521         0     0\n",
      "21522         1     1\n",
      "21523         3     1\n",
      "21524         2     0\n",
      "\n",
      "[21453 rows x 2 columns]\n"
     ]
    },
    {
     "data": {
      "text/plain": [
       "children\n",
       "0    0.075444\n",
       "1    0.091658\n",
       "2    0.094925\n",
       "3    0.081818\n",
       "4    0.097561\n",
       "5    0.000000\n",
       "Name: debt, dtype: float64"
      ]
     },
     "execution_count": 225,
     "metadata": {},
     "output_type": "execute_result"
    }
   ],
   "source": [
    "# Periksa data anak dan data pelunasan tepat waktu\n",
    "print(credit_scoring[['children','debt']])\n",
    "\n",
    "# Hitung gagal bayar berdasarkan jumlah anak\n",
    "credit_scoring.groupby('children')['debt'].mean()\n"
   ]
  },
  {
   "cell_type": "markdown",
   "metadata": {},
   "source": [
    "**Kesimpulan**\n",
    "Hubungan memiliki banyak anak terhadap gagal bayar hutang tidak kuat.\n"
   ]
  },
  {
   "cell_type": "markdown",
   "metadata": {},
   "source": [
    "<div class=\"alert alert-success\">\n",
    "<b>Reviewer's comment</b> <a class=\"tocSkip\"></a>\n",
    "\n",
    "sudah oke yah!\n",
    "\n",
    "</div>"
   ]
  },
  {
   "cell_type": "markdown",
   "metadata": {},
   "source": [
    "**Apakah terdapat korelasi antara status keluarga dengan pelunasan tepat waktu?**"
   ]
  },
  {
   "cell_type": "code",
   "execution_count": 226,
   "metadata": {},
   "outputs": [
    {
     "name": "stdout",
     "output_type": "stream",
     "text": [
      "           family_status  debt\n",
      "0                married     0\n",
      "1                married     0\n",
      "2                married     0\n",
      "3                married     0\n",
      "4      civil partnership     0\n",
      "...                  ...   ...\n",
      "21520  civil partnership     0\n",
      "21521            married     0\n",
      "21522  civil partnership     1\n",
      "21523            married     1\n",
      "21524            married     0\n",
      "\n",
      "[21453 rows x 2 columns]\n"
     ]
    },
    {
     "data": {
      "text/plain": [
       "family_status\n",
       "civil partnership    0.093494\n",
       "divorced             0.071130\n",
       "married              0.075452\n",
       "unmarried            0.097509\n",
       "widow / widower      0.065693\n",
       "Name: debt, dtype: float64"
      ]
     },
     "execution_count": 226,
     "metadata": {},
     "output_type": "execute_result"
    }
   ],
   "source": [
    "# Periksa data status keluarga dan pelunasan tepat waktu\n",
    "print(credit_scoring[['family_status','debt']])\n",
    "\n",
    "# Hitung gagal bayar berdasarkan status keluarga\n",
    "credit_scoring.groupby('family_status')['debt'].mean()\n"
   ]
  },
  {
   "cell_type": "markdown",
   "metadata": {},
   "source": [
    "**Kesimpulan**\n",
    "\n",
    "Hubungan status keluarga dengan gagal bayar hutang tidak kuat. Namun janda(widow/widower) memiliki kemampuan bayar yang paling baik dan yang terburuk adalah belum menikah (unmarried).\n"
   ]
  },
  {
   "cell_type": "markdown",
   "metadata": {},
   "source": [
    "<div class=\"alert alert-success\">\n",
    "<b>Reviewer's comment</b> <a class=\"tocSkip\"></a>\n",
    "\n",
    "sudah oke yah!\n",
    "\n",
    "</div>"
   ]
  },
  {
   "cell_type": "markdown",
   "metadata": {},
   "source": [
    "**Apakah terdapat korelasi antara tingkat pendapatan dengan membayar kembali tepat waktu?**"
   ]
  },
  {
   "cell_type": "code",
   "execution_count": 227,
   "metadata": {},
   "outputs": [],
   "source": [
    "# Fungsi pengkategorian pendapatan\n",
    "def income_category(income):\n",
    "    if income < 4500:\n",
    "        category = 'Lower'\n",
    "    elif 4500 <= income < 13000:\n",
    "        category = 'Middle'\n",
    "    else:\n",
    "        category = 'Upper'\n",
    "    return category"
   ]
  },
  {
   "cell_type": "code",
   "execution_count": 228,
   "metadata": {},
   "outputs": [
    {
     "data": {
      "text/html": [
       "<div>\n",
       "<style scoped>\n",
       "    .dataframe tbody tr th:only-of-type {\n",
       "        vertical-align: middle;\n",
       "    }\n",
       "\n",
       "    .dataframe tbody tr th {\n",
       "        vertical-align: top;\n",
       "    }\n",
       "\n",
       "    .dataframe thead th {\n",
       "        text-align: right;\n",
       "    }\n",
       "</style>\n",
       "<table border=\"1\" class=\"dataframe\">\n",
       "  <thead>\n",
       "    <tr style=\"text-align: right;\">\n",
       "      <th></th>\n",
       "      <th>children</th>\n",
       "      <th>days_employed</th>\n",
       "      <th>dob_years</th>\n",
       "      <th>education</th>\n",
       "      <th>education_id</th>\n",
       "      <th>family_status</th>\n",
       "      <th>family_status_id</th>\n",
       "      <th>gender</th>\n",
       "      <th>income_type</th>\n",
       "      <th>debt</th>\n",
       "      <th>total_income</th>\n",
       "      <th>purpose</th>\n",
       "      <th>age_category</th>\n",
       "      <th>debt_description</th>\n",
       "      <th>purpose_category</th>\n",
       "      <th>income_category</th>\n",
       "    </tr>\n",
       "  </thead>\n",
       "  <tbody>\n",
       "    <tr>\n",
       "      <th>0</th>\n",
       "      <td>1</td>\n",
       "      <td>8437.673028</td>\n",
       "      <td>42</td>\n",
       "      <td>bachelor's degree</td>\n",
       "      <td>0</td>\n",
       "      <td>married</td>\n",
       "      <td>0</td>\n",
       "      <td>F</td>\n",
       "      <td>employee</td>\n",
       "      <td>0</td>\n",
       "      <td>40620.102</td>\n",
       "      <td>purchase of the house</td>\n",
       "      <td>Paruh Baya</td>\n",
       "      <td>Tidak Punya Hutang</td>\n",
       "      <td>property</td>\n",
       "      <td>Upper</td>\n",
       "    </tr>\n",
       "    <tr>\n",
       "      <th>1</th>\n",
       "      <td>1</td>\n",
       "      <td>4024.803754</td>\n",
       "      <td>36</td>\n",
       "      <td>secondary education</td>\n",
       "      <td>1</td>\n",
       "      <td>married</td>\n",
       "      <td>0</td>\n",
       "      <td>F</td>\n",
       "      <td>employee</td>\n",
       "      <td>0</td>\n",
       "      <td>17932.802</td>\n",
       "      <td>car purchase</td>\n",
       "      <td>Dewasa</td>\n",
       "      <td>Tidak Punya Hutang</td>\n",
       "      <td>car</td>\n",
       "      <td>Upper</td>\n",
       "    </tr>\n",
       "    <tr>\n",
       "      <th>2</th>\n",
       "      <td>0</td>\n",
       "      <td>5623.422610</td>\n",
       "      <td>33</td>\n",
       "      <td>secondary education</td>\n",
       "      <td>1</td>\n",
       "      <td>married</td>\n",
       "      <td>0</td>\n",
       "      <td>M</td>\n",
       "      <td>employee</td>\n",
       "      <td>0</td>\n",
       "      <td>23341.752</td>\n",
       "      <td>purchase of the house</td>\n",
       "      <td>Dewasa</td>\n",
       "      <td>Tidak Punya Hutang</td>\n",
       "      <td>property</td>\n",
       "      <td>Upper</td>\n",
       "    </tr>\n",
       "    <tr>\n",
       "      <th>3</th>\n",
       "      <td>3</td>\n",
       "      <td>4124.747207</td>\n",
       "      <td>32</td>\n",
       "      <td>secondary education</td>\n",
       "      <td>1</td>\n",
       "      <td>married</td>\n",
       "      <td>0</td>\n",
       "      <td>M</td>\n",
       "      <td>employee</td>\n",
       "      <td>0</td>\n",
       "      <td>42820.568</td>\n",
       "      <td>supplementary education</td>\n",
       "      <td>Dewasa</td>\n",
       "      <td>Tidak Punya Hutang</td>\n",
       "      <td>education</td>\n",
       "      <td>Upper</td>\n",
       "    </tr>\n",
       "    <tr>\n",
       "      <th>4</th>\n",
       "      <td>0</td>\n",
       "      <td>12045.000000</td>\n",
       "      <td>53</td>\n",
       "      <td>secondary education</td>\n",
       "      <td>1</td>\n",
       "      <td>civil partnership</td>\n",
       "      <td>1</td>\n",
       "      <td>F</td>\n",
       "      <td>retiree</td>\n",
       "      <td>0</td>\n",
       "      <td>25378.572</td>\n",
       "      <td>to have a wedding</td>\n",
       "      <td>Lansia</td>\n",
       "      <td>Tidak Punya Hutang</td>\n",
       "      <td>wedding</td>\n",
       "      <td>Upper</td>\n",
       "    </tr>\n",
       "  </tbody>\n",
       "</table>\n",
       "</div>"
      ],
      "text/plain": [
       "   children  days_employed  dob_years            education  education_id  \\\n",
       "0         1    8437.673028         42    bachelor's degree             0   \n",
       "1         1    4024.803754         36  secondary education             1   \n",
       "2         0    5623.422610         33  secondary education             1   \n",
       "3         3    4124.747207         32  secondary education             1   \n",
       "4         0   12045.000000         53  secondary education             1   \n",
       "\n",
       "       family_status  family_status_id gender income_type  debt  total_income  \\\n",
       "0            married                 0      F    employee     0     40620.102   \n",
       "1            married                 0      F    employee     0     17932.802   \n",
       "2            married                 0      M    employee     0     23341.752   \n",
       "3            married                 0      M    employee     0     42820.568   \n",
       "4  civil partnership                 1      F     retiree     0     25378.572   \n",
       "\n",
       "                   purpose age_category    debt_description purpose_category  \\\n",
       "0    purchase of the house   Paruh Baya  Tidak Punya Hutang         property   \n",
       "1             car purchase       Dewasa  Tidak Punya Hutang              car   \n",
       "2    purchase of the house       Dewasa  Tidak Punya Hutang         property   \n",
       "3  supplementary education       Dewasa  Tidak Punya Hutang        education   \n",
       "4        to have a wedding       Lansia  Tidak Punya Hutang          wedding   \n",
       "\n",
       "  income_category  \n",
       "0           Upper  \n",
       "1           Upper  \n",
       "2           Upper  \n",
       "3           Upper  \n",
       "4           Upper  "
      ]
     },
     "execution_count": 228,
     "metadata": {},
     "output_type": "execute_result"
    }
   ],
   "source": [
    "# Buat kolom yang memuat kategori\n",
    "credit_scoring['income_category'] = credit_scoring['total_income'].apply(income_category)\n",
    "credit_scoring.head()"
   ]
  },
  {
   "cell_type": "code",
   "execution_count": 229,
   "metadata": {},
   "outputs": [
    {
     "name": "stdout",
     "output_type": "stream",
     "text": [
      "      income_category  debt\n",
      "0               Upper     0\n",
      "1               Upper     0\n",
      "2               Upper     0\n",
      "3               Upper     0\n",
      "4               Upper     0\n",
      "...               ...   ...\n",
      "21520           Upper     0\n",
      "21521           Upper     0\n",
      "21522           Upper     1\n",
      "21523           Upper     1\n",
      "21524           Upper     0\n",
      "\n",
      "[21453 rows x 2 columns]\n"
     ]
    },
    {
     "data": {
      "text/plain": [
       "income_category\n",
       "Lower     0.062500\n",
       "Middle    0.075188\n",
       "Upper     0.081920\n",
       "Name: debt, dtype: float64"
      ]
     },
     "execution_count": 229,
     "metadata": {},
     "output_type": "execute_result"
    }
   ],
   "source": [
    "# Periksa data tingkat pendapatan dan pelunasan tepat waktu\n",
    "print(credit_scoring[['income_category','debt']])\n",
    "\n",
    "# Hitung gagal bayar berdasarkan tingkat pendapatan\n",
    "credit_scoring.groupby('income_category')['debt'].mean()\n"
   ]
  },
  {
   "cell_type": "markdown",
   "metadata": {},
   "source": [
    "**Kesimpulan**\n",
    "relasi terbalik antara besar penghasilan dengan gagal bayar, namun relasi ini relatif lemah.\n",
    "Semakin besar pendapatan maka kemungkinan gagal bayar lebh tinggi."
   ]
  },
  {
   "cell_type": "markdown",
   "metadata": {},
   "source": [
    "<div class=\"alert alert-success\">\n",
    "<b>Reviewer's comment</b> <a class=\"tocSkip\"></a>\n",
    "\n",
    "sudah oke yah! oh sudah disini ya kategori buat total_income\n",
    "\n",
    "</div>"
   ]
  },
  {
   "cell_type": "markdown",
   "metadata": {},
   "source": [
    "<div class=\"alert alert-block alert-info\">\n",
    "<b>Student answer.</b> <a class=\"tocSkip\"></a>\n",
    "\n",
    "Iya Mas Dipta, diawal kelewatan kategori untuk total_income, ternyata dibutuhkan disini"
   ]
  },
  {
   "cell_type": "markdown",
   "metadata": {},
   "source": [
    "**Bagaimana tujuan kredit memengaruhi tingkat gagal bayar?**"
   ]
  },
  {
   "cell_type": "code",
   "execution_count": 230,
   "metadata": {},
   "outputs": [
    {
     "data": {
      "text/plain": [
       "purpose_category\n",
       "car          0.093590\n",
       "education    0.092200\n",
       "property     0.072340\n",
       "wedding      0.080034\n",
       "Name: debt, dtype: float64"
      ]
     },
     "execution_count": 230,
     "metadata": {},
     "output_type": "execute_result"
    }
   ],
   "source": [
    "# Periksa persentase tingkat gagal bayar untuk setiap tujuan kredit dan lakukan penganalisisan\n",
    "credit_scoring.groupby('purpose_category')['debt'].mean()"
   ]
  },
  {
   "cell_type": "markdown",
   "metadata": {},
   "source": [
    "**Kesimpulan**\n",
    "- Relasi antara tujuan dengan gagal bayar lemah\n",
    "- Tujuan digroup 'car' memiliki kecenderungan gagal bayar yang paling tinggi\n",
    "- Tujuan digroup 'property' memiliki kecenderungan gagal bayar yang paling rendah"
   ]
  },
  {
   "cell_type": "markdown",
   "metadata": {},
   "source": [
    "# Kesimpulan umum \n",
    "\n",
    "Dari hasil analisis resiko gagal bayar peminjam tidak ditemukan hubungan yang kuat secara umum. Ditemukan hubungan yang lemah dengan kondisi mempunyai anak lebih banyak, pendapatan dan tujuan peminjaman terhadap kecenderungan gagal bayar. Prediksi akan lebih baik jika kita menggabungkan beberapa analisis. Kita dapat menyimpulkan gambaran peminjam yang baik adalah yang tidak mempunyai anak dengan tujuan peminjaman perumahan.\n"
   ]
  },
  {
   "cell_type": "markdown",
   "metadata": {},
   "source": [
    "<div class=\"alert alert-block alert-warning\">\n",
    "\n",
    "# General comments #1\n",
    "<b>Reviewer's comment</b> <a class=\"tocSkip\"></a> \n",
    "\n",
    "Good Job Juliman! Sebagian besar kamu telah menyelesaikan project ini dengan baik namun masih ada beberapa hal yang bisa diimprove yang saya tandai dengan comment berwarna kuning dan merah. Jika kamu telah merevisinya, projectmu akan di approve dan kamu bisa lanjut ke tahapan selanjutnya!.\n",
    "    \n",
    "Keep going Juliman, you are doing very well!\n",
    "    \n",
    "\n",
    "</div>"
   ]
  },
  {
   "cell_type": "markdown",
   "metadata": {},
   "source": [
    "<div class=\"alert alert-block alert-info\">\n",
    "<b>Student answer.</b> <a class=\"tocSkip\"></a>\n",
    "\n",
    "Ok, terima kasih banyak untuk reviewnya Mas Dipta, mohon direview kembali."
   ]
  },
  {
   "cell_type": "markdown",
   "metadata": {},
   "source": [
    "<div class=\"alert alert-block alert-success\">\n",
    "\n",
    "# General comments #2\n",
    "<b>Reviewer's comment</b> <a class=\"tocSkip\"></a> \n",
    "\n",
    "Good Job Juliman! Sudah melakukan revisi dengan baik dan bisa ke tahapan selanjutnya yah!\n",
    "    \n",
    "\n",
    "</div>"
   ]
  },
  {
   "cell_type": "code",
   "execution_count": null,
   "metadata": {},
   "outputs": [],
   "source": []
  }
 ],
 "metadata": {
  "ExecuteTimeLog": [
   {
    "duration": 2741,
    "start_time": "2021-10-21T01:08:49.480Z"
   },
   {
    "duration": 52,
    "start_time": "2021-10-21T01:08:53.315Z"
   },
   {
    "duration": 49,
    "start_time": "2021-10-21T01:08:57.432Z"
   },
   {
    "duration": 70,
    "start_time": "2021-10-21T01:09:07.706Z"
   }
  ],
  "kernelspec": {
   "display_name": "Python 3 (ipykernel)",
   "language": "python",
   "name": "python3"
  },
  "language_info": {
   "codemirror_mode": {
    "name": "ipython",
    "version": 3
   },
   "file_extension": ".py",
   "mimetype": "text/x-python",
   "name": "python",
   "nbconvert_exporter": "python",
   "pygments_lexer": "ipython3",
   "version": "3.9.5"
  },
  "toc": {
   "base_numbering": 1,
   "nav_menu": {},
   "number_sections": true,
   "sideBar": true,
   "skip_h1_title": true,
   "title_cell": "Table of Contents",
   "title_sidebar": "Contents",
   "toc_cell": false,
   "toc_position": {
    "height": "calc(100% - 180px)",
    "left": "10px",
    "top": "150px",
    "width": "165px"
   },
   "toc_section_display": true,
   "toc_window_display": true
  },
  "vscode": {
   "interpreter": {
    "hash": "ef1728426330606e01c1da091626d7dbd7604032247e9790b44969d857c4f729"
   }
  }
 },
 "nbformat": 4,
 "nbformat_minor": 2
}
