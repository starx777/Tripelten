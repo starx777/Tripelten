{
 "cells": [
  {
   "cell_type": "markdown",
   "metadata": {
    "id": "2Eyr5u06DyVZ"
   },
   "source": [
    "<div style=\"border:solid black 2px; padding: 20px\">\n",
    "\n",
    "# Reviewer's feedback v.1\n",
    "\n",
    "**Halo Gea!**\n",
    "    \n",
    "**Greetings from Chamdani**\n",
    "\n",
    "Disini saya akan mereview proyek kamu ya.\n",
    "\n",
    "Saya akan memberikan beberapa komentar dan feedback seperti dibawah ini, **mohon jangan dipindah, dirubah, maupun dihapus ya :).**\n",
    "    \n",
    "> Mohon diperhatikan bahwa apabila ada temuan atau kesalahan yang sama namun tidak ada komentar perbaikan disana, itu berarti kamu masih tetap harus memperbaikinya yaa.\n",
    "\n",
    "Komentar yang saya berikan akan muncul dalam warna hijau, kuning, atau pun merah seperti ini:\n",
    "\n",
    "</div>"
   ]
  },
  {
   "cell_type": "markdown",
   "metadata": {
    "id": "ygmOEECgDyVd"
   },
   "source": [
    "<div class=\"alert alert-success\">\n",
    "<b>Chamdani's comment v.*</b> <a class=\"tocSkip\"></a>\n",
    "\n",
    "Bagus, semua berjalan lancar.\n",
    "\n",
    "</div>"
   ]
  },
  {
   "cell_type": "markdown",
   "metadata": {
    "id": "tzajYc_iDyVe"
   },
   "source": [
    "<div class=\"alert alert-warning\">\n",
    "<b>Chamdani's comment v.*</b> <a class=\"tocSkip\"></a>\n",
    "\n",
    "Ada beberapa catatan.\n",
    "\n",
    "</div>"
   ]
  },
  {
   "cell_type": "markdown",
   "metadata": {
    "id": "Tnaq2UhzDyVe"
   },
   "source": [
    "<div class=\"alert alert-danger\">\n",
    "<b>Chamdani's comment v.*</b> <a class=\"tocSkip\"></a>\n",
    "\n",
    "Perlu beberapa perbaikan.\n",
    "\n",
    "</div>"
   ]
  },
  {
   "cell_type": "markdown",
   "metadata": {
    "id": "LWi9tt-EDyVf"
   },
   "source": [
    "<div style=\"border:solid gray 5px; padding: 20px\" class=\"alert alert-warning\">\n",
    "\n",
    "**INGATLAH** \n",
    "* Project kamu tidak akan bisa diterima bila kamu masih memiliki feedback berwarna merah. \n",
    "* Kamu hanya memiliki 3 kali kesempatan iterasi submission disetiap projectnya \n",
    "* Kamu dapat memperbaiki dan menyelesaikan feedback **pertama** dari saya tidak lebih dari 1\\*24 jam setiap iterasinya. *Untuk membantu saya mengetahui apakah ada kesulitan dari feedback project kamu*\n",
    "* Jika merasa kesulitan kamu dapat menuliskan responmu atas feedback saya menggunakan blok markdown warna biru yaa."
   ]
  },
  {
   "cell_type": "markdown",
   "metadata": {
    "id": "3spcyvzlDyVf"
   },
   "source": [
    "Kamu dapat menjawab saya dengan menggunakan blok berwarna biru seperti ini"
   ]
  },
  {
   "cell_type": "markdown",
   "metadata": {
    "id": "GSU52JG5DyVf"
   },
   "source": [
    "<div class=\"alert alert-info\">\n",
    "<b>Student answer</b> <a class=\"tocSkip\"></a>\n",
    "\n",
    "Siap kak.\n",
    "\n",
    "</div>"
   ]
  },
  {
   "cell_type": "markdown",
   "metadata": {
    "id": "quhtmAv1DyVg"
   },
   "source": [
    "<div style=\"border:solid black 2px; padding: 20px\" class=\"alert alert-warning\">\n",
    "    \n",
    "# General feedback v.1 *Minor improvement needed*\n",
    "\n",
    "Terima kasih banyak telah mengirimkan proyek Anda! \n",
    "<br>\n",
    "    \n",
    "Secara keseluruhan, proyek Anda **SANGAT** mengesankan. Saya menemukan sedikit saja perbaikan yang perlu kamu lakukan terkait print dataframe. Saya telah meninggalkan komentar disana. Dan coba pelajari tentang saran reviewer dibawah juga yaa.\n",
    "\n",
    "**TETAP SEMANGAT!!**\n",
    "    \n",
    "</div>"
   ]
  },
  {
   "cell_type": "markdown",
   "metadata": {
    "id": "XXWKrLBJDyVh"
   },
   "source": [
    "<div class=\"alert alert-info\">\n",
    "<b>Student answer</b> <a class=\"tocSkip\"></a>\n",
    "\n",
    "Wow terimakasih atas sarannya untuk menambahkan anotasi pada grafik, saya tidak tahu ternyata angka bisa ditampilkan di grafik. Akan saya buat di proyek-proyek selanjutnya. Untuk dataframe saya sudah print per cell.\n",
    "\n",
    "</div>"
   ]
  },
  {
   "cell_type": "markdown",
   "metadata": {
    "id": "d1UxJWgxDyV6"
   },
   "source": [
    "<div style=\"border:solid black 2px; padding: 20px\" class=\"alert alert-success\">\n",
    "    \n",
    "# General feedback v.2 Project Accepted\n",
    "\n",
    "Terima kasih banyak telah mengirimkan perbaikan proyek Anda! \n",
    "\n",
    "Secara keseluruhan, proyek Anda **SANGAT** mengesankan. Tidak ada komentar lain selain mengesankan. Semangat, semoga sukses kedepannya\n",
    "    \n",
    "</div>"
   ]
  },
  {
   "cell_type": "markdown",
   "metadata": {
    "id": "I5NJm40sDyVh"
   },
   "source": [
    "# Saran reviewer"
   ]
  },
  {
   "cell_type": "markdown",
   "metadata": {
    "id": "ho9mznd9DyVh"
   },
   "source": [
    "<div style=\"border:solid black 2px; padding: 20px\" class=\"alert alert-info\">\n",
    "<b>Chamdani's info v.1</b> <a class=\"tocSkip\"></a>\n",
    "\n",
    "    \n",
    "Sebagai saran untuk project selanjutnya agar graph plot kamu lebih informatif dan lebih baik lagi kamu bisa menambahkan anotasi seperti pada contoh gambar berikut:\n",
    "\n",
    "![image.png](attachment:image.png)\n",
    "    \n",
    "Dan terkadang grafik kita memiliki posisi gambar yang cukup berdekatran oleh karena itu kita bisa membuat sedikit rotasi pada label value pada setiap plot seperti contoh berikut:\n",
    "    \n",
    "![image-2.png](attachment:image-2.png)\n",
    "    \n",
    "Bacalah referensi berikut ini yaa:\n",
    "    \n",
    "* https://stackoverflow.com/questions/39519609/annotate-bars-with-values-on-pandas-on-seaborn-factorplot-bar-plot\n",
    "* https://www.geeksforgeeks.org/how-to-annotate-bars-in-barplot-with-matplotlib-in-python/\n",
    "\n",
    "    \n",
    "Contoh kode: *kamu bisa memperbaiki kode ini untuk kamu gunakan pada project selanjutnya*\n",
    "    \n",
    "```python\n",
    "#membuat visualisi untuk game rilis pertahun\n",
    "plt.figure(figsize=(25,20)) # contoh kode saya perbesar figure size nya\n",
    "splot = sns.barplot(data=year_group, x='year', y='name') # assign plot kedalam object\n",
    "#contoh kode anotasi mulai\n",
    "for g in splot.patches:\n",
    "    splot.annotate(format(g.get_height(), '.1f'),\n",
    "                   (g.get_x() + g.get_width() / 2., g.get_height()),\n",
    "                   ha = 'center', va = 'center', # posisi label value vertical dan horizontal berada pada certer plot\n",
    "                   xytext = (0, 20), rotation=45, # memutar label value pada plot 45 derajat dan memberi jara 20 pixel dari plot\n",
    "                   textcoords = 'offset points')\n",
    "#contoh kode anotasi selesai\n",
    "plt.xticks(rotation = 45) # memutar label x axis 45 derajat\n",
    "plt.show()\n",
    "```\n",
    "    \n",
    "</div>"
   ]
  },
  {
   "cell_type": "markdown",
   "metadata": {
    "id": "qkI3RU-MIBQl"
   },
   "source": [
    "# **Operator Telekomunikasi Megaline**\n",
    "Megaline merupakan perusahaan operator telekomunikasi. Perusahaan tersebut menawarkan kliennya dua paket prabayar, Surf dan Ultimate. Departemen periklanan ingin mengetahui paket prabayar mana yang menghasilkan lebih banyak pendapatan untuk menyesuaikan anggaran iklan.\n",
    "Anda akan melakukan analisis awal untuk paket-paket prabayar tersebut berdasarkan sampel klien yang berukuran relatif kecil. Ada 500 data klien Megaline yang berisi informasi pelanggan, jenis paket apa yang digunakan, serta jumlah panggilan dan pesan yang mereka kirim di tahun 2018.\n",
    "\n",
    "## Ketentuan Perusahaan\n",
    "Megaline membulatkan detik ke menit, serta megabita ke gigabita. Untuk panggilan, setiap panggilan individual dibulatkan ke atas: bahkan jika suatu panggilan berlangsung hanya satu detik, ia akan dihitung sebagai satu menit. Untuk lalu lintas web, setiap sesi web individual tidak dibulatkan ke atas. Akan tetapi, total untuk sebulan dibulatkan ke atas. Jika seorang pengguna menghabiskan 1025 megabita bulan ini, maka ia akan dikenai biaya untuk 2 gigabita.\n",
    "\n",
    "## Deskripsi Paket Prabayar\n",
    "**Surf**\n",
    "\n",
    "1. Biaya bulanan: $20\n",
    "2. 500 menit durasi panggilan per bulan, 50 SMS, dan 15 GB data\n",
    "3. Setelah melebihi batas paket, akan dikenakan:\n",
    "\n",
    " * 1 menit: 3 sen\n",
    " * 1 SMS: 3 sen\n",
    " * 1 GB data: $10\n",
    "\n",
    "**Ultimate**\n",
    "1. Biaya bulanan: $70\n",
    "2. 3000 menit durasi panggilan per bulan, 1000 SMS, dan 30 GB data\n",
    "3. Setelah melebihi batas paket, akan dikenakan:\n",
    "\n",
    " * 1 menit: 1 sen\n",
    " * 1 SMS: 1 sen\n",
    " * 1 GB data: $7\n",
    "\n",
    "## Deskripsi Data\n",
    "Tabel users (data pengguna):\n",
    "* user_id — ID pengguna\n",
    "* first_name — nama depan pengguna\n",
    "* last_name — nama belakang pengguna\n",
    "* age — usia pengguna (tahun)\n",
    "* reg_date — tanggal mulai berlangganan (dd, mm, yy)\n",
    "* churn_date — tanggal pengguna berhenti menggunakan layanan (jika nilainya hilang atau tidak ada, berarti paket layanan sedang digunakan saat data ini dibuat)\n",
    "* city — kota tempat tinggal pengguna\n",
    "* plan — nama paket telepon\n",
    "\n",
    "Tabel calls (data panggilan):\n",
    "* id — ID sesi web unik\n",
    "* call_date — tanggal panggilan\n",
    "* duration — durasi panggilan (dalam menit)\n",
    "* user_id — ID pengguna yang melakukan panggilan\n",
    "\n",
    "Tabel messages (data SMS):\n",
    "* id — ID SMS unik\n",
    "* message_date — tanggal SMS dikirim\n",
    "* user_id — ID pengguna yang mengirim SMS\n",
    "\n",
    "Tabel internet (data sesi web):\n",
    "* id — ID sesi web unik\n",
    "* mb_used — volume data yang dihabiskan selama sesi (dalam megabita)\n",
    "* session_date — tanggal sesi web\n",
    "* user_id — ID pengguna\n",
    "\n",
    "Tabel plans (data paket telepon):\n",
    "* plan_name — nama paket telepon\n",
    "* usd_monthly_fee — biaya bulanan dalam dolar AS\n",
    "* minutes_included — alokasi menit panggilan bulanan\n",
    "* messages_included — alokasi SMS bulanan\n",
    "* mb_per_month_included — alokasi volume data bulanan (dalam megabita)\n",
    "* usd_per_minute — harga per menit jika telah melebihi batas alokasi paket (misalnya, jika paket memiliki alokasi 100 menit, maka penggunaan mulai dari menit ke-101 akan dikenakan biaya)\n",
    "* usd_per_message — harga per SMS jika telah melebihi batas alokasi paket\n",
    "* usd_per_gb — harga per ekstra gigabita data jika telah melebihi batas alokasi paket (1 GB = 1024 megabita)"
   ]
  },
  {
   "cell_type": "markdown",
   "metadata": {
    "id": "gNUSFeMm-IcJ"
   },
   "source": [
    "# 1 Tujuan Proyek\n",
    " * Menganalisis perilaku klien dan menentukan paket prabayar mana yang mendatangkan lebih banyak pendapatan pada operator telekomunikasi Megaline\n",
    "\n"
   ]
  },
  {
   "cell_type": "markdown",
   "metadata": {
    "id": "jSfMniNo-wCI"
   },
   "source": [
    "# 2 Hipotesis\n",
    "1. Rata-rata pendapatan dari pengguna paket telepon Ultimate dan Surf berbeda.\n",
    "2. Rata-rata pendapatan dari pengguna di wilayah NY-NJ berbeda dengan pendapatan pengguna dari wilayah lain."
   ]
  },
  {
   "cell_type": "markdown",
   "metadata": {
    "id": "npdo8nhVDyVj"
   },
   "source": [
    "<div class=\"alert alert-success\">\n",
    "<b>Chamdani's comment v.1</b> <a class=\"tocSkip\"></a>\n",
    "\n",
    "Excellent!\n",
    "\n",
    "</div>"
   ]
  },
  {
   "cell_type": "markdown",
   "metadata": {
    "id": "TPLsgFB3zgOf"
   },
   "source": [
    "\n",
    "# 3 Import Library"
   ]
  },
  {
   "cell_type": "code",
   "execution_count": 13,
   "metadata": {
    "colab": {
     "base_uri": "https://localhost:8080/"
    },
    "id": "1vAIJvDFqDvB",
    "outputId": "1edd33ca-fb81-447a-bf1e-4912f0dcdba3",
    "scrolled": true
   },
   "outputs": [],
   "source": [
    "# Import semua library\n",
    "import pandas as pd\n",
    "import numpy as np\n",
    "import scipy.stats as st\n",
    "import matplotlib.pyplot as plt, seaborn as sns\n",
    "from scipy.stats import chi2_contingency, ttest_ind"
   ]
  },
  {
   "cell_type": "markdown",
   "metadata": {
    "id": "o37q2I5FDyVl"
   },
   "source": [
    "<div class=\"alert alert-success\">\n",
    "<b>Chamdani's comment v.1</b> <a class=\"tocSkip\"></a>\n",
    "\n",
    "Kerja bagus!\n",
    "\n",
    "</div>"
   ]
  },
  {
   "cell_type": "markdown",
   "metadata": {
    "id": "l2JRXOGizdpe"
   },
   "source": [
    "# 4 Import Data"
   ]
  },
  {
   "cell_type": "code",
   "execution_count": 14,
   "metadata": {
    "id": "qkttpR260HwI"
   },
   "outputs": [],
   "source": [
    "# Import data dari file CSV\n",
    "df_calls = pd.read_csv('/datasets/megaline_calls.csv')\n",
    "df_internet = pd.read_csv('/datasets/megaline_internet.csv')\n",
    "df_messages = pd.read_csv('/datasets/megaline_messages.csv')\n",
    "df_plans = pd.read_csv('/datasets/megaline_plans.csv')\n",
    "df_users = pd.read_csv('/datasets/megaline_users.csv')"
   ]
  },
  {
   "cell_type": "markdown",
   "metadata": {
    "id": "Id4vEYvKDyVl"
   },
   "source": [
    "<div class=\"alert alert-success\">\n",
    "<b>Chamdani's comment v.1</b> <a class=\"tocSkip\"></a>\n",
    "\n",
    "Kerja bagus!\n",
    "\n",
    "</div>"
   ]
  },
  {
   "cell_type": "markdown",
   "metadata": {
    "id": "zjgKaTTh0EcN"
   },
   "source": [
    "# 5 Ikhtisar Data\n"
   ]
  },
  {
   "cell_type": "markdown",
   "metadata": {
    "id": "jO3Q3JKK1FPa"
   },
   "source": [
    "## 5.1 Data Calls\n",
    "\n",
    "Tabel calls (data panggilan):\n",
    "* id — ID sesi web unik\n",
    "* call_date — tanggal panggilan\n",
    "* duration — durasi panggilan (dalam menit)\n",
    "* user_id — ID pengguna yang melakukan panggilan"
   ]
  },
  {
   "cell_type": "code",
   "execution_count": 15,
   "metadata": {
    "colab": {
     "base_uri": "https://localhost:8080/",
     "height": 206
    },
    "id": "UONijpGYz_nr",
    "outputId": "36c33a4b-d3d5-4002-d0c8-4a6033d60ff9"
   },
   "outputs": [
    {
     "data": {
      "text/html": [
       "<div>\n",
       "<style scoped>\n",
       "    .dataframe tbody tr th:only-of-type {\n",
       "        vertical-align: middle;\n",
       "    }\n",
       "\n",
       "    .dataframe tbody tr th {\n",
       "        vertical-align: top;\n",
       "    }\n",
       "\n",
       "    .dataframe thead th {\n",
       "        text-align: right;\n",
       "    }\n",
       "</style>\n",
       "<table border=\"1\" class=\"dataframe\">\n",
       "  <thead>\n",
       "    <tr style=\"text-align: right;\">\n",
       "      <th></th>\n",
       "      <th>id</th>\n",
       "      <th>user_id</th>\n",
       "      <th>call_date</th>\n",
       "      <th>duration</th>\n",
       "    </tr>\n",
       "  </thead>\n",
       "  <tbody>\n",
       "    <tr>\n",
       "      <th>0</th>\n",
       "      <td>1000_93</td>\n",
       "      <td>1000</td>\n",
       "      <td>2018-12-27</td>\n",
       "      <td>8.52</td>\n",
       "    </tr>\n",
       "    <tr>\n",
       "      <th>1</th>\n",
       "      <td>1000_145</td>\n",
       "      <td>1000</td>\n",
       "      <td>2018-12-27</td>\n",
       "      <td>13.66</td>\n",
       "    </tr>\n",
       "    <tr>\n",
       "      <th>2</th>\n",
       "      <td>1000_247</td>\n",
       "      <td>1000</td>\n",
       "      <td>2018-12-27</td>\n",
       "      <td>14.48</td>\n",
       "    </tr>\n",
       "    <tr>\n",
       "      <th>3</th>\n",
       "      <td>1000_309</td>\n",
       "      <td>1000</td>\n",
       "      <td>2018-12-28</td>\n",
       "      <td>5.76</td>\n",
       "    </tr>\n",
       "    <tr>\n",
       "      <th>4</th>\n",
       "      <td>1000_380</td>\n",
       "      <td>1000</td>\n",
       "      <td>2018-12-30</td>\n",
       "      <td>4.22</td>\n",
       "    </tr>\n",
       "  </tbody>\n",
       "</table>\n",
       "</div>"
      ],
      "text/plain": [
       "         id  user_id   call_date  duration\n",
       "0   1000_93     1000  2018-12-27      8.52\n",
       "1  1000_145     1000  2018-12-27     13.66\n",
       "2  1000_247     1000  2018-12-27     14.48\n",
       "3  1000_309     1000  2018-12-28      5.76\n",
       "4  1000_380     1000  2018-12-30      4.22"
      ]
     },
     "execution_count": 15,
     "metadata": {},
     "output_type": "execute_result"
    }
   ],
   "source": [
    "# Menampilkan Sample data\n",
    "df_calls.head()"
   ]
  },
  {
   "cell_type": "code",
   "execution_count": 16,
   "metadata": {
    "colab": {
     "base_uri": "https://localhost:8080/"
    },
    "id": "qRVzUhKA89VH",
    "outputId": "59fc7da5-ce34-4578-b84e-c110422ea920"
   },
   "outputs": [
    {
     "data": {
      "text/plain": [
       "(137735, 4)"
      ]
     },
     "execution_count": 16,
     "metadata": {},
     "output_type": "execute_result"
    }
   ],
   "source": [
    "# Menghitung baris dan kolom dataframe\n",
    "df_calls.shape"
   ]
  },
  {
   "cell_type": "code",
   "execution_count": 17,
   "metadata": {
    "colab": {
     "base_uri": "https://localhost:8080/"
    },
    "id": "BGfouyvnkaci",
    "outputId": "d4947aaa-b152-4bd0-a8b0-e60b9a9f9837"
   },
   "outputs": [
    {
     "name": "stdout",
     "output_type": "stream",
     "text": [
      "<class 'pandas.core.frame.DataFrame'>\n",
      "RangeIndex: 137735 entries, 0 to 137734\n",
      "Data columns (total 4 columns):\n",
      " #   Column     Non-Null Count   Dtype  \n",
      "---  ------     --------------   -----  \n",
      " 0   id         137735 non-null  object \n",
      " 1   user_id    137735 non-null  int64  \n",
      " 2   call_date  137735 non-null  object \n",
      " 3   duration   137735 non-null  float64\n",
      "dtypes: float64(1), int64(1), object(2)\n",
      "memory usage: 4.2+ MB\n"
     ]
    }
   ],
   "source": [
    "# Memampilkan informasi data\n",
    "df_calls.info()"
   ]
  },
  {
   "cell_type": "code",
   "execution_count": 18,
   "metadata": {
    "colab": {
     "base_uri": "https://localhost:8080/",
     "height": 300
    },
    "id": "FRH8VNZnl2Dt",
    "outputId": "8ead9f37-37da-4afd-e8b8-65d5c29b25eb"
   },
   "outputs": [
    {
     "data": {
      "text/html": [
       "<div>\n",
       "<style scoped>\n",
       "    .dataframe tbody tr th:only-of-type {\n",
       "        vertical-align: middle;\n",
       "    }\n",
       "\n",
       "    .dataframe tbody tr th {\n",
       "        vertical-align: top;\n",
       "    }\n",
       "\n",
       "    .dataframe thead th {\n",
       "        text-align: right;\n",
       "    }\n",
       "</style>\n",
       "<table border=\"1\" class=\"dataframe\">\n",
       "  <thead>\n",
       "    <tr style=\"text-align: right;\">\n",
       "      <th></th>\n",
       "      <th>user_id</th>\n",
       "      <th>duration</th>\n",
       "    </tr>\n",
       "  </thead>\n",
       "  <tbody>\n",
       "    <tr>\n",
       "      <th>count</th>\n",
       "      <td>137735.000000</td>\n",
       "      <td>137735.000000</td>\n",
       "    </tr>\n",
       "    <tr>\n",
       "      <th>mean</th>\n",
       "      <td>1247.658046</td>\n",
       "      <td>6.745927</td>\n",
       "    </tr>\n",
       "    <tr>\n",
       "      <th>std</th>\n",
       "      <td>139.416268</td>\n",
       "      <td>5.839241</td>\n",
       "    </tr>\n",
       "    <tr>\n",
       "      <th>min</th>\n",
       "      <td>1000.000000</td>\n",
       "      <td>0.000000</td>\n",
       "    </tr>\n",
       "    <tr>\n",
       "      <th>25%</th>\n",
       "      <td>1128.000000</td>\n",
       "      <td>1.290000</td>\n",
       "    </tr>\n",
       "    <tr>\n",
       "      <th>50%</th>\n",
       "      <td>1247.000000</td>\n",
       "      <td>5.980000</td>\n",
       "    </tr>\n",
       "    <tr>\n",
       "      <th>75%</th>\n",
       "      <td>1365.000000</td>\n",
       "      <td>10.690000</td>\n",
       "    </tr>\n",
       "    <tr>\n",
       "      <th>max</th>\n",
       "      <td>1499.000000</td>\n",
       "      <td>37.600000</td>\n",
       "    </tr>\n",
       "  </tbody>\n",
       "</table>\n",
       "</div>"
      ],
      "text/plain": [
       "             user_id       duration\n",
       "count  137735.000000  137735.000000\n",
       "mean     1247.658046       6.745927\n",
       "std       139.416268       5.839241\n",
       "min      1000.000000       0.000000\n",
       "25%      1128.000000       1.290000\n",
       "50%      1247.000000       5.980000\n",
       "75%      1365.000000      10.690000\n",
       "max      1499.000000      37.600000"
      ]
     },
     "execution_count": 18,
     "metadata": {},
     "output_type": "execute_result"
    }
   ],
   "source": [
    "# Menampilkan statistik data\n",
    "df_calls.describe()"
   ]
  },
  {
   "cell_type": "markdown",
   "metadata": {
    "id": "7zPPUk3YlFa9"
   },
   "source": [
    "Hasil pemeriksaan Data Calls:\n",
    "* Dataframe memiliki 137735 baris dan 4 kolom.\n",
    "* Tidak ada nilai yang hilang.\n",
    "* Perlu dilakukan pembulatan pada kolom 'duration' dalam bentuk menit sesuai dengan ketentuan perusahaan.\n",
    "* Ada nilai 0 pada kolom duration yang kemungkinan merupakan panggilan tidak terjawab. Nilai ini dibiarkan saja karena user tetap membayar dengan paket plan.\n",
    "* Kolom bulanan dari 'duration' diperlukan untuk analisa lama panggilan per bulan.\n",
    "\n"
   ]
  },
  {
   "cell_type": "markdown",
   "metadata": {
    "id": "9AQChsk-DyVp"
   },
   "source": [
    "<div class=\"alert alert-success\">\n",
    "<b>Chamdani's comment v.1</b> <a class=\"tocSkip\"></a>\n",
    "\n",
    "Kerja bagus!\n",
    "\n",
    "</div>"
   ]
  },
  {
   "cell_type": "markdown",
   "metadata": {
    "id": "m23X6HWN1or6"
   },
   "source": [
    "## 5.2 Data Internet\n",
    "Tabel internet (data sesi web):\n",
    "* id — ID sesi web unik\n",
    "* mb_used — volume data yang dihabiskan selama sesi (dalam megabita)\n",
    "* session_date — tanggal sesi web\n",
    "* user_id — ID pengguna\n"
   ]
  },
  {
   "cell_type": "code",
   "execution_count": 19,
   "metadata": {
    "colab": {
     "base_uri": "https://localhost:8080/",
     "height": 206
    },
    "id": "Y_Jlk6v-1imj",
    "outputId": "661a1c9a-884a-4c8b-bd65-4300111e98cc"
   },
   "outputs": [
    {
     "data": {
      "text/html": [
       "<div>\n",
       "<style scoped>\n",
       "    .dataframe tbody tr th:only-of-type {\n",
       "        vertical-align: middle;\n",
       "    }\n",
       "\n",
       "    .dataframe tbody tr th {\n",
       "        vertical-align: top;\n",
       "    }\n",
       "\n",
       "    .dataframe thead th {\n",
       "        text-align: right;\n",
       "    }\n",
       "</style>\n",
       "<table border=\"1\" class=\"dataframe\">\n",
       "  <thead>\n",
       "    <tr style=\"text-align: right;\">\n",
       "      <th></th>\n",
       "      <th>id</th>\n",
       "      <th>user_id</th>\n",
       "      <th>session_date</th>\n",
       "      <th>mb_used</th>\n",
       "    </tr>\n",
       "  </thead>\n",
       "  <tbody>\n",
       "    <tr>\n",
       "      <th>0</th>\n",
       "      <td>1000_13</td>\n",
       "      <td>1000</td>\n",
       "      <td>2018-12-29</td>\n",
       "      <td>89.86</td>\n",
       "    </tr>\n",
       "    <tr>\n",
       "      <th>1</th>\n",
       "      <td>1000_204</td>\n",
       "      <td>1000</td>\n",
       "      <td>2018-12-31</td>\n",
       "      <td>0.00</td>\n",
       "    </tr>\n",
       "    <tr>\n",
       "      <th>2</th>\n",
       "      <td>1000_379</td>\n",
       "      <td>1000</td>\n",
       "      <td>2018-12-28</td>\n",
       "      <td>660.40</td>\n",
       "    </tr>\n",
       "    <tr>\n",
       "      <th>3</th>\n",
       "      <td>1000_413</td>\n",
       "      <td>1000</td>\n",
       "      <td>2018-12-26</td>\n",
       "      <td>270.99</td>\n",
       "    </tr>\n",
       "    <tr>\n",
       "      <th>4</th>\n",
       "      <td>1000_442</td>\n",
       "      <td>1000</td>\n",
       "      <td>2018-12-27</td>\n",
       "      <td>880.22</td>\n",
       "    </tr>\n",
       "  </tbody>\n",
       "</table>\n",
       "</div>"
      ],
      "text/plain": [
       "         id  user_id session_date  mb_used\n",
       "0   1000_13     1000   2018-12-29    89.86\n",
       "1  1000_204     1000   2018-12-31     0.00\n",
       "2  1000_379     1000   2018-12-28   660.40\n",
       "3  1000_413     1000   2018-12-26   270.99\n",
       "4  1000_442     1000   2018-12-27   880.22"
      ]
     },
     "execution_count": 19,
     "metadata": {},
     "output_type": "execute_result"
    }
   ],
   "source": [
    "# Menampilkan sample data\n",
    "df_internet.head()"
   ]
  },
  {
   "cell_type": "code",
   "execution_count": 20,
   "metadata": {
    "colab": {
     "base_uri": "https://localhost:8080/"
    },
    "id": "3S4oaPOwrakl",
    "outputId": "61c56fb8-2a42-4ef1-f91d-5e42aab35118"
   },
   "outputs": [
    {
     "data": {
      "text/plain": [
       "(104825, 4)"
      ]
     },
     "execution_count": 20,
     "metadata": {},
     "output_type": "execute_result"
    }
   ],
   "source": [
    "# Menghitung baris dan kolom dataframe\n",
    "df_internet.shape"
   ]
  },
  {
   "cell_type": "code",
   "execution_count": 21,
   "metadata": {
    "colab": {
     "base_uri": "https://localhost:8080/"
    },
    "id": "xvfbyDTRrjzJ",
    "outputId": "73000759-1765-40b6-8a97-92fcb7e0140b"
   },
   "outputs": [
    {
     "name": "stdout",
     "output_type": "stream",
     "text": [
      "<class 'pandas.core.frame.DataFrame'>\n",
      "RangeIndex: 104825 entries, 0 to 104824\n",
      "Data columns (total 4 columns):\n",
      " #   Column        Non-Null Count   Dtype  \n",
      "---  ------        --------------   -----  \n",
      " 0   id            104825 non-null  object \n",
      " 1   user_id       104825 non-null  int64  \n",
      " 2   session_date  104825 non-null  object \n",
      " 3   mb_used       104825 non-null  float64\n",
      "dtypes: float64(1), int64(1), object(2)\n",
      "memory usage: 3.2+ MB\n"
     ]
    }
   ],
   "source": [
    "# Memampilkan informasi data\n",
    "df_internet.info()"
   ]
  },
  {
   "cell_type": "code",
   "execution_count": 22,
   "metadata": {
    "colab": {
     "base_uri": "https://localhost:8080/",
     "height": 300
    },
    "id": "pbfuizr6r1Dk",
    "outputId": "0b854196-97c2-4b90-d109-47fbd28324df"
   },
   "outputs": [
    {
     "data": {
      "text/html": [
       "<div>\n",
       "<style scoped>\n",
       "    .dataframe tbody tr th:only-of-type {\n",
       "        vertical-align: middle;\n",
       "    }\n",
       "\n",
       "    .dataframe tbody tr th {\n",
       "        vertical-align: top;\n",
       "    }\n",
       "\n",
       "    .dataframe thead th {\n",
       "        text-align: right;\n",
       "    }\n",
       "</style>\n",
       "<table border=\"1\" class=\"dataframe\">\n",
       "  <thead>\n",
       "    <tr style=\"text-align: right;\">\n",
       "      <th></th>\n",
       "      <th>user_id</th>\n",
       "      <th>mb_used</th>\n",
       "    </tr>\n",
       "  </thead>\n",
       "  <tbody>\n",
       "    <tr>\n",
       "      <th>count</th>\n",
       "      <td>104825.000000</td>\n",
       "      <td>104825.000000</td>\n",
       "    </tr>\n",
       "    <tr>\n",
       "      <th>mean</th>\n",
       "      <td>1242.496361</td>\n",
       "      <td>366.713701</td>\n",
       "    </tr>\n",
       "    <tr>\n",
       "      <th>std</th>\n",
       "      <td>142.053913</td>\n",
       "      <td>277.170542</td>\n",
       "    </tr>\n",
       "    <tr>\n",
       "      <th>min</th>\n",
       "      <td>1000.000000</td>\n",
       "      <td>0.000000</td>\n",
       "    </tr>\n",
       "    <tr>\n",
       "      <th>25%</th>\n",
       "      <td>1122.000000</td>\n",
       "      <td>136.080000</td>\n",
       "    </tr>\n",
       "    <tr>\n",
       "      <th>50%</th>\n",
       "      <td>1236.000000</td>\n",
       "      <td>343.980000</td>\n",
       "    </tr>\n",
       "    <tr>\n",
       "      <th>75%</th>\n",
       "      <td>1367.000000</td>\n",
       "      <td>554.610000</td>\n",
       "    </tr>\n",
       "    <tr>\n",
       "      <th>max</th>\n",
       "      <td>1499.000000</td>\n",
       "      <td>1693.470000</td>\n",
       "    </tr>\n",
       "  </tbody>\n",
       "</table>\n",
       "</div>"
      ],
      "text/plain": [
       "             user_id        mb_used\n",
       "count  104825.000000  104825.000000\n",
       "mean     1242.496361     366.713701\n",
       "std       142.053913     277.170542\n",
       "min      1000.000000       0.000000\n",
       "25%      1122.000000     136.080000\n",
       "50%      1236.000000     343.980000\n",
       "75%      1367.000000     554.610000\n",
       "max      1499.000000    1693.470000"
      ]
     },
     "execution_count": 22,
     "metadata": {},
     "output_type": "execute_result"
    }
   ],
   "source": [
    "# Menampilkan statistik data\n",
    "df_internet.describe()"
   ]
  },
  {
   "cell_type": "markdown",
   "metadata": {
    "id": "HJBnJu7wJ23B"
   },
   "source": [
    "Hasil pemeriksaan data Internet:\n",
    "* Dataframe memiliki 104825 baris dan 4 kolom.\n",
    "* Tidak ada nilai yang hilang.\n",
    "* Ada nilai 0 pada kolom mb_used yang berarti paket internet tidak digunakan.\n",
    "* Kolom bulanan dari 'session_date' diperlukan untuk analisa penggunaan bandwidth bulanan.\n",
    "* Kolom penggunaan bandwidth dalam bentuk gigabyte diperlukan untuk analisa lanjutan (pembulatan diperlukan sesuai dengan ketentuan perusahaan).\n"
   ]
  },
  {
   "cell_type": "markdown",
   "metadata": {
    "id": "KISJmxrvDyVs"
   },
   "source": [
    "<div class=\"alert alert-success\">\n",
    "<b>Chamdani's comment v.1</b> <a class=\"tocSkip\"></a>\n",
    "\n",
    "Kerja bagus!\n",
    "\n",
    "</div>"
   ]
  },
  {
   "cell_type": "markdown",
   "metadata": {
    "id": "CcA8HiKk1qFK"
   },
   "source": [
    "## 5.3 Data Messages\n",
    "Tabel messages (data SMS):\n",
    "* id — ID SMS unik\n",
    "* message_date — tanggal SMS dikirim\n",
    "* user_id — ID pengguna yang mengirim SMS"
   ]
  },
  {
   "cell_type": "code",
   "execution_count": 23,
   "metadata": {
    "colab": {
     "base_uri": "https://localhost:8080/",
     "height": 206
    },
    "id": "_YkyKZul19me",
    "outputId": "5445fc7b-75fc-4388-fc47-c70840df9794"
   },
   "outputs": [
    {
     "data": {
      "text/html": [
       "<div>\n",
       "<style scoped>\n",
       "    .dataframe tbody tr th:only-of-type {\n",
       "        vertical-align: middle;\n",
       "    }\n",
       "\n",
       "    .dataframe tbody tr th {\n",
       "        vertical-align: top;\n",
       "    }\n",
       "\n",
       "    .dataframe thead th {\n",
       "        text-align: right;\n",
       "    }\n",
       "</style>\n",
       "<table border=\"1\" class=\"dataframe\">\n",
       "  <thead>\n",
       "    <tr style=\"text-align: right;\">\n",
       "      <th></th>\n",
       "      <th>id</th>\n",
       "      <th>user_id</th>\n",
       "      <th>message_date</th>\n",
       "    </tr>\n",
       "  </thead>\n",
       "  <tbody>\n",
       "    <tr>\n",
       "      <th>0</th>\n",
       "      <td>1000_125</td>\n",
       "      <td>1000</td>\n",
       "      <td>2018-12-27</td>\n",
       "    </tr>\n",
       "    <tr>\n",
       "      <th>1</th>\n",
       "      <td>1000_160</td>\n",
       "      <td>1000</td>\n",
       "      <td>2018-12-31</td>\n",
       "    </tr>\n",
       "    <tr>\n",
       "      <th>2</th>\n",
       "      <td>1000_223</td>\n",
       "      <td>1000</td>\n",
       "      <td>2018-12-31</td>\n",
       "    </tr>\n",
       "    <tr>\n",
       "      <th>3</th>\n",
       "      <td>1000_251</td>\n",
       "      <td>1000</td>\n",
       "      <td>2018-12-27</td>\n",
       "    </tr>\n",
       "    <tr>\n",
       "      <th>4</th>\n",
       "      <td>1000_255</td>\n",
       "      <td>1000</td>\n",
       "      <td>2018-12-26</td>\n",
       "    </tr>\n",
       "  </tbody>\n",
       "</table>\n",
       "</div>"
      ],
      "text/plain": [
       "         id  user_id message_date\n",
       "0  1000_125     1000   2018-12-27\n",
       "1  1000_160     1000   2018-12-31\n",
       "2  1000_223     1000   2018-12-31\n",
       "3  1000_251     1000   2018-12-27\n",
       "4  1000_255     1000   2018-12-26"
      ]
     },
     "execution_count": 23,
     "metadata": {},
     "output_type": "execute_result"
    }
   ],
   "source": [
    "# Menampilkan sampel data\n",
    "df_messages.head()"
   ]
  },
  {
   "cell_type": "code",
   "execution_count": 24,
   "metadata": {
    "colab": {
     "base_uri": "https://localhost:8080/"
    },
    "id": "m120qsfZMB_W",
    "outputId": "436b7ee3-77e0-4767-9ce2-c5d1949bdfa7"
   },
   "outputs": [
    {
     "data": {
      "text/plain": [
       "(76051, 3)"
      ]
     },
     "execution_count": 24,
     "metadata": {},
     "output_type": "execute_result"
    }
   ],
   "source": [
    "# Menghitung baris dan kolom dataframe\n",
    "df_messages.shape"
   ]
  },
  {
   "cell_type": "code",
   "execution_count": 25,
   "metadata": {
    "colab": {
     "base_uri": "https://localhost:8080/"
    },
    "id": "KTAuFcRGMLhb",
    "outputId": "7746be53-f5dc-42d1-f21e-adaf06daee42"
   },
   "outputs": [
    {
     "name": "stdout",
     "output_type": "stream",
     "text": [
      "<class 'pandas.core.frame.DataFrame'>\n",
      "RangeIndex: 76051 entries, 0 to 76050\n",
      "Data columns (total 3 columns):\n",
      " #   Column        Non-Null Count  Dtype \n",
      "---  ------        --------------  ----- \n",
      " 0   id            76051 non-null  object\n",
      " 1   user_id       76051 non-null  int64 \n",
      " 2   message_date  76051 non-null  object\n",
      "dtypes: int64(1), object(2)\n",
      "memory usage: 1.7+ MB\n"
     ]
    }
   ],
   "source": [
    "# Memampilkan informasi data\n",
    "df_messages.info()"
   ]
  },
  {
   "cell_type": "code",
   "execution_count": 26,
   "metadata": {
    "colab": {
     "base_uri": "https://localhost:8080/",
     "height": 300
    },
    "id": "lkA8G4lwNRYA",
    "outputId": "76be50e9-8f0f-489a-c34a-3efbcbed9dc6"
   },
   "outputs": [
    {
     "data": {
      "text/html": [
       "<div>\n",
       "<style scoped>\n",
       "    .dataframe tbody tr th:only-of-type {\n",
       "        vertical-align: middle;\n",
       "    }\n",
       "\n",
       "    .dataframe tbody tr th {\n",
       "        vertical-align: top;\n",
       "    }\n",
       "\n",
       "    .dataframe thead th {\n",
       "        text-align: right;\n",
       "    }\n",
       "</style>\n",
       "<table border=\"1\" class=\"dataframe\">\n",
       "  <thead>\n",
       "    <tr style=\"text-align: right;\">\n",
       "      <th></th>\n",
       "      <th>user_id</th>\n",
       "    </tr>\n",
       "  </thead>\n",
       "  <tbody>\n",
       "    <tr>\n",
       "      <th>count</th>\n",
       "      <td>76051.000000</td>\n",
       "    </tr>\n",
       "    <tr>\n",
       "      <th>mean</th>\n",
       "      <td>1245.972768</td>\n",
       "    </tr>\n",
       "    <tr>\n",
       "      <th>std</th>\n",
       "      <td>139.843635</td>\n",
       "    </tr>\n",
       "    <tr>\n",
       "      <th>min</th>\n",
       "      <td>1000.000000</td>\n",
       "    </tr>\n",
       "    <tr>\n",
       "      <th>25%</th>\n",
       "      <td>1123.000000</td>\n",
       "    </tr>\n",
       "    <tr>\n",
       "      <th>50%</th>\n",
       "      <td>1251.000000</td>\n",
       "    </tr>\n",
       "    <tr>\n",
       "      <th>75%</th>\n",
       "      <td>1362.000000</td>\n",
       "    </tr>\n",
       "    <tr>\n",
       "      <th>max</th>\n",
       "      <td>1497.000000</td>\n",
       "    </tr>\n",
       "  </tbody>\n",
       "</table>\n",
       "</div>"
      ],
      "text/plain": [
       "            user_id\n",
       "count  76051.000000\n",
       "mean    1245.972768\n",
       "std      139.843635\n",
       "min     1000.000000\n",
       "25%     1123.000000\n",
       "50%     1251.000000\n",
       "75%     1362.000000\n",
       "max     1497.000000"
      ]
     },
     "execution_count": 26,
     "metadata": {},
     "output_type": "execute_result"
    }
   ],
   "source": [
    "# Menampilkan statistik data\n",
    "df_messages.describe()"
   ]
  },
  {
   "cell_type": "markdown",
   "metadata": {
    "id": "vLYuIltrMwwI"
   },
   "source": [
    "Hasil pemeriksaan Data Messages:\n",
    "* Dataframe memiliki 76051 baris dan 3 kolom.\n",
    "* Tidak ada nilai yang hilang.\n",
    "* Kolom bulanan diperlukan untuk analisa jumlah pesan yang terkirim setiap bulannya."
   ]
  },
  {
   "cell_type": "markdown",
   "metadata": {
    "id": "EkJRhZ3hDyVv"
   },
   "source": [
    "<div class=\"alert alert-success\">\n",
    "<b>Chamdani's comment v.1</b> <a class=\"tocSkip\"></a>\n",
    "\n",
    "Kerja bagus!\n",
    "\n",
    "</div>"
   ]
  },
  {
   "cell_type": "markdown",
   "metadata": {
    "id": "aKKLDMFM2DTE"
   },
   "source": [
    "## 5.4 Data Plans\n",
    "Tabel plans (data paket telepon):\n",
    "* plan_name — nama paket telepon\n",
    "* usd_monthly_fee — biaya bulanan dalam dolar AS\n",
    "* minutes_included — alokasi menit panggilan bulanan\n",
    "* messages_included — alokasi SMS bulanan\n",
    "* mb_per_month_included — alokasi volume data bulanan (dalam megabita)\n",
    "* usd_per_minute — harga per menit jika telah melebihi batas alokasi paket (misalnya, jika paket memiliki alokasi 100 menit, maka penggunaan mulai dari menit ke-101 akan dikenakan biaya)\n",
    "* usd_per_message — harga per SMS jika telah melebihi batas alokasi paket\n",
    "* usd_per_gb — harga per ekstra gigabita data jika telah melebihi batas alokasi paket (1 GB = 1024 megabita)"
   ]
  },
  {
   "cell_type": "code",
   "execution_count": 27,
   "metadata": {
    "colab": {
     "base_uri": "https://localhost:8080/",
     "height": 112
    },
    "id": "b2pSFqYE2PZj",
    "outputId": "01c4fe53-246b-4b6d-daf3-3022dfed365f"
   },
   "outputs": [
    {
     "data": {
      "text/html": [
       "<div>\n",
       "<style scoped>\n",
       "    .dataframe tbody tr th:only-of-type {\n",
       "        vertical-align: middle;\n",
       "    }\n",
       "\n",
       "    .dataframe tbody tr th {\n",
       "        vertical-align: top;\n",
       "    }\n",
       "\n",
       "    .dataframe thead th {\n",
       "        text-align: right;\n",
       "    }\n",
       "</style>\n",
       "<table border=\"1\" class=\"dataframe\">\n",
       "  <thead>\n",
       "    <tr style=\"text-align: right;\">\n",
       "      <th></th>\n",
       "      <th>messages_included</th>\n",
       "      <th>mb_per_month_included</th>\n",
       "      <th>minutes_included</th>\n",
       "      <th>usd_monthly_pay</th>\n",
       "      <th>usd_per_gb</th>\n",
       "      <th>usd_per_message</th>\n",
       "      <th>usd_per_minute</th>\n",
       "      <th>plan_name</th>\n",
       "    </tr>\n",
       "  </thead>\n",
       "  <tbody>\n",
       "    <tr>\n",
       "      <th>0</th>\n",
       "      <td>50</td>\n",
       "      <td>15360</td>\n",
       "      <td>500</td>\n",
       "      <td>20</td>\n",
       "      <td>10</td>\n",
       "      <td>0.03</td>\n",
       "      <td>0.03</td>\n",
       "      <td>surf</td>\n",
       "    </tr>\n",
       "    <tr>\n",
       "      <th>1</th>\n",
       "      <td>1000</td>\n",
       "      <td>30720</td>\n",
       "      <td>3000</td>\n",
       "      <td>70</td>\n",
       "      <td>7</td>\n",
       "      <td>0.01</td>\n",
       "      <td>0.01</td>\n",
       "      <td>ultimate</td>\n",
       "    </tr>\n",
       "  </tbody>\n",
       "</table>\n",
       "</div>"
      ],
      "text/plain": [
       "   messages_included  mb_per_month_included  minutes_included  \\\n",
       "0                 50                  15360               500   \n",
       "1               1000                  30720              3000   \n",
       "\n",
       "   usd_monthly_pay  usd_per_gb  usd_per_message  usd_per_minute plan_name  \n",
       "0               20          10             0.03            0.03      surf  \n",
       "1               70           7             0.01            0.01  ultimate  "
      ]
     },
     "execution_count": 27,
     "metadata": {},
     "output_type": "execute_result"
    }
   ],
   "source": [
    "# Menampilkan data sampel\n",
    "df_plans.head()"
   ]
  },
  {
   "cell_type": "code",
   "execution_count": 28,
   "metadata": {
    "colab": {
     "base_uri": "https://localhost:8080/"
    },
    "id": "bPw4RE5GNmVw",
    "outputId": "7e36cdb8-e5ef-41e8-bba4-555f2f831707"
   },
   "outputs": [
    {
     "data": {
      "text/plain": [
       "(2, 8)"
      ]
     },
     "execution_count": 28,
     "metadata": {},
     "output_type": "execute_result"
    }
   ],
   "source": [
    "# Menghitung baris dan kolom dataframe\n",
    "df_plans.shape"
   ]
  },
  {
   "cell_type": "code",
   "execution_count": 29,
   "metadata": {
    "colab": {
     "base_uri": "https://localhost:8080/"
    },
    "id": "nmKKN1ncN4Rp",
    "outputId": "74b40e62-6163-498a-92a0-7fc82ab2e97b"
   },
   "outputs": [
    {
     "name": "stdout",
     "output_type": "stream",
     "text": [
      "<class 'pandas.core.frame.DataFrame'>\n",
      "RangeIndex: 2 entries, 0 to 1\n",
      "Data columns (total 8 columns):\n",
      " #   Column                 Non-Null Count  Dtype  \n",
      "---  ------                 --------------  -----  \n",
      " 0   messages_included      2 non-null      int64  \n",
      " 1   mb_per_month_included  2 non-null      int64  \n",
      " 2   minutes_included       2 non-null      int64  \n",
      " 3   usd_monthly_pay        2 non-null      int64  \n",
      " 4   usd_per_gb             2 non-null      int64  \n",
      " 5   usd_per_message        2 non-null      float64\n",
      " 6   usd_per_minute         2 non-null      float64\n",
      " 7   plan_name              2 non-null      object \n",
      "dtypes: float64(2), int64(5), object(1)\n",
      "memory usage: 256.0+ bytes\n"
     ]
    }
   ],
   "source": [
    "# Memampilkan informasi data\n",
    "df_plans.info()"
   ]
  },
  {
   "cell_type": "markdown",
   "metadata": {
    "id": "B068r2dCTQdk"
   },
   "source": [
    "Hasil pemeriksaan Data Messages:\n",
    "\n",
    "* Dataframe memiliki 2 baris dan 8 kolom.\n",
    "* Ada dua paket layanan yaitu : surf dan ultimate.\n",
    "* Tidak ada nilai yang hilang."
   ]
  },
  {
   "cell_type": "markdown",
   "metadata": {
    "id": "36jK8L-4DyVy"
   },
   "source": [
    "<div class=\"alert alert-success\">\n",
    "<b>Chamdani's comment v.1</b> <a class=\"tocSkip\"></a>\n",
    "\n",
    "Kerja bagus!\n",
    "\n",
    "</div>"
   ]
  },
  {
   "cell_type": "markdown",
   "metadata": {
    "id": "r48aIdZr2eA6"
   },
   "source": [
    "## 5.5 Data Users\n",
    "Tabel users (data pengguna):\n",
    "* user_id — ID pengguna\n",
    "* first_name — nama depan pengguna\n",
    "* last_name — nama belakang pengguna\n",
    "* age — usia pengguna (tahun)\n",
    "* reg_date — tanggal mulai berlangganan (dd, mm, yy)\n",
    "* churn_date — tanggal pengguna berhenti menggunakan layanan (jika nilainya hilang atau tidak ada, berarti paket layanan sedang digunakan saat data ini dibuat)\n",
    "* city — kota tempat tinggal pengguna\n",
    "* plan — nama paket telepon"
   ]
  },
  {
   "cell_type": "code",
   "execution_count": 30,
   "metadata": {
    "colab": {
     "base_uri": "https://localhost:8080/",
     "height": 206
    },
    "id": "mmfuWibT2mer",
    "outputId": "5bb55931-783f-4fda-a784-25b4e0e7587d"
   },
   "outputs": [
    {
     "data": {
      "text/html": [
       "<div>\n",
       "<style scoped>\n",
       "    .dataframe tbody tr th:only-of-type {\n",
       "        vertical-align: middle;\n",
       "    }\n",
       "\n",
       "    .dataframe tbody tr th {\n",
       "        vertical-align: top;\n",
       "    }\n",
       "\n",
       "    .dataframe thead th {\n",
       "        text-align: right;\n",
       "    }\n",
       "</style>\n",
       "<table border=\"1\" class=\"dataframe\">\n",
       "  <thead>\n",
       "    <tr style=\"text-align: right;\">\n",
       "      <th></th>\n",
       "      <th>user_id</th>\n",
       "      <th>first_name</th>\n",
       "      <th>last_name</th>\n",
       "      <th>age</th>\n",
       "      <th>city</th>\n",
       "      <th>reg_date</th>\n",
       "      <th>plan</th>\n",
       "      <th>churn_date</th>\n",
       "    </tr>\n",
       "  </thead>\n",
       "  <tbody>\n",
       "    <tr>\n",
       "      <th>0</th>\n",
       "      <td>1000</td>\n",
       "      <td>Anamaria</td>\n",
       "      <td>Bauer</td>\n",
       "      <td>45</td>\n",
       "      <td>Atlanta-Sandy Springs-Roswell, GA MSA</td>\n",
       "      <td>2018-12-24</td>\n",
       "      <td>ultimate</td>\n",
       "      <td>NaN</td>\n",
       "    </tr>\n",
       "    <tr>\n",
       "      <th>1</th>\n",
       "      <td>1001</td>\n",
       "      <td>Mickey</td>\n",
       "      <td>Wilkerson</td>\n",
       "      <td>28</td>\n",
       "      <td>Seattle-Tacoma-Bellevue, WA MSA</td>\n",
       "      <td>2018-08-13</td>\n",
       "      <td>surf</td>\n",
       "      <td>NaN</td>\n",
       "    </tr>\n",
       "    <tr>\n",
       "      <th>2</th>\n",
       "      <td>1002</td>\n",
       "      <td>Carlee</td>\n",
       "      <td>Hoffman</td>\n",
       "      <td>36</td>\n",
       "      <td>Las Vegas-Henderson-Paradise, NV MSA</td>\n",
       "      <td>2018-10-21</td>\n",
       "      <td>surf</td>\n",
       "      <td>NaN</td>\n",
       "    </tr>\n",
       "    <tr>\n",
       "      <th>3</th>\n",
       "      <td>1003</td>\n",
       "      <td>Reynaldo</td>\n",
       "      <td>Jenkins</td>\n",
       "      <td>52</td>\n",
       "      <td>Tulsa, OK MSA</td>\n",
       "      <td>2018-01-28</td>\n",
       "      <td>surf</td>\n",
       "      <td>NaN</td>\n",
       "    </tr>\n",
       "    <tr>\n",
       "      <th>4</th>\n",
       "      <td>1004</td>\n",
       "      <td>Leonila</td>\n",
       "      <td>Thompson</td>\n",
       "      <td>40</td>\n",
       "      <td>Seattle-Tacoma-Bellevue, WA MSA</td>\n",
       "      <td>2018-05-23</td>\n",
       "      <td>surf</td>\n",
       "      <td>NaN</td>\n",
       "    </tr>\n",
       "  </tbody>\n",
       "</table>\n",
       "</div>"
      ],
      "text/plain": [
       "   user_id first_name  last_name  age                                   city  \\\n",
       "0     1000   Anamaria      Bauer   45  Atlanta-Sandy Springs-Roswell, GA MSA   \n",
       "1     1001     Mickey  Wilkerson   28        Seattle-Tacoma-Bellevue, WA MSA   \n",
       "2     1002     Carlee    Hoffman   36   Las Vegas-Henderson-Paradise, NV MSA   \n",
       "3     1003   Reynaldo    Jenkins   52                          Tulsa, OK MSA   \n",
       "4     1004    Leonila   Thompson   40        Seattle-Tacoma-Bellevue, WA MSA   \n",
       "\n",
       "     reg_date      plan churn_date  \n",
       "0  2018-12-24  ultimate        NaN  \n",
       "1  2018-08-13      surf        NaN  \n",
       "2  2018-10-21      surf        NaN  \n",
       "3  2018-01-28      surf        NaN  \n",
       "4  2018-05-23      surf        NaN  "
      ]
     },
     "execution_count": 30,
     "metadata": {},
     "output_type": "execute_result"
    }
   ],
   "source": [
    "# Menampilkan sampel data\n",
    "df_users.head()"
   ]
  },
  {
   "cell_type": "code",
   "execution_count": 31,
   "metadata": {
    "colab": {
     "base_uri": "https://localhost:8080/"
    },
    "id": "fcwHkMtk2o8K",
    "outputId": "f17533ec-22de-45aa-97ab-3daa6de85052"
   },
   "outputs": [
    {
     "data": {
      "text/plain": [
       "(500, 8)"
      ]
     },
     "execution_count": 31,
     "metadata": {},
     "output_type": "execute_result"
    }
   ],
   "source": [
    "# Menghitung baris dan kolom dataframe\n",
    "df_users.shape"
   ]
  },
  {
   "cell_type": "code",
   "execution_count": 32,
   "metadata": {
    "colab": {
     "base_uri": "https://localhost:8080/"
    },
    "id": "PxI-follUU7b",
    "outputId": "ca9c157d-17aa-4553-bd01-376e45ae50e4"
   },
   "outputs": [
    {
     "name": "stdout",
     "output_type": "stream",
     "text": [
      "<class 'pandas.core.frame.DataFrame'>\n",
      "RangeIndex: 500 entries, 0 to 499\n",
      "Data columns (total 8 columns):\n",
      " #   Column      Non-Null Count  Dtype \n",
      "---  ------      --------------  ----- \n",
      " 0   user_id     500 non-null    int64 \n",
      " 1   first_name  500 non-null    object\n",
      " 2   last_name   500 non-null    object\n",
      " 3   age         500 non-null    int64 \n",
      " 4   city        500 non-null    object\n",
      " 5   reg_date    500 non-null    object\n",
      " 6   plan        500 non-null    object\n",
      " 7   churn_date  34 non-null     object\n",
      "dtypes: int64(2), object(6)\n",
      "memory usage: 31.4+ KB\n"
     ]
    }
   ],
   "source": [
    "# Memampilkan informasi data\n",
    "df_users.info()"
   ]
  },
  {
   "cell_type": "markdown",
   "metadata": {
    "id": "hKNRnaSiYV1u"
   },
   "source": [
    "Hasil pemeriksaan Data Users:\n",
    "* Dataframe memiliki 500 baris dan 8 kolom.\n",
    "* Ada nilai yang hilang pada kolom churn_date, sesuai penjelasan diatas bahwa paket layanan sedang digunakan ketika data ini dibuat.\n",
    "* Di langkah berikutnya nilai yang hilang ini diganti dengan string 'layanan sedang digunakan'."
   ]
  },
  {
   "cell_type": "markdown",
   "metadata": {
    "id": "RlTakYuCDyV0"
   },
   "source": [
    "<div class=\"alert alert-success\">\n",
    "<b>Chamdani's comment v.1</b> <a class=\"tocSkip\"></a>\n",
    "\n",
    "Kerja bagus!\n",
    "\n",
    "</div>"
   ]
  },
  {
   "cell_type": "markdown",
   "metadata": {
    "id": "NLQT08d5rd-E"
   },
   "source": [
    "# 6 Pra-pemrosesan Data\n",
    "\n",
    "\n"
   ]
  },
  {
   "cell_type": "markdown",
   "metadata": {
    "id": "Cmve0VGwefME"
   },
   "source": [
    "Untuk melakukan analisis yang baik, semua dataframe harus digabungkan menjadi satu kesatuan. Kolom data_users memiliki kolom 'user_id' dan 'plan' sebagai acuan (key) yang dapat menghubungkan semua dataframe.\n",
    "\n",
    "Selain itu diperlukan rentang waktu layanan yang menentukan periode penggunaan layanan.Layanan panggilan, SMS dan internet dihitung per bulan, dengan demikian bulan dapat dijadikan sebagai acuan yang lain untuk menghubungkan ketiga dataframe tersebut.\n",
    "\n",
    "Oleh karena ini pada langkah berikutnya adalah menambahkan kolom bulan untuk dataframe df_calls, df_messages, dan df_internet."
   ]
  },
  {
   "cell_type": "markdown",
   "metadata": {
    "id": "cXC_DKTRwhHQ"
   },
   "source": [
    "## 6.1 Menambah kolom bulan (month)"
   ]
  },
  {
   "cell_type": "markdown",
   "metadata": {
    "id": "8RA0zk4kwEEE"
   },
   "source": [
    "### 6.1.1 Kolom 'month' untuk pengelompokan per bulan"
   ]
  },
  {
   "cell_type": "code",
   "execution_count": 33,
   "metadata": {
    "id": "WTZPLad3uk2h"
   },
   "outputs": [],
   "source": [
    "# Menambahkan kolom bulanan untuk df_calls, df_messages, dan df_internet\n",
    "for df in [df_messages, df_calls, df_internet]:\n",
    "    for col in ['message_date','call_date','session_date']:\n",
    "        if col in df.columns:\n",
    "            df['month'] = (pd.to_datetime(df[col])).dt.to_period('M')\n"
   ]
  },
  {
   "cell_type": "code",
   "execution_count": 34,
   "metadata": {
    "colab": {
     "base_uri": "https://localhost:8080/",
     "height": 206
    },
    "id": "yH0munJyt_bA",
    "outputId": "277ae718-4487-4086-e059-7dd884324f8f"
   },
   "outputs": [
    {
     "data": {
      "text/html": [
       "<div>\n",
       "<style scoped>\n",
       "    .dataframe tbody tr th:only-of-type {\n",
       "        vertical-align: middle;\n",
       "    }\n",
       "\n",
       "    .dataframe tbody tr th {\n",
       "        vertical-align: top;\n",
       "    }\n",
       "\n",
       "    .dataframe thead th {\n",
       "        text-align: right;\n",
       "    }\n",
       "</style>\n",
       "<table border=\"1\" class=\"dataframe\">\n",
       "  <thead>\n",
       "    <tr style=\"text-align: right;\">\n",
       "      <th></th>\n",
       "      <th>id</th>\n",
       "      <th>user_id</th>\n",
       "      <th>call_date</th>\n",
       "      <th>duration</th>\n",
       "      <th>month</th>\n",
       "    </tr>\n",
       "  </thead>\n",
       "  <tbody>\n",
       "    <tr>\n",
       "      <th>0</th>\n",
       "      <td>1000_93</td>\n",
       "      <td>1000</td>\n",
       "      <td>2018-12-27</td>\n",
       "      <td>8.52</td>\n",
       "      <td>2018-12</td>\n",
       "    </tr>\n",
       "    <tr>\n",
       "      <th>1</th>\n",
       "      <td>1000_145</td>\n",
       "      <td>1000</td>\n",
       "      <td>2018-12-27</td>\n",
       "      <td>13.66</td>\n",
       "      <td>2018-12</td>\n",
       "    </tr>\n",
       "    <tr>\n",
       "      <th>2</th>\n",
       "      <td>1000_247</td>\n",
       "      <td>1000</td>\n",
       "      <td>2018-12-27</td>\n",
       "      <td>14.48</td>\n",
       "      <td>2018-12</td>\n",
       "    </tr>\n",
       "    <tr>\n",
       "      <th>3</th>\n",
       "      <td>1000_309</td>\n",
       "      <td>1000</td>\n",
       "      <td>2018-12-28</td>\n",
       "      <td>5.76</td>\n",
       "      <td>2018-12</td>\n",
       "    </tr>\n",
       "    <tr>\n",
       "      <th>4</th>\n",
       "      <td>1000_380</td>\n",
       "      <td>1000</td>\n",
       "      <td>2018-12-30</td>\n",
       "      <td>4.22</td>\n",
       "      <td>2018-12</td>\n",
       "    </tr>\n",
       "  </tbody>\n",
       "</table>\n",
       "</div>"
      ],
      "text/plain": [
       "         id  user_id   call_date  duration    month\n",
       "0   1000_93     1000  2018-12-27      8.52  2018-12\n",
       "1  1000_145     1000  2018-12-27     13.66  2018-12\n",
       "2  1000_247     1000  2018-12-27     14.48  2018-12\n",
       "3  1000_309     1000  2018-12-28      5.76  2018-12\n",
       "4  1000_380     1000  2018-12-30      4.22  2018-12"
      ]
     },
     "execution_count": 34,
     "metadata": {},
     "output_type": "execute_result"
    }
   ],
   "source": [
    "# Memeriksa kolom month yang telah dibuat di df_calls\n",
    "df_calls.head()"
   ]
  },
  {
   "cell_type": "markdown",
   "metadata": {
    "id": "cpp74yLrDyV3"
   },
   "source": [
    "<div class=\"alert alert-success\">\n",
    "<b>Chamdani's comment v.1</b> <a class=\"tocSkip\"></a>\n",
    "\n",
    "Excellent!\n",
    "\n",
    "</div>"
   ]
  },
  {
   "cell_type": "code",
   "execution_count": 35,
   "metadata": {
    "colab": {
     "base_uri": "https://localhost:8080/",
     "height": 206
    },
    "id": "rYTY1fPvx6C1",
    "outputId": "7fc9797d-1db4-4aed-efea-90946bd541ac"
   },
   "outputs": [
    {
     "data": {
      "text/html": [
       "<div>\n",
       "<style scoped>\n",
       "    .dataframe tbody tr th:only-of-type {\n",
       "        vertical-align: middle;\n",
       "    }\n",
       "\n",
       "    .dataframe tbody tr th {\n",
       "        vertical-align: top;\n",
       "    }\n",
       "\n",
       "    .dataframe thead th {\n",
       "        text-align: right;\n",
       "    }\n",
       "</style>\n",
       "<table border=\"1\" class=\"dataframe\">\n",
       "  <thead>\n",
       "    <tr style=\"text-align: right;\">\n",
       "      <th></th>\n",
       "      <th>id</th>\n",
       "      <th>user_id</th>\n",
       "      <th>message_date</th>\n",
       "      <th>month</th>\n",
       "    </tr>\n",
       "  </thead>\n",
       "  <tbody>\n",
       "    <tr>\n",
       "      <th>0</th>\n",
       "      <td>1000_125</td>\n",
       "      <td>1000</td>\n",
       "      <td>2018-12-27</td>\n",
       "      <td>2018-12</td>\n",
       "    </tr>\n",
       "    <tr>\n",
       "      <th>1</th>\n",
       "      <td>1000_160</td>\n",
       "      <td>1000</td>\n",
       "      <td>2018-12-31</td>\n",
       "      <td>2018-12</td>\n",
       "    </tr>\n",
       "    <tr>\n",
       "      <th>2</th>\n",
       "      <td>1000_223</td>\n",
       "      <td>1000</td>\n",
       "      <td>2018-12-31</td>\n",
       "      <td>2018-12</td>\n",
       "    </tr>\n",
       "    <tr>\n",
       "      <th>3</th>\n",
       "      <td>1000_251</td>\n",
       "      <td>1000</td>\n",
       "      <td>2018-12-27</td>\n",
       "      <td>2018-12</td>\n",
       "    </tr>\n",
       "    <tr>\n",
       "      <th>4</th>\n",
       "      <td>1000_255</td>\n",
       "      <td>1000</td>\n",
       "      <td>2018-12-26</td>\n",
       "      <td>2018-12</td>\n",
       "    </tr>\n",
       "  </tbody>\n",
       "</table>\n",
       "</div>"
      ],
      "text/plain": [
       "         id  user_id message_date    month\n",
       "0  1000_125     1000   2018-12-27  2018-12\n",
       "1  1000_160     1000   2018-12-31  2018-12\n",
       "2  1000_223     1000   2018-12-31  2018-12\n",
       "3  1000_251     1000   2018-12-27  2018-12\n",
       "4  1000_255     1000   2018-12-26  2018-12"
      ]
     },
     "execution_count": 35,
     "metadata": {},
     "output_type": "execute_result"
    }
   ],
   "source": [
    "# Memeriksa kolom month yang telah dibuat di df_messages\n",
    "df_messages.head()"
   ]
  },
  {
   "cell_type": "code",
   "execution_count": 36,
   "metadata": {
    "colab": {
     "base_uri": "https://localhost:8080/",
     "height": 206
    },
    "id": "-ufWjVtxDyV4",
    "outputId": "b99aed74-abe6-4023-b4c5-a3bebc3b2e0c"
   },
   "outputs": [
    {
     "data": {
      "text/html": [
       "<div>\n",
       "<style scoped>\n",
       "    .dataframe tbody tr th:only-of-type {\n",
       "        vertical-align: middle;\n",
       "    }\n",
       "\n",
       "    .dataframe tbody tr th {\n",
       "        vertical-align: top;\n",
       "    }\n",
       "\n",
       "    .dataframe thead th {\n",
       "        text-align: right;\n",
       "    }\n",
       "</style>\n",
       "<table border=\"1\" class=\"dataframe\">\n",
       "  <thead>\n",
       "    <tr style=\"text-align: right;\">\n",
       "      <th></th>\n",
       "      <th>id</th>\n",
       "      <th>user_id</th>\n",
       "      <th>session_date</th>\n",
       "      <th>mb_used</th>\n",
       "      <th>month</th>\n",
       "    </tr>\n",
       "  </thead>\n",
       "  <tbody>\n",
       "    <tr>\n",
       "      <th>0</th>\n",
       "      <td>1000_13</td>\n",
       "      <td>1000</td>\n",
       "      <td>2018-12-29</td>\n",
       "      <td>89.86</td>\n",
       "      <td>2018-12</td>\n",
       "    </tr>\n",
       "    <tr>\n",
       "      <th>1</th>\n",
       "      <td>1000_204</td>\n",
       "      <td>1000</td>\n",
       "      <td>2018-12-31</td>\n",
       "      <td>0.00</td>\n",
       "      <td>2018-12</td>\n",
       "    </tr>\n",
       "    <tr>\n",
       "      <th>2</th>\n",
       "      <td>1000_379</td>\n",
       "      <td>1000</td>\n",
       "      <td>2018-12-28</td>\n",
       "      <td>660.40</td>\n",
       "      <td>2018-12</td>\n",
       "    </tr>\n",
       "    <tr>\n",
       "      <th>3</th>\n",
       "      <td>1000_413</td>\n",
       "      <td>1000</td>\n",
       "      <td>2018-12-26</td>\n",
       "      <td>270.99</td>\n",
       "      <td>2018-12</td>\n",
       "    </tr>\n",
       "    <tr>\n",
       "      <th>4</th>\n",
       "      <td>1000_442</td>\n",
       "      <td>1000</td>\n",
       "      <td>2018-12-27</td>\n",
       "      <td>880.22</td>\n",
       "      <td>2018-12</td>\n",
       "    </tr>\n",
       "  </tbody>\n",
       "</table>\n",
       "</div>"
      ],
      "text/plain": [
       "         id  user_id session_date  mb_used    month\n",
       "0   1000_13     1000   2018-12-29    89.86  2018-12\n",
       "1  1000_204     1000   2018-12-31     0.00  2018-12\n",
       "2  1000_379     1000   2018-12-28   660.40  2018-12\n",
       "3  1000_413     1000   2018-12-26   270.99  2018-12\n",
       "4  1000_442     1000   2018-12-27   880.22  2018-12"
      ]
     },
     "execution_count": 36,
     "metadata": {},
     "output_type": "execute_result"
    }
   ],
   "source": [
    "# Memeriksa kolom month yang telah dibuat di df_internet\n",
    "df_internet.head()"
   ]
  },
  {
   "cell_type": "markdown",
   "metadata": {
    "id": "bYmZMSAYDyV4"
   },
   "source": [
    "<div class=\"alert alert-warning\">\n",
    "<b>Chamdani's comment v.1</b> <a class=\"tocSkip\"></a>\n",
    "\n",
    "Kerja bagus!, Namun tolong jangan gunakan print untuk mencetak dataframe. cukup cetak masing2 dataframe pada cell kode yang berbeda\n",
    "\n",
    "</div>"
   ]
  },
  {
   "cell_type": "markdown",
   "metadata": {
    "id": "d1UxJWgxDyV6"
   },
   "source": [
    "<div class=\"alert alert-success\">\n",
    "<b>Chamdani's comment v.2</b> <a class=\"tocSkip\"></a>\n",
    "\n",
    "Kerja bagus!\n",
    "\n",
    "</div>"
   ]
  },
  {
   "cell_type": "markdown",
   "metadata": {
    "id": "6Oxi9P5HwprI"
   },
   "source": [
    "### 6.1.2 Mengubah tipe data untuk dataframe df_users"
   ]
  },
  {
   "cell_type": "code",
   "execution_count": 37,
   "metadata": {
    "id": "cGE19XuD1sva"
   },
   "outputs": [],
   "source": [
    "# Mengubah tipe data pada kolom 'reg_date' dan 'churn_date'\n",
    "for col in ['reg_date','churn_date']:\n",
    "  df_users[col] = pd.to_datetime(df_users[col])"
   ]
  },
  {
   "cell_type": "code",
   "execution_count": 38,
   "metadata": {
    "colab": {
     "base_uri": "https://localhost:8080/"
    },
    "id": "rlahd4li2cAw",
    "outputId": "185c4705-abf3-4e15-aec3-0c1dbdf24d3f"
   },
   "outputs": [
    {
     "name": "stdout",
     "output_type": "stream",
     "text": [
      "Tipe data reg_date adalah datetime64[ns]\n",
      "Tipe data churn_date adalah datetime64[ns]\n"
     ]
    }
   ],
   "source": [
    "# Memeriksa tipe data pada kolom 'reg_date' dan 'churn_date'\n",
    "for col in ['reg_date','churn_date']:\n",
    "  print('Tipe data {} adalah {}'.format(col, df_users[col].dtypes))"
   ]
  },
  {
   "cell_type": "markdown",
   "metadata": {
    "id": "d1UxJWgxDyV6"
   },
   "source": [
    "<div class=\"alert alert-success\">\n",
    "<b>Chamdani's comment v.1</b> <a class=\"tocSkip\"></a>\n",
    "\n",
    "Kerja bagus!\n",
    "\n",
    "</div>"
   ]
  },
  {
   "cell_type": "markdown",
   "metadata": {
    "id": "zi91KUIXSWES"
   },
   "source": [
    "## 6.2 Kolom Nama Kota\n"
   ]
  },
  {
   "cell_type": "code",
   "execution_count": 39,
   "metadata": {
    "colab": {
     "base_uri": "https://localhost:8080/"
    },
    "id": "jGC8raNzb3QV",
    "outputId": "363ed911-77e4-4d6b-d1ef-4e46c8489827",
    "scrolled": true
   },
   "outputs": [
    {
     "data": {
      "text/plain": [
       "array(['Atlanta-Sandy Springs-Roswell, GA MSA',\n",
       "       'Seattle-Tacoma-Bellevue, WA MSA',\n",
       "       'Las Vegas-Henderson-Paradise, NV MSA', 'Tulsa, OK MSA',\n",
       "       'Dallas-Fort Worth-Arlington, TX MSA',\n",
       "       'San Francisco-Oakland-Berkeley, CA MSA',\n",
       "       'Grand Rapids-Kentwood, MI MSA',\n",
       "       'Orlando-Kissimmee-Sanford, FL MSA',\n",
       "       'San Jose-Sunnyvale-Santa Clara, CA MSA',\n",
       "       'Cleveland-Elyria, OH MSA',\n",
       "       'Chicago-Naperville-Elgin, IL-IN-WI MSA', 'Knoxville, TN MSA',\n",
       "       'New York-Newark-Jersey City, NY-NJ-PA MSA', 'Pittsburgh, PA MSA',\n",
       "       'Fresno, CA MSA',\n",
       "       'Washington-Arlington-Alexandria, DC-VA-MD-WV MSA',\n",
       "       'Indianapolis-Carmel-Anderson, IN MSA', 'Jacksonville, FL MSA',\n",
       "       'Los Angeles-Long Beach-Anaheim, CA MSA',\n",
       "       'Omaha-Council Bluffs, NE-IA MSA',\n",
       "       'Houston-The Woodlands-Sugar Land, TX MSA',\n",
       "       'Philadelphia-Camden-Wilmington, PA-NJ-DE-MD MSA',\n",
       "       'Tampa-St. Petersburg-Clearwater, FL MSA',\n",
       "       'Birmingham-Hoover, AL MSA', 'Oklahoma City, OK MSA',\n",
       "       'Charlotte-Concord-Gastonia, NC-SC MSA',\n",
       "       'Denver-Aurora-Lakewood, CO MSA',\n",
       "       'Nashville-Davidson–Murfreesboro–Franklin, TN MSA',\n",
       "       'Columbus, OH MSA', 'Albuquerque, NM MSA',\n",
       "       'Boston-Cambridge-Newton, MA-NH MSA',\n",
       "       'Miami-Fort Lauderdale-West Palm Beach, FL MSA',\n",
       "       'San Diego-Chula Vista-Carlsbad, CA MSA',\n",
       "       'Phoenix-Mesa-Chandler, AZ MSA',\n",
       "       'Portland-Vancouver-Hillsboro, OR-WA MSA',\n",
       "       'Cincinnati, OH-KY-IN MSA', 'Columbia, SC MSA',\n",
       "       'San Antonio-New Braunfels, TX MSA', 'Buffalo-Cheektowaga, NY MSA',\n",
       "       'Memphis, TN-MS-AR MSA',\n",
       "       'Riverside-San Bernardino-Ontario, CA MSA',\n",
       "       'Louisville/Jefferson County, KY-IN MSA',\n",
       "       'Albany-Schenectady-Troy, NY MSA', 'Providence-Warwick, RI-MA MSA',\n",
       "       'Salt Lake City, UT MSA', 'Urban Honolulu, HI MSA',\n",
       "       'El Paso, TX MSA', 'New Haven-Milford, CT MSA',\n",
       "       'North Port-Sarasota-Bradenton, FL MSA', 'Baton Rouge, LA MSA',\n",
       "       'New Orleans-Metairie, LA MSA',\n",
       "       'Bridgeport-Stamford-Norwalk, CT MSA',\n",
       "       'Virginia Beach-Norfolk-Newport News, VA-NC MSA',\n",
       "       'Baltimore-Columbia-Towson, MD MSA', 'Milwaukee-Waukesha, WI MSA',\n",
       "       'Oxnard-Thousand Oaks-Ventura, CA MSA',\n",
       "       'Sacramento–Roseville–Folsom, CA MSA',\n",
       "       'Austin-Round Rock-Georgetown, TX MSA', 'Richmond, VA MSA',\n",
       "       'St. Louis, MO-IL MSA',\n",
       "       'Minneapolis-St. Paul-Bloomington, MN-WI MSA',\n",
       "       'Dayton-Kettering, OH MSA', 'Bakersfield, CA MSA',\n",
       "       'Detroit-Warren-Dearborn, MI MSA', 'Kansas City, MO-KS MSA',\n",
       "       'Charleston-North Charleston, SC MSA', 'Rochester, NY MSA',\n",
       "       'Raleigh-Cary, NC MSA', 'Colorado Springs, CO MSA',\n",
       "       'Greensboro-High Point, NC MSA', 'Tucson, AZ MSA',\n",
       "       'Stockton, CA MSA', 'Cape Coral-Fort Myers, FL MSA'], dtype=object)"
      ]
     },
     "execution_count": 39,
     "metadata": {},
     "output_type": "execute_result"
    }
   ],
   "source": [
    "# Menampilkan nama unik di kolom kota\n",
    "df_users.city.unique()"
   ]
  },
  {
   "cell_type": "code",
   "execution_count": 40,
   "metadata": {
    "colab": {
     "base_uri": "https://localhost:8080/",
     "height": 143
    },
    "id": "mCkcZYG1cEhX",
    "outputId": "d7180657-0407-44c4-c3d4-22ce15801476"
   },
   "outputs": [
    {
     "data": {
      "text/html": [
       "<div>\n",
       "<style scoped>\n",
       "    .dataframe tbody tr th:only-of-type {\n",
       "        vertical-align: middle;\n",
       "    }\n",
       "\n",
       "    .dataframe tbody tr th {\n",
       "        vertical-align: top;\n",
       "    }\n",
       "\n",
       "    .dataframe thead th {\n",
       "        text-align: right;\n",
       "    }\n",
       "</style>\n",
       "<table border=\"1\" class=\"dataframe\">\n",
       "  <thead>\n",
       "    <tr style=\"text-align: right;\">\n",
       "      <th></th>\n",
       "      <th>user_id</th>\n",
       "      <th>first_name</th>\n",
       "      <th>last_name</th>\n",
       "      <th>age</th>\n",
       "      <th>city</th>\n",
       "      <th>reg_date</th>\n",
       "      <th>plan</th>\n",
       "      <th>churn_date</th>\n",
       "      <th>city_abb</th>\n",
       "    </tr>\n",
       "  </thead>\n",
       "  <tbody>\n",
       "    <tr>\n",
       "      <th>0</th>\n",
       "      <td>1000</td>\n",
       "      <td>Anamaria</td>\n",
       "      <td>Bauer</td>\n",
       "      <td>45</td>\n",
       "      <td>Atlanta-Sandy Springs-Roswell, GA MSA</td>\n",
       "      <td>2018-12-24</td>\n",
       "      <td>ultimate</td>\n",
       "      <td>NaT</td>\n",
       "      <td>GA</td>\n",
       "    </tr>\n",
       "    <tr>\n",
       "      <th>1</th>\n",
       "      <td>1001</td>\n",
       "      <td>Mickey</td>\n",
       "      <td>Wilkerson</td>\n",
       "      <td>28</td>\n",
       "      <td>Seattle-Tacoma-Bellevue, WA MSA</td>\n",
       "      <td>2018-08-13</td>\n",
       "      <td>surf</td>\n",
       "      <td>NaT</td>\n",
       "      <td>WA</td>\n",
       "    </tr>\n",
       "    <tr>\n",
       "      <th>2</th>\n",
       "      <td>1002</td>\n",
       "      <td>Carlee</td>\n",
       "      <td>Hoffman</td>\n",
       "      <td>36</td>\n",
       "      <td>Las Vegas-Henderson-Paradise, NV MSA</td>\n",
       "      <td>2018-10-21</td>\n",
       "      <td>surf</td>\n",
       "      <td>NaT</td>\n",
       "      <td>NV</td>\n",
       "    </tr>\n",
       "  </tbody>\n",
       "</table>\n",
       "</div>"
      ],
      "text/plain": [
       "   user_id first_name  last_name  age                                   city  \\\n",
       "0     1000   Anamaria      Bauer   45  Atlanta-Sandy Springs-Roswell, GA MSA   \n",
       "1     1001     Mickey  Wilkerson   28        Seattle-Tacoma-Bellevue, WA MSA   \n",
       "2     1002     Carlee    Hoffman   36   Las Vegas-Henderson-Paradise, NV MSA   \n",
       "\n",
       "    reg_date      plan churn_date city_abb  \n",
       "0 2018-12-24  ultimate        NaT       GA  \n",
       "1 2018-08-13      surf        NaT       WA  \n",
       "2 2018-10-21      surf        NaT       NV  "
      ]
     },
     "execution_count": 40,
     "metadata": {},
     "output_type": "execute_result"
    }
   ],
   "source": [
    "# Membuat kolom baru yang hanya menampilkan singkatan nama kota\n",
    "df_users['city_abb'] = df_users['city'].str.split(', ').str[1]\n",
    "df_users['city_abb'] = df_users['city_abb'].str.replace(' MSA', '')\n",
    "df_users.head(3)"
   ]
  },
  {
   "cell_type": "code",
   "execution_count": 41,
   "metadata": {
    "colab": {
     "base_uri": "https://localhost:8080/",
     "height": 143
    },
    "id": "EuYJaO-QdX1O",
    "outputId": "64ccd9cf-5806-48a7-c88b-db69be74fdf1",
    "scrolled": true
   },
   "outputs": [
    {
     "data": {
      "text/html": [
       "<div>\n",
       "<style scoped>\n",
       "    .dataframe tbody tr th:only-of-type {\n",
       "        vertical-align: middle;\n",
       "    }\n",
       "\n",
       "    .dataframe tbody tr th {\n",
       "        vertical-align: top;\n",
       "    }\n",
       "\n",
       "    .dataframe thead th {\n",
       "        text-align: right;\n",
       "    }\n",
       "</style>\n",
       "<table border=\"1\" class=\"dataframe\">\n",
       "  <thead>\n",
       "    <tr style=\"text-align: right;\">\n",
       "      <th></th>\n",
       "      <th>user_id</th>\n",
       "      <th>first_name</th>\n",
       "      <th>last_name</th>\n",
       "      <th>age</th>\n",
       "      <th>city</th>\n",
       "      <th>reg_date</th>\n",
       "      <th>plan</th>\n",
       "      <th>churn_date</th>\n",
       "      <th>city_abb</th>\n",
       "      <th>is_ny_nj</th>\n",
       "    </tr>\n",
       "  </thead>\n",
       "  <tbody>\n",
       "    <tr>\n",
       "      <th>0</th>\n",
       "      <td>1000</td>\n",
       "      <td>Anamaria</td>\n",
       "      <td>Bauer</td>\n",
       "      <td>45</td>\n",
       "      <td>Atlanta-Sandy Springs-Roswell, GA MSA</td>\n",
       "      <td>2018-12-24</td>\n",
       "      <td>ultimate</td>\n",
       "      <td>NaT</td>\n",
       "      <td>GA</td>\n",
       "      <td>False</td>\n",
       "    </tr>\n",
       "    <tr>\n",
       "      <th>1</th>\n",
       "      <td>1001</td>\n",
       "      <td>Mickey</td>\n",
       "      <td>Wilkerson</td>\n",
       "      <td>28</td>\n",
       "      <td>Seattle-Tacoma-Bellevue, WA MSA</td>\n",
       "      <td>2018-08-13</td>\n",
       "      <td>surf</td>\n",
       "      <td>NaT</td>\n",
       "      <td>WA</td>\n",
       "      <td>False</td>\n",
       "    </tr>\n",
       "    <tr>\n",
       "      <th>2</th>\n",
       "      <td>1002</td>\n",
       "      <td>Carlee</td>\n",
       "      <td>Hoffman</td>\n",
       "      <td>36</td>\n",
       "      <td>Las Vegas-Henderson-Paradise, NV MSA</td>\n",
       "      <td>2018-10-21</td>\n",
       "      <td>surf</td>\n",
       "      <td>NaT</td>\n",
       "      <td>NV</td>\n",
       "      <td>False</td>\n",
       "    </tr>\n",
       "  </tbody>\n",
       "</table>\n",
       "</div>"
      ],
      "text/plain": [
       "   user_id first_name  last_name  age                                   city  \\\n",
       "0     1000   Anamaria      Bauer   45  Atlanta-Sandy Springs-Roswell, GA MSA   \n",
       "1     1001     Mickey  Wilkerson   28        Seattle-Tacoma-Bellevue, WA MSA   \n",
       "2     1002     Carlee    Hoffman   36   Las Vegas-Henderson-Paradise, NV MSA   \n",
       "\n",
       "    reg_date      plan churn_date city_abb  is_ny_nj  \n",
       "0 2018-12-24  ultimate        NaT       GA     False  \n",
       "1 2018-08-13      surf        NaT       WA     False  \n",
       "2 2018-10-21      surf        NaT       NV     False  "
      ]
     },
     "execution_count": 41,
     "metadata": {},
     "output_type": "execute_result"
    }
   ],
   "source": [
    "# Menandai kota NY-NJ dan kota yang lain\n",
    "df_users['is_ny_nj'] = df_users['city_abb'].str.contains('NY-NJ', regex=True)\n",
    "df_users.head(3)"
   ]
  },
  {
   "cell_type": "markdown",
   "metadata": {
    "id": "kXkY9gfiDyV8"
   },
   "source": [
    "<div class=\"alert alert-success\">\n",
    "<b>Chamdani's comment v.1</b> <a class=\"tocSkip\"></a>\n",
    "\n",
    "Kerja bagus!\n",
    "\n",
    "</div>"
   ]
  },
  {
   "cell_type": "markdown",
   "metadata": {
    "id": "hL6BxfxBwTgI"
   },
   "source": [
    "## 6.3 Nilai yang Hilang"
   ]
  },
  {
   "cell_type": "code",
   "execution_count": 42,
   "metadata": {
    "colab": {
     "base_uri": "https://localhost:8080/"
    },
    "id": "AFKTa5oQTZ_L",
    "outputId": "a5ac2d40-e99f-4209-ae5d-cb1bdb49e386"
   },
   "outputs": [
    {
     "data": {
      "text/plain": [
       "466"
      ]
     },
     "execution_count": 42,
     "metadata": {},
     "output_type": "execute_result"
    }
   ],
   "source": [
    "# Memeriksa nilai yang hilang pada kolom 'churn_date'\n",
    "df_users['churn_date'].isna().sum()"
   ]
  },
  {
   "cell_type": "markdown",
   "metadata": {
    "id": "UVjC0d1pTl7B"
   },
   "source": [
    "Nilai yang hilang hanya ada pada kolom churn_date (tanggal berhenti layanan) di dataframe df_users sebanyak 466, ini berarti layanan ini sedang digunakan sesuai dengan keterangan sebelumnya. Dengan demikian nilai hilang atau null ini dibiarkan saja."
   ]
  },
  {
   "cell_type": "markdown",
   "metadata": {
    "id": "zZZQq6HjDyV9"
   },
   "source": [
    "<div class=\"alert alert-success\">\n",
    "<b>Chamdani's comment v.1</b> <a class=\"tocSkip\"></a>\n",
    "\n",
    "Kerja bagus!\n",
    "\n",
    "</div>"
   ]
  },
  {
   "cell_type": "markdown",
   "metadata": {
    "id": "vaF2h3gjwaJe"
   },
   "source": [
    "## 6.4 Duplikat"
   ]
  },
  {
   "cell_type": "code",
   "execution_count": 43,
   "metadata": {
    "colab": {
     "base_uri": "https://localhost:8080/"
    },
    "id": "x27DaFsZVSu3",
    "outputId": "c7d345e8-b35d-4bd3-b707-e27cf3c34409",
    "scrolled": true
   },
   "outputs": [
    {
     "name": "stdout",
     "output_type": "stream",
     "text": [
      "Jumlah nilai yang hilang pada dataframe df_users adalah None\n",
      "Jumlah nilai yang hilang pada dataframe df_messages adalah None\n",
      "Jumlah nilai yang hilang pada dataframe df_calls adalah None\n",
      "Jumlah nilai yang hilang pada dataframe df_internet adalah None\n"
     ]
    }
   ],
   "source": [
    "# Memeriksa duplikat pada semua dataframe\n",
    "nilai_hilang = []\n",
    "daftar_df = [df_users, df_messages, df_calls, df_internet]\n",
    "nama_df = ['df_users', 'df_messages', 'df_calls', 'df_internet']\n",
    "for df, nama_df in zip(daftar_df, nama_df):\n",
    "  print('Jumlah nilai yang hilang pada dataframe {} adalah {}'.format(nama_df,nilai_hilang.append(df.duplicated().sum())))"
   ]
  },
  {
   "cell_type": "markdown",
   "metadata": {
    "id": "UTxg2gToDyV-"
   },
   "source": [
    "<div class=\"alert alert-success\">\n",
    "<b>Chamdani's comment v.1</b> <a class=\"tocSkip\"></a>\n",
    "\n",
    "Kerja bagus!\n",
    "\n",
    "</div>"
   ]
  },
  {
   "cell_type": "markdown",
   "metadata": {
    "id": "1qjCwSyemwgx"
   },
   "source": [
    "## 6.5 Akumulasi Bulanan"
   ]
  },
  {
   "cell_type": "markdown",
   "metadata": {
    "id": "kbMYdq5J9yaR"
   },
   "source": [
    "Pada bagian ini **Panggilan**, **SMS** dan **Volume Data** digabung (aggregate) dalam akumulasi bulanan untuk setiap pengguna."
   ]
  },
  {
   "cell_type": "markdown",
   "metadata": {
    "id": "hu0kPzdusJH2"
   },
   "source": [
    "### 6.5.1 Panggilan per Bulan"
   ]
  },
  {
   "cell_type": "code",
   "execution_count": 44,
   "metadata": {
    "colab": {
     "base_uri": "https://localhost:8080/",
     "height": 206
    },
    "id": "xyy27BlW0BVZ",
    "outputId": "e97d267b-6df3-4480-8d66-b61616905225"
   },
   "outputs": [
    {
     "data": {
      "text/html": [
       "<div>\n",
       "<style scoped>\n",
       "    .dataframe tbody tr th:only-of-type {\n",
       "        vertical-align: middle;\n",
       "    }\n",
       "\n",
       "    .dataframe tbody tr th {\n",
       "        vertical-align: top;\n",
       "    }\n",
       "\n",
       "    .dataframe thead th {\n",
       "        text-align: right;\n",
       "    }\n",
       "</style>\n",
       "<table border=\"1\" class=\"dataframe\">\n",
       "  <thead>\n",
       "    <tr style=\"text-align: right;\">\n",
       "      <th></th>\n",
       "      <th>id</th>\n",
       "      <th>user_id</th>\n",
       "      <th>call_date</th>\n",
       "      <th>duration</th>\n",
       "      <th>month</th>\n",
       "      <th>duration_minutes</th>\n",
       "    </tr>\n",
       "  </thead>\n",
       "  <tbody>\n",
       "    <tr>\n",
       "      <th>0</th>\n",
       "      <td>1000_93</td>\n",
       "      <td>1000</td>\n",
       "      <td>2018-12-27</td>\n",
       "      <td>8.52</td>\n",
       "      <td>2018-12</td>\n",
       "      <td>9</td>\n",
       "    </tr>\n",
       "    <tr>\n",
       "      <th>1</th>\n",
       "      <td>1000_145</td>\n",
       "      <td>1000</td>\n",
       "      <td>2018-12-27</td>\n",
       "      <td>13.66</td>\n",
       "      <td>2018-12</td>\n",
       "      <td>14</td>\n",
       "    </tr>\n",
       "    <tr>\n",
       "      <th>2</th>\n",
       "      <td>1000_247</td>\n",
       "      <td>1000</td>\n",
       "      <td>2018-12-27</td>\n",
       "      <td>14.48</td>\n",
       "      <td>2018-12</td>\n",
       "      <td>15</td>\n",
       "    </tr>\n",
       "    <tr>\n",
       "      <th>3</th>\n",
       "      <td>1000_309</td>\n",
       "      <td>1000</td>\n",
       "      <td>2018-12-28</td>\n",
       "      <td>5.76</td>\n",
       "      <td>2018-12</td>\n",
       "      <td>6</td>\n",
       "    </tr>\n",
       "    <tr>\n",
       "      <th>4</th>\n",
       "      <td>1000_380</td>\n",
       "      <td>1000</td>\n",
       "      <td>2018-12-30</td>\n",
       "      <td>4.22</td>\n",
       "      <td>2018-12</td>\n",
       "      <td>5</td>\n",
       "    </tr>\n",
       "  </tbody>\n",
       "</table>\n",
       "</div>"
      ],
      "text/plain": [
       "         id  user_id   call_date  duration    month  duration_minutes\n",
       "0   1000_93     1000  2018-12-27      8.52  2018-12                 9\n",
       "1  1000_145     1000  2018-12-27     13.66  2018-12                14\n",
       "2  1000_247     1000  2018-12-27     14.48  2018-12                15\n",
       "3  1000_309     1000  2018-12-28      5.76  2018-12                 6\n",
       "4  1000_380     1000  2018-12-30      4.22  2018-12                 5"
      ]
     },
     "execution_count": 44,
     "metadata": {},
     "output_type": "execute_result"
    }
   ],
   "source": [
    "# Pembulatan panggilan dalam satuan menit pada kolom 'duration' dan mengubahnya ke integer\n",
    "df_calls['duration_minutes'] = (np.ceil((df_calls['duration'].values))).astype('int')\n",
    "df_calls.head()"
   ]
  },
  {
   "cell_type": "code",
   "execution_count": 45,
   "metadata": {
    "colab": {
     "base_uri": "https://localhost:8080/",
     "height": 206
    },
    "id": "CaCzdbJMyIJc",
    "outputId": "bba4ecd9-9dc6-4c20-da09-a7dcedbfb251",
    "scrolled": true
   },
   "outputs": [
    {
     "data": {
      "text/html": [
       "<div>\n",
       "<style scoped>\n",
       "    .dataframe tbody tr th:only-of-type {\n",
       "        vertical-align: middle;\n",
       "    }\n",
       "\n",
       "    .dataframe tbody tr th {\n",
       "        vertical-align: top;\n",
       "    }\n",
       "\n",
       "    .dataframe thead th {\n",
       "        text-align: right;\n",
       "    }\n",
       "</style>\n",
       "<table border=\"1\" class=\"dataframe\">\n",
       "  <thead>\n",
       "    <tr style=\"text-align: right;\">\n",
       "      <th></th>\n",
       "      <th>user_id</th>\n",
       "      <th>month</th>\n",
       "      <th>duration_minutes</th>\n",
       "      <th>count_call</th>\n",
       "    </tr>\n",
       "  </thead>\n",
       "  <tbody>\n",
       "    <tr>\n",
       "      <th>0</th>\n",
       "      <td>1000</td>\n",
       "      <td>2018-12</td>\n",
       "      <td>124</td>\n",
       "      <td>16</td>\n",
       "    </tr>\n",
       "    <tr>\n",
       "      <th>1</th>\n",
       "      <td>1001</td>\n",
       "      <td>2018-08</td>\n",
       "      <td>182</td>\n",
       "      <td>27</td>\n",
       "    </tr>\n",
       "    <tr>\n",
       "      <th>2</th>\n",
       "      <td>1001</td>\n",
       "      <td>2018-09</td>\n",
       "      <td>315</td>\n",
       "      <td>49</td>\n",
       "    </tr>\n",
       "    <tr>\n",
       "      <th>3</th>\n",
       "      <td>1001</td>\n",
       "      <td>2018-10</td>\n",
       "      <td>393</td>\n",
       "      <td>65</td>\n",
       "    </tr>\n",
       "    <tr>\n",
       "      <th>4</th>\n",
       "      <td>1001</td>\n",
       "      <td>2018-11</td>\n",
       "      <td>426</td>\n",
       "      <td>64</td>\n",
       "    </tr>\n",
       "  </tbody>\n",
       "</table>\n",
       "</div>"
      ],
      "text/plain": [
       "   user_id    month  duration_minutes  count_call\n",
       "0     1000  2018-12               124          16\n",
       "1     1001  2018-08               182          27\n",
       "2     1001  2018-09               315          49\n",
       "3     1001  2018-10               393          65\n",
       "4     1001  2018-11               426          64"
      ]
     },
     "execution_count": 45,
     "metadata": {},
     "output_type": "execute_result"
    }
   ],
   "source": [
    "# Menghitung lama dan banyak panggilan per bulan untuk setiap pengguna\n",
    "calls_duration = pd.pivot_table(df_calls, index=['user_id', 'month'], values='duration_minutes', aggfunc=['sum','count']).reset_index()\n",
    "calls_duration = calls_duration.droplevel(axis=1, level=0)\n",
    "calls_duration.columns = ['user_id', 'month', 'duration_minutes', 'count_call']\n",
    "calls_duration.head()"
   ]
  },
  {
   "cell_type": "markdown",
   "metadata": {
    "id": "YwryStj2DyWB"
   },
   "source": [
    "<div class=\"alert alert-success\">\n",
    "<b>Chamdani's comment v.1</b> <a class=\"tocSkip\"></a>\n",
    "\n",
    "Kerja bagus!\n",
    "\n",
    "</div>"
   ]
  },
  {
   "cell_type": "markdown",
   "metadata": {
    "id": "20rCSEu-sQJJ"
   },
   "source": [
    "### 6.5.2 SMS per Bulan"
   ]
  },
  {
   "cell_type": "code",
   "execution_count": 46,
   "metadata": {
    "colab": {
     "base_uri": "https://localhost:8080/",
     "height": 206
    },
    "id": "WNPmU6ct3S5B",
    "outputId": "268b87d9-028f-4fd0-8cbd-48e27ad1cba8",
    "scrolled": true
   },
   "outputs": [
    {
     "data": {
      "text/html": [
       "<div>\n",
       "<style scoped>\n",
       "    .dataframe tbody tr th:only-of-type {\n",
       "        vertical-align: middle;\n",
       "    }\n",
       "\n",
       "    .dataframe tbody tr th {\n",
       "        vertical-align: top;\n",
       "    }\n",
       "\n",
       "    .dataframe thead th {\n",
       "        text-align: right;\n",
       "    }\n",
       "</style>\n",
       "<table border=\"1\" class=\"dataframe\">\n",
       "  <thead>\n",
       "    <tr style=\"text-align: right;\">\n",
       "      <th></th>\n",
       "      <th>user_id</th>\n",
       "      <th>month</th>\n",
       "      <th>sms</th>\n",
       "    </tr>\n",
       "  </thead>\n",
       "  <tbody>\n",
       "    <tr>\n",
       "      <th>0</th>\n",
       "      <td>1000</td>\n",
       "      <td>2018-12</td>\n",
       "      <td>11</td>\n",
       "    </tr>\n",
       "    <tr>\n",
       "      <th>1</th>\n",
       "      <td>1001</td>\n",
       "      <td>2018-08</td>\n",
       "      <td>30</td>\n",
       "    </tr>\n",
       "    <tr>\n",
       "      <th>2</th>\n",
       "      <td>1001</td>\n",
       "      <td>2018-09</td>\n",
       "      <td>44</td>\n",
       "    </tr>\n",
       "    <tr>\n",
       "      <th>3</th>\n",
       "      <td>1001</td>\n",
       "      <td>2018-10</td>\n",
       "      <td>53</td>\n",
       "    </tr>\n",
       "    <tr>\n",
       "      <th>4</th>\n",
       "      <td>1001</td>\n",
       "      <td>2018-11</td>\n",
       "      <td>36</td>\n",
       "    </tr>\n",
       "  </tbody>\n",
       "</table>\n",
       "</div>"
      ],
      "text/plain": [
       "   user_id    month  sms\n",
       "0     1000  2018-12   11\n",
       "1     1001  2018-08   30\n",
       "2     1001  2018-09   44\n",
       "3     1001  2018-10   53\n",
       "4     1001  2018-11   36"
      ]
     },
     "execution_count": 46,
     "metadata": {},
     "output_type": "execute_result"
    }
   ],
   "source": [
    "# Menghitung banyaknya SMS per bulan untuk setiap pengguna\n",
    "messages_count = pd.pivot_table(df_messages, index=['user_id','month'], values='id', aggfunc='count').reset_index()\n",
    "messages_count.columns = ['user_id', 'month', 'sms']\n",
    "messages_count.head()"
   ]
  },
  {
   "cell_type": "markdown",
   "metadata": {
    "id": "vJnk4gGVDyWC"
   },
   "source": [
    "<div class=\"alert alert-success\">\n",
    "<b>Chamdani's comment v.1</b> <a class=\"tocSkip\"></a>\n",
    "\n",
    "Kerja bagus!\n",
    "\n",
    "</div>"
   ]
  },
  {
   "cell_type": "markdown",
   "metadata": {
    "id": "hH6urlkWsUDj"
   },
   "source": [
    "### 6.5.3 Volume Data per Bulan"
   ]
  },
  {
   "cell_type": "code",
   "execution_count": 47,
   "metadata": {
    "colab": {
     "base_uri": "https://localhost:8080/",
     "height": 206
    },
    "id": "zu8iJCin6tZA",
    "outputId": "77fe37ae-84ff-4b3b-fb41-45322fdc4433",
    "scrolled": true
   },
   "outputs": [
    {
     "data": {
      "text/html": [
       "<div>\n",
       "<style scoped>\n",
       "    .dataframe tbody tr th:only-of-type {\n",
       "        vertical-align: middle;\n",
       "    }\n",
       "\n",
       "    .dataframe tbody tr th {\n",
       "        vertical-align: top;\n",
       "    }\n",
       "\n",
       "    .dataframe thead th {\n",
       "        text-align: right;\n",
       "    }\n",
       "</style>\n",
       "<table border=\"1\" class=\"dataframe\">\n",
       "  <thead>\n",
       "    <tr style=\"text-align: right;\">\n",
       "      <th></th>\n",
       "      <th>id</th>\n",
       "      <th>user_id</th>\n",
       "      <th>session_date</th>\n",
       "      <th>mb_used</th>\n",
       "      <th>month</th>\n",
       "      <th>gb_used</th>\n",
       "    </tr>\n",
       "  </thead>\n",
       "  <tbody>\n",
       "    <tr>\n",
       "      <th>0</th>\n",
       "      <td>1000_13</td>\n",
       "      <td>1000</td>\n",
       "      <td>2018-12-29</td>\n",
       "      <td>89.86</td>\n",
       "      <td>2018-12</td>\n",
       "      <td>1</td>\n",
       "    </tr>\n",
       "    <tr>\n",
       "      <th>1</th>\n",
       "      <td>1000_204</td>\n",
       "      <td>1000</td>\n",
       "      <td>2018-12-31</td>\n",
       "      <td>0.00</td>\n",
       "      <td>2018-12</td>\n",
       "      <td>0</td>\n",
       "    </tr>\n",
       "    <tr>\n",
       "      <th>2</th>\n",
       "      <td>1000_379</td>\n",
       "      <td>1000</td>\n",
       "      <td>2018-12-28</td>\n",
       "      <td>660.40</td>\n",
       "      <td>2018-12</td>\n",
       "      <td>1</td>\n",
       "    </tr>\n",
       "    <tr>\n",
       "      <th>3</th>\n",
       "      <td>1000_413</td>\n",
       "      <td>1000</td>\n",
       "      <td>2018-12-26</td>\n",
       "      <td>270.99</td>\n",
       "      <td>2018-12</td>\n",
       "      <td>1</td>\n",
       "    </tr>\n",
       "    <tr>\n",
       "      <th>4</th>\n",
       "      <td>1000_442</td>\n",
       "      <td>1000</td>\n",
       "      <td>2018-12-27</td>\n",
       "      <td>880.22</td>\n",
       "      <td>2018-12</td>\n",
       "      <td>1</td>\n",
       "    </tr>\n",
       "  </tbody>\n",
       "</table>\n",
       "</div>"
      ],
      "text/plain": [
       "         id  user_id session_date  mb_used    month  gb_used\n",
       "0   1000_13     1000   2018-12-29    89.86  2018-12        1\n",
       "1  1000_204     1000   2018-12-31     0.00  2018-12        0\n",
       "2  1000_379     1000   2018-12-28   660.40  2018-12        1\n",
       "3  1000_413     1000   2018-12-26   270.99  2018-12        1\n",
       "4  1000_442     1000   2018-12-27   880.22  2018-12        1"
      ]
     },
     "execution_count": 47,
     "metadata": {},
     "output_type": "execute_result"
    }
   ],
   "source": [
    "# Pembulatan volume data pada kolom 'mb_used' dan mengubahnya dalam satuan GB dan tipe data integer\n",
    "df_internet['gb_used'] = (np.ceil(df_internet['mb_used'] / 1024)).astype('int')\n",
    "df_internet.head()"
   ]
  },
  {
   "cell_type": "code",
   "execution_count": 48,
   "metadata": {
    "colab": {
     "base_uri": "https://localhost:8080/",
     "height": 206
    },
    "id": "hD9SvS9_4EI4",
    "outputId": "2f40e50f-871d-4cf9-e39c-405c04dd063e",
    "scrolled": true
   },
   "outputs": [
    {
     "data": {
      "text/html": [
       "<div>\n",
       "<style scoped>\n",
       "    .dataframe tbody tr th:only-of-type {\n",
       "        vertical-align: middle;\n",
       "    }\n",
       "\n",
       "    .dataframe tbody tr th {\n",
       "        vertical-align: top;\n",
       "    }\n",
       "\n",
       "    .dataframe thead th {\n",
       "        text-align: right;\n",
       "    }\n",
       "</style>\n",
       "<table border=\"1\" class=\"dataframe\">\n",
       "  <thead>\n",
       "    <tr style=\"text-align: right;\">\n",
       "      <th></th>\n",
       "      <th>user_id</th>\n",
       "      <th>month</th>\n",
       "      <th>gb_used</th>\n",
       "    </tr>\n",
       "  </thead>\n",
       "  <tbody>\n",
       "    <tr>\n",
       "      <th>0</th>\n",
       "      <td>1000</td>\n",
       "      <td>2018-12</td>\n",
       "      <td>4</td>\n",
       "    </tr>\n",
       "    <tr>\n",
       "      <th>1</th>\n",
       "      <td>1001</td>\n",
       "      <td>2018-08</td>\n",
       "      <td>21</td>\n",
       "    </tr>\n",
       "    <tr>\n",
       "      <th>2</th>\n",
       "      <td>1001</td>\n",
       "      <td>2018-09</td>\n",
       "      <td>41</td>\n",
       "    </tr>\n",
       "    <tr>\n",
       "      <th>3</th>\n",
       "      <td>1001</td>\n",
       "      <td>2018-10</td>\n",
       "      <td>50</td>\n",
       "    </tr>\n",
       "    <tr>\n",
       "      <th>4</th>\n",
       "      <td>1001</td>\n",
       "      <td>2018-11</td>\n",
       "      <td>49</td>\n",
       "    </tr>\n",
       "  </tbody>\n",
       "</table>\n",
       "</div>"
      ],
      "text/plain": [
       "   user_id    month  gb_used\n",
       "0     1000  2018-12        4\n",
       "1     1001  2018-08       21\n",
       "2     1001  2018-09       41\n",
       "3     1001  2018-10       50\n",
       "4     1001  2018-11       49"
      ]
     },
     "execution_count": 48,
     "metadata": {},
     "output_type": "execute_result"
    }
   ],
   "source": [
    "# Volume data per bulan untuk setiap pengguna\n",
    "data_volume = pd.pivot_table(df_internet, index=['user_id', 'month'], values='gb_used', aggfunc='sum').reset_index()\n",
    "data_volume.head()"
   ]
  },
  {
   "cell_type": "markdown",
   "metadata": {
    "id": "AhoeUtnaDyWD"
   },
   "source": [
    "<div class=\"alert alert-success\">\n",
    "<b>Chamdani's comment v.1</b> <a class=\"tocSkip\"></a>\n",
    "\n",
    "Kerja bagus!\n",
    "\n",
    "</div>"
   ]
  },
  {
   "cell_type": "markdown",
   "metadata": {
    "id": "AcQKDcwJsxD4"
   },
   "source": [
    "# 7 Pendapatan Bulanan"
   ]
  },
  {
   "cell_type": "markdown",
   "metadata": {
    "id": "ISnoL_APtB4L"
   },
   "source": [
    "## 7.1 Menggabungkan Dataset\n",
    "Pendapatan operator telekomunkasi Megaline berasal dari panggilan, SMS dan data.\n",
    "Untuk mendapatkan pendapatan bulanan dari setiap pengguna maka diperlukan penggabungan dataset. Berikut ini langkah-langkah yang akan dilakukan:\n",
    "1. Membuat temporary dataframe yang berisi nilai unik pengguna\n",
    "2. Membuat temporary dataframe yang berisi nilai unik bulan\n",
    "3. Membuat dataset dari gabungan kedua dataframe temporary (pengguna dan bulan)\n",
    "4. Menggabungkan seluruh dataframe berdasarkan dataset yang telah dibuat sebelumnya"
   ]
  },
  {
   "cell_type": "code",
   "execution_count": 49,
   "metadata": {
    "colab": {
     "base_uri": "https://localhost:8080/",
     "height": 423
    },
    "id": "u959-gUCSpgU",
    "outputId": "6fe72e2b-db54-4611-e3e4-5bf6d766d7c1"
   },
   "outputs": [
    {
     "data": {
      "text/html": [
       "<div>\n",
       "<style scoped>\n",
       "    .dataframe tbody tr th:only-of-type {\n",
       "        vertical-align: middle;\n",
       "    }\n",
       "\n",
       "    .dataframe tbody tr th {\n",
       "        vertical-align: top;\n",
       "    }\n",
       "\n",
       "    .dataframe thead th {\n",
       "        text-align: right;\n",
       "    }\n",
       "</style>\n",
       "<table border=\"1\" class=\"dataframe\">\n",
       "  <thead>\n",
       "    <tr style=\"text-align: right;\">\n",
       "      <th></th>\n",
       "      <th>user_id</th>\n",
       "      <th>key</th>\n",
       "    </tr>\n",
       "  </thead>\n",
       "  <tbody>\n",
       "    <tr>\n",
       "      <th>0</th>\n",
       "      <td>1000</td>\n",
       "      <td>1</td>\n",
       "    </tr>\n",
       "    <tr>\n",
       "      <th>1</th>\n",
       "      <td>1001</td>\n",
       "      <td>1</td>\n",
       "    </tr>\n",
       "    <tr>\n",
       "      <th>2</th>\n",
       "      <td>1002</td>\n",
       "      <td>1</td>\n",
       "    </tr>\n",
       "    <tr>\n",
       "      <th>3</th>\n",
       "      <td>1003</td>\n",
       "      <td>1</td>\n",
       "    </tr>\n",
       "    <tr>\n",
       "      <th>4</th>\n",
       "      <td>1004</td>\n",
       "      <td>1</td>\n",
       "    </tr>\n",
       "    <tr>\n",
       "      <th>...</th>\n",
       "      <td>...</td>\n",
       "      <td>...</td>\n",
       "    </tr>\n",
       "    <tr>\n",
       "      <th>495</th>\n",
       "      <td>1495</td>\n",
       "      <td>1</td>\n",
       "    </tr>\n",
       "    <tr>\n",
       "      <th>496</th>\n",
       "      <td>1496</td>\n",
       "      <td>1</td>\n",
       "    </tr>\n",
       "    <tr>\n",
       "      <th>497</th>\n",
       "      <td>1497</td>\n",
       "      <td>1</td>\n",
       "    </tr>\n",
       "    <tr>\n",
       "      <th>498</th>\n",
       "      <td>1498</td>\n",
       "      <td>1</td>\n",
       "    </tr>\n",
       "    <tr>\n",
       "      <th>499</th>\n",
       "      <td>1499</td>\n",
       "      <td>1</td>\n",
       "    </tr>\n",
       "  </tbody>\n",
       "</table>\n",
       "<p>500 rows × 2 columns</p>\n",
       "</div>"
      ],
      "text/plain": [
       "     user_id  key\n",
       "0       1000    1\n",
       "1       1001    1\n",
       "2       1002    1\n",
       "3       1003    1\n",
       "4       1004    1\n",
       "..       ...  ...\n",
       "495     1495    1\n",
       "496     1496    1\n",
       "497     1497    1\n",
       "498     1498    1\n",
       "499     1499    1\n",
       "\n",
       "[500 rows x 2 columns]"
      ]
     },
     "execution_count": 49,
     "metadata": {},
     "output_type": "execute_result"
    }
   ],
   "source": [
    "# Membuat dataframe temporary yang berisi nilai unik pengguna (user_id)\n",
    "temp_user_id = pd.DataFrame(df_users.user_id.unique(), columns=['user_id']).sort_values('user_id')\n",
    "temp_user_id['key'] = 1\n",
    "temp_user_id"
   ]
  },
  {
   "cell_type": "code",
   "execution_count": 50,
   "metadata": {
    "colab": {
     "base_uri": "https://localhost:8080/",
     "height": 425
    },
    "id": "u5PxyZOOPiy1",
    "outputId": "11ee9eac-0a83-47b7-923a-735ee457d7ed"
   },
   "outputs": [
    {
     "data": {
      "text/html": [
       "<div>\n",
       "<style scoped>\n",
       "    .dataframe tbody tr th:only-of-type {\n",
       "        vertical-align: middle;\n",
       "    }\n",
       "\n",
       "    .dataframe tbody tr th {\n",
       "        vertical-align: top;\n",
       "    }\n",
       "\n",
       "    .dataframe thead th {\n",
       "        text-align: right;\n",
       "    }\n",
       "</style>\n",
       "<table border=\"1\" class=\"dataframe\">\n",
       "  <thead>\n",
       "    <tr style=\"text-align: right;\">\n",
       "      <th></th>\n",
       "      <th>month</th>\n",
       "      <th>key</th>\n",
       "    </tr>\n",
       "  </thead>\n",
       "  <tbody>\n",
       "    <tr>\n",
       "      <th>11</th>\n",
       "      <td>2018-01</td>\n",
       "      <td>1</td>\n",
       "    </tr>\n",
       "    <tr>\n",
       "      <th>10</th>\n",
       "      <td>2018-02</td>\n",
       "      <td>1</td>\n",
       "    </tr>\n",
       "    <tr>\n",
       "      <th>8</th>\n",
       "      <td>2018-03</td>\n",
       "      <td>1</td>\n",
       "    </tr>\n",
       "    <tr>\n",
       "      <th>9</th>\n",
       "      <td>2018-04</td>\n",
       "      <td>1</td>\n",
       "    </tr>\n",
       "    <tr>\n",
       "      <th>7</th>\n",
       "      <td>2018-05</td>\n",
       "      <td>1</td>\n",
       "    </tr>\n",
       "    <tr>\n",
       "      <th>6</th>\n",
       "      <td>2018-06</td>\n",
       "      <td>1</td>\n",
       "    </tr>\n",
       "    <tr>\n",
       "      <th>5</th>\n",
       "      <td>2018-07</td>\n",
       "      <td>1</td>\n",
       "    </tr>\n",
       "    <tr>\n",
       "      <th>1</th>\n",
       "      <td>2018-08</td>\n",
       "      <td>1</td>\n",
       "    </tr>\n",
       "    <tr>\n",
       "      <th>4</th>\n",
       "      <td>2018-09</td>\n",
       "      <td>1</td>\n",
       "    </tr>\n",
       "    <tr>\n",
       "      <th>3</th>\n",
       "      <td>2018-10</td>\n",
       "      <td>1</td>\n",
       "    </tr>\n",
       "    <tr>\n",
       "      <th>2</th>\n",
       "      <td>2018-11</td>\n",
       "      <td>1</td>\n",
       "    </tr>\n",
       "    <tr>\n",
       "      <th>0</th>\n",
       "      <td>2018-12</td>\n",
       "      <td>1</td>\n",
       "    </tr>\n",
       "  </tbody>\n",
       "</table>\n",
       "</div>"
      ],
      "text/plain": [
       "      month  key\n",
       "11  2018-01    1\n",
       "10  2018-02    1\n",
       "8   2018-03    1\n",
       "9   2018-04    1\n",
       "7   2018-05    1\n",
       "6   2018-06    1\n",
       "5   2018-07    1\n",
       "1   2018-08    1\n",
       "4   2018-09    1\n",
       "3   2018-10    1\n",
       "2   2018-11    1\n",
       "0   2018-12    1"
      ]
     },
     "execution_count": 50,
     "metadata": {},
     "output_type": "execute_result"
    }
   ],
   "source": [
    "# Membuat dataframe temporary yang berisi nilai unik bulan (month)\n",
    "temp_month = pd.DataFrame(df_internet.month.unique(), columns=['month']).sort_values('month')\n",
    "temp_month['key'] = 1\n",
    "temp_month"
   ]
  },
  {
   "cell_type": "code",
   "execution_count": 51,
   "metadata": {
    "colab": {
     "base_uri": "https://localhost:8080/",
     "height": 423
    },
    "id": "Gx3dbbL0SwB4",
    "outputId": "ca572597-9936-4fa9-cc50-9f995d7351e3"
   },
   "outputs": [
    {
     "data": {
      "text/html": [
       "<div>\n",
       "<style scoped>\n",
       "    .dataframe tbody tr th:only-of-type {\n",
       "        vertical-align: middle;\n",
       "    }\n",
       "\n",
       "    .dataframe tbody tr th {\n",
       "        vertical-align: top;\n",
       "    }\n",
       "\n",
       "    .dataframe thead th {\n",
       "        text-align: right;\n",
       "    }\n",
       "</style>\n",
       "<table border=\"1\" class=\"dataframe\">\n",
       "  <thead>\n",
       "    <tr style=\"text-align: right;\">\n",
       "      <th></th>\n",
       "      <th>user_id</th>\n",
       "      <th>key</th>\n",
       "      <th>month</th>\n",
       "    </tr>\n",
       "  </thead>\n",
       "  <tbody>\n",
       "    <tr>\n",
       "      <th>0</th>\n",
       "      <td>1000</td>\n",
       "      <td>1</td>\n",
       "      <td>2018-01</td>\n",
       "    </tr>\n",
       "    <tr>\n",
       "      <th>1</th>\n",
       "      <td>1000</td>\n",
       "      <td>1</td>\n",
       "      <td>2018-02</td>\n",
       "    </tr>\n",
       "    <tr>\n",
       "      <th>2</th>\n",
       "      <td>1000</td>\n",
       "      <td>1</td>\n",
       "      <td>2018-03</td>\n",
       "    </tr>\n",
       "    <tr>\n",
       "      <th>3</th>\n",
       "      <td>1000</td>\n",
       "      <td>1</td>\n",
       "      <td>2018-04</td>\n",
       "    </tr>\n",
       "    <tr>\n",
       "      <th>4</th>\n",
       "      <td>1000</td>\n",
       "      <td>1</td>\n",
       "      <td>2018-05</td>\n",
       "    </tr>\n",
       "    <tr>\n",
       "      <th>...</th>\n",
       "      <td>...</td>\n",
       "      <td>...</td>\n",
       "      <td>...</td>\n",
       "    </tr>\n",
       "    <tr>\n",
       "      <th>5995</th>\n",
       "      <td>1499</td>\n",
       "      <td>1</td>\n",
       "      <td>2018-08</td>\n",
       "    </tr>\n",
       "    <tr>\n",
       "      <th>5996</th>\n",
       "      <td>1499</td>\n",
       "      <td>1</td>\n",
       "      <td>2018-09</td>\n",
       "    </tr>\n",
       "    <tr>\n",
       "      <th>5997</th>\n",
       "      <td>1499</td>\n",
       "      <td>1</td>\n",
       "      <td>2018-10</td>\n",
       "    </tr>\n",
       "    <tr>\n",
       "      <th>5998</th>\n",
       "      <td>1499</td>\n",
       "      <td>1</td>\n",
       "      <td>2018-11</td>\n",
       "    </tr>\n",
       "    <tr>\n",
       "      <th>5999</th>\n",
       "      <td>1499</td>\n",
       "      <td>1</td>\n",
       "      <td>2018-12</td>\n",
       "    </tr>\n",
       "  </tbody>\n",
       "</table>\n",
       "<p>6000 rows × 3 columns</p>\n",
       "</div>"
      ],
      "text/plain": [
       "      user_id  key    month\n",
       "0        1000    1  2018-01\n",
       "1        1000    1  2018-02\n",
       "2        1000    1  2018-03\n",
       "3        1000    1  2018-04\n",
       "4        1000    1  2018-05\n",
       "...       ...  ...      ...\n",
       "5995     1499    1  2018-08\n",
       "5996     1499    1  2018-09\n",
       "5997     1499    1  2018-10\n",
       "5998     1499    1  2018-11\n",
       "5999     1499    1  2018-12\n",
       "\n",
       "[6000 rows x 3 columns]"
      ]
     },
     "execution_count": 51,
     "metadata": {},
     "output_type": "execute_result"
    }
   ],
   "source": [
    "# Membuat dataset dari gabungan kedua dataframe temporary (pengguna dan bulan)\n",
    "dataset = temp_user_id.merge(temp_month, on='key', how='inner')\n",
    "dataset"
   ]
  },
  {
   "cell_type": "code",
   "execution_count": 52,
   "metadata": {
    "colab": {
     "base_uri": "https://localhost:8080/",
     "height": 733
    },
    "id": "ly14GQZJnzlE",
    "outputId": "49f23f8a-4c71-4ceb-cf8f-a98a1e66ca62",
    "scrolled": true
   },
   "outputs": [
    {
     "data": {
      "text/html": [
       "<div>\n",
       "<style scoped>\n",
       "    .dataframe tbody tr th:only-of-type {\n",
       "        vertical-align: middle;\n",
       "    }\n",
       "\n",
       "    .dataframe tbody tr th {\n",
       "        vertical-align: top;\n",
       "    }\n",
       "\n",
       "    .dataframe thead th {\n",
       "        text-align: right;\n",
       "    }\n",
       "</style>\n",
       "<table border=\"1\" class=\"dataframe\">\n",
       "  <thead>\n",
       "    <tr style=\"text-align: right;\">\n",
       "      <th></th>\n",
       "      <th>user_id</th>\n",
       "      <th>key</th>\n",
       "      <th>month</th>\n",
       "      <th>first_name</th>\n",
       "      <th>last_name</th>\n",
       "      <th>age</th>\n",
       "      <th>city</th>\n",
       "      <th>reg_date</th>\n",
       "      <th>plan</th>\n",
       "      <th>churn_date</th>\n",
       "      <th>...</th>\n",
       "      <th>minutes_included</th>\n",
       "      <th>usd_monthly_pay</th>\n",
       "      <th>usd_per_gb</th>\n",
       "      <th>usd_per_message</th>\n",
       "      <th>usd_per_minute</th>\n",
       "      <th>plan_name</th>\n",
       "      <th>gb_used</th>\n",
       "      <th>duration_minutes</th>\n",
       "      <th>count_call</th>\n",
       "      <th>sms</th>\n",
       "    </tr>\n",
       "  </thead>\n",
       "  <tbody>\n",
       "    <tr>\n",
       "      <th>0</th>\n",
       "      <td>1000</td>\n",
       "      <td>1</td>\n",
       "      <td>2018-01</td>\n",
       "      <td>Anamaria</td>\n",
       "      <td>Bauer</td>\n",
       "      <td>45</td>\n",
       "      <td>Atlanta-Sandy Springs-Roswell, GA MSA</td>\n",
       "      <td>2018-12-24</td>\n",
       "      <td>ultimate</td>\n",
       "      <td>NaT</td>\n",
       "      <td>...</td>\n",
       "      <td>3000</td>\n",
       "      <td>70</td>\n",
       "      <td>7</td>\n",
       "      <td>0.01</td>\n",
       "      <td>0.01</td>\n",
       "      <td>ultimate</td>\n",
       "      <td>NaN</td>\n",
       "      <td>NaN</td>\n",
       "      <td>NaN</td>\n",
       "      <td>NaN</td>\n",
       "    </tr>\n",
       "    <tr>\n",
       "      <th>1</th>\n",
       "      <td>1000</td>\n",
       "      <td>1</td>\n",
       "      <td>2018-02</td>\n",
       "      <td>Anamaria</td>\n",
       "      <td>Bauer</td>\n",
       "      <td>45</td>\n",
       "      <td>Atlanta-Sandy Springs-Roswell, GA MSA</td>\n",
       "      <td>2018-12-24</td>\n",
       "      <td>ultimate</td>\n",
       "      <td>NaT</td>\n",
       "      <td>...</td>\n",
       "      <td>3000</td>\n",
       "      <td>70</td>\n",
       "      <td>7</td>\n",
       "      <td>0.01</td>\n",
       "      <td>0.01</td>\n",
       "      <td>ultimate</td>\n",
       "      <td>NaN</td>\n",
       "      <td>NaN</td>\n",
       "      <td>NaN</td>\n",
       "      <td>NaN</td>\n",
       "    </tr>\n",
       "    <tr>\n",
       "      <th>2</th>\n",
       "      <td>1000</td>\n",
       "      <td>1</td>\n",
       "      <td>2018-03</td>\n",
       "      <td>Anamaria</td>\n",
       "      <td>Bauer</td>\n",
       "      <td>45</td>\n",
       "      <td>Atlanta-Sandy Springs-Roswell, GA MSA</td>\n",
       "      <td>2018-12-24</td>\n",
       "      <td>ultimate</td>\n",
       "      <td>NaT</td>\n",
       "      <td>...</td>\n",
       "      <td>3000</td>\n",
       "      <td>70</td>\n",
       "      <td>7</td>\n",
       "      <td>0.01</td>\n",
       "      <td>0.01</td>\n",
       "      <td>ultimate</td>\n",
       "      <td>NaN</td>\n",
       "      <td>NaN</td>\n",
       "      <td>NaN</td>\n",
       "      <td>NaN</td>\n",
       "    </tr>\n",
       "    <tr>\n",
       "      <th>3</th>\n",
       "      <td>1000</td>\n",
       "      <td>1</td>\n",
       "      <td>2018-04</td>\n",
       "      <td>Anamaria</td>\n",
       "      <td>Bauer</td>\n",
       "      <td>45</td>\n",
       "      <td>Atlanta-Sandy Springs-Roswell, GA MSA</td>\n",
       "      <td>2018-12-24</td>\n",
       "      <td>ultimate</td>\n",
       "      <td>NaT</td>\n",
       "      <td>...</td>\n",
       "      <td>3000</td>\n",
       "      <td>70</td>\n",
       "      <td>7</td>\n",
       "      <td>0.01</td>\n",
       "      <td>0.01</td>\n",
       "      <td>ultimate</td>\n",
       "      <td>NaN</td>\n",
       "      <td>NaN</td>\n",
       "      <td>NaN</td>\n",
       "      <td>NaN</td>\n",
       "    </tr>\n",
       "    <tr>\n",
       "      <th>4</th>\n",
       "      <td>1000</td>\n",
       "      <td>1</td>\n",
       "      <td>2018-05</td>\n",
       "      <td>Anamaria</td>\n",
       "      <td>Bauer</td>\n",
       "      <td>45</td>\n",
       "      <td>Atlanta-Sandy Springs-Roswell, GA MSA</td>\n",
       "      <td>2018-12-24</td>\n",
       "      <td>ultimate</td>\n",
       "      <td>NaT</td>\n",
       "      <td>...</td>\n",
       "      <td>3000</td>\n",
       "      <td>70</td>\n",
       "      <td>7</td>\n",
       "      <td>0.01</td>\n",
       "      <td>0.01</td>\n",
       "      <td>ultimate</td>\n",
       "      <td>NaN</td>\n",
       "      <td>NaN</td>\n",
       "      <td>NaN</td>\n",
       "      <td>NaN</td>\n",
       "    </tr>\n",
       "  </tbody>\n",
       "</table>\n",
       "<p>5 rows × 24 columns</p>\n",
       "</div>"
      ],
      "text/plain": [
       "   user_id  key    month first_name last_name  age  \\\n",
       "0     1000    1  2018-01   Anamaria     Bauer   45   \n",
       "1     1000    1  2018-02   Anamaria     Bauer   45   \n",
       "2     1000    1  2018-03   Anamaria     Bauer   45   \n",
       "3     1000    1  2018-04   Anamaria     Bauer   45   \n",
       "4     1000    1  2018-05   Anamaria     Bauer   45   \n",
       "\n",
       "                                    city   reg_date      plan churn_date  ...  \\\n",
       "0  Atlanta-Sandy Springs-Roswell, GA MSA 2018-12-24  ultimate        NaT  ...   \n",
       "1  Atlanta-Sandy Springs-Roswell, GA MSA 2018-12-24  ultimate        NaT  ...   \n",
       "2  Atlanta-Sandy Springs-Roswell, GA MSA 2018-12-24  ultimate        NaT  ...   \n",
       "3  Atlanta-Sandy Springs-Roswell, GA MSA 2018-12-24  ultimate        NaT  ...   \n",
       "4  Atlanta-Sandy Springs-Roswell, GA MSA 2018-12-24  ultimate        NaT  ...   \n",
       "\n",
       "  minutes_included  usd_monthly_pay  usd_per_gb  usd_per_message  \\\n",
       "0             3000               70           7             0.01   \n",
       "1             3000               70           7             0.01   \n",
       "2             3000               70           7             0.01   \n",
       "3             3000               70           7             0.01   \n",
       "4             3000               70           7             0.01   \n",
       "\n",
       "   usd_per_minute  plan_name  gb_used  duration_minutes  count_call sms  \n",
       "0            0.01   ultimate      NaN               NaN         NaN NaN  \n",
       "1            0.01   ultimate      NaN               NaN         NaN NaN  \n",
       "2            0.01   ultimate      NaN               NaN         NaN NaN  \n",
       "3            0.01   ultimate      NaN               NaN         NaN NaN  \n",
       "4            0.01   ultimate      NaN               NaN         NaN NaN  \n",
       "\n",
       "[5 rows x 24 columns]"
      ]
     },
     "execution_count": 52,
     "metadata": {},
     "output_type": "execute_result"
    }
   ],
   "source": [
    "# Menggabungkan seluruh dataframe berdasarkan dataset yang telah dibuat sebelumnya\n",
    "dataset = dataset.merge(df_users, on='user_id', how='left')\n",
    "dataset = dataset.merge(df_plans, left_on='plan', right_on='plan_name', how='left')\n",
    "dataset = dataset.merge(data_volume, on=['user_id', 'month'], how='left')\n",
    "dataset = dataset.merge(calls_duration, on=['user_id', 'month'], how='left')\n",
    "dataset = dataset.merge(messages_count, on=['user_id', 'month'], how='left')\n",
    "dataset.head()"
   ]
  },
  {
   "cell_type": "markdown",
   "metadata": {
    "id": "WqpXs44dDyWF"
   },
   "source": [
    "<div class=\"alert alert-success\">\n",
    "<b>Chamdani's comment v.1</b> <a class=\"tocSkip\"></a>\n",
    "\n",
    "Kerja bagus!\n",
    "\n",
    "</div>"
   ]
  },
  {
   "cell_type": "markdown",
   "metadata": {
    "id": "ked_sJojdKBd"
   },
   "source": [
    "## 7.2 Membersihkan Dataset\n",
    "\n",
    "Berikut ini langkah yang diperlukan untuk membersihkan dataset:\n",
    "1. Menghapus kolom yang tidak perlu\n",
    "2. Menyesuaikan tipe data untuk reg_date dan churn_date ke dalam bulan\n",
    "3. Filter data yang tidak masuk akal:\n",
    "* Hapus data registrasi (reg_date) yang lebih besar dari bulan pemakaian\n",
    "* Hapus data berhenti layanan (churn_date) lebih kecil dari bulan pemakaian\n",
    "* Nilai 0 pada kolom churn_date termasuk data yang valid"
   ]
  },
  {
   "cell_type": "code",
   "execution_count": 53,
   "metadata": {
    "colab": {
     "base_uri": "https://localhost:8080/",
     "height": 357
    },
    "id": "vObP9fecWEZw",
    "outputId": "fa5fab39-ed57-4d9c-de43-107e320292f7"
   },
   "outputs": [
    {
     "data": {
      "text/html": [
       "<div>\n",
       "<style scoped>\n",
       "    .dataframe tbody tr th:only-of-type {\n",
       "        vertical-align: middle;\n",
       "    }\n",
       "\n",
       "    .dataframe tbody tr th {\n",
       "        vertical-align: top;\n",
       "    }\n",
       "\n",
       "    .dataframe thead th {\n",
       "        text-align: right;\n",
       "    }\n",
       "</style>\n",
       "<table border=\"1\" class=\"dataframe\">\n",
       "  <thead>\n",
       "    <tr style=\"text-align: right;\">\n",
       "      <th></th>\n",
       "      <th>user_id</th>\n",
       "      <th>month</th>\n",
       "      <th>age</th>\n",
       "      <th>reg_date</th>\n",
       "      <th>plan</th>\n",
       "      <th>churn_date</th>\n",
       "      <th>city_abb</th>\n",
       "      <th>is_ny_nj</th>\n",
       "      <th>messages_included</th>\n",
       "      <th>mb_per_month_included</th>\n",
       "      <th>minutes_included</th>\n",
       "      <th>usd_monthly_pay</th>\n",
       "      <th>usd_per_gb</th>\n",
       "      <th>usd_per_message</th>\n",
       "      <th>usd_per_minute</th>\n",
       "      <th>gb_used</th>\n",
       "      <th>duration_minutes</th>\n",
       "      <th>count_call</th>\n",
       "      <th>sms</th>\n",
       "    </tr>\n",
       "  </thead>\n",
       "  <tbody>\n",
       "    <tr>\n",
       "      <th>0</th>\n",
       "      <td>1000</td>\n",
       "      <td>2018-01</td>\n",
       "      <td>45</td>\n",
       "      <td>2018-12-24</td>\n",
       "      <td>ultimate</td>\n",
       "      <td>NaT</td>\n",
       "      <td>GA</td>\n",
       "      <td>False</td>\n",
       "      <td>1000</td>\n",
       "      <td>30720</td>\n",
       "      <td>3000</td>\n",
       "      <td>70</td>\n",
       "      <td>7</td>\n",
       "      <td>0.01</td>\n",
       "      <td>0.01</td>\n",
       "      <td>NaN</td>\n",
       "      <td>NaN</td>\n",
       "      <td>NaN</td>\n",
       "      <td>NaN</td>\n",
       "    </tr>\n",
       "    <tr>\n",
       "      <th>1</th>\n",
       "      <td>1000</td>\n",
       "      <td>2018-02</td>\n",
       "      <td>45</td>\n",
       "      <td>2018-12-24</td>\n",
       "      <td>ultimate</td>\n",
       "      <td>NaT</td>\n",
       "      <td>GA</td>\n",
       "      <td>False</td>\n",
       "      <td>1000</td>\n",
       "      <td>30720</td>\n",
       "      <td>3000</td>\n",
       "      <td>70</td>\n",
       "      <td>7</td>\n",
       "      <td>0.01</td>\n",
       "      <td>0.01</td>\n",
       "      <td>NaN</td>\n",
       "      <td>NaN</td>\n",
       "      <td>NaN</td>\n",
       "      <td>NaN</td>\n",
       "    </tr>\n",
       "    <tr>\n",
       "      <th>2</th>\n",
       "      <td>1000</td>\n",
       "      <td>2018-03</td>\n",
       "      <td>45</td>\n",
       "      <td>2018-12-24</td>\n",
       "      <td>ultimate</td>\n",
       "      <td>NaT</td>\n",
       "      <td>GA</td>\n",
       "      <td>False</td>\n",
       "      <td>1000</td>\n",
       "      <td>30720</td>\n",
       "      <td>3000</td>\n",
       "      <td>70</td>\n",
       "      <td>7</td>\n",
       "      <td>0.01</td>\n",
       "      <td>0.01</td>\n",
       "      <td>NaN</td>\n",
       "      <td>NaN</td>\n",
       "      <td>NaN</td>\n",
       "      <td>NaN</td>\n",
       "    </tr>\n",
       "    <tr>\n",
       "      <th>3</th>\n",
       "      <td>1000</td>\n",
       "      <td>2018-04</td>\n",
       "      <td>45</td>\n",
       "      <td>2018-12-24</td>\n",
       "      <td>ultimate</td>\n",
       "      <td>NaT</td>\n",
       "      <td>GA</td>\n",
       "      <td>False</td>\n",
       "      <td>1000</td>\n",
       "      <td>30720</td>\n",
       "      <td>3000</td>\n",
       "      <td>70</td>\n",
       "      <td>7</td>\n",
       "      <td>0.01</td>\n",
       "      <td>0.01</td>\n",
       "      <td>NaN</td>\n",
       "      <td>NaN</td>\n",
       "      <td>NaN</td>\n",
       "      <td>NaN</td>\n",
       "    </tr>\n",
       "    <tr>\n",
       "      <th>4</th>\n",
       "      <td>1000</td>\n",
       "      <td>2018-05</td>\n",
       "      <td>45</td>\n",
       "      <td>2018-12-24</td>\n",
       "      <td>ultimate</td>\n",
       "      <td>NaT</td>\n",
       "      <td>GA</td>\n",
       "      <td>False</td>\n",
       "      <td>1000</td>\n",
       "      <td>30720</td>\n",
       "      <td>3000</td>\n",
       "      <td>70</td>\n",
       "      <td>7</td>\n",
       "      <td>0.01</td>\n",
       "      <td>0.01</td>\n",
       "      <td>NaN</td>\n",
       "      <td>NaN</td>\n",
       "      <td>NaN</td>\n",
       "      <td>NaN</td>\n",
       "    </tr>\n",
       "  </tbody>\n",
       "</table>\n",
       "</div>"
      ],
      "text/plain": [
       "   user_id    month  age   reg_date      plan churn_date city_abb  is_ny_nj  \\\n",
       "0     1000  2018-01   45 2018-12-24  ultimate        NaT       GA     False   \n",
       "1     1000  2018-02   45 2018-12-24  ultimate        NaT       GA     False   \n",
       "2     1000  2018-03   45 2018-12-24  ultimate        NaT       GA     False   \n",
       "3     1000  2018-04   45 2018-12-24  ultimate        NaT       GA     False   \n",
       "4     1000  2018-05   45 2018-12-24  ultimate        NaT       GA     False   \n",
       "\n",
       "   messages_included  mb_per_month_included  minutes_included  \\\n",
       "0               1000                  30720              3000   \n",
       "1               1000                  30720              3000   \n",
       "2               1000                  30720              3000   \n",
       "3               1000                  30720              3000   \n",
       "4               1000                  30720              3000   \n",
       "\n",
       "   usd_monthly_pay  usd_per_gb  usd_per_message  usd_per_minute  gb_used  \\\n",
       "0               70           7             0.01            0.01      NaN   \n",
       "1               70           7             0.01            0.01      NaN   \n",
       "2               70           7             0.01            0.01      NaN   \n",
       "3               70           7             0.01            0.01      NaN   \n",
       "4               70           7             0.01            0.01      NaN   \n",
       "\n",
       "   duration_minutes  count_call  sms  \n",
       "0               NaN         NaN  NaN  \n",
       "1               NaN         NaN  NaN  \n",
       "2               NaN         NaN  NaN  \n",
       "3               NaN         NaN  NaN  \n",
       "4               NaN         NaN  NaN  "
      ]
     },
     "execution_count": 53,
     "metadata": {},
     "output_type": "execute_result"
    }
   ],
   "source": [
    "# Membersihkan kolom yang kurang diperlukan\n",
    "drop_cols = ['key', 'first_name', 'last_name', 'city', 'plan_name']\n",
    "dataset.drop(drop_cols, axis=1, inplace=True)\n",
    "dataset.head()"
   ]
  },
  {
   "cell_type": "code",
   "execution_count": 54,
   "metadata": {
    "id": "Z4RLevwiD28T"
   },
   "outputs": [],
   "source": [
    "# mengubah tipe data reg_date dan churn_date ke bentuk bulan\n",
    "dataset['reg_date'] = dataset['reg_date'].dt.to_period('M')\n",
    "dataset['churn_date'] = dataset['churn_date'].dt.to_period('M')"
   ]
  },
  {
   "cell_type": "code",
   "execution_count": 55,
   "metadata": {
    "colab": {
     "base_uri": "https://localhost:8080/",
     "height": 357
    },
    "id": "He0ApLNPKZ1_",
    "outputId": "9f342055-7ac3-451a-8b44-f54dfb55cd29",
    "scrolled": true
   },
   "outputs": [
    {
     "data": {
      "text/html": [
       "<div>\n",
       "<style scoped>\n",
       "    .dataframe tbody tr th:only-of-type {\n",
       "        vertical-align: middle;\n",
       "    }\n",
       "\n",
       "    .dataframe tbody tr th {\n",
       "        vertical-align: top;\n",
       "    }\n",
       "\n",
       "    .dataframe thead th {\n",
       "        text-align: right;\n",
       "    }\n",
       "</style>\n",
       "<table border=\"1\" class=\"dataframe\">\n",
       "  <thead>\n",
       "    <tr style=\"text-align: right;\">\n",
       "      <th></th>\n",
       "      <th>user_id</th>\n",
       "      <th>month</th>\n",
       "      <th>age</th>\n",
       "      <th>reg_date</th>\n",
       "      <th>plan</th>\n",
       "      <th>churn_date</th>\n",
       "      <th>city_abb</th>\n",
       "      <th>is_ny_nj</th>\n",
       "      <th>messages_included</th>\n",
       "      <th>mb_per_month_included</th>\n",
       "      <th>minutes_included</th>\n",
       "      <th>usd_monthly_pay</th>\n",
       "      <th>usd_per_gb</th>\n",
       "      <th>usd_per_message</th>\n",
       "      <th>usd_per_minute</th>\n",
       "      <th>gb_used</th>\n",
       "      <th>duration_minutes</th>\n",
       "      <th>count_call</th>\n",
       "      <th>sms</th>\n",
       "    </tr>\n",
       "  </thead>\n",
       "  <tbody>\n",
       "    <tr>\n",
       "      <th>5995</th>\n",
       "      <td>1499</td>\n",
       "      <td>2018-08</td>\n",
       "      <td>37</td>\n",
       "      <td>2018-05</td>\n",
       "      <td>surf</td>\n",
       "      <td>NaT</td>\n",
       "      <td>FL</td>\n",
       "      <td>False</td>\n",
       "      <td>50</td>\n",
       "      <td>15360</td>\n",
       "      <td>500</td>\n",
       "      <td>20</td>\n",
       "      <td>10</td>\n",
       "      <td>0.03</td>\n",
       "      <td>0.03</td>\n",
       "      <td>NaN</td>\n",
       "      <td>NaN</td>\n",
       "      <td>NaN</td>\n",
       "      <td>NaN</td>\n",
       "    </tr>\n",
       "    <tr>\n",
       "      <th>5996</th>\n",
       "      <td>1499</td>\n",
       "      <td>2018-09</td>\n",
       "      <td>37</td>\n",
       "      <td>2018-05</td>\n",
       "      <td>surf</td>\n",
       "      <td>NaT</td>\n",
       "      <td>FL</td>\n",
       "      <td>False</td>\n",
       "      <td>50</td>\n",
       "      <td>15360</td>\n",
       "      <td>500</td>\n",
       "      <td>20</td>\n",
       "      <td>10</td>\n",
       "      <td>0.03</td>\n",
       "      <td>0.03</td>\n",
       "      <td>37.0</td>\n",
       "      <td>346.0</td>\n",
       "      <td>41.0</td>\n",
       "      <td>NaN</td>\n",
       "    </tr>\n",
       "    <tr>\n",
       "      <th>5997</th>\n",
       "      <td>1499</td>\n",
       "      <td>2018-10</td>\n",
       "      <td>37</td>\n",
       "      <td>2018-05</td>\n",
       "      <td>surf</td>\n",
       "      <td>NaT</td>\n",
       "      <td>FL</td>\n",
       "      <td>False</td>\n",
       "      <td>50</td>\n",
       "      <td>15360</td>\n",
       "      <td>500</td>\n",
       "      <td>20</td>\n",
       "      <td>10</td>\n",
       "      <td>0.03</td>\n",
       "      <td>0.03</td>\n",
       "      <td>52.0</td>\n",
       "      <td>385.0</td>\n",
       "      <td>53.0</td>\n",
       "      <td>NaN</td>\n",
       "    </tr>\n",
       "    <tr>\n",
       "      <th>5998</th>\n",
       "      <td>1499</td>\n",
       "      <td>2018-11</td>\n",
       "      <td>37</td>\n",
       "      <td>2018-05</td>\n",
       "      <td>surf</td>\n",
       "      <td>NaT</td>\n",
       "      <td>FL</td>\n",
       "      <td>False</td>\n",
       "      <td>50</td>\n",
       "      <td>15360</td>\n",
       "      <td>500</td>\n",
       "      <td>20</td>\n",
       "      <td>10</td>\n",
       "      <td>0.03</td>\n",
       "      <td>0.03</td>\n",
       "      <td>43.0</td>\n",
       "      <td>308.0</td>\n",
       "      <td>45.0</td>\n",
       "      <td>NaN</td>\n",
       "    </tr>\n",
       "    <tr>\n",
       "      <th>5999</th>\n",
       "      <td>1499</td>\n",
       "      <td>2018-12</td>\n",
       "      <td>37</td>\n",
       "      <td>2018-05</td>\n",
       "      <td>surf</td>\n",
       "      <td>NaT</td>\n",
       "      <td>FL</td>\n",
       "      <td>False</td>\n",
       "      <td>50</td>\n",
       "      <td>15360</td>\n",
       "      <td>500</td>\n",
       "      <td>20</td>\n",
       "      <td>10</td>\n",
       "      <td>0.03</td>\n",
       "      <td>0.03</td>\n",
       "      <td>58.0</td>\n",
       "      <td>496.0</td>\n",
       "      <td>65.0</td>\n",
       "      <td>NaN</td>\n",
       "    </tr>\n",
       "  </tbody>\n",
       "</table>\n",
       "</div>"
      ],
      "text/plain": [
       "      user_id    month  age reg_date  plan churn_date city_abb  is_ny_nj  \\\n",
       "5995     1499  2018-08   37  2018-05  surf        NaT       FL     False   \n",
       "5996     1499  2018-09   37  2018-05  surf        NaT       FL     False   \n",
       "5997     1499  2018-10   37  2018-05  surf        NaT       FL     False   \n",
       "5998     1499  2018-11   37  2018-05  surf        NaT       FL     False   \n",
       "5999     1499  2018-12   37  2018-05  surf        NaT       FL     False   \n",
       "\n",
       "      messages_included  mb_per_month_included  minutes_included  \\\n",
       "5995                 50                  15360               500   \n",
       "5996                 50                  15360               500   \n",
       "5997                 50                  15360               500   \n",
       "5998                 50                  15360               500   \n",
       "5999                 50                  15360               500   \n",
       "\n",
       "      usd_monthly_pay  usd_per_gb  usd_per_message  usd_per_minute  gb_used  \\\n",
       "5995               20          10             0.03            0.03      NaN   \n",
       "5996               20          10             0.03            0.03     37.0   \n",
       "5997               20          10             0.03            0.03     52.0   \n",
       "5998               20          10             0.03            0.03     43.0   \n",
       "5999               20          10             0.03            0.03     58.0   \n",
       "\n",
       "      duration_minutes  count_call  sms  \n",
       "5995               NaN         NaN  NaN  \n",
       "5996             346.0        41.0  NaN  \n",
       "5997             385.0        53.0  NaN  \n",
       "5998             308.0        45.0  NaN  \n",
       "5999             496.0        65.0  NaN  "
      ]
     },
     "execution_count": 55,
     "metadata": {},
     "output_type": "execute_result"
    }
   ],
   "source": [
    "# Filter data pada kolom reg_date dan churn_date\n",
    "dataset = dataset.loc[((dataset.reg_date <= dataset.month) & (dataset.churn_date >= dataset.month)) | (dataset.churn_date.isnull())]\n",
    "dataset.tail()"
   ]
  },
  {
   "cell_type": "markdown",
   "metadata": {
    "id": "mGAnfQJFDyWG"
   },
   "source": [
    "<div class=\"alert alert-success\">\n",
    "<b>Chamdani's comment v.1</b> <a class=\"tocSkip\"></a>\n",
    "\n",
    "Kerja bagus!\n",
    "\n",
    "</div>"
   ]
  },
  {
   "cell_type": "markdown",
   "metadata": {
    "id": "tVduA6s8MxDw"
   },
   "source": [
    "## 7.3 Menghitung Pendapatan Bulanan"
   ]
  },
  {
   "cell_type": "markdown",
   "metadata": {
    "id": "mWa7JsWPajgH"
   },
   "source": [
    "### 7.3.1 Membuat fungsi untuk menghitung biaya tambahan di luar paket"
   ]
  },
  {
   "cell_type": "code",
   "execution_count": 56,
   "metadata": {
    "id": "wvMlbM-PVAAy"
   },
   "outputs": [],
   "source": [
    "# Membuat fungsi untuk menghitung tambahan biaya lebih di luar paket\n",
    "def extra_price (value, max_value, cost_extra):\n",
    "    extra_value = value - max_value\n",
    "    if extra_value > 0:\n",
    "        return cost_extra * extra_value\n",
    "    else:\n",
    "        return 0"
   ]
  },
  {
   "cell_type": "markdown",
   "metadata": {
    "id": "w3-Q7XH_DyWH"
   },
   "source": [
    "<div class=\"alert alert-success\">\n",
    "<b>Chamdani's comment v.1</b> <a class=\"tocSkip\"></a>\n",
    "\n",
    "Kerja bagus!\n",
    "\n",
    "</div>"
   ]
  },
  {
   "cell_type": "markdown",
   "metadata": {
    "id": "ak2PUG86Vubd"
   },
   "source": [
    "### 7.3.2 Biaya ekstra dari Panggilan"
   ]
  },
  {
   "cell_type": "code",
   "execution_count": 57,
   "metadata": {
    "colab": {
     "base_uri": "https://localhost:8080/",
     "height": 259
    },
    "id": "vLRTIGrZXOXo",
    "outputId": "2bd9a65f-fbcd-43fc-f7d2-83f5f7195fd9",
    "scrolled": true
   },
   "outputs": [
    {
     "data": {
      "text/html": [
       "<div>\n",
       "<style scoped>\n",
       "    .dataframe tbody tr th:only-of-type {\n",
       "        vertical-align: middle;\n",
       "    }\n",
       "\n",
       "    .dataframe tbody tr th {\n",
       "        vertical-align: top;\n",
       "    }\n",
       "\n",
       "    .dataframe thead th {\n",
       "        text-align: right;\n",
       "    }\n",
       "</style>\n",
       "<table border=\"1\" class=\"dataframe\">\n",
       "  <thead>\n",
       "    <tr style=\"text-align: right;\">\n",
       "      <th></th>\n",
       "      <th>user_id</th>\n",
       "      <th>month</th>\n",
       "      <th>age</th>\n",
       "      <th>reg_date</th>\n",
       "      <th>plan</th>\n",
       "      <th>churn_date</th>\n",
       "      <th>city_abb</th>\n",
       "      <th>is_ny_nj</th>\n",
       "      <th>messages_included</th>\n",
       "      <th>mb_per_month_included</th>\n",
       "      <th>minutes_included</th>\n",
       "      <th>usd_monthly_pay</th>\n",
       "      <th>usd_per_gb</th>\n",
       "      <th>usd_per_message</th>\n",
       "      <th>usd_per_minute</th>\n",
       "      <th>gb_used</th>\n",
       "      <th>duration_minutes</th>\n",
       "      <th>count_call</th>\n",
       "      <th>sms</th>\n",
       "      <th>extra_calls</th>\n",
       "    </tr>\n",
       "  </thead>\n",
       "  <tbody>\n",
       "    <tr>\n",
       "      <th>3851</th>\n",
       "      <td>1320</td>\n",
       "      <td>2018-12</td>\n",
       "      <td>23</td>\n",
       "      <td>2018-02</td>\n",
       "      <td>surf</td>\n",
       "      <td>NaT</td>\n",
       "      <td>CA</td>\n",
       "      <td>False</td>\n",
       "      <td>50</td>\n",
       "      <td>15360</td>\n",
       "      <td>500</td>\n",
       "      <td>20</td>\n",
       "      <td>10</td>\n",
       "      <td>0.03</td>\n",
       "      <td>0.03</td>\n",
       "      <td>35.0</td>\n",
       "      <td>1070.0</td>\n",
       "      <td>131.0</td>\n",
       "      <td>64.0</td>\n",
       "      <td>17.10</td>\n",
       "    </tr>\n",
       "    <tr>\n",
       "      <th>2791</th>\n",
       "      <td>1232</td>\n",
       "      <td>2018-08</td>\n",
       "      <td>64</td>\n",
       "      <td>2018-04</td>\n",
       "      <td>surf</td>\n",
       "      <td>NaT</td>\n",
       "      <td>IL-IN-WI</td>\n",
       "      <td>False</td>\n",
       "      <td>50</td>\n",
       "      <td>15360</td>\n",
       "      <td>500</td>\n",
       "      <td>20</td>\n",
       "      <td>10</td>\n",
       "      <td>0.03</td>\n",
       "      <td>0.03</td>\n",
       "      <td>41.0</td>\n",
       "      <td>635.0</td>\n",
       "      <td>79.0</td>\n",
       "      <td>NaN</td>\n",
       "      <td>4.05</td>\n",
       "    </tr>\n",
       "    <tr>\n",
       "      <th>800</th>\n",
       "      <td>1066</td>\n",
       "      <td>2018-09</td>\n",
       "      <td>61</td>\n",
       "      <td>2018-03</td>\n",
       "      <td>surf</td>\n",
       "      <td>NaT</td>\n",
       "      <td>MA-NH</td>\n",
       "      <td>False</td>\n",
       "      <td>50</td>\n",
       "      <td>15360</td>\n",
       "      <td>500</td>\n",
       "      <td>20</td>\n",
       "      <td>10</td>\n",
       "      <td>0.03</td>\n",
       "      <td>0.03</td>\n",
       "      <td>55.0</td>\n",
       "      <td>514.0</td>\n",
       "      <td>66.0</td>\n",
       "      <td>31.0</td>\n",
       "      <td>0.42</td>\n",
       "    </tr>\n",
       "  </tbody>\n",
       "</table>\n",
       "</div>"
      ],
      "text/plain": [
       "      user_id    month  age reg_date  plan churn_date  city_abb  is_ny_nj  \\\n",
       "3851     1320  2018-12   23  2018-02  surf        NaT        CA     False   \n",
       "2791     1232  2018-08   64  2018-04  surf        NaT  IL-IN-WI     False   \n",
       "800      1066  2018-09   61  2018-03  surf        NaT     MA-NH     False   \n",
       "\n",
       "      messages_included  mb_per_month_included  minutes_included  \\\n",
       "3851                 50                  15360               500   \n",
       "2791                 50                  15360               500   \n",
       "800                  50                  15360               500   \n",
       "\n",
       "      usd_monthly_pay  usd_per_gb  usd_per_message  usd_per_minute  gb_used  \\\n",
       "3851               20          10             0.03            0.03     35.0   \n",
       "2791               20          10             0.03            0.03     41.0   \n",
       "800                20          10             0.03            0.03     55.0   \n",
       "\n",
       "      duration_minutes  count_call   sms  extra_calls  \n",
       "3851            1070.0       131.0  64.0        17.10  \n",
       "2791             635.0        79.0   NaN         4.05  \n",
       "800              514.0        66.0  31.0         0.42  "
      ]
     },
     "execution_count": 57,
     "metadata": {},
     "output_type": "execute_result"
    }
   ],
   "source": [
    "# Menjalankan fungsi extra_price untuk mencari tambahan biaya di luar paket\n",
    "dataset['extra_calls'] = dataset.apply(lambda row: extra_price(value=row['duration_minutes'], max_value=row['minutes_included'], cost_extra=row['usd_per_minute']), axis=1)\n",
    "dataset.loc[dataset['extra_calls'] > 0].sample(3)"
   ]
  },
  {
   "cell_type": "markdown",
   "metadata": {
    "id": "dto_APDHDyWH"
   },
   "source": [
    "<div class=\"alert alert-success\">\n",
    "<b>Chamdani's comment v.1</b> <a class=\"tocSkip\"></a>\n",
    "\n",
    "Kerja bagus!\n",
    "\n",
    "</div>"
   ]
  },
  {
   "cell_type": "markdown",
   "metadata": {
    "id": "AvMRevKsV9Uq"
   },
   "source": [
    "### 7.3.3 Biaya ekstra dari SMS"
   ]
  },
  {
   "cell_type": "code",
   "execution_count": 58,
   "metadata": {
    "colab": {
     "base_uri": "https://localhost:8080/",
     "height": 289
    },
    "id": "1LiaETOOZuQe",
    "outputId": "5727eeac-1def-400a-a9bb-bddca0987ace",
    "scrolled": true
   },
   "outputs": [
    {
     "data": {
      "text/html": [
       "<div>\n",
       "<style scoped>\n",
       "    .dataframe tbody tr th:only-of-type {\n",
       "        vertical-align: middle;\n",
       "    }\n",
       "\n",
       "    .dataframe tbody tr th {\n",
       "        vertical-align: top;\n",
       "    }\n",
       "\n",
       "    .dataframe thead th {\n",
       "        text-align: right;\n",
       "    }\n",
       "</style>\n",
       "<table border=\"1\" class=\"dataframe\">\n",
       "  <thead>\n",
       "    <tr style=\"text-align: right;\">\n",
       "      <th></th>\n",
       "      <th>user_id</th>\n",
       "      <th>month</th>\n",
       "      <th>age</th>\n",
       "      <th>reg_date</th>\n",
       "      <th>plan</th>\n",
       "      <th>churn_date</th>\n",
       "      <th>city_abb</th>\n",
       "      <th>is_ny_nj</th>\n",
       "      <th>messages_included</th>\n",
       "      <th>mb_per_month_included</th>\n",
       "      <th>...</th>\n",
       "      <th>usd_monthly_pay</th>\n",
       "      <th>usd_per_gb</th>\n",
       "      <th>usd_per_message</th>\n",
       "      <th>usd_per_minute</th>\n",
       "      <th>gb_used</th>\n",
       "      <th>duration_minutes</th>\n",
       "      <th>count_call</th>\n",
       "      <th>sms</th>\n",
       "      <th>extra_calls</th>\n",
       "      <th>extra_messages</th>\n",
       "    </tr>\n",
       "  </thead>\n",
       "  <tbody>\n",
       "    <tr>\n",
       "      <th>4346</th>\n",
       "      <td>1362</td>\n",
       "      <td>2018-03</td>\n",
       "      <td>65</td>\n",
       "      <td>2018-01</td>\n",
       "      <td>surf</td>\n",
       "      <td>NaT</td>\n",
       "      <td>CO</td>\n",
       "      <td>False</td>\n",
       "      <td>50</td>\n",
       "      <td>15360</td>\n",
       "      <td>...</td>\n",
       "      <td>20</td>\n",
       "      <td>10</td>\n",
       "      <td>0.03</td>\n",
       "      <td>0.03</td>\n",
       "      <td>43.0</td>\n",
       "      <td>788.0</td>\n",
       "      <td>116.0</td>\n",
       "      <td>59.0</td>\n",
       "      <td>8.64</td>\n",
       "      <td>0.27</td>\n",
       "    </tr>\n",
       "    <tr>\n",
       "      <th>3800</th>\n",
       "      <td>1316</td>\n",
       "      <td>2018-09</td>\n",
       "      <td>59</td>\n",
       "      <td>2018-05</td>\n",
       "      <td>surf</td>\n",
       "      <td>NaT</td>\n",
       "      <td>OK</td>\n",
       "      <td>False</td>\n",
       "      <td>50</td>\n",
       "      <td>15360</td>\n",
       "      <td>...</td>\n",
       "      <td>20</td>\n",
       "      <td>10</td>\n",
       "      <td>0.03</td>\n",
       "      <td>0.03</td>\n",
       "      <td>45.0</td>\n",
       "      <td>180.0</td>\n",
       "      <td>32.0</td>\n",
       "      <td>61.0</td>\n",
       "      <td>0.00</td>\n",
       "      <td>0.33</td>\n",
       "    </tr>\n",
       "    <tr>\n",
       "      <th>4581</th>\n",
       "      <td>1381</td>\n",
       "      <td>2018-10</td>\n",
       "      <td>44</td>\n",
       "      <td>2018-08</td>\n",
       "      <td>surf</td>\n",
       "      <td>NaT</td>\n",
       "      <td>TX</td>\n",
       "      <td>False</td>\n",
       "      <td>50</td>\n",
       "      <td>15360</td>\n",
       "      <td>...</td>\n",
       "      <td>20</td>\n",
       "      <td>10</td>\n",
       "      <td>0.03</td>\n",
       "      <td>0.03</td>\n",
       "      <td>53.0</td>\n",
       "      <td>502.0</td>\n",
       "      <td>61.0</td>\n",
       "      <td>224.0</td>\n",
       "      <td>0.06</td>\n",
       "      <td>5.22</td>\n",
       "    </tr>\n",
       "  </tbody>\n",
       "</table>\n",
       "<p>3 rows × 21 columns</p>\n",
       "</div>"
      ],
      "text/plain": [
       "      user_id    month  age reg_date  plan churn_date city_abb  is_ny_nj  \\\n",
       "4346     1362  2018-03   65  2018-01  surf        NaT       CO     False   \n",
       "3800     1316  2018-09   59  2018-05  surf        NaT       OK     False   \n",
       "4581     1381  2018-10   44  2018-08  surf        NaT       TX     False   \n",
       "\n",
       "      messages_included  mb_per_month_included  ...  usd_monthly_pay  \\\n",
       "4346                 50                  15360  ...               20   \n",
       "3800                 50                  15360  ...               20   \n",
       "4581                 50                  15360  ...               20   \n",
       "\n",
       "      usd_per_gb  usd_per_message  usd_per_minute  gb_used  duration_minutes  \\\n",
       "4346          10             0.03            0.03     43.0             788.0   \n",
       "3800          10             0.03            0.03     45.0             180.0   \n",
       "4581          10             0.03            0.03     53.0             502.0   \n",
       "\n",
       "      count_call    sms  extra_calls  extra_messages  \n",
       "4346       116.0   59.0         8.64            0.27  \n",
       "3800        32.0   61.0         0.00            0.33  \n",
       "4581        61.0  224.0         0.06            5.22  \n",
       "\n",
       "[3 rows x 21 columns]"
      ]
     },
     "execution_count": 58,
     "metadata": {},
     "output_type": "execute_result"
    }
   ],
   "source": [
    "# Menjalankan fungsi extra_price untuk mencari tambahan biaya di luar paket\n",
    "dataset['extra_messages'] = dataset.apply(lambda row: extra_price(value=row['sms'], max_value=row['messages_included'], cost_extra=row['usd_per_message']), axis=1)\n",
    "dataset.loc[dataset['extra_messages'] > 0].sample(3)"
   ]
  },
  {
   "cell_type": "markdown",
   "metadata": {
    "id": "j7D3BXsvDyWI"
   },
   "source": [
    "<div class=\"alert alert-success\">\n",
    "<b>Chamdani's comment v.1</b> <a class=\"tocSkip\"></a>\n",
    "\n",
    "Kerja bagus!\n",
    "\n",
    "</div>"
   ]
  },
  {
   "cell_type": "markdown",
   "metadata": {
    "id": "DuhiHErjOAeg"
   },
   "source": [
    "### 7.3.4 Biaya ekstra dari internet"
   ]
  },
  {
   "cell_type": "code",
   "execution_count": 59,
   "metadata": {
    "colab": {
     "base_uri": "https://localhost:8080/",
     "height": 386
    },
    "id": "hCVcO09WOIH4",
    "outputId": "2ae4c562-9045-4387-af48-ffe42f2d48d7",
    "scrolled": true
   },
   "outputs": [
    {
     "data": {
      "text/html": [
       "<div>\n",
       "<style scoped>\n",
       "    .dataframe tbody tr th:only-of-type {\n",
       "        vertical-align: middle;\n",
       "    }\n",
       "\n",
       "    .dataframe tbody tr th {\n",
       "        vertical-align: top;\n",
       "    }\n",
       "\n",
       "    .dataframe thead th {\n",
       "        text-align: right;\n",
       "    }\n",
       "</style>\n",
       "<table border=\"1\" class=\"dataframe\">\n",
       "  <thead>\n",
       "    <tr style=\"text-align: right;\">\n",
       "      <th></th>\n",
       "      <th>user_id</th>\n",
       "      <th>month</th>\n",
       "      <th>age</th>\n",
       "      <th>reg_date</th>\n",
       "      <th>plan</th>\n",
       "      <th>churn_date</th>\n",
       "      <th>city_abb</th>\n",
       "      <th>is_ny_nj</th>\n",
       "      <th>messages_included</th>\n",
       "      <th>mb_per_month_included</th>\n",
       "      <th>...</th>\n",
       "      <th>usd_per_gb</th>\n",
       "      <th>usd_per_message</th>\n",
       "      <th>usd_per_minute</th>\n",
       "      <th>gb_used</th>\n",
       "      <th>duration_minutes</th>\n",
       "      <th>count_call</th>\n",
       "      <th>sms</th>\n",
       "      <th>extra_calls</th>\n",
       "      <th>extra_messages</th>\n",
       "      <th>gb_per_month_included</th>\n",
       "    </tr>\n",
       "  </thead>\n",
       "  <tbody>\n",
       "    <tr>\n",
       "      <th>5995</th>\n",
       "      <td>1499</td>\n",
       "      <td>2018-08</td>\n",
       "      <td>37</td>\n",
       "      <td>2018-05</td>\n",
       "      <td>surf</td>\n",
       "      <td>NaT</td>\n",
       "      <td>FL</td>\n",
       "      <td>False</td>\n",
       "      <td>50</td>\n",
       "      <td>15360</td>\n",
       "      <td>...</td>\n",
       "      <td>10</td>\n",
       "      <td>0.03</td>\n",
       "      <td>0.03</td>\n",
       "      <td>NaN</td>\n",
       "      <td>NaN</td>\n",
       "      <td>NaN</td>\n",
       "      <td>NaN</td>\n",
       "      <td>0.0</td>\n",
       "      <td>0.0</td>\n",
       "      <td>15.0</td>\n",
       "    </tr>\n",
       "    <tr>\n",
       "      <th>5996</th>\n",
       "      <td>1499</td>\n",
       "      <td>2018-09</td>\n",
       "      <td>37</td>\n",
       "      <td>2018-05</td>\n",
       "      <td>surf</td>\n",
       "      <td>NaT</td>\n",
       "      <td>FL</td>\n",
       "      <td>False</td>\n",
       "      <td>50</td>\n",
       "      <td>15360</td>\n",
       "      <td>...</td>\n",
       "      <td>10</td>\n",
       "      <td>0.03</td>\n",
       "      <td>0.03</td>\n",
       "      <td>37.0</td>\n",
       "      <td>346.0</td>\n",
       "      <td>41.0</td>\n",
       "      <td>NaN</td>\n",
       "      <td>0.0</td>\n",
       "      <td>0.0</td>\n",
       "      <td>15.0</td>\n",
       "    </tr>\n",
       "    <tr>\n",
       "      <th>5997</th>\n",
       "      <td>1499</td>\n",
       "      <td>2018-10</td>\n",
       "      <td>37</td>\n",
       "      <td>2018-05</td>\n",
       "      <td>surf</td>\n",
       "      <td>NaT</td>\n",
       "      <td>FL</td>\n",
       "      <td>False</td>\n",
       "      <td>50</td>\n",
       "      <td>15360</td>\n",
       "      <td>...</td>\n",
       "      <td>10</td>\n",
       "      <td>0.03</td>\n",
       "      <td>0.03</td>\n",
       "      <td>52.0</td>\n",
       "      <td>385.0</td>\n",
       "      <td>53.0</td>\n",
       "      <td>NaN</td>\n",
       "      <td>0.0</td>\n",
       "      <td>0.0</td>\n",
       "      <td>15.0</td>\n",
       "    </tr>\n",
       "    <tr>\n",
       "      <th>5998</th>\n",
       "      <td>1499</td>\n",
       "      <td>2018-11</td>\n",
       "      <td>37</td>\n",
       "      <td>2018-05</td>\n",
       "      <td>surf</td>\n",
       "      <td>NaT</td>\n",
       "      <td>FL</td>\n",
       "      <td>False</td>\n",
       "      <td>50</td>\n",
       "      <td>15360</td>\n",
       "      <td>...</td>\n",
       "      <td>10</td>\n",
       "      <td>0.03</td>\n",
       "      <td>0.03</td>\n",
       "      <td>43.0</td>\n",
       "      <td>308.0</td>\n",
       "      <td>45.0</td>\n",
       "      <td>NaN</td>\n",
       "      <td>0.0</td>\n",
       "      <td>0.0</td>\n",
       "      <td>15.0</td>\n",
       "    </tr>\n",
       "    <tr>\n",
       "      <th>5999</th>\n",
       "      <td>1499</td>\n",
       "      <td>2018-12</td>\n",
       "      <td>37</td>\n",
       "      <td>2018-05</td>\n",
       "      <td>surf</td>\n",
       "      <td>NaT</td>\n",
       "      <td>FL</td>\n",
       "      <td>False</td>\n",
       "      <td>50</td>\n",
       "      <td>15360</td>\n",
       "      <td>...</td>\n",
       "      <td>10</td>\n",
       "      <td>0.03</td>\n",
       "      <td>0.03</td>\n",
       "      <td>58.0</td>\n",
       "      <td>496.0</td>\n",
       "      <td>65.0</td>\n",
       "      <td>NaN</td>\n",
       "      <td>0.0</td>\n",
       "      <td>0.0</td>\n",
       "      <td>15.0</td>\n",
       "    </tr>\n",
       "  </tbody>\n",
       "</table>\n",
       "<p>5 rows × 22 columns</p>\n",
       "</div>"
      ],
      "text/plain": [
       "      user_id    month  age reg_date  plan churn_date city_abb  is_ny_nj  \\\n",
       "5995     1499  2018-08   37  2018-05  surf        NaT       FL     False   \n",
       "5996     1499  2018-09   37  2018-05  surf        NaT       FL     False   \n",
       "5997     1499  2018-10   37  2018-05  surf        NaT       FL     False   \n",
       "5998     1499  2018-11   37  2018-05  surf        NaT       FL     False   \n",
       "5999     1499  2018-12   37  2018-05  surf        NaT       FL     False   \n",
       "\n",
       "      messages_included  mb_per_month_included  ...  usd_per_gb  \\\n",
       "5995                 50                  15360  ...          10   \n",
       "5996                 50                  15360  ...          10   \n",
       "5997                 50                  15360  ...          10   \n",
       "5998                 50                  15360  ...          10   \n",
       "5999                 50                  15360  ...          10   \n",
       "\n",
       "      usd_per_message  usd_per_minute  gb_used  duration_minutes  count_call  \\\n",
       "5995             0.03            0.03      NaN               NaN         NaN   \n",
       "5996             0.03            0.03     37.0             346.0        41.0   \n",
       "5997             0.03            0.03     52.0             385.0        53.0   \n",
       "5998             0.03            0.03     43.0             308.0        45.0   \n",
       "5999             0.03            0.03     58.0             496.0        65.0   \n",
       "\n",
       "      sms  extra_calls  extra_messages  gb_per_month_included  \n",
       "5995  NaN          0.0             0.0                   15.0  \n",
       "5996  NaN          0.0             0.0                   15.0  \n",
       "5997  NaN          0.0             0.0                   15.0  \n",
       "5998  NaN          0.0             0.0                   15.0  \n",
       "5999  NaN          0.0             0.0                   15.0  \n",
       "\n",
       "[5 rows x 22 columns]"
      ]
     },
     "execution_count": 59,
     "metadata": {},
     "output_type": "execute_result"
    }
   ],
   "source": [
    "# Menambah kolom gb_per_month_included dari konversi mb_per_month_included\n",
    "dataset['gb_per_month_included'] = np.ceil(dataset['mb_per_month_included'] / 1024)\n",
    "dataset.tail()"
   ]
  },
  {
   "cell_type": "code",
   "execution_count": 60,
   "metadata": {
    "colab": {
     "base_uri": "https://localhost:8080/",
     "height": 289
    },
    "id": "cqdS06_gVMpR",
    "outputId": "38d39ce9-8223-4644-ec50-23000247a8ee"
   },
   "outputs": [
    {
     "data": {
      "text/html": [
       "<div>\n",
       "<style scoped>\n",
       "    .dataframe tbody tr th:only-of-type {\n",
       "        vertical-align: middle;\n",
       "    }\n",
       "\n",
       "    .dataframe tbody tr th {\n",
       "        vertical-align: top;\n",
       "    }\n",
       "\n",
       "    .dataframe thead th {\n",
       "        text-align: right;\n",
       "    }\n",
       "</style>\n",
       "<table border=\"1\" class=\"dataframe\">\n",
       "  <thead>\n",
       "    <tr style=\"text-align: right;\">\n",
       "      <th></th>\n",
       "      <th>user_id</th>\n",
       "      <th>month</th>\n",
       "      <th>age</th>\n",
       "      <th>reg_date</th>\n",
       "      <th>plan</th>\n",
       "      <th>churn_date</th>\n",
       "      <th>city_abb</th>\n",
       "      <th>is_ny_nj</th>\n",
       "      <th>messages_included</th>\n",
       "      <th>mb_per_month_included</th>\n",
       "      <th>...</th>\n",
       "      <th>usd_per_message</th>\n",
       "      <th>usd_per_minute</th>\n",
       "      <th>gb_used</th>\n",
       "      <th>duration_minutes</th>\n",
       "      <th>count_call</th>\n",
       "      <th>sms</th>\n",
       "      <th>extra_calls</th>\n",
       "      <th>extra_messages</th>\n",
       "      <th>gb_per_month_included</th>\n",
       "      <th>extra_internet</th>\n",
       "    </tr>\n",
       "  </thead>\n",
       "  <tbody>\n",
       "    <tr>\n",
       "      <th>4037</th>\n",
       "      <td>1336</td>\n",
       "      <td>2018-06</td>\n",
       "      <td>34</td>\n",
       "      <td>2018-04</td>\n",
       "      <td>surf</td>\n",
       "      <td>NaT</td>\n",
       "      <td>OR-WA</td>\n",
       "      <td>False</td>\n",
       "      <td>50</td>\n",
       "      <td>15360</td>\n",
       "      <td>...</td>\n",
       "      <td>0.03</td>\n",
       "      <td>0.03</td>\n",
       "      <td>62.0</td>\n",
       "      <td>941.0</td>\n",
       "      <td>124.0</td>\n",
       "      <td>84.0</td>\n",
       "      <td>13.23</td>\n",
       "      <td>1.02</td>\n",
       "      <td>15.0</td>\n",
       "      <td>470.0</td>\n",
       "    </tr>\n",
       "    <tr>\n",
       "      <th>5877</th>\n",
       "      <td>1489</td>\n",
       "      <td>2018-10</td>\n",
       "      <td>72</td>\n",
       "      <td>2018-05</td>\n",
       "      <td>surf</td>\n",
       "      <td>NaT</td>\n",
       "      <td>MI</td>\n",
       "      <td>False</td>\n",
       "      <td>50</td>\n",
       "      <td>15360</td>\n",
       "      <td>...</td>\n",
       "      <td>0.03</td>\n",
       "      <td>0.03</td>\n",
       "      <td>36.0</td>\n",
       "      <td>518.0</td>\n",
       "      <td>66.0</td>\n",
       "      <td>84.0</td>\n",
       "      <td>0.54</td>\n",
       "      <td>1.02</td>\n",
       "      <td>15.0</td>\n",
       "      <td>210.0</td>\n",
       "    </tr>\n",
       "    <tr>\n",
       "      <th>1185</th>\n",
       "      <td>1098</td>\n",
       "      <td>2018-10</td>\n",
       "      <td>33</td>\n",
       "      <td>2018-08</td>\n",
       "      <td>surf</td>\n",
       "      <td>NaT</td>\n",
       "      <td>NY</td>\n",
       "      <td>False</td>\n",
       "      <td>50</td>\n",
       "      <td>15360</td>\n",
       "      <td>...</td>\n",
       "      <td>0.03</td>\n",
       "      <td>0.03</td>\n",
       "      <td>60.0</td>\n",
       "      <td>644.0</td>\n",
       "      <td>95.0</td>\n",
       "      <td>89.0</td>\n",
       "      <td>4.32</td>\n",
       "      <td>1.17</td>\n",
       "      <td>15.0</td>\n",
       "      <td>450.0</td>\n",
       "    </tr>\n",
       "  </tbody>\n",
       "</table>\n",
       "<p>3 rows × 23 columns</p>\n",
       "</div>"
      ],
      "text/plain": [
       "      user_id    month  age reg_date  plan churn_date city_abb  is_ny_nj  \\\n",
       "4037     1336  2018-06   34  2018-04  surf        NaT    OR-WA     False   \n",
       "5877     1489  2018-10   72  2018-05  surf        NaT       MI     False   \n",
       "1185     1098  2018-10   33  2018-08  surf        NaT       NY     False   \n",
       "\n",
       "      messages_included  mb_per_month_included  ...  usd_per_message  \\\n",
       "4037                 50                  15360  ...             0.03   \n",
       "5877                 50                  15360  ...             0.03   \n",
       "1185                 50                  15360  ...             0.03   \n",
       "\n",
       "      usd_per_minute  gb_used  duration_minutes  count_call   sms  \\\n",
       "4037            0.03     62.0             941.0       124.0  84.0   \n",
       "5877            0.03     36.0             518.0        66.0  84.0   \n",
       "1185            0.03     60.0             644.0        95.0  89.0   \n",
       "\n",
       "      extra_calls  extra_messages  gb_per_month_included  extra_internet  \n",
       "4037        13.23            1.02                   15.0           470.0  \n",
       "5877         0.54            1.02                   15.0           210.0  \n",
       "1185         4.32            1.17                   15.0           450.0  \n",
       "\n",
       "[3 rows x 23 columns]"
      ]
     },
     "execution_count": 60,
     "metadata": {},
     "output_type": "execute_result"
    }
   ],
   "source": [
    "# Menjalankan fungsi extra_price untuk mencari tambahan biaya di luar paket\n",
    "dataset['extra_internet'] = dataset.apply(lambda row: extra_price(value=row['gb_used'], max_value=row['gb_per_month_included'], cost_extra=row['usd_per_gb']), axis=1)\n",
    "dataset.loc[dataset['extra_messages'] > 0].sample(3)"
   ]
  },
  {
   "cell_type": "markdown",
   "metadata": {
    "id": "4prDfgCFDyWI"
   },
   "source": [
    "<div class=\"alert alert-success\">\n",
    "<b>Chamdani's comment v.1</b> <a class=\"tocSkip\"></a>\n",
    "\n",
    "Kerja bagus!\n",
    "\n",
    "</div>"
   ]
  },
  {
   "cell_type": "markdown",
   "metadata": {
    "id": "DEre99s6aeCX"
   },
   "source": [
    "### 7.3.5 Menghitung seluruh pendapatan pada setiap baris"
   ]
  },
  {
   "cell_type": "code",
   "execution_count": 61,
   "metadata": {
    "colab": {
     "base_uri": "https://localhost:8080/",
     "height": 386
    },
    "id": "T_tZMqw3bHk5",
    "outputId": "bd2f6ebc-fba6-4e0e-b263-409f83c83ebe"
   },
   "outputs": [
    {
     "data": {
      "text/html": [
       "<div>\n",
       "<style scoped>\n",
       "    .dataframe tbody tr th:only-of-type {\n",
       "        vertical-align: middle;\n",
       "    }\n",
       "\n",
       "    .dataframe tbody tr th {\n",
       "        vertical-align: top;\n",
       "    }\n",
       "\n",
       "    .dataframe thead th {\n",
       "        text-align: right;\n",
       "    }\n",
       "</style>\n",
       "<table border=\"1\" class=\"dataframe\">\n",
       "  <thead>\n",
       "    <tr style=\"text-align: right;\">\n",
       "      <th></th>\n",
       "      <th>user_id</th>\n",
       "      <th>month</th>\n",
       "      <th>age</th>\n",
       "      <th>reg_date</th>\n",
       "      <th>plan</th>\n",
       "      <th>churn_date</th>\n",
       "      <th>city_abb</th>\n",
       "      <th>is_ny_nj</th>\n",
       "      <th>messages_included</th>\n",
       "      <th>mb_per_month_included</th>\n",
       "      <th>...</th>\n",
       "      <th>usd_per_minute</th>\n",
       "      <th>gb_used</th>\n",
       "      <th>duration_minutes</th>\n",
       "      <th>count_call</th>\n",
       "      <th>sms</th>\n",
       "      <th>extra_calls</th>\n",
       "      <th>extra_messages</th>\n",
       "      <th>gb_per_month_included</th>\n",
       "      <th>extra_internet</th>\n",
       "      <th>total_extra_cost</th>\n",
       "    </tr>\n",
       "  </thead>\n",
       "  <tbody>\n",
       "    <tr>\n",
       "      <th>1988</th>\n",
       "      <td>1165</td>\n",
       "      <td>2018-09</td>\n",
       "      <td>20</td>\n",
       "      <td>2018-10</td>\n",
       "      <td>surf</td>\n",
       "      <td>NaT</td>\n",
       "      <td>PA-NJ-DE-MD</td>\n",
       "      <td>False</td>\n",
       "      <td>50</td>\n",
       "      <td>15360</td>\n",
       "      <td>...</td>\n",
       "      <td>0.03</td>\n",
       "      <td>NaN</td>\n",
       "      <td>NaN</td>\n",
       "      <td>NaN</td>\n",
       "      <td>NaN</td>\n",
       "      <td>0.0</td>\n",
       "      <td>0.00</td>\n",
       "      <td>15.0</td>\n",
       "      <td>0.0</td>\n",
       "      <td>0.00</td>\n",
       "    </tr>\n",
       "    <tr>\n",
       "      <th>2362</th>\n",
       "      <td>1196</td>\n",
       "      <td>2018-11</td>\n",
       "      <td>46</td>\n",
       "      <td>2018-01</td>\n",
       "      <td>ultimate</td>\n",
       "      <td>NaT</td>\n",
       "      <td>CA</td>\n",
       "      <td>False</td>\n",
       "      <td>1000</td>\n",
       "      <td>30720</td>\n",
       "      <td>...</td>\n",
       "      <td>0.01</td>\n",
       "      <td>40.0</td>\n",
       "      <td>583.0</td>\n",
       "      <td>76.0</td>\n",
       "      <td>31.0</td>\n",
       "      <td>0.0</td>\n",
       "      <td>0.00</td>\n",
       "      <td>30.0</td>\n",
       "      <td>70.0</td>\n",
       "      <td>70.00</td>\n",
       "    </tr>\n",
       "    <tr>\n",
       "      <th>407</th>\n",
       "      <td>1033</td>\n",
       "      <td>2018-12</td>\n",
       "      <td>28</td>\n",
       "      <td>2018-05</td>\n",
       "      <td>ultimate</td>\n",
       "      <td>NaT</td>\n",
       "      <td>OK</td>\n",
       "      <td>False</td>\n",
       "      <td>1000</td>\n",
       "      <td>30720</td>\n",
       "      <td>...</td>\n",
       "      <td>0.01</td>\n",
       "      <td>55.0</td>\n",
       "      <td>596.0</td>\n",
       "      <td>98.0</td>\n",
       "      <td>32.0</td>\n",
       "      <td>0.0</td>\n",
       "      <td>0.00</td>\n",
       "      <td>30.0</td>\n",
       "      <td>175.0</td>\n",
       "      <td>175.00</td>\n",
       "    </tr>\n",
       "    <tr>\n",
       "      <th>5874</th>\n",
       "      <td>1489</td>\n",
       "      <td>2018-07</td>\n",
       "      <td>72</td>\n",
       "      <td>2018-05</td>\n",
       "      <td>surf</td>\n",
       "      <td>NaT</td>\n",
       "      <td>MI</td>\n",
       "      <td>False</td>\n",
       "      <td>50</td>\n",
       "      <td>15360</td>\n",
       "      <td>...</td>\n",
       "      <td>0.03</td>\n",
       "      <td>NaN</td>\n",
       "      <td>NaN</td>\n",
       "      <td>NaN</td>\n",
       "      <td>NaN</td>\n",
       "      <td>0.0</td>\n",
       "      <td>0.00</td>\n",
       "      <td>15.0</td>\n",
       "      <td>0.0</td>\n",
       "      <td>0.00</td>\n",
       "    </tr>\n",
       "    <tr>\n",
       "      <th>5337</th>\n",
       "      <td>1444</td>\n",
       "      <td>2018-10</td>\n",
       "      <td>70</td>\n",
       "      <td>2018-06</td>\n",
       "      <td>surf</td>\n",
       "      <td>NaT</td>\n",
       "      <td>CT</td>\n",
       "      <td>False</td>\n",
       "      <td>50</td>\n",
       "      <td>15360</td>\n",
       "      <td>...</td>\n",
       "      <td>0.03</td>\n",
       "      <td>64.0</td>\n",
       "      <td>228.0</td>\n",
       "      <td>32.0</td>\n",
       "      <td>54.0</td>\n",
       "      <td>0.0</td>\n",
       "      <td>0.12</td>\n",
       "      <td>15.0</td>\n",
       "      <td>490.0</td>\n",
       "      <td>490.12</td>\n",
       "    </tr>\n",
       "  </tbody>\n",
       "</table>\n",
       "<p>5 rows × 24 columns</p>\n",
       "</div>"
      ],
      "text/plain": [
       "      user_id    month  age reg_date      plan churn_date     city_abb  \\\n",
       "1988     1165  2018-09   20  2018-10      surf        NaT  PA-NJ-DE-MD   \n",
       "2362     1196  2018-11   46  2018-01  ultimate        NaT           CA   \n",
       "407      1033  2018-12   28  2018-05  ultimate        NaT           OK   \n",
       "5874     1489  2018-07   72  2018-05      surf        NaT           MI   \n",
       "5337     1444  2018-10   70  2018-06      surf        NaT           CT   \n",
       "\n",
       "      is_ny_nj  messages_included  mb_per_month_included  ...  usd_per_minute  \\\n",
       "1988     False                 50                  15360  ...            0.03   \n",
       "2362     False               1000                  30720  ...            0.01   \n",
       "407      False               1000                  30720  ...            0.01   \n",
       "5874     False                 50                  15360  ...            0.03   \n",
       "5337     False                 50                  15360  ...            0.03   \n",
       "\n",
       "      gb_used  duration_minutes  count_call   sms  extra_calls  \\\n",
       "1988      NaN               NaN         NaN   NaN          0.0   \n",
       "2362     40.0             583.0        76.0  31.0          0.0   \n",
       "407      55.0             596.0        98.0  32.0          0.0   \n",
       "5874      NaN               NaN         NaN   NaN          0.0   \n",
       "5337     64.0             228.0        32.0  54.0          0.0   \n",
       "\n",
       "      extra_messages  gb_per_month_included  extra_internet  total_extra_cost  \n",
       "1988            0.00                   15.0             0.0              0.00  \n",
       "2362            0.00                   30.0            70.0             70.00  \n",
       "407             0.00                   30.0           175.0            175.00  \n",
       "5874            0.00                   15.0             0.0              0.00  \n",
       "5337            0.12                   15.0           490.0            490.12  \n",
       "\n",
       "[5 rows x 24 columns]"
      ]
     },
     "execution_count": 61,
     "metadata": {},
     "output_type": "execute_result"
    }
   ],
   "source": [
    "# Menghitung total biaya lebih pada setiap baris\n",
    "dataset['total_extra_cost'] = dataset['extra_calls'] + dataset['extra_messages'] + dataset['extra_internet'] \n",
    "dataset.sample(5)"
   ]
  },
  {
   "cell_type": "code",
   "execution_count": 62,
   "metadata": {
    "colab": {
     "base_uri": "https://localhost:8080/",
     "height": 386
    },
    "id": "hLREa1_U3mHW",
    "outputId": "e493d451-ca76-4abe-fec7-ffe5a1ffa184"
   },
   "outputs": [
    {
     "data": {
      "text/html": [
       "<div>\n",
       "<style scoped>\n",
       "    .dataframe tbody tr th:only-of-type {\n",
       "        vertical-align: middle;\n",
       "    }\n",
       "\n",
       "    .dataframe tbody tr th {\n",
       "        vertical-align: top;\n",
       "    }\n",
       "\n",
       "    .dataframe thead th {\n",
       "        text-align: right;\n",
       "    }\n",
       "</style>\n",
       "<table border=\"1\" class=\"dataframe\">\n",
       "  <thead>\n",
       "    <tr style=\"text-align: right;\">\n",
       "      <th></th>\n",
       "      <th>user_id</th>\n",
       "      <th>month</th>\n",
       "      <th>age</th>\n",
       "      <th>reg_date</th>\n",
       "      <th>plan</th>\n",
       "      <th>churn_date</th>\n",
       "      <th>city_abb</th>\n",
       "      <th>is_ny_nj</th>\n",
       "      <th>messages_included</th>\n",
       "      <th>mb_per_month_included</th>\n",
       "      <th>...</th>\n",
       "      <th>gb_used</th>\n",
       "      <th>duration_minutes</th>\n",
       "      <th>count_call</th>\n",
       "      <th>sms</th>\n",
       "      <th>extra_calls</th>\n",
       "      <th>extra_messages</th>\n",
       "      <th>gb_per_month_included</th>\n",
       "      <th>extra_internet</th>\n",
       "      <th>total_extra_cost</th>\n",
       "      <th>total_revenue</th>\n",
       "    </tr>\n",
       "  </thead>\n",
       "  <tbody>\n",
       "    <tr>\n",
       "      <th>4299</th>\n",
       "      <td>1358</td>\n",
       "      <td>2018-04</td>\n",
       "      <td>20</td>\n",
       "      <td>2018-04</td>\n",
       "      <td>surf</td>\n",
       "      <td>2018-10</td>\n",
       "      <td>NY-NJ-PA</td>\n",
       "      <td>True</td>\n",
       "      <td>50</td>\n",
       "      <td>15360</td>\n",
       "      <td>...</td>\n",
       "      <td>5.0</td>\n",
       "      <td>58.0</td>\n",
       "      <td>7.0</td>\n",
       "      <td>1.0</td>\n",
       "      <td>0.0</td>\n",
       "      <td>0.0</td>\n",
       "      <td>15.0</td>\n",
       "      <td>0.0</td>\n",
       "      <td>0.0</td>\n",
       "      <td>20.0</td>\n",
       "    </tr>\n",
       "    <tr>\n",
       "      <th>4061</th>\n",
       "      <td>1338</td>\n",
       "      <td>2018-06</td>\n",
       "      <td>21</td>\n",
       "      <td>2018-08</td>\n",
       "      <td>surf</td>\n",
       "      <td>NaT</td>\n",
       "      <td>MN-WI</td>\n",
       "      <td>False</td>\n",
       "      <td>50</td>\n",
       "      <td>15360</td>\n",
       "      <td>...</td>\n",
       "      <td>NaN</td>\n",
       "      <td>NaN</td>\n",
       "      <td>NaN</td>\n",
       "      <td>NaN</td>\n",
       "      <td>0.0</td>\n",
       "      <td>0.0</td>\n",
       "      <td>15.0</td>\n",
       "      <td>0.0</td>\n",
       "      <td>0.0</td>\n",
       "      <td>20.0</td>\n",
       "    </tr>\n",
       "    <tr>\n",
       "      <th>5032</th>\n",
       "      <td>1419</td>\n",
       "      <td>2018-05</td>\n",
       "      <td>45</td>\n",
       "      <td>2018-03</td>\n",
       "      <td>surf</td>\n",
       "      <td>NaT</td>\n",
       "      <td>AZ</td>\n",
       "      <td>False</td>\n",
       "      <td>50</td>\n",
       "      <td>15360</td>\n",
       "      <td>...</td>\n",
       "      <td>NaN</td>\n",
       "      <td>NaN</td>\n",
       "      <td>NaN</td>\n",
       "      <td>NaN</td>\n",
       "      <td>0.0</td>\n",
       "      <td>0.0</td>\n",
       "      <td>15.0</td>\n",
       "      <td>0.0</td>\n",
       "      <td>0.0</td>\n",
       "      <td>20.0</td>\n",
       "    </tr>\n",
       "    <tr>\n",
       "      <th>4622</th>\n",
       "      <td>1385</td>\n",
       "      <td>2018-03</td>\n",
       "      <td>52</td>\n",
       "      <td>2018-01</td>\n",
       "      <td>surf</td>\n",
       "      <td>NaT</td>\n",
       "      <td>NY-NJ-PA</td>\n",
       "      <td>True</td>\n",
       "      <td>50</td>\n",
       "      <td>15360</td>\n",
       "      <td>...</td>\n",
       "      <td>7.0</td>\n",
       "      <td>75.0</td>\n",
       "      <td>12.0</td>\n",
       "      <td>4.0</td>\n",
       "      <td>0.0</td>\n",
       "      <td>0.0</td>\n",
       "      <td>15.0</td>\n",
       "      <td>0.0</td>\n",
       "      <td>0.0</td>\n",
       "      <td>20.0</td>\n",
       "    </tr>\n",
       "    <tr>\n",
       "      <th>5770</th>\n",
       "      <td>1480</td>\n",
       "      <td>2018-11</td>\n",
       "      <td>46</td>\n",
       "      <td>2018-12</td>\n",
       "      <td>surf</td>\n",
       "      <td>NaT</td>\n",
       "      <td>MO-IL</td>\n",
       "      <td>False</td>\n",
       "      <td>50</td>\n",
       "      <td>15360</td>\n",
       "      <td>...</td>\n",
       "      <td>NaN</td>\n",
       "      <td>NaN</td>\n",
       "      <td>NaN</td>\n",
       "      <td>NaN</td>\n",
       "      <td>0.0</td>\n",
       "      <td>0.0</td>\n",
       "      <td>15.0</td>\n",
       "      <td>0.0</td>\n",
       "      <td>0.0</td>\n",
       "      <td>20.0</td>\n",
       "    </tr>\n",
       "  </tbody>\n",
       "</table>\n",
       "<p>5 rows × 25 columns</p>\n",
       "</div>"
      ],
      "text/plain": [
       "      user_id    month  age reg_date  plan churn_date  city_abb  is_ny_nj  \\\n",
       "4299     1358  2018-04   20  2018-04  surf    2018-10  NY-NJ-PA      True   \n",
       "4061     1338  2018-06   21  2018-08  surf        NaT     MN-WI     False   \n",
       "5032     1419  2018-05   45  2018-03  surf        NaT        AZ     False   \n",
       "4622     1385  2018-03   52  2018-01  surf        NaT  NY-NJ-PA      True   \n",
       "5770     1480  2018-11   46  2018-12  surf        NaT     MO-IL     False   \n",
       "\n",
       "      messages_included  mb_per_month_included  ...  gb_used  \\\n",
       "4299                 50                  15360  ...      5.0   \n",
       "4061                 50                  15360  ...      NaN   \n",
       "5032                 50                  15360  ...      NaN   \n",
       "4622                 50                  15360  ...      7.0   \n",
       "5770                 50                  15360  ...      NaN   \n",
       "\n",
       "      duration_minutes  count_call  sms  extra_calls  extra_messages  \\\n",
       "4299              58.0         7.0  1.0          0.0             0.0   \n",
       "4061               NaN         NaN  NaN          0.0             0.0   \n",
       "5032               NaN         NaN  NaN          0.0             0.0   \n",
       "4622              75.0        12.0  4.0          0.0             0.0   \n",
       "5770               NaN         NaN  NaN          0.0             0.0   \n",
       "\n",
       "      gb_per_month_included  extra_internet  total_extra_cost  total_revenue  \n",
       "4299                   15.0             0.0               0.0           20.0  \n",
       "4061                   15.0             0.0               0.0           20.0  \n",
       "5032                   15.0             0.0               0.0           20.0  \n",
       "4622                   15.0             0.0               0.0           20.0  \n",
       "5770                   15.0             0.0               0.0           20.0  \n",
       "\n",
       "[5 rows x 25 columns]"
      ]
     },
     "execution_count": 62,
     "metadata": {},
     "output_type": "execute_result"
    }
   ],
   "source": [
    "# Menghitung seluruh pendapatan pada setiap baris\n",
    "dataset['total_revenue'] = dataset['usd_monthly_pay'] + dataset['total_extra_cost'] \n",
    "dataset.sample(5)"
   ]
  },
  {
   "cell_type": "code",
   "execution_count": 63,
   "metadata": {
    "colab": {
     "base_uri": "https://localhost:8080/"
    },
    "id": "UqyriniVslQ0",
    "outputId": "e29e5e06-060f-4ecb-ee30-5fb6f9f7fde3"
   },
   "outputs": [
    {
     "data": {
      "text/plain": [
       "(5784, 25)"
      ]
     },
     "execution_count": 63,
     "metadata": {},
     "output_type": "execute_result"
    }
   ],
   "source": [
    "# Menampilkan jumlah baris dan kolom\n",
    "dataset.shape"
   ]
  },
  {
   "cell_type": "code",
   "execution_count": 64,
   "metadata": {
    "id": "lJfGkAuks1ey"
   },
   "outputs": [],
   "source": [
    "# Menambah maksimal kolom yang dapat ditampilkan\n",
    "pd.options.display.max_columns = 100"
   ]
  },
  {
   "cell_type": "code",
   "execution_count": 65,
   "metadata": {
    "colab": {
     "base_uri": "https://localhost:8080/",
     "height": 357
    },
    "id": "V9FTuJWgtCf7",
    "outputId": "b93362fb-769d-4156-f30e-5a0d374691fb",
    "scrolled": true
   },
   "outputs": [
    {
     "data": {
      "text/html": [
       "<div>\n",
       "<style scoped>\n",
       "    .dataframe tbody tr th:only-of-type {\n",
       "        vertical-align: middle;\n",
       "    }\n",
       "\n",
       "    .dataframe tbody tr th {\n",
       "        vertical-align: top;\n",
       "    }\n",
       "\n",
       "    .dataframe thead th {\n",
       "        text-align: right;\n",
       "    }\n",
       "</style>\n",
       "<table border=\"1\" class=\"dataframe\">\n",
       "  <thead>\n",
       "    <tr style=\"text-align: right;\">\n",
       "      <th></th>\n",
       "      <th>user_id</th>\n",
       "      <th>month</th>\n",
       "      <th>age</th>\n",
       "      <th>reg_date</th>\n",
       "      <th>plan</th>\n",
       "      <th>churn_date</th>\n",
       "      <th>city_abb</th>\n",
       "      <th>is_ny_nj</th>\n",
       "      <th>messages_included</th>\n",
       "      <th>mb_per_month_included</th>\n",
       "      <th>minutes_included</th>\n",
       "      <th>usd_monthly_pay</th>\n",
       "      <th>usd_per_gb</th>\n",
       "      <th>usd_per_message</th>\n",
       "      <th>usd_per_minute</th>\n",
       "      <th>gb_used</th>\n",
       "      <th>duration_minutes</th>\n",
       "      <th>count_call</th>\n",
       "      <th>sms</th>\n",
       "      <th>extra_calls</th>\n",
       "      <th>extra_messages</th>\n",
       "      <th>gb_per_month_included</th>\n",
       "      <th>extra_internet</th>\n",
       "      <th>total_extra_cost</th>\n",
       "      <th>total_revenue</th>\n",
       "    </tr>\n",
       "  </thead>\n",
       "  <tbody>\n",
       "    <tr>\n",
       "      <th>1741</th>\n",
       "      <td>1145</td>\n",
       "      <td>2018-02</td>\n",
       "      <td>29</td>\n",
       "      <td>2018-04</td>\n",
       "      <td>surf</td>\n",
       "      <td>NaT</td>\n",
       "      <td>CA</td>\n",
       "      <td>False</td>\n",
       "      <td>50</td>\n",
       "      <td>15360</td>\n",
       "      <td>500</td>\n",
       "      <td>20</td>\n",
       "      <td>10</td>\n",
       "      <td>0.03</td>\n",
       "      <td>0.03</td>\n",
       "      <td>NaN</td>\n",
       "      <td>NaN</td>\n",
       "      <td>NaN</td>\n",
       "      <td>NaN</td>\n",
       "      <td>0.0</td>\n",
       "      <td>0.0</td>\n",
       "      <td>15.0</td>\n",
       "      <td>0.0</td>\n",
       "      <td>0.0</td>\n",
       "      <td>20.0</td>\n",
       "    </tr>\n",
       "    <tr>\n",
       "      <th>5176</th>\n",
       "      <td>1431</td>\n",
       "      <td>2018-05</td>\n",
       "      <td>74</td>\n",
       "      <td>2018-01</td>\n",
       "      <td>surf</td>\n",
       "      <td>NaT</td>\n",
       "      <td>CA</td>\n",
       "      <td>False</td>\n",
       "      <td>50</td>\n",
       "      <td>15360</td>\n",
       "      <td>500</td>\n",
       "      <td>20</td>\n",
       "      <td>10</td>\n",
       "      <td>0.03</td>\n",
       "      <td>0.03</td>\n",
       "      <td>NaN</td>\n",
       "      <td>NaN</td>\n",
       "      <td>NaN</td>\n",
       "      <td>NaN</td>\n",
       "      <td>0.0</td>\n",
       "      <td>0.0</td>\n",
       "      <td>15.0</td>\n",
       "      <td>0.0</td>\n",
       "      <td>0.0</td>\n",
       "      <td>20.0</td>\n",
       "    </tr>\n",
       "    <tr>\n",
       "      <th>826</th>\n",
       "      <td>1068</td>\n",
       "      <td>2018-11</td>\n",
       "      <td>47</td>\n",
       "      <td>2018-01</td>\n",
       "      <td>surf</td>\n",
       "      <td>NaT</td>\n",
       "      <td>NY-NJ-PA</td>\n",
       "      <td>True</td>\n",
       "      <td>50</td>\n",
       "      <td>15360</td>\n",
       "      <td>500</td>\n",
       "      <td>20</td>\n",
       "      <td>10</td>\n",
       "      <td>0.03</td>\n",
       "      <td>0.03</td>\n",
       "      <td>38.0</td>\n",
       "      <td>207.0</td>\n",
       "      <td>34.0</td>\n",
       "      <td>NaN</td>\n",
       "      <td>0.0</td>\n",
       "      <td>0.0</td>\n",
       "      <td>15.0</td>\n",
       "      <td>230.0</td>\n",
       "      <td>230.0</td>\n",
       "      <td>250.0</td>\n",
       "    </tr>\n",
       "    <tr>\n",
       "      <th>2883</th>\n",
       "      <td>1240</td>\n",
       "      <td>2018-04</td>\n",
       "      <td>61</td>\n",
       "      <td>2018-03</td>\n",
       "      <td>surf</td>\n",
       "      <td>NaT</td>\n",
       "      <td>LA</td>\n",
       "      <td>False</td>\n",
       "      <td>50</td>\n",
       "      <td>15360</td>\n",
       "      <td>500</td>\n",
       "      <td>20</td>\n",
       "      <td>10</td>\n",
       "      <td>0.03</td>\n",
       "      <td>0.03</td>\n",
       "      <td>NaN</td>\n",
       "      <td>NaN</td>\n",
       "      <td>NaN</td>\n",
       "      <td>NaN</td>\n",
       "      <td>0.0</td>\n",
       "      <td>0.0</td>\n",
       "      <td>15.0</td>\n",
       "      <td>0.0</td>\n",
       "      <td>0.0</td>\n",
       "      <td>20.0</td>\n",
       "    </tr>\n",
       "    <tr>\n",
       "      <th>1470</th>\n",
       "      <td>1122</td>\n",
       "      <td>2018-07</td>\n",
       "      <td>57</td>\n",
       "      <td>2018-03</td>\n",
       "      <td>surf</td>\n",
       "      <td>NaT</td>\n",
       "      <td>FL</td>\n",
       "      <td>False</td>\n",
       "      <td>50</td>\n",
       "      <td>15360</td>\n",
       "      <td>500</td>\n",
       "      <td>20</td>\n",
       "      <td>10</td>\n",
       "      <td>0.03</td>\n",
       "      <td>0.03</td>\n",
       "      <td>47.0</td>\n",
       "      <td>361.0</td>\n",
       "      <td>57.0</td>\n",
       "      <td>19.0</td>\n",
       "      <td>0.0</td>\n",
       "      <td>0.0</td>\n",
       "      <td>15.0</td>\n",
       "      <td>320.0</td>\n",
       "      <td>320.0</td>\n",
       "      <td>340.0</td>\n",
       "    </tr>\n",
       "  </tbody>\n",
       "</table>\n",
       "</div>"
      ],
      "text/plain": [
       "      user_id    month  age reg_date  plan churn_date  city_abb  is_ny_nj  \\\n",
       "1741     1145  2018-02   29  2018-04  surf        NaT        CA     False   \n",
       "5176     1431  2018-05   74  2018-01  surf        NaT        CA     False   \n",
       "826      1068  2018-11   47  2018-01  surf        NaT  NY-NJ-PA      True   \n",
       "2883     1240  2018-04   61  2018-03  surf        NaT        LA     False   \n",
       "1470     1122  2018-07   57  2018-03  surf        NaT        FL     False   \n",
       "\n",
       "      messages_included  mb_per_month_included  minutes_included  \\\n",
       "1741                 50                  15360               500   \n",
       "5176                 50                  15360               500   \n",
       "826                  50                  15360               500   \n",
       "2883                 50                  15360               500   \n",
       "1470                 50                  15360               500   \n",
       "\n",
       "      usd_monthly_pay  usd_per_gb  usd_per_message  usd_per_minute  gb_used  \\\n",
       "1741               20          10             0.03            0.03      NaN   \n",
       "5176               20          10             0.03            0.03      NaN   \n",
       "826                20          10             0.03            0.03     38.0   \n",
       "2883               20          10             0.03            0.03      NaN   \n",
       "1470               20          10             0.03            0.03     47.0   \n",
       "\n",
       "      duration_minutes  count_call   sms  extra_calls  extra_messages  \\\n",
       "1741               NaN         NaN   NaN          0.0             0.0   \n",
       "5176               NaN         NaN   NaN          0.0             0.0   \n",
       "826              207.0        34.0   NaN          0.0             0.0   \n",
       "2883               NaN         NaN   NaN          0.0             0.0   \n",
       "1470             361.0        57.0  19.0          0.0             0.0   \n",
       "\n",
       "      gb_per_month_included  extra_internet  total_extra_cost  total_revenue  \n",
       "1741                   15.0             0.0               0.0           20.0  \n",
       "5176                   15.0             0.0               0.0           20.0  \n",
       "826                    15.0           230.0             230.0          250.0  \n",
       "2883                   15.0             0.0               0.0           20.0  \n",
       "1470                   15.0           320.0             320.0          340.0  "
      ]
     },
     "execution_count": 65,
     "metadata": {},
     "output_type": "execute_result"
    }
   ],
   "source": [
    "# Menampilkan ulang dataset dengan seluruh kolomnya\n",
    "dataset.sample(5)"
   ]
  },
  {
   "cell_type": "markdown",
   "metadata": {
    "id": "WxRwVBTfDyWJ"
   },
   "source": [
    "<div class=\"alert alert-success\">\n",
    "<b>Chamdani's comment v.1</b> <a class=\"tocSkip\"></a>\n",
    "\n",
    "Kerja bagus!\n",
    "\n",
    "</div>"
   ]
  },
  {
   "cell_type": "markdown",
   "metadata": {
    "id": "atFH_STrwoQ9"
   },
   "source": [
    "# 8 Analisis Data Eksploratif"
   ]
  },
  {
   "cell_type": "markdown",
   "metadata": {
    "id": "nXOWhrqmMryv"
   },
   "source": [
    "Analisis data eksploratif bertujuan menggambarkan perilaku konsumen berdasarkan distribusi panggilan, pesan dan penggunaan internet per bulan. Pertanyaan berikut merupakan acuan untuk mendapatkan deskripsi perilaku konsumen:\n",
    "1. Bagaimana distribusi durasi telepon per bulan di tiap paketnya?\n",
    "2. Bagaimana distribusi sms per bulan di tiap paketnya?\n",
    "3. Bagaimana distribusi internet per bulan di tiap paketnya? \n",
    "4. Bagaimana pendapatan per bulan dari tiap plan?\n",
    "5. Seberapa banyak orang yang bayar biaya ekstra di tiap plan?\n",
    "6. Bagaimana pengaruh biaya ekstra terhadap distribusi pendapatan?\n",
    "7. Adakah hubungan antara paket dengan usia user?"
   ]
  },
  {
   "cell_type": "code",
   "execution_count": 66,
   "metadata": {
    "id": "0aNSo4RkcLsU"
   },
   "outputs": [],
   "source": [
    "# Membuat fungsi distribusi perbandingan dua paket layanan\n",
    "def deskriptif_stats(dataset, value_col, group_col):\n",
    "    groups = dataset[group_col].unique()\n",
    "    for group in groups:\n",
    "        print(f'Paket: {group}')\n",
    "        sample = dataset.loc[dataset[group_col]==group, value_col]\n",
    "        median = round(sample.median(), 1)\n",
    "        mean   = round(sample.mean(), 1)\n",
    "        std    = round(sample.std(), 1)\n",
    "        var    = round(sample.var(), 1)\n",
    "        print('Median. :', median)\n",
    "        print('Mean    :', mean)\n",
    "        print('Stddev  :', std)\n",
    "        print('Variance:', var)\n",
    "        print('----------------------------------')"
   ]
  },
  {
   "cell_type": "markdown",
   "metadata": {
    "id": "2iO5xRKZv0JB"
   },
   "source": [
    "## 8.1 Distribusi Penggunaan Paket Layanan"
   ]
  },
  {
   "cell_type": "code",
   "execution_count": 67,
   "metadata": {
    "id": "TU_iDJ4AXDW7"
   },
   "outputs": [],
   "source": [
    "# Memisahkan user paket ultimate dan surf\n",
    "ultimate_users = dataset.query('plan == \"ultimate\"')\n",
    "surf_users = dataset.query('plan ==\"surf\"')"
   ]
  },
  {
   "cell_type": "markdown",
   "metadata": {
    "id": "EcuOLNk4DyWK"
   },
   "source": [
    "<div class=\"alert alert-success\">\n",
    "<b>Chamdani's comment v.1</b> <a class=\"tocSkip\"></a>\n",
    "\n",
    "Kerja bagus!\n",
    "\n",
    "</div>"
   ]
  },
  {
   "cell_type": "markdown",
   "metadata": {
    "id": "Y9xbgpXCUZBM"
   },
   "source": [
    "### 8.1.1 Distribusi Penggunaan Panggilan"
   ]
  },
  {
   "cell_type": "code",
   "execution_count": 68,
   "metadata": {
    "colab": {
     "base_uri": "https://localhost:8080/",
     "height": 484
    },
    "id": "mxr1zxjSpzaF",
    "outputId": "2f29ae28-c984-4339-ac08-3c1c65e80479"
   },
   "outputs": [
    {
     "data": {
      "image/png": "[encoded data removed]",
      "text/plain": [
       "<Figure size 576x432 with 1 Axes>"
      ]
     },
     "metadata": {
      "needs_background": "light"
     },
     "output_type": "display_data"
    }
   ],
   "source": [
    "# Distribusi Panggilan antar Paket\n",
    "plt.figure(figsize=(8, 6))\n",
    "plt.title('Distribusi durasi panggilan antar Paket')\n",
    "plt.hist([ultimate_users['duration_minutes'], surf_users['duration_minutes']], label= ['ultimate','surf'], density = True )\n",
    "plt.legend()\n",
    "plt.show()"
   ]
  },
  {
   "cell_type": "code",
   "execution_count": 69,
   "metadata": {
    "colab": {
     "base_uri": "https://localhost:8080/"
    },
    "id": "loAEZQ_gt3qO",
    "outputId": "946cc609-90b9-4799-910b-60c2f1db2293"
   },
   "outputs": [
    {
     "name": "stdout",
     "output_type": "stream",
     "text": [
      "Paket: ultimate\n",
      "Median. : 427.0\n",
      "Mean    : 434.4\n",
      "Stddev  : 238.3\n",
      "Variance: 56780.3\n",
      "----------------------------------\n",
      "Paket: surf\n",
      "Median. : 430.0\n",
      "Mean    : 436.7\n",
      "Stddev  : 230.0\n",
      "Variance: 52902.9\n",
      "----------------------------------\n"
     ]
    }
   ],
   "source": [
    "# Menampilkan Median, Mean, Standar Deviasi, dan varians dari data panggilan dengan fungsi distribusi\n",
    "deskriptif_stats(dataset, value_col='duration_minutes', group_col='plan')"
   ]
  },
  {
   "cell_type": "markdown",
   "metadata": {
    "id": "sCqMfYJHk5tX"
   },
   "source": [
    "Dari hasil analisa data dan grafik untuk distribusi penggunaan panggilan dapat disimpulkan sebagai berikut:\n",
    "* Dari grafik terlihat distribusi antara paket ultimate dan surf tidak jauh berbeda. Namun dapat dilihat user yang menggunakan paket ultimate lebih suka panggilan cepat dibanding user yang menggunakan paket surf.\n",
    "* Nilai rata-rata panggilan pada paket ultimate dan surf adalah 434.4 dan 436.7. Nilai median yang tidak terlalu jauh antara paket ultimate dan surf yaitu 427 dan 430. Nilai rata-rata dan median kedua paket ini tidak jauh berbeda. Dan grafik keduanya mendekati simetris.\n",
    "* Jumlah penggunaan panggilan telepon antara kedua paket tidak jauh berbeda, berarti karakteristik pengguna antara kedua paket tidak berbeda."
   ]
  },
  {
   "cell_type": "markdown",
   "metadata": {
    "id": "_lz_38iZDyWL"
   },
   "source": [
    "<div class=\"alert alert-success\">\n",
    "<b>Chamdani's comment v.1</b> <a class=\"tocSkip\"></a>\n",
    "\n",
    "Kerja bagus!\n",
    "\n",
    "</div>"
   ]
  },
  {
   "cell_type": "markdown",
   "metadata": {
    "id": "tFQ3mWDhTIau"
   },
   "source": [
    "### 8.1.2 Distribusi Penggunaan SMS"
   ]
  },
  {
   "cell_type": "code",
   "execution_count": 70,
   "metadata": {
    "colab": {
     "base_uri": "https://localhost:8080/",
     "height": 484
    },
    "id": "Y3kXp1jXPc6L",
    "outputId": "71e986cf-b19e-4d91-a91c-ed0856bcfd02"
   },
   "outputs": [
    {
     "data": {
      "image/png": "[encoded data removed]",
      "text/plain": [
       "<Figure size 576x432 with 1 Axes>"
      ]
     },
     "metadata": {
      "needs_background": "light"
     },
     "output_type": "display_data"
    }
   ],
   "source": [
    "# Distribusi penggunaan SMS antar Paket\n",
    "plt.figure(figsize=(8, 6))\n",
    "plt.title('Distribusi penggunaan SMS antar Paket')\n",
    "plt.hist([ultimate_users['sms'], surf_users['sms']], label= ['ultimate','surf'], density = True )\n",
    "plt.legend()\n",
    "plt.show()"
   ]
  },
  {
   "cell_type": "code",
   "execution_count": 71,
   "metadata": {
    "colab": {
     "base_uri": "https://localhost:8080/"
    },
    "id": "wTqo_GLmWsvu",
    "outputId": "045a924c-6ac5-4489-f18c-3333b8934816"
   },
   "outputs": [
    {
     "name": "stdout",
     "output_type": "stream",
     "text": [
      "Paket: ultimate\n",
      "Median. : 41.0\n",
      "Mean    : 46.6\n",
      "Stddev  : 33.0\n",
      "Variance: 1090.4\n",
      "----------------------------------\n",
      "Paket: surf\n",
      "Median. : 32.0\n",
      "Mean    : 40.0\n",
      "Stddev  : 33.2\n",
      "Variance: 1099.1\n",
      "----------------------------------\n"
     ]
    }
   ],
   "source": [
    "# Menampilkan Median, Mean, Standar Deviasi, dan varians dari data SMS dengan fungsi distribusi\n",
    "deskriptif_stats(dataset, value_col='sms', group_col='plan')"
   ]
  },
  {
   "cell_type": "markdown",
   "metadata": {
    "id": "5Nk2uDHEM1f8"
   },
   "source": [
    "Dari hasil analisa data dan grafik untuk distribusi penggunaan sms dapat disimpulkan sebagai berikut:\n",
    "* Dari grafik terlihat pengguna di kedua paket tidak banyak yang menggunakan SMS per bulannya, terlebih untuk paket surf.\n",
    "* Nilai rata-rata panggilan pada paket ultimate dan surf adalah 46.6 dan 40.\n",
    "* Nilai median pada paket ultimate dan surf adalah 41 dan 32"
   ]
  },
  {
   "cell_type": "markdown",
   "metadata": {
    "id": "EQJWhf78DyWL"
   },
   "source": [
    "<div class=\"alert alert-success\">\n",
    "<b>Chamdani's comment v.1</b> <a class=\"tocSkip\"></a>\n",
    "\n",
    "Kerja bagus!\n",
    "\n",
    "</div>"
   ]
  },
  {
   "cell_type": "markdown",
   "metadata": {
    "id": "EKjbgapMTIil"
   },
   "source": [
    "### 8.1.3 Distribusi Penggunaan Internet"
   ]
  },
  {
   "cell_type": "code",
   "execution_count": 72,
   "metadata": {
    "colab": {
     "base_uri": "https://localhost:8080/",
     "height": 484
    },
    "id": "58imqe2UYaRU",
    "outputId": "20a7c316-ada2-4f5d-88f6-23c76da60b72"
   },
   "outputs": [
    {
     "data": {
      "image/png": "[encoded data removed]",
      "text/plain": [
       "<Figure size 576x432 with 1 Axes>"
      ]
     },
     "metadata": {
      "needs_background": "light"
     },
     "output_type": "display_data"
    }
   ],
   "source": [
    "# Distribusi penggunaan internet\n",
    "plt.figure(figsize=(8, 6))\n",
    "plt.title('Distribusi penggunaan internet antar Paket')\n",
    "plt.hist([ultimate_users['gb_used'], surf_users['gb_used']], label= ['gb_used','surf'], density = True )\n",
    "plt.legend()\n",
    "plt.show()"
   ]
  },
  {
   "cell_type": "code",
   "execution_count": 73,
   "metadata": {
    "colab": {
     "base_uri": "https://localhost:8080/"
    },
    "id": "Jtxl_Iqobey5",
    "outputId": "e4fe6506-5ec2-4edb-818b-302c8c036715"
   },
   "outputs": [
    {
     "name": "stdout",
     "output_type": "stream",
     "text": [
      "Paket: ultimate\n",
      "Median. : 42.0\n",
      "Mean    : 41.1\n",
      "Stddev  : 16.5\n",
      "Variance: 272.0\n",
      "----------------------------------\n",
      "Paket: surf\n",
      "Median. : 42.0\n",
      "Mean    : 40.5\n",
      "Stddev  : 17.4\n",
      "Variance: 302.6\n",
      "----------------------------------\n"
     ]
    }
   ],
   "source": [
    "# Menampilkan Median, Mean, Standar Deviasi, dan varians dari penggunaan internet\n",
    "deskriptif_stats(dataset, value_col='gb_used', group_col='plan')"
   ]
  },
  {
   "cell_type": "markdown",
   "metadata": {
    "id": "DF_FqyB793qT"
   },
   "source": [
    "Dari hasil analisa data dan grafik untuk distribusi penggunaan internet dapat disimpulkan sebagai berikut:\n",
    "* Dari grafik terlihat bahwa user paling banyak menggunakan internet dikisaran 42 GB dengan penggunaan data lebih banyak untuk user yang menggunakan paket ultimate.\n",
    "* Nilai rata-rata untuk paket ultimate dan surf adalah 41.1 dan 40.5, sedangkan nilai median kedua paket adalah sama yakni 42.\n",
    "* Grafik untuk kedua paket ini hampir simetris yang memiliki sedikit nilai ekstrim dikisaran 100 gb."
   ]
  },
  {
   "cell_type": "markdown",
   "metadata": {
    "id": "RIE4LOL-DyWM"
   },
   "source": [
    "<div class=\"alert alert-success\">\n",
    "<b>Chamdani's comment v.1</b> <a class=\"tocSkip\"></a>\n",
    "\n",
    "Kerja bagus!\n",
    "\n",
    "</div>"
   ]
  },
  {
   "cell_type": "markdown",
   "metadata": {
    "id": "5tXEq9quUlCj"
   },
   "source": [
    "## 8.2 Distribusi Pendapatan Paket Layanan"
   ]
  },
  {
   "cell_type": "code",
   "execution_count": 74,
   "metadata": {
    "colab": {
     "base_uri": "https://localhost:8080/",
     "height": 351
    },
    "id": "ShFhcXoax18D",
    "outputId": "1b5aa2c3-792b-4793-9964-35d060d6a9dd"
   },
   "outputs": [
    {
     "data": {
      "image/png": "[encoded data removed]",
      "text/plain": [
       "<Figure size 576x360 with 1 Axes>"
      ]
     },
     "metadata": {
      "needs_background": "light"
     },
     "output_type": "display_data"
    }
   ],
   "source": [
    "# Menampilkan grafik pendapatan dari kedua paket\n",
    "plt.figure(figsize=(8, 5))\n",
    "plt.title('Distribusi Pendapatan: Surf vs Ultimate')\n",
    "sns.violinplot(data=dataset, x='total_revenue', y='plan')\n",
    "plt.show()"
   ]
  },
  {
   "cell_type": "code",
   "execution_count": 75,
   "metadata": {
    "colab": {
     "base_uri": "https://localhost:8080/"
    },
    "id": "ev6d1IH7yz29",
    "outputId": "04342615-0b21-4940-b13e-9bd14fd281b7"
   },
   "outputs": [
    {
     "name": "stdout",
     "output_type": "stream",
     "text": [
      "Paket: ultimate\n",
      "Median. : 70.0\n",
      "Mean    : 106.6\n",
      "Stddev  : 71.2\n",
      "Variance: 5073.6\n",
      "----------------------------------\n",
      "Paket: surf\n",
      "Median. : 20.0\n",
      "Mean    : 123.6\n",
      "Stddev  : 163.7\n",
      "Variance: 26800.5\n",
      "----------------------------------\n"
     ]
    }
   ],
   "source": [
    "# Menampilkan Median, Mean, Standar Deviasi, dan varians dari data pendapatan dengan fungsi distribusi\n",
    "deskriptif_stats(dataset, value_col='total_revenue', group_col='plan')"
   ]
  },
  {
   "cell_type": "markdown",
   "metadata": {
    "id": "b3Pmu0R-zNM7"
   },
   "source": [
    "Dari pengamatan data dan grafik kita dapat menarik kesimpulan sebagai berikut:\n",
    "1. Pendapatan paket ultimate lebih besar daripada pendapatan paket surf, namun nilai ekstrem pada paket surf jauh lebih besar dari pada paket ultimate. Fakta ini juga didukung oleh nilai varians yang sangat tinggi.\n",
    "2. Ada selisih yang signifikan antara median dan rata-rata pada paket surf (20 dan 123.6). Temuan ini diperkuat dengan besarnya nilai standar dan varians dari paket surf (163.7 dan 26800.5). Sedangkan perbedaan antara median dan rata-rata pada paket ultimate tidak terlalu besar seperti pada paket surf.\n",
    "3. Fenomena ini cukup menarik sehingga perlu dilakukan analisa lebih lanjut terhadap biaya ekstra yang sangat mempengaruhi total pendapatan."
   ]
  },
  {
   "cell_type": "markdown",
   "metadata": {
    "id": "_TT-Ghf6DyWM"
   },
   "source": [
    "<div class=\"alert alert-success\">\n",
    "<b>Chamdani's comment v.1</b> <a class=\"tocSkip\"></a>\n",
    "\n",
    "Kerja bagus!\n",
    "\n",
    "</div>"
   ]
  },
  {
   "cell_type": "markdown",
   "metadata": {
    "id": "tO8KXxbGmudl"
   },
   "source": [
    "## 8.3 Distribusi Biaya Ekstra pada kedua paket\n",
    "---\n",
    "\n"
   ]
  },
  {
   "cell_type": "code",
   "execution_count": 76,
   "metadata": {
    "colab": {
     "base_uri": "https://localhost:8080/"
    },
    "id": "MGLZLjVS42BD",
    "outputId": "56bf37d6-7bc2-43f0-9375-b3ca1033a69b"
   },
   "outputs": [
    {
     "data": {
      "text/plain": [
       "plan\n",
       "surf        1406\n",
       "ultimate     548\n",
       "Name: user_id, dtype: int64"
      ]
     },
     "execution_count": 76,
     "metadata": {},
     "output_type": "execute_result"
    }
   ],
   "source": [
    "# Menampilkan banyak orangnya membayar biaya ekstra di luar paket\n",
    "dataset.loc[dataset.total_extra_cost > 0].groupby(['plan']).count()['user_id']"
   ]
  },
  {
   "cell_type": "code",
   "execution_count": 77,
   "metadata": {
    "colab": {
     "base_uri": "https://localhost:8080/"
    },
    "id": "gcV30YkN54s9",
    "outputId": "28307482-fe37-4409-fe1c-b0a24fa29ff1"
   },
   "outputs": [
    {
     "data": {
      "text/plain": [
       "plan\n",
       "surf        35.940695\n",
       "ultimate    29.273504\n",
       "Name: user_id, dtype: float64"
      ]
     },
     "execution_count": 77,
     "metadata": {},
     "output_type": "execute_result"
    }
   ],
   "source": [
    "# Menampilkan persentase orang yang membayar biaya ekstra di luar paket\n",
    "(dataset.loc[dataset.total_extra_cost > 0].groupby(['plan']).count()['user_id'] / dataset.groupby(['plan']).count()['user_id']) * 100"
   ]
  },
  {
   "cell_type": "code",
   "execution_count": 78,
   "metadata": {
    "colab": {
     "base_uri": "https://localhost:8080/",
     "height": 206
    },
    "id": "l1gceazIjT0c",
    "outputId": "480c018e-ff1e-4dbe-d6b4-c9f22da734a7"
   },
   "outputs": [
    {
     "data": {
      "text/html": [
       "<div>\n",
       "<style scoped>\n",
       "    .dataframe tbody tr th:only-of-type {\n",
       "        vertical-align: middle;\n",
       "    }\n",
       "\n",
       "    .dataframe tbody tr th {\n",
       "        vertical-align: top;\n",
       "    }\n",
       "\n",
       "    .dataframe thead th {\n",
       "        text-align: right;\n",
       "    }\n",
       "</style>\n",
       "<table border=\"1\" class=\"dataframe\">\n",
       "  <thead>\n",
       "    <tr style=\"text-align: right;\">\n",
       "      <th>plan</th>\n",
       "      <th>month</th>\n",
       "      <th>surf</th>\n",
       "      <th>ultimate</th>\n",
       "    </tr>\n",
       "  </thead>\n",
       "  <tbody>\n",
       "    <tr>\n",
       "      <th>4</th>\n",
       "      <td>2018-05</td>\n",
       "      <td>6520</td>\n",
       "      <td>10990</td>\n",
       "    </tr>\n",
       "    <tr>\n",
       "      <th>10</th>\n",
       "      <td>2018-11</td>\n",
       "      <td>6600</td>\n",
       "      <td>10920</td>\n",
       "    </tr>\n",
       "    <tr>\n",
       "      <th>3</th>\n",
       "      <td>2018-04</td>\n",
       "      <td>6500</td>\n",
       "      <td>10990</td>\n",
       "    </tr>\n",
       "    <tr>\n",
       "      <th>0</th>\n",
       "      <td>2018-01</td>\n",
       "      <td>6340</td>\n",
       "      <td>10780</td>\n",
       "    </tr>\n",
       "    <tr>\n",
       "      <th>9</th>\n",
       "      <td>2018-10</td>\n",
       "      <td>6640</td>\n",
       "      <td>10920</td>\n",
       "    </tr>\n",
       "  </tbody>\n",
       "</table>\n",
       "</div>"
      ],
      "text/plain": [
       "plan    month  surf  ultimate\n",
       "4     2018-05  6520     10990\n",
       "10    2018-11  6600     10920\n",
       "3     2018-04  6500     10990\n",
       "0     2018-01  6340     10780\n",
       "9     2018-10  6640     10920"
      ]
     },
     "execution_count": 78,
     "metadata": {},
     "output_type": "execute_result"
    }
   ],
   "source": [
    "# Perbandingan total pendapatan diluar biaya ekstra\n",
    "usd_monthly_pay = pd.pivot_table(dataset, index='month', columns='plan', values='usd_monthly_pay', aggfunc='sum').reset_index()\n",
    "usd_monthly_pay.sample(5)"
   ]
  },
  {
   "cell_type": "code",
   "execution_count": 79,
   "metadata": {
    "colab": {
     "base_uri": "https://localhost:8080/",
     "height": 206
    },
    "id": "2-2NRHHeWprI",
    "outputId": "893a2a0e-5bc6-4d60-d86f-8e2a7a591415"
   },
   "outputs": [
    {
     "data": {
      "text/html": [
       "<div>\n",
       "<style scoped>\n",
       "    .dataframe tbody tr th:only-of-type {\n",
       "        vertical-align: middle;\n",
       "    }\n",
       "\n",
       "    .dataframe tbody tr th {\n",
       "        vertical-align: top;\n",
       "    }\n",
       "\n",
       "    .dataframe thead th {\n",
       "        text-align: right;\n",
       "    }\n",
       "</style>\n",
       "<table border=\"1\" class=\"dataframe\">\n",
       "  <thead>\n",
       "    <tr style=\"text-align: right;\">\n",
       "      <th>plan</th>\n",
       "      <th>month</th>\n",
       "      <th>surf</th>\n",
       "      <th>ultimate</th>\n",
       "    </tr>\n",
       "  </thead>\n",
       "  <tbody>\n",
       "    <tr>\n",
       "      <th>7</th>\n",
       "      <td>2018-08</td>\n",
       "      <td>49606.85</td>\n",
       "      <td>18242.0</td>\n",
       "    </tr>\n",
       "    <tr>\n",
       "      <th>2</th>\n",
       "      <td>2018-03</td>\n",
       "      <td>10676.65</td>\n",
       "      <td>12418.0</td>\n",
       "    </tr>\n",
       "    <tr>\n",
       "      <th>9</th>\n",
       "      <td>2018-10</td>\n",
       "      <td>71408.02</td>\n",
       "      <td>20839.0</td>\n",
       "    </tr>\n",
       "    <tr>\n",
       "      <th>6</th>\n",
       "      <td>2018-07</td>\n",
       "      <td>38693.56</td>\n",
       "      <td>16492.0</td>\n",
       "    </tr>\n",
       "    <tr>\n",
       "      <th>4</th>\n",
       "      <td>2018-05</td>\n",
       "      <td>22367.37</td>\n",
       "      <td>13503.0</td>\n",
       "    </tr>\n",
       "  </tbody>\n",
       "</table>\n",
       "</div>"
      ],
      "text/plain": [
       "plan    month      surf  ultimate\n",
       "7     2018-08  49606.85   18242.0\n",
       "2     2018-03  10676.65   12418.0\n",
       "9     2018-10  71408.02   20839.0\n",
       "6     2018-07  38693.56   16492.0\n",
       "4     2018-05  22367.37   13503.0"
      ]
     },
     "execution_count": 79,
     "metadata": {},
     "output_type": "execute_result"
    }
   ],
   "source": [
    "# Perbandingan total pendapatan termasuk biaya ekstra\n",
    "total_revenue = pd.pivot_table(dataset, index='month', columns='plan', values='total_revenue', aggfunc='sum').reset_index()\n",
    "total_revenue.sample(5)"
   ]
  },
  {
   "cell_type": "code",
   "execution_count": 80,
   "metadata": {
    "colab": {
     "base_uri": "https://localhost:8080/",
     "height": 206
    },
    "id": "1y0Ux53uHext",
    "outputId": "27b27b53-44d4-4771-ccaa-b6167b63187f"
   },
   "outputs": [
    {
     "data": {
      "text/html": [
       "<div>\n",
       "<style scoped>\n",
       "    .dataframe tbody tr th:only-of-type {\n",
       "        vertical-align: middle;\n",
       "    }\n",
       "\n",
       "    .dataframe tbody tr th {\n",
       "        vertical-align: top;\n",
       "    }\n",
       "\n",
       "    .dataframe thead th {\n",
       "        text-align: right;\n",
       "    }\n",
       "</style>\n",
       "<table border=\"1\" class=\"dataframe\">\n",
       "  <thead>\n",
       "    <tr style=\"text-align: right;\">\n",
       "      <th>plan</th>\n",
       "      <th>month</th>\n",
       "      <th>surf</th>\n",
       "      <th>ultimate</th>\n",
       "    </tr>\n",
       "  </thead>\n",
       "  <tbody>\n",
       "    <tr>\n",
       "      <th>0</th>\n",
       "      <td>2018-01</td>\n",
       "      <td>60.00</td>\n",
       "      <td>0.0</td>\n",
       "    </tr>\n",
       "    <tr>\n",
       "      <th>11</th>\n",
       "      <td>2018-12</td>\n",
       "      <td>90390.44</td>\n",
       "      <td>16310.0</td>\n",
       "    </tr>\n",
       "    <tr>\n",
       "      <th>8</th>\n",
       "      <td>2018-09</td>\n",
       "      <td>50494.67</td>\n",
       "      <td>7539.0</td>\n",
       "    </tr>\n",
       "    <tr>\n",
       "      <th>7</th>\n",
       "      <td>2018-08</td>\n",
       "      <td>43006.85</td>\n",
       "      <td>7322.0</td>\n",
       "    </tr>\n",
       "    <tr>\n",
       "      <th>1</th>\n",
       "      <td>2018-02</td>\n",
       "      <td>1509.57</td>\n",
       "      <td>658.0</td>\n",
       "    </tr>\n",
       "  </tbody>\n",
       "</table>\n",
       "</div>"
      ],
      "text/plain": [
       "plan    month      surf  ultimate\n",
       "0     2018-01     60.00       0.0\n",
       "11    2018-12  90390.44   16310.0\n",
       "8     2018-09  50494.67    7539.0\n",
       "7     2018-08  43006.85    7322.0\n",
       "1     2018-02   1509.57     658.0"
      ]
     },
     "execution_count": 80,
     "metadata": {},
     "output_type": "execute_result"
    }
   ],
   "source": [
    "# Perbandingan biaya ekstra pada kedua paket\n",
    "total_extra_cost = pd.pivot_table(dataset, index='month', columns='plan', values='total_extra_cost', aggfunc='sum').reset_index()\n",
    "total_extra_cost.sample(5)"
   ]
  },
  {
   "cell_type": "code",
   "execution_count": 81,
   "metadata": {
    "colab": {
     "base_uri": "https://localhost:8080/",
     "height": 400
    },
    "id": "KLr5k9J4Kun9",
    "outputId": "160b5d37-ab59-418d-ae45-57567d7ba0d9"
   },
   "outputs": [
    {
     "data": {
      "image/png": "[encoded data removed]",
      "text/plain": [
       "<Figure size 864x432 with 1 Axes>"
      ]
     },
     "metadata": {
      "needs_background": "light"
     },
     "output_type": "display_data"
    }
   ],
   "source": [
    "# Menampilkan grafik total pendapatan dan biaya ekstra untuk kedua paket layanan\n",
    "fig, ax = plt.subplots(figsize=(12, 6))\n",
    "total_revenue.plot(x= 'month' , y='surf', ax=ax, label='surf_total', color ='red')\n",
    "usd_monthly_pay.plot(x= 'month' , y='surf', ax=ax,  label='surf_plan', color ='brown')\n",
    "total_revenue.plot(x= 'month' , y='ultimate', ax=ax, label='ultimate_total', color='blue')\n",
    "usd_monthly_pay.plot(x= 'month' , y='ultimate', ax=ax, label='ultimate_plan', color='navy')\n",
    "plt.show()"
   ]
  },
  {
   "cell_type": "markdown",
   "metadata": {
    "id": "kb_Mj2-b11lq"
   },
   "source": [
    "Dari data dan gambar diatas dapat ditarik kesimpulan bahwa:\n",
    "1. Dari data terlihat bahwa ada sekitar 35.94% orang membayar biaya ekstra pada paket surf dan 29.27% pada paket ultimate.\n",
    "2. Pendapatan dari paket ultimate lebih besar dari paket surf, namun biaya ekstra yang ditimbulkan dari penggunaan yang melebih batas paket membuat pendapatan paket surf melampaui paket ultimate.\n",
    "3. Trend pendapatan yang diterima dari biaya ekstra meningkat dari bulan januari ke bulan desember. Hal ini menunjukan ada kemungkinan akan kebutuhan baru ditingkat konsumen menengah yang merasa paket ultimate terlalu mahal namun kenyataannya manghabiskan uang lebih dari paket ultimate.\n",
    "4. Sebaiknya operator menyediakan paket baru dengan harga diantara paket surf dan ultimate yang sesuai dengan kebutuhan konsumen dengan anggaran menengah."
   ]
  },
  {
   "cell_type": "markdown",
   "metadata": {
    "id": "guLcOYbcDyWO"
   },
   "source": [
    "<div class=\"alert alert-success\">\n",
    "<b>Chamdani's comment v.1</b> <a class=\"tocSkip\"></a>\n",
    "\n",
    "Kerja bagus!\n",
    "\n",
    "</div>"
   ]
  },
  {
   "cell_type": "markdown",
   "metadata": {
    "id": "5SfDxLiGwoK7"
   },
   "source": [
    "## 8.4 Distribusi usia dan paket"
   ]
  },
  {
   "cell_type": "code",
   "execution_count": 82,
   "metadata": {
    "colab": {
     "base_uri": "https://localhost:8080/",
     "height": 350
    },
    "id": "e95IuFjU-Ktw",
    "outputId": "e651a584-b2a0-426d-d02c-a9469753b2f6"
   },
   "outputs": [
    {
     "data": {
      "image/png": "[encoded data removed]",
      "text/plain": [
       "<Figure size 576x360 with 1 Axes>"
      ]
     },
     "metadata": {
      "needs_background": "light"
     },
     "output_type": "display_data"
    }
   ],
   "source": [
    "plt.figure(figsize=(8, 5))\n",
    "plt.title('Distribusi Usia: Surf vs Ultimate')\n",
    "sns.violinplot(data=dataset, x='age', y='plan')\n",
    "plt.show()"
   ]
  },
  {
   "cell_type": "code",
   "execution_count": 83,
   "metadata": {
    "colab": {
     "base_uri": "https://localhost:8080/"
    },
    "id": "7EbObvnE-Xrl",
    "outputId": "116803d0-dac7-43f2-f055-b6c94c475e60"
   },
   "outputs": [
    {
     "name": "stdout",
     "output_type": "stream",
     "text": [
      "Paket: ultimate\n",
      "Median. : 48.0\n",
      "Mean    : 46.6\n",
      "Stddev  : 16.5\n",
      "Variance: 273.4\n",
      "----------------------------------\n",
      "Paket: surf\n",
      "Median. : 45.0\n",
      "Mean    : 45.0\n",
      "Stddev  : 17.0\n",
      "Variance: 290.0\n",
      "----------------------------------\n"
     ]
    }
   ],
   "source": [
    "# Menampilkan Median, Mean, Standar Deviasi, dan varians dari data usia dengan fungsi distribusi\n",
    "deskriptif_stats(dataset, value_col='age', group_col='plan')"
   ]
  },
  {
   "cell_type": "markdown",
   "metadata": {
    "id": "FLzldGdY-kEp"
   },
   "source": [
    "Dari data dan grafik dapat disimpulkan bahwa:\n",
    "1. Rata-rata umur pengguna ultimate dan surf tidak terlalu berbeda yaitu 46 dan 45.\n",
    "2. Pengguna paket surf lebih banyak diminati oleh anak muda yang berumur 20-30 tahun. Sedangkan paket ultimate banyak digunakan oleh orang yang berumur 45-55an.\n",
    "3. Ada kemungkinan harga  yang menjadi faktor anak muda lebih memilih paket surf. Sehubungan dengan analisis sebelumnya tentang biaya ekstra, penyediaan paket baru yang lebih mahal dari surf dan lebih murah dari ultimate dapat dipertimbangkan untuk mendapatkan segmen pasar baru."
   ]
  },
  {
   "cell_type": "markdown",
   "metadata": {
    "id": "1jIVyU19DyWO"
   },
   "source": [
    "<div class=\"alert alert-success\">\n",
    "<b>Chamdani's comment v.1</b> <a class=\"tocSkip\"></a>\n",
    "\n",
    "Kerja bagus!\n",
    "\n",
    "</div>"
   ]
  },
  {
   "cell_type": "markdown",
   "metadata": {
    "id": "vNY5p4E-yhlS"
   },
   "source": [
    "#9 Pengujian Hipotesis"
   ]
  },
  {
   "cell_type": "markdown",
   "metadata": {
    "id": "_0PpBZErX2fs"
   },
   "source": [
    "Ada dua hipotesis yang akan diuji yaitu:\n",
    "1. Rata-rata pendapatan dari pengguna paket telepon Ultimate dan Surf berbeda.\n",
    "2. Rata-rata pendapatan dari pengguna di wilayah NY-NJ berbeda "
   ]
  },
  {
   "cell_type": "code",
   "execution_count": 84,
   "metadata": {
    "id": "5CRfcXnT7o1y"
   },
   "outputs": [],
   "source": [
    "# Membuat Fungsi untuk pengambilan keputusan hipotesis\n",
    "def verdict(p_value, alpha=0.05):\n",
    "    print(f'P-Value: {round(p_value * 100, 6)}%')\n",
    "    if p_value < alpha:\n",
    "        print('H1 Accepted / H0 Rejected')\n",
    "    else:\n",
    "        print('H0 Accepted / H1 Rejected')"
   ]
  },
  {
   "cell_type": "markdown",
   "metadata": {
    "id": "EsOdwGwXDyWP"
   },
   "source": [
    "<div class=\"alert alert-success\">\n",
    "<b>Chamdani's comment v.1</b> <a class=\"tocSkip\"></a>\n",
    "\n",
    "Kerja bagus!\n",
    "\n",
    "</div>"
   ]
  },
  {
   "cell_type": "markdown",
   "metadata": {
    "id": "jUiEOYS3YIZS"
   },
   "source": [
    "## 9.1 Hipotesis Pertama\n",
    "\n",
    "Berikut ini hipotesis yang akan di uji:\n",
    "\n",
    "> **H0 : Rata-rata pendapatan dari pengguna paket telepon Ultimate dan Surf berbeda.**\n",
    "\n",
    "Maka hipotesis null sebagai hipotesis alternatifnya adalah:\n",
    "\n",
    "> **H1 : Rata-rata pendapatan dari pengguna paket telepon Ultimate dan Surf sama.**\n",
    "\n",
    "\n",
    "* Metode yang digunakan : Independent T-test\n",
    "* Alpha : 5%\n",
    "\n"
   ]
  },
  {
   "cell_type": "code",
   "execution_count": 85,
   "metadata": {
    "colab": {
     "base_uri": "https://localhost:8080/"
    },
    "id": "20O8ZgpPiZH0",
    "outputId": "6f56a684-29a4-4e0d-ea65-23628b2d4cae"
   },
   "outputs": [
    {
     "data": {
      "text/plain": [
       "surf        3912\n",
       "ultimate    1872\n",
       "Name: plan, dtype: int64"
      ]
     },
     "execution_count": 85,
     "metadata": {},
     "output_type": "execute_result"
    }
   ],
   "source": [
    "# Menampilkan ukuran sampel\n",
    "dataset['plan'].value_counts()"
   ]
  },
  {
   "cell_type": "code",
   "execution_count": 86,
   "metadata": {
    "colab": {
     "base_uri": "https://localhost:8080/"
    },
    "id": "kRREaeyS3xkm",
    "outputId": "b1f97f59-04c1-4177-9adc-c501c6dd6cc1"
   },
   "outputs": [
    {
     "name": "stdout",
     "output_type": "stream",
     "text": [
      "5073.584937610492\n",
      "26800.507866224874\n"
     ]
    }
   ],
   "source": [
    "# Memeriksa nilai varians untuk menentukan equal_var\n",
    "print(ultimate_users['total_revenue'].var())\n",
    "print(surf_users['total_revenue'].var())"
   ]
  },
  {
   "cell_type": "markdown",
   "metadata": {
    "id": "9KdC6tEC9TJX"
   },
   "source": [
    "Varians kedua plan jauh berbeda maka kita akan memberikan nilai False untuk equal_var"
   ]
  },
  {
   "cell_type": "code",
   "execution_count": 87,
   "metadata": {
    "colab": {
     "base_uri": "https://localhost:8080/"
    },
    "id": "yOTRYfqPjTjg",
    "outputId": "2e49024e-6b38-49db-cfe0-71e758438dc3",
    "scrolled": true
   },
   "outputs": [
    {
     "name": "stdout",
     "output_type": "stream",
     "text": [
      "P-Value: 4e-06%\n",
      "H1 Accepted / H0 Rejected\n"
     ]
    }
   ],
   "source": [
    "# Memeriksa Hipotesis dengan metode Independent T-test\n",
    "p_value = ttest_ind(ultimate_users['total_revenue'], surf_users['total_revenue'], equal_var=False).pvalue\n",
    "verdict(p_value)"
   ]
  },
  {
   "cell_type": "markdown",
   "metadata": {
    "id": "V8QPixc5EWJW"
   },
   "source": [
    "Karena nilai p_value jauh lebih kecil dari nilai alpha maka H1 diterima dan H0 ditolak. Dengan demikian dapat disimpulkan bahwa rata-rata pendapatan dari pengguna paket telepon Ultimate dan Surf berbeda"
   ]
  },
  {
   "cell_type": "markdown",
   "metadata": {
    "id": "nI7xKgLJDyWQ"
   },
   "source": [
    "<div class=\"alert alert-success\">\n",
    "<b>Chamdani's comment v.1</b> <a class=\"tocSkip\"></a>\n",
    "\n",
    "Kerja bagus!\n",
    "\n",
    "</div>"
   ]
  },
  {
   "cell_type": "markdown",
   "metadata": {
    "id": "ahvrKOjMYHx5"
   },
   "source": [
    "## 9.2 Hipotesis Kedua\n",
    "\n",
    "Berikut ini hipotesis yang akan di uji:\n",
    "\n",
    "> **H0 : Rata-rata pendapatan dari pengguna di wilayah NY-NJ sama dengan pendapatan pengguna dari wilayah lain.**\n",
    "\n",
    "Maka hipotesis null sebagai hipotesis alternatifnya adalah:\n",
    "\n",
    "> **H1 : Rata-rata pendapatan dari pengguna di wilayah NY-NJ berbeda dengan pendapatan pengguna dari wilayah lain.**\n",
    "\n",
    "\n",
    "\n",
    "* Metode yang digunakan : Independent T-test\n",
    "* Alpha : 5%\n",
    "\n",
    "Sebelum melakukan pengujian hipotesis, dibuat dataframe baru berdasarkan kota."
   ]
  },
  {
   "cell_type": "code",
   "execution_count": 88,
   "metadata": {
    "colab": {
     "base_uri": "https://localhost:8080/",
     "height": 206
    },
    "id": "Sf-3wRT3CrWm",
    "outputId": "b31cb95c-0fa3-480d-be0e-2a81a8082cce"
   },
   "outputs": [
    {
     "data": {
      "text/html": [
       "<div>\n",
       "<style scoped>\n",
       "    .dataframe tbody tr th:only-of-type {\n",
       "        vertical-align: middle;\n",
       "    }\n",
       "\n",
       "    .dataframe tbody tr th {\n",
       "        vertical-align: top;\n",
       "    }\n",
       "\n",
       "    .dataframe thead th {\n",
       "        text-align: right;\n",
       "    }\n",
       "</style>\n",
       "<table border=\"1\" class=\"dataframe\">\n",
       "  <thead>\n",
       "    <tr style=\"text-align: right;\">\n",
       "      <th></th>\n",
       "      <th>city_abb</th>\n",
       "      <th>is_ny_nj</th>\n",
       "      <th>total_revenue</th>\n",
       "    </tr>\n",
       "  </thead>\n",
       "  <tbody>\n",
       "    <tr>\n",
       "      <th>4880</th>\n",
       "      <td>CA</td>\n",
       "      <td>False</td>\n",
       "      <td>420.0</td>\n",
       "    </tr>\n",
       "    <tr>\n",
       "      <th>1070</th>\n",
       "      <td>PA-NJ-DE-MD</td>\n",
       "      <td>False</td>\n",
       "      <td>20.0</td>\n",
       "    </tr>\n",
       "    <tr>\n",
       "      <th>162</th>\n",
       "      <td>TN</td>\n",
       "      <td>False</td>\n",
       "      <td>70.0</td>\n",
       "    </tr>\n",
       "    <tr>\n",
       "      <th>4570</th>\n",
       "      <td>CA</td>\n",
       "      <td>False</td>\n",
       "      <td>196.0</td>\n",
       "    </tr>\n",
       "    <tr>\n",
       "      <th>5939</th>\n",
       "      <td>NY-NJ-PA</td>\n",
       "      <td>True</td>\n",
       "      <td>270.0</td>\n",
       "    </tr>\n",
       "  </tbody>\n",
       "</table>\n",
       "</div>"
      ],
      "text/plain": [
       "         city_abb  is_ny_nj  total_revenue\n",
       "4880           CA     False          420.0\n",
       "1070  PA-NJ-DE-MD     False           20.0\n",
       "162            TN     False           70.0\n",
       "4570           CA     False          196.0\n",
       "5939     NY-NJ-PA      True          270.0"
      ]
     },
     "execution_count": 88,
     "metadata": {},
     "output_type": "execute_result"
    }
   ],
   "source": [
    "# Menampilkan sampel kolom 'city_abb','is_ny_nj' dan 'total_revenue'.\n",
    "dataset[['city_abb','is_ny_nj','total_revenue']].sample(5)"
   ]
  },
  {
   "cell_type": "code",
   "execution_count": 89,
   "metadata": {
    "colab": {
     "base_uri": "https://localhost:8080/"
    },
    "id": "d-9dqeKGZT-d",
    "outputId": "aec08fd8-5ed1-42d7-cc7c-e04cf8ef39df"
   },
   "outputs": [
    {
     "data": {
      "text/plain": [
       "False    4865\n",
       "True      919\n",
       "Name: is_ny_nj, dtype: int64"
      ]
     },
     "execution_count": 89,
     "metadata": {},
     "output_type": "execute_result"
    }
   ],
   "source": [
    "# Menampilkan ukuran sampel\n",
    "dataset['is_ny_nj'].value_counts()"
   ]
  },
  {
   "cell_type": "markdown",
   "metadata": {
    "id": "LMHxJQWmZffO"
   },
   "source": [
    "* Jumlah baris untuk user di kota NY-NJ = 919\n",
    "* Jumlah baris untuk user di kota selain NY-NJ = 4865"
   ]
  },
  {
   "cell_type": "code",
   "execution_count": 90,
   "metadata": {
    "id": "_QvywdQQXt3N"
   },
   "outputs": [],
   "source": [
    "# Memisahkan user berdasarkan kota NY-NJ dan kota lain\n",
    "ny_nj_city = dataset.query('is_ny_nj == True')\n",
    "others_city = dataset.query('is_ny_nj == False')"
   ]
  },
  {
   "cell_type": "code",
   "execution_count": 91,
   "metadata": {
    "colab": {
     "base_uri": "https://localhost:8080/"
    },
    "id": "qvRJUc_8ahUR",
    "outputId": "d81e8d35-f8d3-4479-92c2-4a494b5151c3"
   },
   "outputs": [
    {
     "name": "stdout",
     "output_type": "stream",
     "text": [
      "21412.11794802108\n",
      "19512.485767468963\n"
     ]
    }
   ],
   "source": [
    "# Memeriksa nilai varians untuk menentukan equal_var\n",
    "print(ny_nj_city['total_revenue'].var())\n",
    "print(others_city['total_revenue'].var())"
   ]
  },
  {
   "cell_type": "markdown",
   "metadata": {
    "id": "3DIw8MpUavnz"
   },
   "source": [
    "Varians kedua plan berbeda maka kita akan memberikan nilai False untuk equal_var"
   ]
  },
  {
   "cell_type": "code",
   "execution_count": 92,
   "metadata": {
    "colab": {
     "base_uri": "https://localhost:8080/"
    },
    "id": "lRJteSqtaHtw",
    "outputId": "30b2022a-97e6-4a12-e568-52c4b0f80148"
   },
   "outputs": [
    {
     "name": "stdout",
     "output_type": "stream",
     "text": [
      "P-Value: 2.160725%\n",
      "H1 Accepted / H0 Rejected\n"
     ]
    }
   ],
   "source": [
    "# Memeriksa Hipotesis dengan metode Independent T-test\n",
    "p_value2 = ttest_ind(ny_nj_city['total_revenue'], others_city['total_revenue'], equal_var=False).pvalue\n",
    "verdict(p_value2)"
   ]
  },
  {
   "cell_type": "markdown",
   "metadata": {
    "id": "UQm3TyFUYf-X"
   },
   "source": [
    "Karena nilai p_value lebih kecil dari nilai alpha maka H1 diterima dan H0 ditolak. Dengan demikian dapat disimpulkan bahwa rata-rata pendapatan dari pengguna di wilayah NY-NJ berbeda dengan pendapatan pengguna dari wilayah lain."
   ]
  },
  {
   "cell_type": "markdown",
   "metadata": {
    "id": "tLgrgtltDyWR"
   },
   "source": [
    "<div class=\"alert alert-success\">\n",
    "<b>Chamdani's comment v.1</b> <a class=\"tocSkip\"></a>\n",
    "\n",
    "Kerja bagus!\n",
    "\n",
    "</div>"
   ]
  },
  {
   "cell_type": "markdown",
   "metadata": {
    "id": "WlDTVzSFY8eO"
   },
   "source": [
    "# 10 Kesimpulan\n",
    "Proyek ini menganalisa perilaku klien dan menentukan paket prabayar mana yang mendatangkan lebih banyak pendapatan dan menguji dua hipotesis. Berikut ini hal-hal yang dapat disimpulkan dari analisa yang telah dilakukan:\n",
    "1. Ada 5 dataframe yang dianalisa yakni df_Calls, df_internet, df_messages, df_plans, dan df_users. Nilai yang hilang hanya ada di kolom churn_date di kolom df_users. Nilai yang hilang ini dibiarkan bernilai null untuk keperluan analisa.\n",
    "2. Untuk keperluan analisa lanjutan pada pemrosesan dilakukan hal-hal berikut ini:\n",
    "* Menambah kolom month untuk mendapatkan data bulanan pada dataframe df_calls, df_internet dan df_messages.\n",
    "* Mengubah tipe data pada kolom reg_date dan churn_date dalam bentuk datetime.\n",
    "* Membuat kolom baru yang memuat kode 2 huruf dari nama kota dengan filter string untuk menyederhanakan analisa.\n",
    "* Melakukan pembulatan dan aggregate data ke dalam interval bulan berdasarkan kolom month yang sudah dibuat sebelumnya. Pembulatan dan aggregate ini dilakukan pada kolom:\n",
    "  * duration di df_calls\n",
    "  * sms di df_messages\n",
    "  * gb_used di df_internet\n",
    "3. Pendapatan total bulanan dibuat dengan cara menggabung seluruh dataframe dan biaya biaya ekstra pada setiap baris. Metode yang digunakan untuk menggabung dataframe ini adalah cross join.\n",
    "4. Pada analisis data eksploratif dapat disimpulkan bahwa:\n",
    "* Distribusi panggilan pada kedua paket tidak berbeda, namun user pada paket ultimate lebih menyukai panggilan dengan durasi yang lebih cepat dibanding user pada paket surf. User paket ultimate lebih banyak di durasi 0 - 400 menit per bulan, sedangkan user paket surf lebih banyak di durasi 500 - 800 menit per bulan.\n",
    "* Penggunaan lebih banyak pada paket ultimate dengan rata-rata 46 sms per bulan dan paket surf 40 sms per bulan.\n",
    "* Grafik penggunaan internet terlihat hampir simetris dengan sedikit outlier, umumnya user menggunakan paket internet sebanyak 42 GB untuk kedua paket, namun lebih banyak pada paket ultimate.\n",
    "* Pendapatan menggunakan paket tanpa biaya ekstra lebih banyak di paket ultimate, karena secara harga lebih mahal. Namun user pada paket surf lebih banyak membayar biaya ekstra secara signifikan dibandin user pada paket ultimate. Dari bulan Januari ke Desember kebutuhan internet paket surf lebih banyak sehingga user-user ini harus membayar biaya ekstra diluar paket. Untuk menyikapi hal ini sebaiknya operator menyediakan paket dengan harga menengah untuk mendapatkan segmen pasar yang baru.\n",
    "* Dilihat dari distribusi usia paket ultimate lebih banyak diminati pada usia 45-55 tahun dan paket surf pada usia 20-30 tahun.\n",
    "5. Pada pengujian hipotesis didapatkan hasil sebagai berikut:\n",
    "* Rata-rata pendapatan dari pengguna paket telepon Ultimate dan Surf berbeda\n",
    "* Rata-rata pendapatan dari pengguna di wilayah NY-NJ berbeda dengan pendapatan pengguna dari wilayah lain."
   ]
  },
  {
   "cell_type": "markdown",
   "metadata": {
    "id": "NXxSqEwkDyWR"
   },
   "source": [
    "<div class=\"alert alert-success\">\n",
    "<b>Chamdani's comment v.1</b> <a class=\"tocSkip\"></a>\n",
    "\n",
    "Kerja bagus!\n",
    "\n",
    "</div>"
   ]
  }
 ],
 "metadata": {
  "colab": {
   "provenance": [],
   "toc_visible": true
  },
  "kernelspec": {
   "display_name": "Python 3 (ipykernel)",
   "language": "python",
   "name": "python3"
  },
  "language_info": {
   "codemirror_mode": {
    "name": "ipython",
    "version": 3
   },
   "file_extension": ".py",
   "mimetype": "text/x-python",
   "name": "python",
   "nbconvert_exporter": "python",
   "pygments_lexer": "ipython3",
   "version": "3.9.5"
  },
  "toc": {
   "base_numbering": 1,
   "nav_menu": {},
   "number_sections": false,
   "sideBar": true,
   "skip_h1_title": true,
   "title_cell": "Table of Contents",
   "title_sidebar": "Contents",
   "toc_cell": false,
   "toc_position": {},
   "toc_section_display": true,
   "toc_window_display": true
  }
 },
 "nbformat": 4,
 "nbformat_minor": 1
}
