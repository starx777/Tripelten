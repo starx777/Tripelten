{
 "cells": [
  {
   "cell_type": "markdown",
   "metadata": {},
   "source": [
    "<div style=\"border:solid black 2px; padding: 20px\"><h1 style=\"color:black; margin-bottom:20px\">Reviewer's comment v1</h1>\n",
    "Halo Juliman !\n",
    "\n",
    "Perkenalkan saya Dipta, disini saya akan mereview tugas Juliman ya.\n",
    "\n",
    "Saya akan memberikan beberapa komen seperti dibawah ini, tolong jangan dipindah, dirubah, maupun dihapus ya.\n",
    "\n",
    "Komen yang saya berikan akan muncul dalam warna hijau, kuning, atau pun merah seperti ini:\n",
    "\n",
    "<div class=\"alert alert-success\">\n",
    "<b>Adipta's comment v.1</b> <a class=\"tocSkip\"></a>\n",
    "\n",
    "Bagus, semua berjalan lancar.\n",
    "\n",
    "</div>\n",
    "\n",
    "<div class=\"alert alert-warning\">\n",
    "<b>Adipta's comment v.1</b> <a class=\"tocSkip\"></a>\n",
    "\n",
    "Terdapat beberapa catatan.\n",
    "\n",
    "</div>\n",
    "\n",
    "<div class=\"alert alert-danger\">\n",
    "<b>Adipta's comment v.1</b> <a class=\"tocSkip\"></a>\n",
    "\n",
    "Perlu beberapa perbaikan\n",
    "\n",
    "</div>\n",
    "\n",
    "Dan tentu saja Juliman dapat menjawab saya dengan menggunakan ini\n",
    "\n",
    "<div class=\"alert alert-block alert-info\">\n",
    "<b>Student answer.</b> <a class=\"tocSkip\"></a>\n",
    "    \n",
    "Baik kak\n",
    "</div>"
   ]
  },
  {
   "cell_type": "markdown",
   "metadata": {
    "id": "Ef68sK80pqn9"
   },
   "source": [
    "# Analisa Pola Ride-Sharing pada Perusahaan Zuber \n",
    "\n",
    "## Deskripsi Proyek\n",
    "Zuber adalah sebuah perusahaan berbagi tumpangan (*ride-sharing*) baru yang diluncurkan di Chicago. Tujuan proyek ini adalah menemukan pola pada informasi yang tersedia untuk mengetahui preferensi penumpang dan dampak faktor eksternal terhadap perjalanan.\n",
    "\n",
    "Database yang tersedia digunakan menganalisis data dari kompetitor dan menguji hipotesis terkait pengaruh cuaca terhadap frekuensi perjalanan.\n",
    "\n",
    "## Deskripsi Data\n",
    "\n",
    "**1. Database**\n",
    "\n",
    "Database memuat informasi perjalanan taksi di Chicago:\n",
    "\n",
    "Tabel `neighborhoods`: data tentang wilayah di kota Chicago\n",
    "\n",
    "- `name`: nama wilayah\n",
    "- `neighborhood_id`: kode wilayah\n",
    "\n",
    "Tabel `cabs`: data taksi\n",
    "\n",
    "- `cab_id`: kode kendaraan\n",
    "- `vehicle_id`: ID teknis kendaraan\n",
    "- `company_name`: nama perusahaan yang memiliki kendaraan\n",
    "\n",
    "Tabel `trips`: data perjalanan\n",
    "\n",
    "- `trip_id`: kode perjalanan\n",
    "- `cab_id`: kode kendaraan yang beroperasi\n",
    "- `start_ts`: tanggal dan waktu perjalanan dimulai (waktu dibulatkan dalam satuan jam)\n",
    "- `end_ts`: tanggal dan waktu perjalanan berakhir (waktu dibulatkan dalam satuan jam)\n",
    "- `duration_seconds`: durasi perjalanan dalam satuan detik\n",
    "- `distance_miles`: jarak perjalanan dalam satuan mil\n",
    "- `pickup_location_id`: kode wilayah penjemputan\n",
    "- `dropoff_location_id`: kode wilayah pengantaran\n",
    "\n",
    "Tabel `weather_records`: data cuaca\n",
    "\n",
    "- `record_id`: kode catatan cuaca\n",
    "- `ts`: tanggal dan waktu saat pencatatan cuaca dilakukan (waktu dibulatkan dalam satuan jam)\n",
    "- `temperature`: suhu saat pencatatan cuaca dilakukan\n",
    "- `description`: deskripsi singkat tentang kondisi cuaca, seperti \"light rain\" (hujan ringan) atau \"scattered clouds\" (berawan).\n",
    "\n",
    "**2. CSV Files**\n",
    "\n",
    "`project_sql_result_01.csv`. *File* ini memuat data berikut:\n",
    "\n",
    "- `company_name`: nama perusahaan taksi\n",
    "- `trips_amount`: jumlah perjalanan untuk setiap perusahaan taksi pada tanggal 15-16 November 2017.\n",
    "\n",
    "`project_sql_result_04.csv`. *File* ini memuat data berikut:\n",
    "\n",
    "- `dropoff_location_name`: nama wilayah di Chicago tempat perjalanan berakhir\n",
    "- `neighborhood`: jumlah rata-rata perjalanan yang berakhir di setiap wilayah pada bulan November 2017.\n",
    "\n",
    "`project_sql_result_07.csv`. File ini memuat data perjalanan dari Loop ke Bandara Internasional O'Hare. Ingat, berikut adalah nilai kolom-kolom yang ada di tabel ini:\n",
    "- `start_ts`: - tanggal dan waktu penjemputan\n",
    "- `weather_conditions`: - kondisi cuaca saat perjalanan dimulai\n",
    "- `duration_seconds`: - durasi perjalanan dalam satuan detik"
   ]
  },
  {
   "cell_type": "markdown",
   "metadata": {
    "id": "Jzs098ev7-FN"
   },
   "source": [
    "# 1 Tujuan Proyek"
   ]
  },
  {
   "cell_type": "markdown",
   "metadata": {
    "id": "k0e4q4d_sZRJ"
   },
   "source": [
    "Tujuan proyek ini adalah menemukan pola pada informasi yang tersedia untuk mengetahui preferensi penumpang dan dampak faktor eksternal terhadap perjalanan."
   ]
  },
  {
   "cell_type": "markdown",
   "metadata": {
    "id": "tvTf2QhM8VT2"
   },
   "source": [
    "# 2 Hipotesis Proyek"
   ]
  },
  {
   "cell_type": "markdown",
   "metadata": {
    "id": "XsK8xIwl245L"
   },
   "source": [
    "Berikut ini adalah hipotesis yang akan diuji pada proyek ini:\n",
    "> \"Durasi rata-rata perjalanan dari Loop ke Bandara Internasional O'Hare berubah pada hari Sabtu yang hujan.\""
   ]
  },
  {
   "cell_type": "markdown",
   "metadata": {},
   "source": [
    "<div class=\"alert alert-success\">\n",
    "<b>Adipta's comment v.1</b> <a class=\"tocSkip\"></a>\n",
    "\n",
    "Bagus, semua berjalan lancar.\n",
    "\n",
    "</div>"
   ]
  },
  {
   "cell_type": "markdown",
   "metadata": {
    "id": "i4E-usKB8haa"
   },
   "source": [
    "# 3 Import Library\n"
   ]
  },
  {
   "cell_type": "code",
   "execution_count": 2,
   "metadata": {
    "colab": {
     "base_uri": "https://localhost:8080/"
    },
    "id": "3YwtWFW58_Jc",
    "outputId": "8af8eb37-99c0-4935-aa82-d9c8b2af52fe"
   },
   "outputs": [
    {
     "name": "stdout",
     "output_type": "stream",
     "text": [
      "Requirement already satisfied: pywaffle in /opt/conda/lib/python3.9/site-packages (1.1.0)\n",
      "Requirement already satisfied: matplotlib in /opt/conda/lib/python3.9/site-packages (from pywaffle) (3.3.4)\n",
      "Requirement already satisfied: fontawesomefree in /opt/conda/lib/python3.9/site-packages (from pywaffle) (6.2.1)\n",
      "Requirement already satisfied: pyparsing!=2.0.4,!=2.1.2,!=2.1.6,>=2.0.3 in /opt/conda/lib/python3.9/site-packages (from matplotlib->pywaffle) (2.4.7)\n",
      "Requirement already satisfied: python-dateutil>=2.1 in /opt/conda/lib/python3.9/site-packages (from matplotlib->pywaffle) (2.8.1)\n",
      "Requirement already satisfied: kiwisolver>=1.0.1 in /opt/conda/lib/python3.9/site-packages (from matplotlib->pywaffle) (1.4.2)\n",
      "Requirement already satisfied: numpy>=1.15 in /opt/conda/lib/python3.9/site-packages (from matplotlib->pywaffle) (1.21.1)\n",
      "Requirement already satisfied: pillow>=6.2.0 in /opt/conda/lib/python3.9/site-packages (from matplotlib->pywaffle) (8.4.0)\n",
      "Requirement already satisfied: cycler>=0.10 in /opt/conda/lib/python3.9/site-packages (from matplotlib->pywaffle) (0.11.0)\n",
      "Requirement already satisfied: six>=1.5 in /opt/conda/lib/python3.9/site-packages (from python-dateutil>=2.1->matplotlib->pywaffle) (1.16.0)\n"
     ]
    }
   ],
   "source": [
    "# Import semua library\n",
    "import pandas as pd\n",
    "import numpy as np\n",
    "import scipy.stats as st\n",
    "import matplotlib.pyplot as plt, seaborn as sns\n",
    "from scipy.stats import chi2_contingency, ttest_ind\n",
    "\n",
    "!pip install pywaffle\n",
    "from pywaffle import Waffle\n",
    "\n",
    "import warnings\n",
    "pd.set_option('display.max_column', 100)\n",
    "warnings.filterwarnings('ignore')\n",
    "\n",
    "# from google.colab import drive\n",
    "# drive.mount('/content/drive')"
   ]
  },
  {
   "cell_type": "markdown",
   "metadata": {},
   "source": [
    "<div class=\"alert alert-success\">\n",
    "<b>Adipta's comment v.1</b> <a class=\"tocSkip\"></a>\n",
    "\n",
    "Bagus, semua berjalan lancar.\n",
    "\n",
    "</div>"
   ]
  },
  {
   "cell_type": "markdown",
   "metadata": {
    "id": "8LbOTKf_FqdA"
   },
   "source": [
    "# 4 Ikhtisar Data\n",
    "\n",
    "\n"
   ]
  },
  {
   "cell_type": "markdown",
   "metadata": {
    "id": "CeHRIkH3pNF_"
   },
   "source": [
    "## 4.1 Menampilkan Informasi Dataframe"
   ]
  },
  {
   "cell_type": "code",
   "execution_count": 6,
   "metadata": {
    "id": "6s7pGU2P9Q1T"
   },
   "outputs": [],
   "source": [
    "# Load data ke dataframe\n",
    "fleet = pd.read_csv('/datasets/project_sql_result_01.csv')\n",
    "neighborhoods = pd.read_csv('/datasets/project_sql_result_04.csv')\n",
    "loop = pd.read_csv('/datasets/project_sql_result_07.csv')"
   ]
  },
  {
   "cell_type": "markdown",
   "metadata": {
    "id": "3DkDOxTUqDS-"
   },
   "source": [
    "### 4.1.1 Armada ('fleet')"
   ]
  },
  {
   "cell_type": "code",
   "execution_count": 7,
   "metadata": {
    "colab": {
     "base_uri": "https://localhost:8080/",
     "height": 363
    },
    "id": "SKN0qHsK9iY2",
    "outputId": "c82cf66c-c6d5-4ac2-80ae-b72595eea69a"
   },
   "outputs": [
    {
     "data": {
      "text/html": [
       "<div>\n",
       "<style scoped>\n",
       "    .dataframe tbody tr th:only-of-type {\n",
       "        vertical-align: middle;\n",
       "    }\n",
       "\n",
       "    .dataframe tbody tr th {\n",
       "        vertical-align: top;\n",
       "    }\n",
       "\n",
       "    .dataframe thead th {\n",
       "        text-align: right;\n",
       "    }\n",
       "</style>\n",
       "<table border=\"1\" class=\"dataframe\">\n",
       "  <thead>\n",
       "    <tr style=\"text-align: right;\">\n",
       "      <th></th>\n",
       "      <th>company_name</th>\n",
       "      <th>trips_amount</th>\n",
       "    </tr>\n",
       "  </thead>\n",
       "  <tbody>\n",
       "    <tr>\n",
       "      <th>40</th>\n",
       "      <td>6574 - Babylon Express Inc.</td>\n",
       "      <td>31</td>\n",
       "    </tr>\n",
       "    <tr>\n",
       "      <th>9</th>\n",
       "      <td>Blue Ribbon Taxi Association Inc.</td>\n",
       "      <td>5953</td>\n",
       "    </tr>\n",
       "    <tr>\n",
       "      <th>12</th>\n",
       "      <td>Dispatch Taxi Affiliation</td>\n",
       "      <td>3355</td>\n",
       "    </tr>\n",
       "    <tr>\n",
       "      <th>3</th>\n",
       "      <td>Yellow Cab</td>\n",
       "      <td>9888</td>\n",
       "    </tr>\n",
       "    <tr>\n",
       "      <th>43</th>\n",
       "      <td>2809 - 95474 C &amp; D Cab Co Inc.</td>\n",
       "      <td>29</td>\n",
       "    </tr>\n",
       "    <tr>\n",
       "      <th>15</th>\n",
       "      <td>Checker Taxi Affiliation</td>\n",
       "      <td>2216</td>\n",
       "    </tr>\n",
       "    <tr>\n",
       "      <th>51</th>\n",
       "      <td>4623 - 27290 Jay Kim</td>\n",
       "      <td>15</td>\n",
       "    </tr>\n",
       "    <tr>\n",
       "      <th>47</th>\n",
       "      <td>4615 - 83503 Tyrone Henderson</td>\n",
       "      <td>21</td>\n",
       "    </tr>\n",
       "    <tr>\n",
       "      <th>18</th>\n",
       "      <td>24 Seven Taxi</td>\n",
       "      <td>1775</td>\n",
       "    </tr>\n",
       "    <tr>\n",
       "      <th>35</th>\n",
       "      <td>6742 - 83735 Tasha Ride Inc</td>\n",
       "      <td>39</td>\n",
       "    </tr>\n",
       "  </tbody>\n",
       "</table>\n",
       "</div>"
      ],
      "text/plain": [
       "                         company_name  trips_amount\n",
       "40        6574 - Babylon Express Inc.            31\n",
       "9   Blue Ribbon Taxi Association Inc.          5953\n",
       "12          Dispatch Taxi Affiliation          3355\n",
       "3                          Yellow Cab          9888\n",
       "43     2809 - 95474 C & D Cab Co Inc.            29\n",
       "15           Checker Taxi Affiliation          2216\n",
       "51               4623 - 27290 Jay Kim            15\n",
       "47      4615 - 83503 Tyrone Henderson            21\n",
       "18                      24 Seven Taxi          1775\n",
       "35        6742 - 83735 Tasha Ride Inc            39"
      ]
     },
     "execution_count": 7,
     "metadata": {},
     "output_type": "execute_result"
    }
   ],
   "source": [
    "# Menampilkan sampel data\n",
    "fleet.sample(10)"
   ]
  },
  {
   "cell_type": "code",
   "execution_count": 8,
   "metadata": {
    "colab": {
     "base_uri": "https://localhost:8080/"
    },
    "id": "2bnhGTVE9kKp",
    "outputId": "80ae3751-256f-497b-da48-9ba074561bcd"
   },
   "outputs": [
    {
     "data": {
      "text/plain": [
       "(64, 2)"
      ]
     },
     "execution_count": 8,
     "metadata": {},
     "output_type": "execute_result"
    }
   ],
   "source": [
    "# Menghitung baris dan kolom dataframe\n",
    "fleet.shape"
   ]
  },
  {
   "cell_type": "code",
   "execution_count": 9,
   "metadata": {
    "colab": {
     "base_uri": "https://localhost:8080/"
    },
    "id": "8pho_ZLxGWu4",
    "outputId": "1ba10f00-efd3-4a76-c0a0-20f5934cdd4f"
   },
   "outputs": [
    {
     "name": "stdout",
     "output_type": "stream",
     "text": [
      "<class 'pandas.core.frame.DataFrame'>\n",
      "RangeIndex: 64 entries, 0 to 63\n",
      "Data columns (total 2 columns):\n",
      " #   Column        Non-Null Count  Dtype \n",
      "---  ------        --------------  ----- \n",
      " 0   company_name  64 non-null     object\n",
      " 1   trips_amount  64 non-null     int64 \n",
      "dtypes: int64(1), object(1)\n",
      "memory usage: 1.1+ KB\n"
     ]
    }
   ],
   "source": [
    "# Menampilkan informasi data\n",
    "fleet.info()"
   ]
  },
  {
   "cell_type": "code",
   "execution_count": 10,
   "metadata": {
    "colab": {
     "base_uri": "https://localhost:8080/"
    },
    "id": "YHXXGE0bvnIJ",
    "outputId": "ce8b424b-9616-4681-92f9-2e4a997e33ed"
   },
   "outputs": [
    {
     "data": {
      "text/plain": [
       "company_name    0\n",
       "trips_amount    0\n",
       "dtype: int64"
      ]
     },
     "execution_count": 10,
     "metadata": {},
     "output_type": "execute_result"
    }
   ],
   "source": [
    "# Memeriksa nilai yang hilang\n",
    "fleet.isna().sum()"
   ]
  },
  {
   "cell_type": "markdown",
   "metadata": {},
   "source": [
    "<div class=\"alert alert-success\">\n",
    "<b>Adipta's comment v.1</b> <a class=\"tocSkip\"></a>\n",
    "\n",
    "Bagus, semua berjalan lancar.\n",
    "\n",
    "</div>"
   ]
  },
  {
   "cell_type": "markdown",
   "metadata": {
    "id": "gnykLOygqbeh"
   },
   "source": [
    "### 4.1.2 Wilayah ('neighborhoods')"
   ]
  },
  {
   "cell_type": "code",
   "execution_count": 11,
   "metadata": {
    "colab": {
     "base_uri": "https://localhost:8080/",
     "height": 363
    },
    "id": "Q3PUBQtDqzPS",
    "outputId": "fa45df25-4969-4d3b-be2d-3cec4c8b1221"
   },
   "outputs": [
    {
     "data": {
      "text/html": [
       "<div>\n",
       "<style scoped>\n",
       "    .dataframe tbody tr th:only-of-type {\n",
       "        vertical-align: middle;\n",
       "    }\n",
       "\n",
       "    .dataframe tbody tr th {\n",
       "        vertical-align: top;\n",
       "    }\n",
       "\n",
       "    .dataframe thead th {\n",
       "        text-align: right;\n",
       "    }\n",
       "</style>\n",
       "<table border=\"1\" class=\"dataframe\">\n",
       "  <thead>\n",
       "    <tr style=\"text-align: right;\">\n",
       "      <th></th>\n",
       "      <th>dropoff_location_name</th>\n",
       "      <th>average_trips</th>\n",
       "    </tr>\n",
       "  </thead>\n",
       "  <tbody>\n",
       "    <tr>\n",
       "      <th>9</th>\n",
       "      <td>Sheffield &amp; DePaul</td>\n",
       "      <td>1259.766667</td>\n",
       "    </tr>\n",
       "    <tr>\n",
       "      <th>48</th>\n",
       "      <td>Austin</td>\n",
       "      <td>44.433333</td>\n",
       "    </tr>\n",
       "    <tr>\n",
       "      <th>46</th>\n",
       "      <td>Chinatown</td>\n",
       "      <td>52.433333</td>\n",
       "    </tr>\n",
       "    <tr>\n",
       "      <th>38</th>\n",
       "      <td>Armour Square</td>\n",
       "      <td>77.033333</td>\n",
       "    </tr>\n",
       "    <tr>\n",
       "      <th>58</th>\n",
       "      <td>Englewood</td>\n",
       "      <td>25.433333</td>\n",
       "    </tr>\n",
       "    <tr>\n",
       "      <th>34</th>\n",
       "      <td>Humboldt Park</td>\n",
       "      <td>97.866667</td>\n",
       "    </tr>\n",
       "    <tr>\n",
       "      <th>7</th>\n",
       "      <td>Museum Campus</td>\n",
       "      <td>1510.000000</td>\n",
       "    </tr>\n",
       "    <tr>\n",
       "      <th>53</th>\n",
       "      <td>Jackson Park</td>\n",
       "      <td>33.103448</td>\n",
       "    </tr>\n",
       "    <tr>\n",
       "      <th>84</th>\n",
       "      <td>West Pullman</td>\n",
       "      <td>6.466667</td>\n",
       "    </tr>\n",
       "    <tr>\n",
       "      <th>60</th>\n",
       "      <td>New City</td>\n",
       "      <td>22.933333</td>\n",
       "    </tr>\n",
       "  </tbody>\n",
       "</table>\n",
       "</div>"
      ],
      "text/plain": [
       "   dropoff_location_name  average_trips\n",
       "9     Sheffield & DePaul    1259.766667\n",
       "48                Austin      44.433333\n",
       "46             Chinatown      52.433333\n",
       "38         Armour Square      77.033333\n",
       "58             Englewood      25.433333\n",
       "34         Humboldt Park      97.866667\n",
       "7          Museum Campus    1510.000000\n",
       "53          Jackson Park      33.103448\n",
       "84          West Pullman       6.466667\n",
       "60              New City      22.933333"
      ]
     },
     "execution_count": 11,
     "metadata": {},
     "output_type": "execute_result"
    }
   ],
   "source": [
    "# Menampilkan sampel data\n",
    "neighborhoods.sample(10)"
   ]
  },
  {
   "cell_type": "code",
   "execution_count": 12,
   "metadata": {
    "colab": {
     "base_uri": "https://localhost:8080/"
    },
    "id": "3zfsUDqTqzPT",
    "outputId": "2bc21d10-9b0e-4af9-e7b7-e0504d7ac09c"
   },
   "outputs": [
    {
     "data": {
      "text/plain": [
       "(94, 2)"
      ]
     },
     "execution_count": 12,
     "metadata": {},
     "output_type": "execute_result"
    }
   ],
   "source": [
    "# Menghitung baris dan kolom dataframe\n",
    "neighborhoods.shape"
   ]
  },
  {
   "cell_type": "code",
   "execution_count": 13,
   "metadata": {
    "colab": {
     "base_uri": "https://localhost:8080/"
    },
    "id": "0dqEAQZiqzPT",
    "outputId": "c03868b1-7e15-4e4d-fd7e-2467f79a4455"
   },
   "outputs": [
    {
     "name": "stdout",
     "output_type": "stream",
     "text": [
      "<class 'pandas.core.frame.DataFrame'>\n",
      "RangeIndex: 94 entries, 0 to 93\n",
      "Data columns (total 2 columns):\n",
      " #   Column                 Non-Null Count  Dtype  \n",
      "---  ------                 --------------  -----  \n",
      " 0   dropoff_location_name  94 non-null     object \n",
      " 1   average_trips          94 non-null     float64\n",
      "dtypes: float64(1), object(1)\n",
      "memory usage: 1.6+ KB\n"
     ]
    }
   ],
   "source": [
    "# Menampilkan informasi data\n",
    "neighborhoods.info()"
   ]
  },
  {
   "cell_type": "code",
   "execution_count": 14,
   "metadata": {
    "colab": {
     "base_uri": "https://localhost:8080/"
    },
    "id": "5352OZ4YqzPT",
    "outputId": "957e808f-9ecb-4e5e-88ee-0cab01e338db"
   },
   "outputs": [
    {
     "data": {
      "text/plain": [
       "dropoff_location_name    0\n",
       "average_trips            0\n",
       "dtype: int64"
      ]
     },
     "execution_count": 14,
     "metadata": {},
     "output_type": "execute_result"
    }
   ],
   "source": [
    "# Memeriksa nilai yang hilang\n",
    "neighborhoods.isna().sum()"
   ]
  },
  {
   "cell_type": "markdown",
   "metadata": {
    "id": "cRxZxh4ujkm0"
   },
   "source": [
    "Kesimpulan :\n",
    "* Penamaan kolom sudah benar untuk semua dataframe.\n",
    "* Tidak ada nilai yang hilang untuk semua dataframe.\n",
    "* Untuk memudahkan analisis nilai pada kolom\n",
    " trips_amount dan average_trips diubah ke bentuk integer."
   ]
  },
  {
   "cell_type": "markdown",
   "metadata": {},
   "source": [
    "<div class=\"alert alert-success\">\n",
    "<b>Adipta's comment v.1</b> <a class=\"tocSkip\"></a>\n",
    "\n",
    "Bagus, semua berjalan lancar.\n",
    "\n",
    "</div>"
   ]
  },
  {
   "cell_type": "markdown",
   "metadata": {
    "id": "kEr7JfEDqMvA"
   },
   "source": [
    "## 4.2 Memeriksa Kolom Kategorik"
   ]
  },
  {
   "cell_type": "code",
   "execution_count": 15,
   "metadata": {
    "colab": {
     "base_uri": "https://localhost:8080/"
    },
    "id": "NdEZCrvVGUvN",
    "outputId": "d3bbdac5-db62-4e66-fe8e-8e64b71dfbce"
   },
   "outputs": [
    {
     "data": {
      "text/plain": [
       "array(['Flash Cab', 'Taxi Affiliation Services', 'Medallion Leasing',\n",
       "       'Yellow Cab', 'Taxi Affiliation Service Yellow',\n",
       "       'Chicago Carriage Cab Corp', 'City Service', 'Sun Taxi',\n",
       "       'Star North Management LLC', 'Blue Ribbon Taxi Association Inc.',\n",
       "       'Choice Taxi Association', 'Globe Taxi',\n",
       "       'Dispatch Taxi Affiliation', 'Nova Taxi Affiliation Llc',\n",
       "       'Patriot Taxi Dba Peace Taxi Association',\n",
       "       'Checker Taxi Affiliation', 'Blue Diamond',\n",
       "       'Chicago Medallion Management', '24 Seven Taxi',\n",
       "       'Chicago Medallion Leasing INC', 'Checker Taxi', 'American United',\n",
       "       'Chicago Independents', 'KOAM Taxi Association', 'Chicago Taxicab',\n",
       "       'Top Cab Affiliation', 'Gold Coast Taxi',\n",
       "       'Service Taxi Association', '5 Star Taxi', '303 Taxi',\n",
       "       'Setare Inc', 'American United Taxi Affiliation', 'Leonard Cab Co',\n",
       "       'Metro Jet Taxi A', 'Norshore Cab', '6742 - 83735 Tasha Ride Inc',\n",
       "       '3591 - 63480 Chuks Cab', '1469 - 64126 Omar Jada',\n",
       "       '6743 - 78771 Luhak Corp', '0118 - 42111 Godfrey S. Awir',\n",
       "       '6574 - Babylon Express Inc.', 'Chicago Star Taxicab',\n",
       "       '1085 - 72312 N and W Cab Co', '2809 - 95474 C & D Cab Co Inc.',\n",
       "       '2092 - 61288 Sbeih Company', '3011 - 66308 JBL Cab Inc.',\n",
       "       '3620 - 52292 David K. Cab Corp.', '4615 - 83503 Tyrone Henderson',\n",
       "       '3623 - 72222 Arrington Enterprises', '5074 - 54002 Ahzmi Inc',\n",
       "       '2823 - 73307 Lee Express Inc', '4623 - 27290 Jay Kim',\n",
       "       '3721 - Santamaria Express', '5006 - 39261 Salifu Bawa',\n",
       "       '2192 - 73487 Zeymane Corp', '6057 - 24657 Richard Addo',\n",
       "       '5997 - 65283 AW Services Inc.', 'Metro Group',\n",
       "       '5062 - 34841 Sam Mestas', '4053 - 40193 Adwar H. Nikola',\n",
       "       '2733 - 74600 Benny Jona', '5874 - 73628 Sergey Cab Corp.',\n",
       "       '2241 - 44667 - Felman Corp', '3556 - 36214 RC Andrews Cab'],\n",
       "      dtype=object)"
      ]
     },
     "execution_count": 15,
     "metadata": {},
     "output_type": "execute_result"
    }
   ],
   "source": [
    "# Memeriksa Nilai Unik pada kolom 'platform'\n",
    "fleet['company_name'].unique()"
   ]
  },
  {
   "cell_type": "code",
   "execution_count": 16,
   "metadata": {
    "colab": {
     "base_uri": "https://localhost:8080/"
    },
    "id": "nGEggbfQTQ7t",
    "outputId": "ce6a7f62-e96d-44d9-d907-b3849c76ef59"
   },
   "outputs": [
    {
     "data": {
      "text/plain": [
       "64"
      ]
     },
     "execution_count": 16,
     "metadata": {},
     "output_type": "execute_result"
    }
   ],
   "source": [
    "# Menghitung jumlah nilai unik pada kolom company_name\n",
    "len(fleet['company_name'].unique())"
   ]
  },
  {
   "cell_type": "code",
   "execution_count": 17,
   "metadata": {
    "colab": {
     "base_uri": "https://localhost:8080/"
    },
    "id": "rZ4kMxBgo9rI",
    "outputId": "d5385f49-82ac-4baa-9c0c-3b27b5db75ab"
   },
   "outputs": [
    {
     "data": {
      "text/plain": [
       "array(['Loop', 'River North', 'Streeterville', 'West Loop', \"O'Hare\",\n",
       "       'Lake View', 'Grant Park', 'Museum Campus', 'Gold Coast',\n",
       "       'Sheffield & DePaul', 'Lincoln Park', 'East Village',\n",
       "       'Little Italy, UIC', 'Uptown', 'Near South Side', 'Garfield Ridge',\n",
       "       'Logan Square', 'Edgewater', 'West Town', 'Old Town',\n",
       "       'Rush & Division', 'North Center', 'Lincoln Square', 'Rogers Park',\n",
       "       'West Ridge', 'Irving Park', 'Hyde Park', 'Avondale',\n",
       "       'Wicker Park', 'Albany Park', 'United Center', 'Lower West Side',\n",
       "       'Douglas', 'Portage Park', 'Humboldt Park', 'Norwood Park',\n",
       "       'Kenwood', 'Bridgeport', 'Armour Square', 'Jefferson Park',\n",
       "       'Bucktown', 'North Park', 'Garfield Park', 'Mckinley Park',\n",
       "       'Belmont Cragin', 'Boystown', 'Chinatown', 'Grand Boulevard',\n",
       "       'Austin', 'Sauganash,Forest Glen', 'South Shore', 'Woodlawn',\n",
       "       'Little Village', 'Jackson Park', 'North Lawndale', 'Dunning',\n",
       "       'Ukrainian Village', 'Hermosa', 'Englewood', 'Chatham', 'New City',\n",
       "       'Grand Crossing', 'Brighton Park', 'Andersonville', 'Oakland',\n",
       "       'Ashburn', 'Washington Park', 'Auburn Gresham', 'Clearing',\n",
       "       'Roseland', 'Wrigleyville', 'Edison Park', 'South Chicago',\n",
       "       'Chicago Lawn', 'Beverly', 'Calumet Heights', 'Washington Heights',\n",
       "       'Archer Heights', 'Gage Park', 'Fuller Park', 'West Lawn',\n",
       "       'Morgan Park', 'South Deering', 'Avalon Park', 'West Pullman',\n",
       "       'Montclare', 'West Elsdon', 'Pullman', 'Undef', 'Mount Greenwood',\n",
       "       'Hegewisch', 'Burnside', 'East Side', 'Riverdale'], dtype=object)"
      ]
     },
     "execution_count": 17,
     "metadata": {},
     "output_type": "execute_result"
    }
   ],
   "source": [
    "# Memeriksa Nilai Unik pada kolom 'genre'\n",
    "neighborhoods['dropoff_location_name'].unique()"
   ]
  },
  {
   "cell_type": "code",
   "execution_count": 18,
   "metadata": {
    "colab": {
     "base_uri": "https://localhost:8080/"
    },
    "id": "-n3hnDbeUIkv",
    "outputId": "7d9b39dc-e7d8-4240-ed14-bf2b6514054d"
   },
   "outputs": [
    {
     "data": {
      "text/plain": [
       "94"
      ]
     },
     "execution_count": 18,
     "metadata": {},
     "output_type": "execute_result"
    }
   ],
   "source": [
    "# Menghitung jumlah nilai unik pada kolom dropoff_location_name\n",
    "len(neighborhoods['dropoff_location_name'].unique())"
   ]
  },
  {
   "cell_type": "markdown",
   "metadata": {
    "id": "nnVGo-3cqo5x"
   },
   "source": [
    "Dari pemeriksaan diatas, dapat ditarik kesimpulan\n",
    "1. Jumlah nilai unik pada kedua kolom diatas sama dengan jumlah baris pada masing-masing dataframenya. \n",
    "2. Ada begitu banyak nilai untuk untuk kedua kolom diatas, sebaiknya diambil teknik khusus untuk menyederhanakan analisa."
   ]
  },
  {
   "cell_type": "markdown",
   "metadata": {},
   "source": [
    "<div class=\"alert alert-success\">\n",
    "<b>Adipta's comment v.1</b> <a class=\"tocSkip\"></a>\n",
    "\n",
    "Bagus, semua berjalan lancar.\n",
    "\n",
    "</div>"
   ]
  },
  {
   "cell_type": "markdown",
   "metadata": {
    "id": "UihPZEV8qZej"
   },
   "source": [
    "## 4.3 Memeriksa Kolom Numerik"
   ]
  },
  {
   "cell_type": "code",
   "execution_count": 19,
   "metadata": {
    "colab": {
     "base_uri": "https://localhost:8080/",
     "height": 300
    },
    "id": "77lespjvi12k",
    "outputId": "96d71419-c609-4a70-ef5c-3b97e1910f5a"
   },
   "outputs": [
    {
     "data": {
      "text/html": [
       "<div>\n",
       "<style scoped>\n",
       "    .dataframe tbody tr th:only-of-type {\n",
       "        vertical-align: middle;\n",
       "    }\n",
       "\n",
       "    .dataframe tbody tr th {\n",
       "        vertical-align: top;\n",
       "    }\n",
       "\n",
       "    .dataframe thead th {\n",
       "        text-align: right;\n",
       "    }\n",
       "</style>\n",
       "<table border=\"1\" class=\"dataframe\">\n",
       "  <thead>\n",
       "    <tr style=\"text-align: right;\">\n",
       "      <th></th>\n",
       "      <th>trips_amount</th>\n",
       "    </tr>\n",
       "  </thead>\n",
       "  <tbody>\n",
       "    <tr>\n",
       "      <th>count</th>\n",
       "      <td>64.000000</td>\n",
       "    </tr>\n",
       "    <tr>\n",
       "      <th>mean</th>\n",
       "      <td>2145.484375</td>\n",
       "    </tr>\n",
       "    <tr>\n",
       "      <th>std</th>\n",
       "      <td>3812.310186</td>\n",
       "    </tr>\n",
       "    <tr>\n",
       "      <th>min</th>\n",
       "      <td>2.000000</td>\n",
       "    </tr>\n",
       "    <tr>\n",
       "      <th>25%</th>\n",
       "      <td>20.750000</td>\n",
       "    </tr>\n",
       "    <tr>\n",
       "      <th>50%</th>\n",
       "      <td>178.500000</td>\n",
       "    </tr>\n",
       "    <tr>\n",
       "      <th>75%</th>\n",
       "      <td>2106.500000</td>\n",
       "    </tr>\n",
       "    <tr>\n",
       "      <th>max</th>\n",
       "      <td>19558.000000</td>\n",
       "    </tr>\n",
       "  </tbody>\n",
       "</table>\n",
       "</div>"
      ],
      "text/plain": [
       "       trips_amount\n",
       "count     64.000000\n",
       "mean    2145.484375\n",
       "std     3812.310186\n",
       "min        2.000000\n",
       "25%       20.750000\n",
       "50%      178.500000\n",
       "75%     2106.500000\n",
       "max    19558.000000"
      ]
     },
     "execution_count": 19,
     "metadata": {},
     "output_type": "execute_result"
    }
   ],
   "source": [
    "# Memeriksa kolom numerik pada dataframe fleet\n",
    "fleet.describe()"
   ]
  },
  {
   "cell_type": "code",
   "execution_count": 20,
   "metadata": {
    "colab": {
     "base_uri": "https://localhost:8080/",
     "height": 300
    },
    "id": "IDfHatbcuS_Q",
    "outputId": "943171fd-6046-42c6-b967-c802fd635cce"
   },
   "outputs": [
    {
     "data": {
      "text/html": [
       "<div>\n",
       "<style scoped>\n",
       "    .dataframe tbody tr th:only-of-type {\n",
       "        vertical-align: middle;\n",
       "    }\n",
       "\n",
       "    .dataframe tbody tr th {\n",
       "        vertical-align: top;\n",
       "    }\n",
       "\n",
       "    .dataframe thead th {\n",
       "        text-align: right;\n",
       "    }\n",
       "</style>\n",
       "<table border=\"1\" class=\"dataframe\">\n",
       "  <thead>\n",
       "    <tr style=\"text-align: right;\">\n",
       "      <th></th>\n",
       "      <th>average_trips</th>\n",
       "    </tr>\n",
       "  </thead>\n",
       "  <tbody>\n",
       "    <tr>\n",
       "      <th>count</th>\n",
       "      <td>94.000000</td>\n",
       "    </tr>\n",
       "    <tr>\n",
       "      <th>mean</th>\n",
       "      <td>599.953728</td>\n",
       "    </tr>\n",
       "    <tr>\n",
       "      <th>std</th>\n",
       "      <td>1714.591098</td>\n",
       "    </tr>\n",
       "    <tr>\n",
       "      <th>min</th>\n",
       "      <td>1.800000</td>\n",
       "    </tr>\n",
       "    <tr>\n",
       "      <th>25%</th>\n",
       "      <td>14.266667</td>\n",
       "    </tr>\n",
       "    <tr>\n",
       "      <th>50%</th>\n",
       "      <td>52.016667</td>\n",
       "    </tr>\n",
       "    <tr>\n",
       "      <th>75%</th>\n",
       "      <td>298.858333</td>\n",
       "    </tr>\n",
       "    <tr>\n",
       "      <th>max</th>\n",
       "      <td>10727.466667</td>\n",
       "    </tr>\n",
       "  </tbody>\n",
       "</table>\n",
       "</div>"
      ],
      "text/plain": [
       "       average_trips\n",
       "count      94.000000\n",
       "mean      599.953728\n",
       "std      1714.591098\n",
       "min         1.800000\n",
       "25%        14.266667\n",
       "50%        52.016667\n",
       "75%       298.858333\n",
       "max     10727.466667"
      ]
     },
     "execution_count": 20,
     "metadata": {},
     "output_type": "execute_result"
    }
   ],
   "source": [
    "# Memeriksa kolom numerik pada dataframe neighborhoods\n",
    "neighborhoods.describe()"
   ]
  },
  {
   "cell_type": "markdown",
   "metadata": {
    "id": "Lu3WTcfGYdSO"
   },
   "source": [
    "Dari kedua tabel diatas, ditemukan bahwa:\n",
    "* Banyak perjalanan pada kolom trips_amount ada di interval 2 sampai 19558, dengan perbedaan yang signifikan antara mean dan median (2145.48 dan 178.50). Dapat disimpulkan bahwa data ini bukan distribusi normal.\n",
    "* Banyak perjalanan pada kolom average_trips ada di interval 1.8 sampai 10727.46, dengan perbedaan yang signifikan antara mean dan median (599.95 dan 178.50). Dapat disimpulkan bahwa data ini bukan distribusi normal."
   ]
  },
  {
   "cell_type": "markdown",
   "metadata": {},
   "source": [
    "<div class=\"alert alert-success\">\n",
    "<b>Adipta's comment v.1</b> <a class=\"tocSkip\"></a>\n",
    "\n",
    "Bagus, semua berjalan lancar.\n",
    "\n",
    "</div>"
   ]
  },
  {
   "cell_type": "markdown",
   "metadata": {
    "id": "OGXP9pPRrJum"
   },
   "source": [
    "# 5 Pra-Pemrosesan Data"
   ]
  },
  {
   "cell_type": "markdown",
   "metadata": {
    "id": "Gc_JkZK6aNnB"
   },
   "source": [
    "## 5.1 Memeriksa duplikat"
   ]
  },
  {
   "cell_type": "code",
   "execution_count": 21,
   "metadata": {
    "colab": {
     "base_uri": "https://localhost:8080/"
    },
    "id": "d7lLqfIKdDAV",
    "outputId": "14a49439-a370-4c74-bc50-ab06f5ca7e2b"
   },
   "outputs": [
    {
     "data": {
      "text/plain": [
       "0"
      ]
     },
     "execution_count": 21,
     "metadata": {},
     "output_type": "execute_result"
    }
   ],
   "source": [
    "# Memeriksa dulikat pada dataframe fleet\n",
    "fleet.duplicated().sum()"
   ]
  },
  {
   "cell_type": "code",
   "execution_count": 22,
   "metadata": {
    "colab": {
     "base_uri": "https://localhost:8080/"
    },
    "id": "4e_Ionsrz-gy",
    "outputId": "22b704f0-898a-4a1e-b11c-bb2608d7c085"
   },
   "outputs": [
    {
     "data": {
      "text/plain": [
       "0"
      ]
     },
     "execution_count": 22,
     "metadata": {},
     "output_type": "execute_result"
    }
   ],
   "source": [
    "# Memeriksa dulikat pada dataframe neighborhoods\n",
    "neighborhoods.duplicated().sum()"
   ]
  },
  {
   "cell_type": "markdown",
   "metadata": {
    "id": "qH4qyhZQ0IMG"
   },
   "source": [
    "Tidak ada nilai duplikat pada kedua dataframe ini"
   ]
  },
  {
   "cell_type": "markdown",
   "metadata": {},
   "source": [
    "<div class=\"alert alert-success\">\n",
    "<b>Adipta's comment v.1</b> <a class=\"tocSkip\"></a>\n",
    "\n",
    "Bagus, semua berjalan lancar.\n",
    "\n",
    "</div>"
   ]
  },
  {
   "cell_type": "markdown",
   "metadata": {
    "id": "v-6CehPpwf6z"
   },
   "source": [
    "## 5.2 Mengubah tipe data"
   ]
  },
  {
   "cell_type": "code",
   "execution_count": 23,
   "metadata": {
    "id": "zggMASuK1iOj"
   },
   "outputs": [],
   "source": [
    "# Mengubah tipe data untuk kolom 'trips_amount'\n",
    "fleet['trips_amount'] = fleet['trips_amount'].astype(int)"
   ]
  },
  {
   "cell_type": "code",
   "execution_count": 24,
   "metadata": {
    "id": "ATnNS2m_1OjJ"
   },
   "outputs": [],
   "source": [
    "# Mengubah tipe data untuk kolom 'average_trips'\n",
    "neighborhoods['average_trips'] = neighborhoods['average_trips'].astype(int)"
   ]
  },
  {
   "cell_type": "markdown",
   "metadata": {
    "id": "_-Ctxd7_2CKF"
   },
   "source": [
    "Tipe data untuk kedua kolom sudah diubah."
   ]
  },
  {
   "cell_type": "markdown",
   "metadata": {},
   "source": [
    "<div class=\"alert alert-success\">\n",
    "<b>Adipta's comment v.1</b> <a class=\"tocSkip\"></a>\n",
    "\n",
    "Bagus, semua berjalan lancar.\n",
    "\n",
    "</div>"
   ]
  },
  {
   "cell_type": "markdown",
   "metadata": {
    "id": "oP-d51JkseeT"
   },
   "source": [
    "# 6 Analisis Data Eksploratif"
   ]
  },
  {
   "cell_type": "markdown",
   "metadata": {
    "id": "8p9-zxAbsHAm"
   },
   "source": [
    "Bagian ini menganalisis jumlah perjalanan pada setiap armada dan jumlah rata-rata perjalanan pada setiap wilayah di Chicago."
   ]
  },
  {
   "cell_type": "markdown",
   "metadata": {
    "id": "oVIKSDp3tUUs"
   },
   "source": [
    "## 6.1 Banyak Perjalanan Armada Taxi"
   ]
  },
  {
   "cell_type": "code",
   "execution_count": 25,
   "metadata": {
    "colab": {
     "base_uri": "https://localhost:8080/",
     "height": 363
    },
    "id": "Kr4cRJs9El-G",
    "outputId": "8734de07-8f15-4250-a08e-f0bdc04a9382"
   },
   "outputs": [
    {
     "data": {
      "text/html": [
       "<div>\n",
       "<style scoped>\n",
       "    .dataframe tbody tr th:only-of-type {\n",
       "        vertical-align: middle;\n",
       "    }\n",
       "\n",
       "    .dataframe tbody tr th {\n",
       "        vertical-align: top;\n",
       "    }\n",
       "\n",
       "    .dataframe thead th {\n",
       "        text-align: right;\n",
       "    }\n",
       "</style>\n",
       "<table border=\"1\" class=\"dataframe\">\n",
       "  <thead>\n",
       "    <tr style=\"text-align: right;\">\n",
       "      <th></th>\n",
       "      <th>company_name</th>\n",
       "      <th>trips_amount</th>\n",
       "    </tr>\n",
       "  </thead>\n",
       "  <tbody>\n",
       "    <tr>\n",
       "      <th>0</th>\n",
       "      <td>Flash Cab</td>\n",
       "      <td>19558</td>\n",
       "    </tr>\n",
       "    <tr>\n",
       "      <th>1</th>\n",
       "      <td>Taxi Affiliation Services</td>\n",
       "      <td>11422</td>\n",
       "    </tr>\n",
       "    <tr>\n",
       "      <th>2</th>\n",
       "      <td>Medallion Leasing</td>\n",
       "      <td>10367</td>\n",
       "    </tr>\n",
       "    <tr>\n",
       "      <th>3</th>\n",
       "      <td>Yellow Cab</td>\n",
       "      <td>9888</td>\n",
       "    </tr>\n",
       "    <tr>\n",
       "      <th>4</th>\n",
       "      <td>Taxi Affiliation Service Yellow</td>\n",
       "      <td>9299</td>\n",
       "    </tr>\n",
       "    <tr>\n",
       "      <th>5</th>\n",
       "      <td>Chicago Carriage Cab Corp</td>\n",
       "      <td>9181</td>\n",
       "    </tr>\n",
       "    <tr>\n",
       "      <th>6</th>\n",
       "      <td>City Service</td>\n",
       "      <td>8448</td>\n",
       "    </tr>\n",
       "    <tr>\n",
       "      <th>7</th>\n",
       "      <td>Sun Taxi</td>\n",
       "      <td>7701</td>\n",
       "    </tr>\n",
       "    <tr>\n",
       "      <th>8</th>\n",
       "      <td>Star North Management LLC</td>\n",
       "      <td>7455</td>\n",
       "    </tr>\n",
       "    <tr>\n",
       "      <th>9</th>\n",
       "      <td>Blue Ribbon Taxi Association Inc.</td>\n",
       "      <td>5953</td>\n",
       "    </tr>\n",
       "  </tbody>\n",
       "</table>\n",
       "</div>"
      ],
      "text/plain": [
       "                        company_name  trips_amount\n",
       "0                          Flash Cab         19558\n",
       "1          Taxi Affiliation Services         11422\n",
       "2                  Medallion Leasing         10367\n",
       "3                         Yellow Cab          9888\n",
       "4    Taxi Affiliation Service Yellow          9299\n",
       "5          Chicago Carriage Cab Corp          9181\n",
       "6                       City Service          8448\n",
       "7                           Sun Taxi          7701\n",
       "8          Star North Management LLC          7455\n",
       "9  Blue Ribbon Taxi Association Inc.          5953"
      ]
     },
     "execution_count": 25,
     "metadata": {},
     "output_type": "execute_result"
    }
   ],
   "source": [
    "# Menampilkan armada taxi berdasarkan jumlah perjalanan taxi ('trips_amount')\n",
    "fleet.head(10)"
   ]
  },
  {
   "cell_type": "markdown",
   "metadata": {
    "id": "C5V2Ft_i27GX"
   },
   "source": [
    "Dari tabel diatas terlihat bahwa armada Flash Cab merupakan armada dengan jumlah perjalanan terbanyak diikuti oleh Taxi Affiliation Services dan Yellow Cab yang yang berturut-turut sebanyak 19588, 11422 dan 10367.\n",
    "\n",
    "Agar informasi lebih mudah dianalisis berikut ini akan ditampilkan persentase banyak perjalanan dengan grafik waffle."
   ]
  },
  {
   "cell_type": "code",
   "execution_count": 26,
   "metadata": {
    "colab": {
     "base_uri": "https://localhost:8080/",
     "height": 999
    },
    "id": "gZnJCh1VY6Vp",
    "outputId": "27ca36e4-5376-45c8-de59-11245dbcacc1"
   },
   "outputs": [
    {
     "data": {
      "image/png": "[encoded data removed]",
      "text/plain": [
       "<Waffle size 1440x1440 with 1 Axes>"
      ]
     },
     "metadata": {
      "needs_background": "light"
     },
     "output_type": "display_data"
    }
   ],
   "source": [
    "# Menampilkan grafik waffle untuk dataframe fleet\n",
    "list_company = fleet['company_name'].tolist()\n",
    "\n",
    "fleet['percent'] = round((fleet['trips_amount'] / fleet.trips_amount.sum())* 100, 2)\n",
    "\n",
    "pal = list(sns.color_palette(palette='plasma_r',n_colors=len(list_company)).as_hex())\n",
    "\n",
    "Label_per = [str(round(i*100/sum(fleet.trips_amount),1))+' %' for i in fleet.trips_amount]\n",
    "\n",
    "fig = plt.figure(FigureClass=Waffle, \n",
    "                 rows=50, columns=60,\n",
    "                 values=fleet.percent, \n",
    "                 colors=pal,\n",
    "                 labels=[i+' '+j for i,j in zip(fleet.company_name, Label_per)],\n",
    "                 figsize = (20,20),\n",
    "                 legend={'loc':'upper right',\n",
    "                         'bbox_to_anchor': (1.32, 1),\n",
    "                        })\n",
    "plt.tight_layout()\n",
    "plt.show()"
   ]
  },
  {
   "cell_type": "code",
   "execution_count": 27,
   "metadata": {
    "colab": {
     "base_uri": "https://localhost:8080/"
    },
    "id": "QeGJrmoLel2x",
    "outputId": "0577f4b0-7f04-42f9-9b1b-a7e67fad6a38"
   },
   "outputs": [
    {
     "data": {
      "text/plain": [
       "42"
      ]
     },
     "execution_count": 27,
     "metadata": {},
     "output_type": "execute_result"
    }
   ],
   "source": [
    "# Menghitung armada dengan perjalanan dibawah 1%\n",
    "len(fleet[fleet['percent'] < 1])"
   ]
  },
  {
   "cell_type": "markdown",
   "metadata": {
    "id": "tYnE12LRbAEH"
   },
   "source": [
    "Sesuai dengan data banyak perjalanan, persentase menujukan bahwa Flash Cab dengan urutan pertama diikuti oleh Taxi Affilation Services dan Medallion Leasin yang masing-masing 14.2%, 8.3%, dan 7.6%. Dan ada 42 armada yang hanya memiliki perjalanan kurang dari 1%."
   ]
  },
  {
   "cell_type": "markdown",
   "metadata": {
    "id": "4wQz6HKevjDK"
   },
   "source": [
    "Ada 64 armada taxi di kolom company_name. Flash Cab dan Taxi Affiliation Service merupakan armada yang paling populer. Untuk analisis, armada lain dikelompokan menjadi others"
   ]
  },
  {
   "cell_type": "code",
   "execution_count": 28,
   "metadata": {
    "id": "MOwnCz_AGoh6"
   },
   "outputs": [],
   "source": [
    "# Fungsi untuk menggabung armada dengan perjalanan kurang dari 100 kali\n",
    "def other_companies(row):   \n",
    "    trips_amount = row['trips_amount']\n",
    "    company_name = row['company_name']\n",
    "    if (company_name == 'Flash Cab') | (company_name == 'Taxi Affiliation Services'):\n",
    "        return company_name\n",
    "    return 'others' "
   ]
  },
  {
   "cell_type": "code",
   "execution_count": 29,
   "metadata": {
    "id": "NIfbWmZVKMl0"
   },
   "outputs": [],
   "source": [
    "# Menjalankan fungsi di dataframe baru\n",
    "fleet['company_name'] = fleet.apply(other_companies, axis=1)"
   ]
  },
  {
   "cell_type": "code",
   "execution_count": 30,
   "metadata": {
    "colab": {
     "base_uri": "https://localhost:8080/",
     "height": 423
    },
    "id": "nQu4RfFTRv7H",
    "outputId": "c3c5f29e-a7c6-4764-e17b-3cfde0d5df06"
   },
   "outputs": [
    {
     "data": {
      "text/html": [
       "<div>\n",
       "<style scoped>\n",
       "    .dataframe tbody tr th:only-of-type {\n",
       "        vertical-align: middle;\n",
       "    }\n",
       "\n",
       "    .dataframe tbody tr th {\n",
       "        vertical-align: top;\n",
       "    }\n",
       "\n",
       "    .dataframe thead th {\n",
       "        text-align: right;\n",
       "    }\n",
       "</style>\n",
       "<table border=\"1\" class=\"dataframe\">\n",
       "  <thead>\n",
       "    <tr style=\"text-align: right;\">\n",
       "      <th></th>\n",
       "      <th>company_name</th>\n",
       "      <th>trips_amount</th>\n",
       "      <th>percent</th>\n",
       "    </tr>\n",
       "  </thead>\n",
       "  <tbody>\n",
       "    <tr>\n",
       "      <th>0</th>\n",
       "      <td>Flash Cab</td>\n",
       "      <td>19558</td>\n",
       "      <td>14.24</td>\n",
       "    </tr>\n",
       "    <tr>\n",
       "      <th>1</th>\n",
       "      <td>Taxi Affiliation Services</td>\n",
       "      <td>11422</td>\n",
       "      <td>8.32</td>\n",
       "    </tr>\n",
       "    <tr>\n",
       "      <th>2</th>\n",
       "      <td>others</td>\n",
       "      <td>10367</td>\n",
       "      <td>7.55</td>\n",
       "    </tr>\n",
       "    <tr>\n",
       "      <th>3</th>\n",
       "      <td>others</td>\n",
       "      <td>9888</td>\n",
       "      <td>7.20</td>\n",
       "    </tr>\n",
       "    <tr>\n",
       "      <th>4</th>\n",
       "      <td>others</td>\n",
       "      <td>9299</td>\n",
       "      <td>6.77</td>\n",
       "    </tr>\n",
       "    <tr>\n",
       "      <th>...</th>\n",
       "      <td>...</td>\n",
       "      <td>...</td>\n",
       "      <td>...</td>\n",
       "    </tr>\n",
       "    <tr>\n",
       "      <th>59</th>\n",
       "      <td>others</td>\n",
       "      <td>7</td>\n",
       "      <td>0.01</td>\n",
       "    </tr>\n",
       "    <tr>\n",
       "      <th>60</th>\n",
       "      <td>others</td>\n",
       "      <td>7</td>\n",
       "      <td>0.01</td>\n",
       "    </tr>\n",
       "    <tr>\n",
       "      <th>61</th>\n",
       "      <td>others</td>\n",
       "      <td>5</td>\n",
       "      <td>0.00</td>\n",
       "    </tr>\n",
       "    <tr>\n",
       "      <th>62</th>\n",
       "      <td>others</td>\n",
       "      <td>3</td>\n",
       "      <td>0.00</td>\n",
       "    </tr>\n",
       "    <tr>\n",
       "      <th>63</th>\n",
       "      <td>others</td>\n",
       "      <td>2</td>\n",
       "      <td>0.00</td>\n",
       "    </tr>\n",
       "  </tbody>\n",
       "</table>\n",
       "<p>64 rows × 3 columns</p>\n",
       "</div>"
      ],
      "text/plain": [
       "                 company_name  trips_amount  percent\n",
       "0                   Flash Cab         19558    14.24\n",
       "1   Taxi Affiliation Services         11422     8.32\n",
       "2                      others         10367     7.55\n",
       "3                      others          9888     7.20\n",
       "4                      others          9299     6.77\n",
       "..                        ...           ...      ...\n",
       "59                     others             7     0.01\n",
       "60                     others             7     0.01\n",
       "61                     others             5     0.00\n",
       "62                     others             3     0.00\n",
       "63                     others             2     0.00\n",
       "\n",
       "[64 rows x 3 columns]"
      ]
     },
     "execution_count": 30,
     "metadata": {},
     "output_type": "execute_result"
    }
   ],
   "source": [
    "# Memeriksa dataframe\n",
    "fleet"
   ]
  },
  {
   "cell_type": "markdown",
   "metadata": {
    "id": "c1HNKZ4fSuLz"
   },
   "source": [
    "Armada 'others' ada lebih dari 1 baris, karena penerapan fungsi sebelumnya. Untuk itu perlu dilakukan pivot untuk menggabungnya menjadi satu."
   ]
  },
  {
   "cell_type": "code",
   "execution_count": 32,
   "metadata": {
    "colab": {
     "base_uri": "https://localhost:8080/",
     "height": 143
    },
    "id": "xZYZSb-oVRL-",
    "outputId": "3e585b51-741c-4114-8791-1cf985846294"
   },
   "outputs": [
    {
     "data": {
      "text/html": [
       "<div>\n",
       "<style scoped>\n",
       "    .dataframe tbody tr th:only-of-type {\n",
       "        vertical-align: middle;\n",
       "    }\n",
       "\n",
       "    .dataframe tbody tr th {\n",
       "        vertical-align: top;\n",
       "    }\n",
       "\n",
       "    .dataframe thead th {\n",
       "        text-align: right;\n",
       "    }\n",
       "</style>\n",
       "<table border=\"1\" class=\"dataframe\">\n",
       "  <thead>\n",
       "    <tr style=\"text-align: right;\">\n",
       "      <th></th>\n",
       "      <th>company_name</th>\n",
       "      <th>trips_amount</th>\n",
       "    </tr>\n",
       "  </thead>\n",
       "  <tbody>\n",
       "    <tr>\n",
       "      <th>0</th>\n",
       "      <td>Flash Cab</td>\n",
       "      <td>19558</td>\n",
       "    </tr>\n",
       "    <tr>\n",
       "      <th>1</th>\n",
       "      <td>Taxi Affiliation Services</td>\n",
       "      <td>11422</td>\n",
       "    </tr>\n",
       "    <tr>\n",
       "      <th>2</th>\n",
       "      <td>others</td>\n",
       "      <td>106331</td>\n",
       "    </tr>\n",
       "  </tbody>\n",
       "</table>\n",
       "</div>"
      ],
      "text/plain": [
       "                company_name  trips_amount\n",
       "0                  Flash Cab         19558\n",
       "1  Taxi Affiliation Services         11422\n",
       "2                     others        106331"
      ]
     },
     "execution_count": 32,
     "metadata": {},
     "output_type": "execute_result"
    }
   ],
   "source": [
    "# Membuat tabel baru dengan pivot untuk menggabungkan value other companies\n",
    "new_fleet = pd.pivot_table(fleet, index=['company_name'], values='trips_amount', aggfunc=['sum']).reset_index()\n",
    "new_fleet = new_fleet.droplevel(axis=1, level=0)\n",
    "new_fleet.columns = ['company_name', 'trips_amount']\n",
    "new_fleet.head()"
   ]
  },
  {
   "cell_type": "markdown",
   "metadata": {
    "id": "Ts1XwgeEY7V8"
   },
   "source": [
    "Sekarang terlihat bahwa hanya ada satu baris armada 'others'"
   ]
  },
  {
   "cell_type": "code",
   "execution_count": 33,
   "metadata": {
    "colab": {
     "base_uri": "https://localhost:8080/",
     "height": 143
    },
    "id": "a2Jd3CTfWGG8",
    "outputId": "af72981c-289e-4f2b-9dcf-1e3aec38cde4"
   },
   "outputs": [
    {
     "data": {
      "text/html": [
       "<div>\n",
       "<style scoped>\n",
       "    .dataframe tbody tr th:only-of-type {\n",
       "        vertical-align: middle;\n",
       "    }\n",
       "\n",
       "    .dataframe tbody tr th {\n",
       "        vertical-align: top;\n",
       "    }\n",
       "\n",
       "    .dataframe thead th {\n",
       "        text-align: right;\n",
       "    }\n",
       "</style>\n",
       "<table border=\"1\" class=\"dataframe\">\n",
       "  <thead>\n",
       "    <tr style=\"text-align: right;\">\n",
       "      <th></th>\n",
       "      <th>company_name</th>\n",
       "      <th>trips_amount</th>\n",
       "    </tr>\n",
       "  </thead>\n",
       "  <tbody>\n",
       "    <tr>\n",
       "      <th>0</th>\n",
       "      <td>others</td>\n",
       "      <td>106331</td>\n",
       "    </tr>\n",
       "    <tr>\n",
       "      <th>1</th>\n",
       "      <td>Flash Cab</td>\n",
       "      <td>19558</td>\n",
       "    </tr>\n",
       "    <tr>\n",
       "      <th>2</th>\n",
       "      <td>Taxi Affiliation Services</td>\n",
       "      <td>11422</td>\n",
       "    </tr>\n",
       "  </tbody>\n",
       "</table>\n",
       "</div>"
      ],
      "text/plain": [
       "                company_name  trips_amount\n",
       "0                     others        106331\n",
       "1                  Flash Cab         19558\n",
       "2  Taxi Affiliation Services         11422"
      ]
     },
     "execution_count": 33,
     "metadata": {},
     "output_type": "execute_result"
    }
   ],
   "source": [
    "# Mengurutkan dataframe berdasarkan kolom 'trips_amount'\n",
    "new_fleet.sort_values(by=['trips_amount'], ascending= False, inplace=True, ignore_index= True)\n",
    "new_fleet.tail(15)"
   ]
  },
  {
   "cell_type": "code",
   "execution_count": 34,
   "metadata": {
    "colab": {
     "base_uri": "https://localhost:8080/",
     "height": 591
    },
    "id": "JeCl_-oNkPfY",
    "outputId": "f55f8249-4e48-491a-eb18-bca7516f9ff1"
   },
   "outputs": [
    {
     "data": {
      "image/png": "[encoded data removed]",
      "text/plain": [
       "<Figure size 720x720 with 1 Axes>"
      ]
     },
     "metadata": {},
     "output_type": "display_data"
    }
   ],
   "source": [
    "# Menampilkan grafik pie-chart\n",
    "def trips_pct(pct):\n",
    "    return \"{:.2f} %\".format(pct)\n",
    "plt.figure(figsize=(10, 10))\n",
    "colors = ['#189AB4', '#21B6A8', '#A3EBB1']\n",
    "new_fleet.groupby('company_name')['trips_amount'].sum().plot.pie(colors=colors,autopct=trips_pct)\n",
    "plt.title('Grafik banyak Perjalanan untuk setiap Armada')\n",
    "plt.ylabel('')\n",
    "plt.legend(loc='lower right')\n",
    "plt.show()"
   ]
  },
  {
   "cell_type": "markdown",
   "metadata": {
    "id": "iCDOKCaKtNDs"
   },
   "source": [
    "Persentase jumlah perjalanan armada Flash Cab 14.24% dan Taxi Affiliation Service 8.32%. Selain itu ada 77.44% perjalanan oleh armada lain."
   ]
  },
  {
   "cell_type": "markdown",
   "metadata": {},
   "source": [
    "<div class=\"alert alert-success\">\n",
    "<b>Adipta's comment v.1</b> <a class=\"tocSkip\"></a>\n",
    "\n",
    "Bagus, semua berjalan lancar.\n",
    "\n",
    "</div>"
   ]
  },
  {
   "cell_type": "markdown",
   "metadata": {
    "id": "Jf2s6UL3y2Dm"
   },
   "source": [
    "## 6.2 Wilayah Tujuan Akhir "
   ]
  },
  {
   "cell_type": "markdown",
   "metadata": {
    "id": "lbQGWcT4zl_G"
   },
   "source": [
    "Ada 94 wilayah tujuan akhir pada dataframe neighbourhoods. Untuk analisis akan diambil 10 terbesar berdasarkan banyaknya perjalanan ke wilayah tersebut."
   ]
  },
  {
   "cell_type": "code",
   "execution_count": 35,
   "metadata": {
    "colab": {
     "base_uri": "https://localhost:8080/",
     "height": 363
    },
    "id": "br0bpeHFz-O_",
    "outputId": "e16ca27d-1a61-4141-9a90-becce1cb654c"
   },
   "outputs": [
    {
     "data": {
      "text/html": [
       "<div>\n",
       "<style scoped>\n",
       "    .dataframe tbody tr th:only-of-type {\n",
       "        vertical-align: middle;\n",
       "    }\n",
       "\n",
       "    .dataframe tbody tr th {\n",
       "        vertical-align: top;\n",
       "    }\n",
       "\n",
       "    .dataframe thead th {\n",
       "        text-align: right;\n",
       "    }\n",
       "</style>\n",
       "<table border=\"1\" class=\"dataframe\">\n",
       "  <thead>\n",
       "    <tr style=\"text-align: right;\">\n",
       "      <th></th>\n",
       "      <th>dropoff_location_name</th>\n",
       "      <th>average_trips</th>\n",
       "    </tr>\n",
       "  </thead>\n",
       "  <tbody>\n",
       "    <tr>\n",
       "      <th>0</th>\n",
       "      <td>Loop</td>\n",
       "      <td>10727</td>\n",
       "    </tr>\n",
       "    <tr>\n",
       "      <th>1</th>\n",
       "      <td>River North</td>\n",
       "      <td>9523</td>\n",
       "    </tr>\n",
       "    <tr>\n",
       "      <th>2</th>\n",
       "      <td>Streeterville</td>\n",
       "      <td>6664</td>\n",
       "    </tr>\n",
       "    <tr>\n",
       "      <th>3</th>\n",
       "      <td>West Loop</td>\n",
       "      <td>5163</td>\n",
       "    </tr>\n",
       "    <tr>\n",
       "      <th>4</th>\n",
       "      <td>O'Hare</td>\n",
       "      <td>2546</td>\n",
       "    </tr>\n",
       "    <tr>\n",
       "      <th>5</th>\n",
       "      <td>Lake View</td>\n",
       "      <td>2420</td>\n",
       "    </tr>\n",
       "    <tr>\n",
       "      <th>6</th>\n",
       "      <td>Grant Park</td>\n",
       "      <td>2068</td>\n",
       "    </tr>\n",
       "    <tr>\n",
       "      <th>7</th>\n",
       "      <td>Museum Campus</td>\n",
       "      <td>1510</td>\n",
       "    </tr>\n",
       "    <tr>\n",
       "      <th>8</th>\n",
       "      <td>Gold Coast</td>\n",
       "      <td>1364</td>\n",
       "    </tr>\n",
       "    <tr>\n",
       "      <th>9</th>\n",
       "      <td>Sheffield &amp; DePaul</td>\n",
       "      <td>1259</td>\n",
       "    </tr>\n",
       "  </tbody>\n",
       "</table>\n",
       "</div>"
      ],
      "text/plain": [
       "  dropoff_location_name  average_trips\n",
       "0                  Loop          10727\n",
       "1           River North           9523\n",
       "2         Streeterville           6664\n",
       "3             West Loop           5163\n",
       "4                O'Hare           2546\n",
       "5             Lake View           2420\n",
       "6            Grant Park           2068\n",
       "7         Museum Campus           1510\n",
       "8            Gold Coast           1364\n",
       "9    Sheffield & DePaul           1259"
      ]
     },
     "execution_count": 35,
     "metadata": {},
     "output_type": "execute_result"
    }
   ],
   "source": [
    "# 10 Wilayah tujuan akhir dengan perjalanan terbanyak\n",
    "new_neighborhoods = neighborhoods.nlargest(10, 'average_trips')\n",
    "new_neighborhoods"
   ]
  },
  {
   "cell_type": "code",
   "execution_count": 36,
   "metadata": {
    "colab": {
     "base_uri": "https://localhost:8080/",
     "height": 578
    },
    "id": "JVm2EaZb1HBf",
    "outputId": "4412da07-8a8e-4368-ba58-dbb264674af3"
   },
   "outputs": [
    {
     "data": {
      "image/png": "[encoded data removed]",
      "text/plain": [
       "<Figure size 1080x720 with 1 Axes>"
      ]
     },
     "metadata": {},
     "output_type": "display_data"
    }
   ],
   "source": [
    "# Menampilkan persentase wilayah dengan perjalanan terbanyak\n",
    "def show_pct(pct):\n",
    "    return \"{:.2f} %\".format(pct)\n",
    "\n",
    "re_index = new_neighborhoods.set_index('dropoff_location_name')\n",
    "\n",
    "explode = (0, 0, 0, 0.1, 0.13, 0.17, 0.2, 0.25, 0.35, 0.5)\n",
    "colors = ['#1B14A3', '#2424BC', '#0038E2', '#0055D4', '#0071C6', '#008DB8', '#00AAAA', '#00C69C', '#00E28E', '#00FF80', ]\n",
    "\n",
    "re_index.plot(kind='pie', fontsize=15, colors=colors, explode=explode,autopct=show_pct, subplots=True, figsize=(15,10))\n",
    "plt.axis('equal')\n",
    "plt.ylabel('')\n",
    "plt.legend(labels=re_index.index, loc=\"best\")\n",
    "plt.show()"
   ]
  },
  {
   "cell_type": "markdown",
   "metadata": {
    "id": "oLJDWuMnIMdq"
   },
   "source": [
    "Dari grafik diatas dapat diambil kesimpulan bahwa tiga besar perjalanan terbanyak ada di wilayah Loop 24.81%, River North 22.02%, Streeterville 15.41% dan sisanya sekitar 30% ada di Wilayah lain."
   ]
  },
  {
   "cell_type": "markdown",
   "metadata": {},
   "source": [
    "<div class=\"alert alert-success\">\n",
    "<b>Adipta's comment v.1</b> <a class=\"tocSkip\"></a>\n",
    "\n",
    "Bagus, semua berjalan lancar.\n",
    "\n",
    "</div>"
   ]
  },
  {
   "cell_type": "markdown",
   "metadata": {
    "id": "ZjyVD8Fb6Xez"
   },
   "source": [
    "# 7 Uji Hipotesis"
   ]
  },
  {
   "cell_type": "markdown",
   "metadata": {
    "id": "OqpbvpLCmrj1"
   },
   "source": [
    "Berikut ini adalah hipotesis yang akan diuji pada proyek ini:\n",
    "\n",
    "> \"Durasi rata-rata perjalanan dari Loop ke Bandara Internasional O'Hare berubah pada hari Sabtu yang hujan.\"\n",
    "\n",
    "maka hipotesis nolnya adalah:\n",
    "> \"Durasi rata-rata perjalanan dari Loop ke Bandara Internasional O'Hare sama pada hari Sabtu yang hujan.\"\n",
    "\n",
    "\n",
    "\n",
    "```\n",
    "# H0 : \"Durasi rata-rata perjalanan dari Loop ke Bandara Internasional O'Hare sama pada hari Sabtu yang hujan.\"\n",
    "# H1 : \"Durasi rata-rata perjalanan dari Loop ke Bandara Internasional O'Hare berubah pada hari Sabtu yang hujan.\"\n",
    "```\n",
    "\n"
   ]
  },
  {
   "cell_type": "code",
   "execution_count": 37,
   "metadata": {
    "colab": {
     "base_uri": "https://localhost:8080/",
     "height": 206
    },
    "id": "nXVUwzqLMzcN",
    "outputId": "63086966-d498-4d9a-9f64-6629c5f6e072"
   },
   "outputs": [
    {
     "data": {
      "text/html": [
       "<div>\n",
       "<style scoped>\n",
       "    .dataframe tbody tr th:only-of-type {\n",
       "        vertical-align: middle;\n",
       "    }\n",
       "\n",
       "    .dataframe tbody tr th {\n",
       "        vertical-align: top;\n",
       "    }\n",
       "\n",
       "    .dataframe thead th {\n",
       "        text-align: right;\n",
       "    }\n",
       "</style>\n",
       "<table border=\"1\" class=\"dataframe\">\n",
       "  <thead>\n",
       "    <tr style=\"text-align: right;\">\n",
       "      <th></th>\n",
       "      <th>start_ts</th>\n",
       "      <th>weather_conditions</th>\n",
       "      <th>duration_seconds</th>\n",
       "    </tr>\n",
       "  </thead>\n",
       "  <tbody>\n",
       "    <tr>\n",
       "      <th>0</th>\n",
       "      <td>2017-11-25 16:00:00</td>\n",
       "      <td>Good</td>\n",
       "      <td>2410.0</td>\n",
       "    </tr>\n",
       "    <tr>\n",
       "      <th>1</th>\n",
       "      <td>2017-11-25 14:00:00</td>\n",
       "      <td>Good</td>\n",
       "      <td>1920.0</td>\n",
       "    </tr>\n",
       "    <tr>\n",
       "      <th>2</th>\n",
       "      <td>2017-11-25 12:00:00</td>\n",
       "      <td>Good</td>\n",
       "      <td>1543.0</td>\n",
       "    </tr>\n",
       "    <tr>\n",
       "      <th>3</th>\n",
       "      <td>2017-11-04 10:00:00</td>\n",
       "      <td>Good</td>\n",
       "      <td>2512.0</td>\n",
       "    </tr>\n",
       "    <tr>\n",
       "      <th>4</th>\n",
       "      <td>2017-11-11 07:00:00</td>\n",
       "      <td>Good</td>\n",
       "      <td>1440.0</td>\n",
       "    </tr>\n",
       "  </tbody>\n",
       "</table>\n",
       "</div>"
      ],
      "text/plain": [
       "              start_ts weather_conditions  duration_seconds\n",
       "0  2017-11-25 16:00:00               Good            2410.0\n",
       "1  2017-11-25 14:00:00               Good            1920.0\n",
       "2  2017-11-25 12:00:00               Good            1543.0\n",
       "3  2017-11-04 10:00:00               Good            2512.0\n",
       "4  2017-11-11 07:00:00               Good            1440.0"
      ]
     },
     "execution_count": 37,
     "metadata": {},
     "output_type": "execute_result"
    }
   ],
   "source": [
    "# Menampilkan sample dataframe\n",
    "loop.head()"
   ]
  },
  {
   "cell_type": "code",
   "execution_count": 38,
   "metadata": {
    "colab": {
     "base_uri": "https://localhost:8080/"
    },
    "id": "sihF1_nuM67q",
    "outputId": "f79049ca-3cb7-4f1e-adbb-9ae2ba9a7306"
   },
   "outputs": [
    {
     "name": "stdout",
     "output_type": "stream",
     "text": [
      "<class 'pandas.core.frame.DataFrame'>\n",
      "RangeIndex: 1068 entries, 0 to 1067\n",
      "Data columns (total 3 columns):\n",
      " #   Column              Non-Null Count  Dtype  \n",
      "---  ------              --------------  -----  \n",
      " 0   start_ts            1068 non-null   object \n",
      " 1   weather_conditions  1068 non-null   object \n",
      " 2   duration_seconds    1068 non-null   float64\n",
      "dtypes: float64(1), object(2)\n",
      "memory usage: 25.2+ KB\n"
     ]
    }
   ],
   "source": [
    "# Menampilkan informasi dataframe\n",
    "loop.info()"
   ]
  },
  {
   "cell_type": "code",
   "execution_count": 39,
   "metadata": {
    "colab": {
     "base_uri": "https://localhost:8080/"
    },
    "id": "bK6XQXiZ3ERU",
    "outputId": "e12dc2d5-0eb2-4607-97ff-2ef55c56784b"
   },
   "outputs": [
    {
     "data": {
      "text/plain": [
       "array(['Good', 'Bad'], dtype=object)"
      ]
     },
     "execution_count": 39,
     "metadata": {},
     "output_type": "execute_result"
    }
   ],
   "source": [
    "# Menampilkan kondisi cuaca\n",
    "loop['weather_conditions'].unique()"
   ]
  },
  {
   "cell_type": "code",
   "execution_count": 40,
   "metadata": {
    "id": "_JimxvAY2phR"
   },
   "outputs": [],
   "source": [
    "# Membuat Dataframe dari dua kondisi cuaca\n",
    "loop_good = loop[loop['weather_conditions'] == 'Good'].dropna()['duration_seconds']\n",
    "loop_bad = loop[loop['weather_conditions']== 'Bad'].dropna()['duration_seconds']"
   ]
  },
  {
   "cell_type": "code",
   "execution_count": 41,
   "metadata": {
    "colab": {
     "base_uri": "https://localhost:8080/"
    },
    "id": "_oqgGaNb4BHE",
    "outputId": "c8a0c61b-56db-4a15-c014-a24d9c21d797"
   },
   "outputs": [
    {
     "name": "stdout",
     "output_type": "stream",
     "text": [
      "varians loop_good adalah 576382.009689509\n",
      "varians loop_bad adalah 520294.086002483\n"
     ]
    }
   ],
   "source": [
    "# Memeriksa varians kedua dataset\n",
    "print('varians loop_good adalah {}'.format(loop_good.var()))\n",
    "print('varians loop_bad adalah {}'.format(loop_bad.var()))"
   ]
  },
  {
   "cell_type": "markdown",
   "metadata": {
    "id": "zckL5US_55Gc"
   },
   "source": [
    "Varians kedua dataframe hampir sama, maka nilai equal_var adalah True"
   ]
  },
  {
   "cell_type": "code",
   "execution_count": 44,
   "metadata": {
    "colab": {
     "base_uri": "https://localhost:8080/"
    },
    "id": "NGJbOJlR4HYN",
    "outputId": "32ade836-6b9e-4294-aeaa-8e6df7335529"
   },
   "outputs": [
    {
     "name": "stdout",
     "output_type": "stream",
     "text": [
      "p-value:  6.517970327099473e-12\n",
      "Hipotesis nol ditolak\n"
     ]
    }
   ],
   "source": [
    "# Memeriksa hipotesis dengan st.ttest\n",
    "alpha = 0.05 \n",
    "\n",
    "results = st.ttest_ind(loop_good,loop_bad,equal_var=True)\n",
    "\n",
    "print('p-value: ', results.pvalue)\n",
    "\n",
    "if (results.pvalue < alpha):\n",
    "    print(\"Hipotesis nol ditolak\")\n",
    "else:\n",
    "    print(\"Hipotesis nol diterima\")"
   ]
  },
  {
   "cell_type": "markdown",
   "metadata": {
    "id": "XuWgIIFW6TSt"
   },
   "source": [
    "Dari hasil pengujian diatas ditemukan bahwa hipotesis nol ditolak yang berarti durasi perjalanan dipengaruhi oleh cuaca, maka hipotesis yang diterima adalah sebagai berikut: \n",
    "> **\"Durasi rata-rata perjalanan dari Loop ke Bandara Internasional O'Hare berubah pada hari Sabtu yang hujan.\"**"
   ]
  },
  {
   "cell_type": "markdown",
   "metadata": {},
   "source": [
    "<div class=\"alert alert-danger\">\n",
    "<b>Adipta's comment v.1</b> <a class=\"tocSkip\"></a>\n",
    "\n",
    "- kesimpulan kurang tepat, harusnya rata-rata perjalanan berubah/tidak sama\n",
    "- H0 ditolak berarti kita menolak berikut:\n",
    "    - `Durasi rata-rata perjalanan dari Loop ke Bandara Internasional O'Hare sama pada hari Sabtu yang hujan`\n",
    "- atau dengan kata lain kita menerima H1 dibawah:\n",
    "    - `Durasi rata-rata perjalanan dari Loop ke Bandara Internasional O'Hare berubah pada hari Sabtu yang hujan.`\n",
    "\n",
    "</div>"
   ]
  },
  {
   "cell_type": "markdown",
   "metadata": {},
   "source": [
    "<div class=\"alert alert-block alert-info\">\n",
    "<b>Student answer.</b> <a class=\"tocSkip\"></a>\n",
    "    \n",
    "Halo Mas Dipta terimakasih untuk reviewnya, benar ada kesalahan dipenulisan hipotesis. Mohon direview kembali Mas.\n",
    "</div>"
   ]
  },
  {
   "cell_type": "markdown",
   "metadata": {},
   "source": [
    "<div class=\"alert alert-success\">\n",
    "<b>Adipta's comment v.2</b> <a class=\"tocSkip\"></a>\n",
    "\n",
    "Bagus, semua berjalan lancar.\n",
    "\n",
    "</div>"
   ]
  },
  {
   "cell_type": "markdown",
   "metadata": {
    "id": "5d-pMd8v6dSE"
   },
   "source": [
    "# 8 Kesimpulan"
   ]
  },
  {
   "cell_type": "markdown",
   "metadata": {
    "id": "P8t2lmiiaJNC"
   },
   "source": [
    "Berikut ini temuan dari hasil analisis Ride-Sharing pada perusahaan Zuber\n",
    "1. Secara umum dataframe yang dianalisa memiliki data yang lengkap dan baik sehingga siap untuk dianalisis.\n",
    "2. Untuk memudahkan analisis tipe data untuk kolom trips_amount dan average_trips diubah ke integer.\n",
    "3. Ada begitu banyak value unik di kolom kategorik yang perlu dikelompokan atau difilter untuk analisis.\n",
    "4. Pada kedua dataframe ditemukan bahwa kolom numerik memiliki mean dan median yang berbeda sehingga dapat disimpulkan data tersebut bukan distribusi normal.\n",
    "5. Flash Cab merupakan armada dengan jumlah perjalanan terbanyak diikuti oleh Taxi Affiliation Services dan Yellow Cab yang yang berturut-turut sebanyak 14.2%, 8.3%, dan 7.6%. Dan ada 42 armada yang hanya memiliki perjalanan kurang dari 1%.\n",
    "6. Wilayah yang menjadi tujuan akhir perjalanan terbesar a di wilayah Loop 24.81%, yang diikuti oleh River North 22.02%, Streeterville 15.41% dan sisanya sekitar 30% ada di Wilayah lain.\n",
    "7. Dari hasil pengujian hipotesis, durasi atau lama perjalanan dipengaruhi cuaca.\n",
    "\n",
    "Dengan demikian dapat diambil kesimpulan umum bahwa **Loop** merupakan wilayah yang paling sering dituju dengan hampir 1/4 perjalanan berhenti disini dan armada yang paling populer adalah **Flash Cab** yang hampir 15% menguasai pasar di bisnis ini serta cuaca yang mempengaruhi lama perjalanan."
   ]
  },
  {
   "cell_type": "markdown",
   "metadata": {},
   "source": [
    "<div class=\"alert alert-block alert-warning\">\n",
    "\n",
    "# General comments #1\n",
    "<b>Reviewer's comment</b> <a class=\"tocSkip\"></a> \n",
    "\n",
    "Good Job Juliman! Sebagian besar kamu telah menyelesaikan project ini dengan baik namun masih ada beberapa hal yang bisa diimprove yang saya tandai dengan comment berwarna kuning dan merah. Jika kamu telah merevisinya, projectmu akan di approve dan kamu bisa lanjut ke tahapan selanjutnya!.\n",
    "    \n",
    "\n",
    "</div>"
   ]
  },
  {
   "cell_type": "markdown",
   "metadata": {},
   "source": [
    "<div class=\"alert alert-block alert-success\">\n",
    "\n",
    "# General comments #2\n",
    "<b>Reviewer's comment</b> <a class=\"tocSkip\"></a> \n",
    "\n",
    "Revisi sudah sesuai yah!\n",
    "    \n",
    "\n",
    "</div>"
   ]
  },
  {
   "cell_type": "code",
   "execution_count": null,
   "metadata": {},
   "outputs": [],
   "source": []
  }
 ],
 "metadata": {
  "colab": {
   "provenance": []
  },
  "kernelspec": {
   "display_name": "Python 3 (ipykernel)",
   "language": "python",
   "name": "python3"
  },
  "language_info": {
   "codemirror_mode": {
    "name": "ipython",
    "version": 3
   },
   "file_extension": ".py",
   "mimetype": "text/x-python",
   "name": "python",
   "nbconvert_exporter": "python",
   "pygments_lexer": "ipython3",
   "version": "3.9.5"
  },
  "toc": {
   "base_numbering": 1,
   "nav_menu": {},
   "number_sections": true,
   "sideBar": true,
   "skip_h1_title": true,
   "title_cell": "Table of Contents",
   "title_sidebar": "Contents",
   "toc_cell": false,
   "toc_position": {},
   "toc_section_display": true,
   "toc_window_display": false
  }
 },
 "nbformat": 4,
 "nbformat_minor": 1
}
