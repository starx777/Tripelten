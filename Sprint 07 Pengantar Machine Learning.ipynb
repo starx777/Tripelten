{
 "cells": [
  {
   "cell_type": "markdown",
   "metadata": {},
   "source": [
    "<div style=\"border:solid black 2px; padding: 20px\"><h1 style=\"color:black; margin-bottom:20px\">Reviewer's comment v1</h1>\n",
    "Halo Juliman !\n",
    "\n",
    "Perkenalkan saya Dipta, disini saya akan mereview tugas Juliman ya.\n",
    "\n",
    "Saya akan memberikan beberapa komen seperti dibawah ini, tolong jangan dipindah, dirubah, maupun dihapus ya.\n",
    "\n",
    "Komen yang saya berikan akan muncul dalam warna hijau, kuning, atau pun merah seperti ini:\n",
    "\n",
    "<div class=\"alert alert-success\">\n",
    "<b>Adipta's comment v.1</b> <a class=\"tocSkip\"></a>\n",
    "\n",
    "Bagus, semua berjalan lancar.\n",
    "\n",
    "</div>\n",
    "\n",
    "<div class=\"alert alert-warning\">\n",
    "<b>Adipta's comment v.1</b> <a class=\"tocSkip\"></a>\n",
    "\n",
    "Terdapat beberapa catatan.\n",
    "\n",
    "</div>\n",
    "\n",
    "<div class=\"alert alert-danger\">\n",
    "<b>Adipta's comment v.1</b> <a class=\"tocSkip\"></a>\n",
    "\n",
    "Perlu beberapa perbaikan\n",
    "\n",
    "</div>\n",
    "\n",
    "Dan tentu saja Juliman dapat menjawab saya dengan menggunakan ini\n",
    "\n",
    "<div class=\"alert alert-block alert-info\">\n",
    "<b>Student answer.</b> <a class=\"tocSkip\"></a>\n",
    "    \n",
    "Baik kak\n",
    "</div>"
   ]
  },
  {
   "cell_type": "markdown",
   "metadata": {
    "id": "OtENbHE7xERs"
   },
   "source": [
    "# 1 Deskripsi Proyek\n",
    "Operator seluler Megaline merasa tidak puas karena banyak pelanggan mereka yang\n",
    "masih menggunakan paket lama. Perusahaan tersebut ingin mengembangkan sebuah\n",
    "model yang dapat menganalisis perilaku konsumen dan merekomendasikan salah satu\n",
    "dari kedua paket terbaru Megaline: Smart atau Ultra. Ambang batas untuk tingkat accuracy yang diharapkan adalah 0.75.\n",
    "\n",
    "## Instruksi Proyek\n",
    "* Buka dan cermati file data secara teliti. File path: /datasets/users_behavior.csv. Unduh dataset\n",
    "* Pisahkan data sumber menjadi training set, validation set, dan test set.\n",
    "* Periksa kualitas model yang berbeda dengan mengubah hyperparameter-nya. Jelaskan secara singkat temuan-temuan yang Anda dapatkan dari penelitian ini.\n",
    "* Periksa kualitas model dengan menggunakan test set.\n",
    "* Tugas tambahan: lakukan sanity check terhadap model. Data ini lebih kompleks daripada data yang pernah Anda kerjakan sebelumnya, jadi ini memang bukanlah tugas yang mudah. Kita akan mempelajarinya lebih jauh nanti.\n",
    "\n",
    "## Deskripsi Data\n",
    "Setiap observasi dalam dataset memuat informasi perilaku bulanan untuk setiap pengguna. Adapun informasi tersebut mencakup:\n",
    "* `сalls` — jumlah panggilan\n",
    "* `minutes` — total durasi panggilan dalam satuan menit\n",
    "* `messages` — jumlah pesan teks\n",
    "* `mb_used` — traffic penggunaan internet dalam satuan MB\n",
    "* `is_ultimate` — paket untuk bulan yang sedang berjalan (Ultimate - 1, Surf - 0)"
   ]
  },
  {
   "cell_type": "markdown",
   "metadata": {},
   "source": [
    "<div class=\"alert alert-success\">\n",
    "<b>Adipta's comment v.1</b> <a class=\"tocSkip\"></a>\n",
    "\n",
    "Bagus, semua berjalan lancar.\n",
    "\n",
    "</div>"
   ]
  },
  {
   "cell_type": "markdown",
   "metadata": {
    "id": "Ocj9pWmkKFVI"
   },
   "source": [
    "# 2 Tujuan Proyek\n",
    "Tujuan proyek ini adalah mengembangkan sebuah model yang dapat menganalisis perilaku konsumen dan merekomendasikan salah satu dari kedua paket terbaru Megaline: Smart atau Ultra."
   ]
  },
  {
   "cell_type": "markdown",
   "metadata": {},
   "source": [
    "<div class=\"alert alert-success\">\n",
    "<b>Adipta's comment v.1</b> <a class=\"tocSkip\"></a>\n",
    "\n",
    "Bagus, semua berjalan lancar.\n",
    "\n",
    "</div>"
   ]
  },
  {
   "cell_type": "markdown",
   "metadata": {
    "id": "hhoSgjZrKqpk"
   },
   "source": [
    "# 3 Import Library"
   ]
  },
  {
   "cell_type": "code",
   "execution_count": 173,
   "metadata": {
    "id": "wYyatiNVrmhl"
   },
   "outputs": [],
   "source": [
    "# Library Data Prep\n",
    "import pandas as pd, numpy as np\n",
    "\n",
    "# Library Data Viz\n",
    "import matplotlib.pyplot as plt, seaborn as sns\n",
    "\n",
    "\n",
    "# sklearn\n",
    "from sklearn.model_selection import train_test_split\n",
    "from sklearn.linear_model import LogisticRegression\n",
    "from sklearn.tree import DecisionTreeClassifier\n",
    "from sklearn.ensemble import RandomForestClassifier\n",
    "from sklearn.metrics import confusion_matrix, accuracy_score\n",
    "\n",
    "# Ignore warning\n",
    "import warnings\n",
    "pd.set_option('display.max_column', 100)\n",
    "warnings.filterwarnings('ignore')"
   ]
  },
  {
   "cell_type": "markdown",
   "metadata": {},
   "source": [
    "<div class=\"alert alert-success\">\n",
    "<b>Adipta's comment v.1</b> <a class=\"tocSkip\"></a>\n",
    "\n",
    "Bagus, semua berjalan lancar.\n",
    "\n",
    "</div>"
   ]
  },
  {
   "cell_type": "markdown",
   "metadata": {
    "id": "W3oDSgIQK-yz"
   },
   "source": [
    "# 4 Ikhtisar Data"
   ]
  },
  {
   "cell_type": "code",
   "execution_count": 174,
   "metadata": {
    "id": "GGiihEQ8y-8t"
   },
   "outputs": [],
   "source": [
    "# Load data\n",
    "data = pd.read_csv('/content/users_behavior.csv')"
   ]
  },
  {
   "cell_type": "code",
   "execution_count": 175,
   "metadata": {
    "colab": {
     "base_uri": "https://localhost:8080/",
     "height": 206
    },
    "id": "oRkf2Ke-zEuZ",
    "outputId": "d7055f77-4c6f-4ddc-80a1-8af35b8d66a8"
   },
   "outputs": [
    {
     "data": {
      "text/html": [
       "\n",
       "  <div id=\"df-2827c416-93c9-4f76-a938-15c66e6cd307\">\n",
       "    <div class=\"colab-df-container\">\n",
       "      <div>\n",
       "<style scoped>\n",
       "    .dataframe tbody tr th:only-of-type {\n",
       "        vertical-align: middle;\n",
       "    }\n",
       "\n",
       "    .dataframe tbody tr th {\n",
       "        vertical-align: top;\n",
       "    }\n",
       "\n",
       "    .dataframe thead th {\n",
       "        text-align: right;\n",
       "    }\n",
       "</style>\n",
       "<table border=\"1\" class=\"dataframe\">\n",
       "  <thead>\n",
       "    <tr style=\"text-align: right;\">\n",
       "      <th></th>\n",
       "      <th>calls</th>\n",
       "      <th>minutes</th>\n",
       "      <th>messages</th>\n",
       "      <th>mb_used</th>\n",
       "      <th>is_ultra</th>\n",
       "    </tr>\n",
       "  </thead>\n",
       "  <tbody>\n",
       "    <tr>\n",
       "      <th>0</th>\n",
       "      <td>40.0</td>\n",
       "      <td>311.90</td>\n",
       "      <td>83.0</td>\n",
       "      <td>19915.42</td>\n",
       "      <td>0</td>\n",
       "    </tr>\n",
       "    <tr>\n",
       "      <th>1</th>\n",
       "      <td>85.0</td>\n",
       "      <td>516.75</td>\n",
       "      <td>56.0</td>\n",
       "      <td>22696.96</td>\n",
       "      <td>0</td>\n",
       "    </tr>\n",
       "    <tr>\n",
       "      <th>2</th>\n",
       "      <td>77.0</td>\n",
       "      <td>467.66</td>\n",
       "      <td>86.0</td>\n",
       "      <td>21060.45</td>\n",
       "      <td>0</td>\n",
       "    </tr>\n",
       "    <tr>\n",
       "      <th>3</th>\n",
       "      <td>106.0</td>\n",
       "      <td>745.53</td>\n",
       "      <td>81.0</td>\n",
       "      <td>8437.39</td>\n",
       "      <td>1</td>\n",
       "    </tr>\n",
       "    <tr>\n",
       "      <th>4</th>\n",
       "      <td>66.0</td>\n",
       "      <td>418.74</td>\n",
       "      <td>1.0</td>\n",
       "      <td>14502.75</td>\n",
       "      <td>0</td>\n",
       "    </tr>\n",
       "  </tbody>\n",
       "</table>\n",
       "</div>\n",
       "      <button class=\"colab-df-convert\" onclick=\"convertToInteractive('df-2827c416-93c9-4f76-a938-15c66e6cd307')\"\n",
       "              title=\"Convert this dataframe to an interactive table.\"\n",
       "              style=\"display:none;\">\n",
       "        \n",
       "  <svg xmlns=\"http://www.w3.org/2000/svg\" height=\"24px\"viewBox=\"0 0 24 24\"\n",
       "       width=\"24px\">\n",
       "    <path d=\"M0 0h24v24H0V0z\" fill=\"none\"/>\n",
       "    <path d=\"M18.56 5.44l.94 2.06.94-2.06 2.06-.94-2.06-.94-.94-2.06-.94 2.06-2.06.94zm-11 1L8.5 8.5l.94-2.06 2.06-.94-2.06-.94L8.5 2.5l-.94 2.06-2.06.94zm10 10l.94 2.06.94-2.06 2.06-.94-2.06-.94-.94-2.06-.94 2.06-2.06.94z\"/><path d=\"M17.41 7.96l-1.37-1.37c-.4-.4-.92-.59-1.43-.59-.52 0-1.04.2-1.43.59L10.3 9.45l-7.72 7.72c-.78.78-.78 2.05 0 2.83L4 21.41c.39.39.9.59 1.41.59.51 0 1.02-.2 1.41-.59l7.78-7.78 2.81-2.81c.8-.78.8-2.07 0-2.86zM5.41 20L4 18.59l7.72-7.72 1.47 1.35L5.41 20z\"/>\n",
       "  </svg>\n",
       "      </button>\n",
       "      \n",
       "  <style>\n",
       "    .colab-df-container {\n",
       "      display:flex;\n",
       "      flex-wrap:wrap;\n",
       "      gap: 12px;\n",
       "    }\n",
       "\n",
       "    .colab-df-convert {\n",
       "      background-color: #E8F0FE;\n",
       "      border: none;\n",
       "      border-radius: 50%;\n",
       "      cursor: pointer;\n",
       "      display: none;\n",
       "      fill: #1967D2;\n",
       "      height: 32px;\n",
       "      padding: 0 0 0 0;\n",
       "      width: 32px;\n",
       "    }\n",
       "\n",
       "    .colab-df-convert:hover {\n",
       "      background-color: #E2EBFA;\n",
       "      box-shadow: 0px 1px 2px rgba(60, 64, 67, 0.3), 0px 1px 3px 1px rgba(60, 64, 67, 0.15);\n",
       "      fill: #174EA6;\n",
       "    }\n",
       "\n",
       "    [theme=dark] .colab-df-convert {\n",
       "      background-color: #3B4455;\n",
       "      fill: #D2E3FC;\n",
       "    }\n",
       "\n",
       "    [theme=dark] .colab-df-convert:hover {\n",
       "      background-color: #434B5C;\n",
       "      box-shadow: 0px 1px 3px 1px rgba(0, 0, 0, 0.15);\n",
       "      filter: drop-shadow(0px 1px 2px rgba(0, 0, 0, 0.3));\n",
       "      fill: #FFFFFF;\n",
       "    }\n",
       "  </style>\n",
       "\n",
       "      <script>\n",
       "        const buttonEl =\n",
       "          document.querySelector('#df-2827c416-93c9-4f76-a938-15c66e6cd307 button.colab-df-convert');\n",
       "        buttonEl.style.display =\n",
       "          google.colab.kernel.accessAllowed ? 'block' : 'none';\n",
       "\n",
       "        async function convertToInteractive(key) {\n",
       "          const element = document.querySelector('#df-2827c416-93c9-4f76-a938-15c66e6cd307');\n",
       "          const dataTable =\n",
       "            await google.colab.kernel.invokeFunction('convertToInteractive',\n",
       "                                                     [key], {});\n",
       "          if (!dataTable) return;\n",
       "\n",
       "          const docLinkHtml = 'Like what you see? Visit the ' +\n",
       "            '<a target=\"_blank\" href=https://colab.research.google.com/notebooks/data_table.ipynb>data table notebook</a>'\n",
       "            + ' to learn more about interactive tables.';\n",
       "          element.innerHTML = '';\n",
       "          dataTable['output_type'] = 'display_data';\n",
       "          await google.colab.output.renderOutput(dataTable, element);\n",
       "          const docLink = document.createElement('div');\n",
       "          docLink.innerHTML = docLinkHtml;\n",
       "          element.appendChild(docLink);\n",
       "        }\n",
       "      </script>\n",
       "    </div>\n",
       "  </div>\n",
       "  "
      ],
      "text/plain": [
       "   calls  minutes  messages   mb_used  is_ultra\n",
       "0   40.0   311.90      83.0  19915.42         0\n",
       "1   85.0   516.75      56.0  22696.96         0\n",
       "2   77.0   467.66      86.0  21060.45         0\n",
       "3  106.0   745.53      81.0   8437.39         1\n",
       "4   66.0   418.74       1.0  14502.75         0"
      ]
     },
     "execution_count": 175,
     "metadata": {},
     "output_type": "execute_result"
    }
   ],
   "source": [
    "# Menampilkan sampel data\n",
    "data.head()"
   ]
  },
  {
   "cell_type": "code",
   "execution_count": 176,
   "metadata": {
    "colab": {
     "base_uri": "https://localhost:8080/"
    },
    "id": "cccHhSWdzGZA",
    "outputId": "54fb6d62-8e9e-43af-fad5-f37d55ac9c4c"
   },
   "outputs": [
    {
     "name": "stdout",
     "output_type": "stream",
     "text": [
      "<class 'pandas.core.frame.DataFrame'>\n",
      "RangeIndex: 3214 entries, 0 to 3213\n",
      "Data columns (total 5 columns):\n",
      " #   Column    Non-Null Count  Dtype  \n",
      "---  ------    --------------  -----  \n",
      " 0   calls     3214 non-null   float64\n",
      " 1   minutes   3214 non-null   float64\n",
      " 2   messages  3214 non-null   float64\n",
      " 3   mb_used   3214 non-null   float64\n",
      " 4   is_ultra  3214 non-null   int64  \n",
      "dtypes: float64(4), int64(1)\n",
      "memory usage: 125.7 KB\n"
     ]
    }
   ],
   "source": [
    "# Menampilkan informasi data\n",
    "data.info()"
   ]
  },
  {
   "cell_type": "code",
   "execution_count": 177,
   "metadata": {
    "colab": {
     "base_uri": "https://localhost:8080/"
    },
    "id": "bkse7ED_150-",
    "outputId": "2fcd8554-1f9d-4293-8f90-7fe996a5f8dd"
   },
   "outputs": [
    {
     "data": {
      "text/plain": [
       "calls       0\n",
       "minutes     0\n",
       "messages    0\n",
       "mb_used     0\n",
       "is_ultra    0\n",
       "dtype: int64"
      ]
     },
     "execution_count": 177,
     "metadata": {},
     "output_type": "execute_result"
    }
   ],
   "source": [
    "# Memeriksa nilai yang hilang\n",
    "data.isna().sum()"
   ]
  },
  {
   "cell_type": "code",
   "execution_count": 178,
   "metadata": {
    "colab": {
     "base_uri": "https://localhost:8080/",
     "height": 300
    },
    "id": "fv9okozNVAyP",
    "outputId": "98090971-b197-4cdf-e1ef-9663c12de7a0"
   },
   "outputs": [
    {
     "data": {
      "text/html": [
       "\n",
       "  <div id=\"df-96a9f483-dce9-4001-a280-f0bd38b81d11\">\n",
       "    <div class=\"colab-df-container\">\n",
       "      <div>\n",
       "<style scoped>\n",
       "    .dataframe tbody tr th:only-of-type {\n",
       "        vertical-align: middle;\n",
       "    }\n",
       "\n",
       "    .dataframe tbody tr th {\n",
       "        vertical-align: top;\n",
       "    }\n",
       "\n",
       "    .dataframe thead th {\n",
       "        text-align: right;\n",
       "    }\n",
       "</style>\n",
       "<table border=\"1\" class=\"dataframe\">\n",
       "  <thead>\n",
       "    <tr style=\"text-align: right;\">\n",
       "      <th></th>\n",
       "      <th>calls</th>\n",
       "      <th>minutes</th>\n",
       "      <th>messages</th>\n",
       "      <th>mb_used</th>\n",
       "      <th>is_ultra</th>\n",
       "    </tr>\n",
       "  </thead>\n",
       "  <tbody>\n",
       "    <tr>\n",
       "      <th>count</th>\n",
       "      <td>3214.000000</td>\n",
       "      <td>3214.000000</td>\n",
       "      <td>3214.000000</td>\n",
       "      <td>3214.000000</td>\n",
       "      <td>3214.000000</td>\n",
       "    </tr>\n",
       "    <tr>\n",
       "      <th>mean</th>\n",
       "      <td>63.038892</td>\n",
       "      <td>438.208787</td>\n",
       "      <td>38.281269</td>\n",
       "      <td>17207.673836</td>\n",
       "      <td>0.306472</td>\n",
       "    </tr>\n",
       "    <tr>\n",
       "      <th>std</th>\n",
       "      <td>33.236368</td>\n",
       "      <td>234.569872</td>\n",
       "      <td>36.148326</td>\n",
       "      <td>7570.968246</td>\n",
       "      <td>0.461100</td>\n",
       "    </tr>\n",
       "    <tr>\n",
       "      <th>min</th>\n",
       "      <td>0.000000</td>\n",
       "      <td>0.000000</td>\n",
       "      <td>0.000000</td>\n",
       "      <td>0.000000</td>\n",
       "      <td>0.000000</td>\n",
       "    </tr>\n",
       "    <tr>\n",
       "      <th>25%</th>\n",
       "      <td>40.000000</td>\n",
       "      <td>274.575000</td>\n",
       "      <td>9.000000</td>\n",
       "      <td>12491.902500</td>\n",
       "      <td>0.000000</td>\n",
       "    </tr>\n",
       "    <tr>\n",
       "      <th>50%</th>\n",
       "      <td>62.000000</td>\n",
       "      <td>430.600000</td>\n",
       "      <td>30.000000</td>\n",
       "      <td>16943.235000</td>\n",
       "      <td>0.000000</td>\n",
       "    </tr>\n",
       "    <tr>\n",
       "      <th>75%</th>\n",
       "      <td>82.000000</td>\n",
       "      <td>571.927500</td>\n",
       "      <td>57.000000</td>\n",
       "      <td>21424.700000</td>\n",
       "      <td>1.000000</td>\n",
       "    </tr>\n",
       "    <tr>\n",
       "      <th>max</th>\n",
       "      <td>244.000000</td>\n",
       "      <td>1632.060000</td>\n",
       "      <td>224.000000</td>\n",
       "      <td>49745.730000</td>\n",
       "      <td>1.000000</td>\n",
       "    </tr>\n",
       "  </tbody>\n",
       "</table>\n",
       "</div>\n",
       "      <button class=\"colab-df-convert\" onclick=\"convertToInteractive('df-96a9f483-dce9-4001-a280-f0bd38b81d11')\"\n",
       "              title=\"Convert this dataframe to an interactive table.\"\n",
       "              style=\"display:none;\">\n",
       "        \n",
       "  <svg xmlns=\"http://www.w3.org/2000/svg\" height=\"24px\"viewBox=\"0 0 24 24\"\n",
       "       width=\"24px\">\n",
       "    <path d=\"M0 0h24v24H0V0z\" fill=\"none\"/>\n",
       "    <path d=\"M18.56 5.44l.94 2.06.94-2.06 2.06-.94-2.06-.94-.94-2.06-.94 2.06-2.06.94zm-11 1L8.5 8.5l.94-2.06 2.06-.94-2.06-.94L8.5 2.5l-.94 2.06-2.06.94zm10 10l.94 2.06.94-2.06 2.06-.94-2.06-.94-.94-2.06-.94 2.06-2.06.94z\"/><path d=\"M17.41 7.96l-1.37-1.37c-.4-.4-.92-.59-1.43-.59-.52 0-1.04.2-1.43.59L10.3 9.45l-7.72 7.72c-.78.78-.78 2.05 0 2.83L4 21.41c.39.39.9.59 1.41.59.51 0 1.02-.2 1.41-.59l7.78-7.78 2.81-2.81c.8-.78.8-2.07 0-2.86zM5.41 20L4 18.59l7.72-7.72 1.47 1.35L5.41 20z\"/>\n",
       "  </svg>\n",
       "      </button>\n",
       "      \n",
       "  <style>\n",
       "    .colab-df-container {\n",
       "      display:flex;\n",
       "      flex-wrap:wrap;\n",
       "      gap: 12px;\n",
       "    }\n",
       "\n",
       "    .colab-df-convert {\n",
       "      background-color: #E8F0FE;\n",
       "      border: none;\n",
       "      border-radius: 50%;\n",
       "      cursor: pointer;\n",
       "      display: none;\n",
       "      fill: #1967D2;\n",
       "      height: 32px;\n",
       "      padding: 0 0 0 0;\n",
       "      width: 32px;\n",
       "    }\n",
       "\n",
       "    .colab-df-convert:hover {\n",
       "      background-color: #E2EBFA;\n",
       "      box-shadow: 0px 1px 2px rgba(60, 64, 67, 0.3), 0px 1px 3px 1px rgba(60, 64, 67, 0.15);\n",
       "      fill: #174EA6;\n",
       "    }\n",
       "\n",
       "    [theme=dark] .colab-df-convert {\n",
       "      background-color: #3B4455;\n",
       "      fill: #D2E3FC;\n",
       "    }\n",
       "\n",
       "    [theme=dark] .colab-df-convert:hover {\n",
       "      background-color: #434B5C;\n",
       "      box-shadow: 0px 1px 3px 1px rgba(0, 0, 0, 0.15);\n",
       "      filter: drop-shadow(0px 1px 2px rgba(0, 0, 0, 0.3));\n",
       "      fill: #FFFFFF;\n",
       "    }\n",
       "  </style>\n",
       "\n",
       "      <script>\n",
       "        const buttonEl =\n",
       "          document.querySelector('#df-96a9f483-dce9-4001-a280-f0bd38b81d11 button.colab-df-convert');\n",
       "        buttonEl.style.display =\n",
       "          google.colab.kernel.accessAllowed ? 'block' : 'none';\n",
       "\n",
       "        async function convertToInteractive(key) {\n",
       "          const element = document.querySelector('#df-96a9f483-dce9-4001-a280-f0bd38b81d11');\n",
       "          const dataTable =\n",
       "            await google.colab.kernel.invokeFunction('convertToInteractive',\n",
       "                                                     [key], {});\n",
       "          if (!dataTable) return;\n",
       "\n",
       "          const docLinkHtml = 'Like what you see? Visit the ' +\n",
       "            '<a target=\"_blank\" href=https://colab.research.google.com/notebooks/data_table.ipynb>data table notebook</a>'\n",
       "            + ' to learn more about interactive tables.';\n",
       "          element.innerHTML = '';\n",
       "          dataTable['output_type'] = 'display_data';\n",
       "          await google.colab.output.renderOutput(dataTable, element);\n",
       "          const docLink = document.createElement('div');\n",
       "          docLink.innerHTML = docLinkHtml;\n",
       "          element.appendChild(docLink);\n",
       "        }\n",
       "      </script>\n",
       "    </div>\n",
       "  </div>\n",
       "  "
      ],
      "text/plain": [
       "             calls      minutes     messages       mb_used     is_ultra\n",
       "count  3214.000000  3214.000000  3214.000000   3214.000000  3214.000000\n",
       "mean     63.038892   438.208787    38.281269  17207.673836     0.306472\n",
       "std      33.236368   234.569872    36.148326   7570.968246     0.461100\n",
       "min       0.000000     0.000000     0.000000      0.000000     0.000000\n",
       "25%      40.000000   274.575000     9.000000  12491.902500     0.000000\n",
       "50%      62.000000   430.600000    30.000000  16943.235000     0.000000\n",
       "75%      82.000000   571.927500    57.000000  21424.700000     1.000000\n",
       "max     244.000000  1632.060000   224.000000  49745.730000     1.000000"
      ]
     },
     "execution_count": 178,
     "metadata": {},
     "output_type": "execute_result"
    }
   ],
   "source": [
    "# Menampilkan nilai statistik data\n",
    "data.describe()"
   ]
  },
  {
   "cell_type": "markdown",
   "metadata": {
    "id": "tnDE8aTfcWYv"
   },
   "source": [
    "Kesimpulan :\n",
    "* Penamaan kolom sudah tepat\n",
    "* Tipe data sudah sesuai\n",
    "* Tidak ada nilai yang hilang\n",
    "* Target adalah `is_ultra` dan feature adalah `calls`, `minutes`, `messages` dan `mb_used`.\n",
    "* Nilai target berupa binary pada kolom `is_ultra` yang memiliki nilai berikut:\n",
    "  * 1 yang merupakan paket ultra\n",
    "  * 0 yang merupakan paket smart"
   ]
  },
  {
   "cell_type": "markdown",
   "metadata": {},
   "source": [
    "<div class=\"alert alert-success\">\n",
    "<b>Adipta's comment v.1</b> <a class=\"tocSkip\"></a>\n",
    "\n",
    "Bagus, semua berjalan lancar.\n",
    "\n",
    "</div>"
   ]
  },
  {
   "cell_type": "markdown",
   "metadata": {
    "id": "YKTsy-wqenVV"
   },
   "source": [
    "# 5 Pra-pemrosesan data"
   ]
  },
  {
   "cell_type": "code",
   "execution_count": 179,
   "metadata": {
    "colab": {
     "base_uri": "https://localhost:8080/"
    },
    "id": "Wyj1wKy-evrf",
    "outputId": "991caeed-34e3-49b1-95f1-907feb5dd81c"
   },
   "outputs": [
    {
     "data": {
      "text/plain": [
       "0"
      ]
     },
     "execution_count": 179,
     "metadata": {},
     "output_type": "execute_result"
    }
   ],
   "source": [
    "# Memeriksa duplikat\n",
    "data.duplicated().sum()"
   ]
  },
  {
   "cell_type": "markdown",
   "metadata": {
    "id": "EPo8npxve1ft"
   },
   "source": [
    "Tidak ada nilai duplikat"
   ]
  },
  {
   "cell_type": "markdown",
   "metadata": {},
   "source": [
    "<div class=\"alert alert-success\">\n",
    "<b>Adipta's comment v.1</b> <a class=\"tocSkip\"></a>\n",
    "\n",
    "Bagus, semua berjalan lancar.\n",
    "\n",
    "</div>"
   ]
  },
  {
   "cell_type": "markdown",
   "metadata": {
    "id": "DRtRS4-Ye3x8"
   },
   "source": [
    "# 6 Analisis Data Exploratif"
   ]
  },
  {
   "cell_type": "code",
   "execution_count": 180,
   "metadata": {
    "colab": {
     "base_uri": "https://localhost:8080/",
     "height": 608
    },
    "id": "oxRW4mmslgz8",
    "outputId": "6158be25-5adb-4e2f-e8bf-a64956d06c41"
   },
   "outputs": [
    {
     "data": {
      "image/png": "[encoded data removed]",
      "text/plain": [
       "<Figure size 864x720 with 2 Axes>"
      ]
     },
     "metadata": {
      "needs_background": "light"
     },
     "output_type": "display_data"
    }
   ],
   "source": [
    "# Korelasi antar data\n",
    "plt.figure(figsize=(12, 10))\n",
    "plt.title('Korelasi antar variable')\n",
    "sns.heatmap(data[['calls', 'minutes', 'messages', 'mb_used', 'is_ultra']].corr(), annot=True)\n",
    "plt.show()"
   ]
  },
  {
   "cell_type": "markdown",
   "metadata": {
    "id": "B-r8gaEyX48m"
   },
   "source": [
    "Dari grafik terlihat bahwa semua korelasi positif. Korelasi relatif rendah dibawah 0.3 kecuali korelasi antara minutes dan calls yang bernilai 0.98. Korelasi ini sangat besar sehingga kedua variabel ini dapat dianggap identik. Pada dasarnya sumber variabel ini adalah panggilan, hanya saja minutes untuk durasi dan calls untuk jumlah panggilan. Untuk itu kita ambil salah satu yakni calls sebagai feature. Sedangkan variabel yang lain dengan korelasi yang sangat rendah bersifat unik sehingga dapat disertakan dalam pembuatan model."
   ]
  },
  {
   "cell_type": "markdown",
   "metadata": {},
   "source": [
    "<div class=\"alert alert-success\">\n",
    "<b>Adipta's comment v.1</b> <a class=\"tocSkip\"></a>\n",
    "\n",
    "Bagus, semua berjalan lancar.\n",
    "\n",
    "</div>"
   ]
  },
  {
   "cell_type": "markdown",
   "metadata": {
    "id": "CjtClROIJC-m"
   },
   "source": [
    "# 7 Feature Engineering"
   ]
  },
  {
   "cell_type": "code",
   "execution_count": 181,
   "metadata": {
    "colab": {
     "base_uri": "https://localhost:8080/",
     "height": 206
    },
    "id": "fo9Gdiw4SgMV",
    "outputId": "a1188980-1818-4e35-bc65-b375fef0c01e"
   },
   "outputs": [
    {
     "data": {
      "text/html": [
       "\n",
       "  <div id=\"df-6c08fecb-252a-43f5-8f35-c0044ea76229\">\n",
       "    <div class=\"colab-df-container\">\n",
       "      <div>\n",
       "<style scoped>\n",
       "    .dataframe tbody tr th:only-of-type {\n",
       "        vertical-align: middle;\n",
       "    }\n",
       "\n",
       "    .dataframe tbody tr th {\n",
       "        vertical-align: top;\n",
       "    }\n",
       "\n",
       "    .dataframe thead th {\n",
       "        text-align: right;\n",
       "    }\n",
       "</style>\n",
       "<table border=\"1\" class=\"dataframe\">\n",
       "  <thead>\n",
       "    <tr style=\"text-align: right;\">\n",
       "      <th></th>\n",
       "      <th>calls</th>\n",
       "      <th>messages</th>\n",
       "      <th>mb_used</th>\n",
       "    </tr>\n",
       "  </thead>\n",
       "  <tbody>\n",
       "    <tr>\n",
       "      <th>0</th>\n",
       "      <td>40.0</td>\n",
       "      <td>83.0</td>\n",
       "      <td>19915.42</td>\n",
       "    </tr>\n",
       "    <tr>\n",
       "      <th>1</th>\n",
       "      <td>85.0</td>\n",
       "      <td>56.0</td>\n",
       "      <td>22696.96</td>\n",
       "    </tr>\n",
       "    <tr>\n",
       "      <th>2</th>\n",
       "      <td>77.0</td>\n",
       "      <td>86.0</td>\n",
       "      <td>21060.45</td>\n",
       "    </tr>\n",
       "    <tr>\n",
       "      <th>3</th>\n",
       "      <td>106.0</td>\n",
       "      <td>81.0</td>\n",
       "      <td>8437.39</td>\n",
       "    </tr>\n",
       "    <tr>\n",
       "      <th>4</th>\n",
       "      <td>66.0</td>\n",
       "      <td>1.0</td>\n",
       "      <td>14502.75</td>\n",
       "    </tr>\n",
       "  </tbody>\n",
       "</table>\n",
       "</div>\n",
       "      <button class=\"colab-df-convert\" onclick=\"convertToInteractive('df-6c08fecb-252a-43f5-8f35-c0044ea76229')\"\n",
       "              title=\"Convert this dataframe to an interactive table.\"\n",
       "              style=\"display:none;\">\n",
       "        \n",
       "  <svg xmlns=\"http://www.w3.org/2000/svg\" height=\"24px\"viewBox=\"0 0 24 24\"\n",
       "       width=\"24px\">\n",
       "    <path d=\"M0 0h24v24H0V0z\" fill=\"none\"/>\n",
       "    <path d=\"M18.56 5.44l.94 2.06.94-2.06 2.06-.94-2.06-.94-.94-2.06-.94 2.06-2.06.94zm-11 1L8.5 8.5l.94-2.06 2.06-.94-2.06-.94L8.5 2.5l-.94 2.06-2.06.94zm10 10l.94 2.06.94-2.06 2.06-.94-2.06-.94-.94-2.06-.94 2.06-2.06.94z\"/><path d=\"M17.41 7.96l-1.37-1.37c-.4-.4-.92-.59-1.43-.59-.52 0-1.04.2-1.43.59L10.3 9.45l-7.72 7.72c-.78.78-.78 2.05 0 2.83L4 21.41c.39.39.9.59 1.41.59.51 0 1.02-.2 1.41-.59l7.78-7.78 2.81-2.81c.8-.78.8-2.07 0-2.86zM5.41 20L4 18.59l7.72-7.72 1.47 1.35L5.41 20z\"/>\n",
       "  </svg>\n",
       "      </button>\n",
       "      \n",
       "  <style>\n",
       "    .colab-df-container {\n",
       "      display:flex;\n",
       "      flex-wrap:wrap;\n",
       "      gap: 12px;\n",
       "    }\n",
       "\n",
       "    .colab-df-convert {\n",
       "      background-color: #E8F0FE;\n",
       "      border: none;\n",
       "      border-radius: 50%;\n",
       "      cursor: pointer;\n",
       "      display: none;\n",
       "      fill: #1967D2;\n",
       "      height: 32px;\n",
       "      padding: 0 0 0 0;\n",
       "      width: 32px;\n",
       "    }\n",
       "\n",
       "    .colab-df-convert:hover {\n",
       "      background-color: #E2EBFA;\n",
       "      box-shadow: 0px 1px 2px rgba(60, 64, 67, 0.3), 0px 1px 3px 1px rgba(60, 64, 67, 0.15);\n",
       "      fill: #174EA6;\n",
       "    }\n",
       "\n",
       "    [theme=dark] .colab-df-convert {\n",
       "      background-color: #3B4455;\n",
       "      fill: #D2E3FC;\n",
       "    }\n",
       "\n",
       "    [theme=dark] .colab-df-convert:hover {\n",
       "      background-color: #434B5C;\n",
       "      box-shadow: 0px 1px 3px 1px rgba(0, 0, 0, 0.15);\n",
       "      filter: drop-shadow(0px 1px 2px rgba(0, 0, 0, 0.3));\n",
       "      fill: #FFFFFF;\n",
       "    }\n",
       "  </style>\n",
       "\n",
       "      <script>\n",
       "        const buttonEl =\n",
       "          document.querySelector('#df-6c08fecb-252a-43f5-8f35-c0044ea76229 button.colab-df-convert');\n",
       "        buttonEl.style.display =\n",
       "          google.colab.kernel.accessAllowed ? 'block' : 'none';\n",
       "\n",
       "        async function convertToInteractive(key) {\n",
       "          const element = document.querySelector('#df-6c08fecb-252a-43f5-8f35-c0044ea76229');\n",
       "          const dataTable =\n",
       "            await google.colab.kernel.invokeFunction('convertToInteractive',\n",
       "                                                     [key], {});\n",
       "          if (!dataTable) return;\n",
       "\n",
       "          const docLinkHtml = 'Like what you see? Visit the ' +\n",
       "            '<a target=\"_blank\" href=https://colab.research.google.com/notebooks/data_table.ipynb>data table notebook</a>'\n",
       "            + ' to learn more about interactive tables.';\n",
       "          element.innerHTML = '';\n",
       "          dataTable['output_type'] = 'display_data';\n",
       "          await google.colab.output.renderOutput(dataTable, element);\n",
       "          const docLink = document.createElement('div');\n",
       "          docLink.innerHTML = docLinkHtml;\n",
       "          element.appendChild(docLink);\n",
       "        }\n",
       "      </script>\n",
       "    </div>\n",
       "  </div>\n",
       "  "
      ],
      "text/plain": [
       "   calls  messages   mb_used\n",
       "0   40.0      83.0  19915.42\n",
       "1   85.0      56.0  22696.96\n",
       "2   77.0      86.0  21060.45\n",
       "3  106.0      81.0   8437.39\n",
       "4   66.0       1.0  14502.75"
      ]
     },
     "execution_count": 181,
     "metadata": {},
     "output_type": "execute_result"
    }
   ],
   "source": [
    "# Menentukan feature\n",
    "feature = data.drop(['minutes','is_ultra'], axis=1)\n",
    "feature.head()"
   ]
  },
  {
   "cell_type": "code",
   "execution_count": 182,
   "metadata": {
    "colab": {
     "base_uri": "https://localhost:8080/"
    },
    "id": "AtOlRIKITqCt",
    "outputId": "7e4c08b0-8895-4d8e-a692-36a19a916875"
   },
   "outputs": [
    {
     "data": {
      "text/plain": [
       "0    0\n",
       "1    0\n",
       "2    0\n",
       "3    1\n",
       "4    0\n",
       "Name: is_ultra, dtype: int64"
      ]
     },
     "execution_count": 182,
     "metadata": {},
     "output_type": "execute_result"
    }
   ],
   "source": [
    "# Menentukan target\n",
    "target = data['is_ultra']\n",
    "target.head()"
   ]
  },
  {
   "cell_type": "markdown",
   "metadata": {},
   "source": [
    "<div class=\"alert alert-success\">\n",
    "<b>Adipta's comment v.1</b> <a class=\"tocSkip\"></a>\n",
    "\n",
    "Bagus, semua berjalan lancar.\n",
    "\n",
    "</div>"
   ]
  },
  {
   "cell_type": "markdown",
   "metadata": {
    "id": "mpaWDe79JTl8"
   },
   "source": [
    "# 8 Memisahkan Data"
   ]
  },
  {
   "cell_type": "markdown",
   "metadata": {
    "id": "N8voQg4QemK8"
   },
   "source": [
    "Dataset dibagi 80% data training dan 20% testing. "
   ]
  },
  {
   "cell_type": "code",
   "execution_count": 183,
   "metadata": {
    "id": "eJvZ0VF6ZIa8"
   },
   "outputs": [],
   "source": [
    "# Membagi Training dan Testing\n",
    "feature_train, feature_test, target_train, target_test = train_test_split(feature, target, test_size = 0.2, random_state = 12345)"
   ]
  },
  {
   "cell_type": "markdown",
   "metadata": {
    "id": "lP5SoNUneIeU"
   },
   "source": [
    "Dataset telah dibagi menjadi training dan testing, selanjutnya training dibagi lagi untuk mendapatkan 20% validation data."
   ]
  },
  {
   "cell_type": "code",
   "execution_count": 184,
   "metadata": {
    "id": "WUw2jhg3Zby1"
   },
   "outputs": [],
   "source": [
    "# Membagi data training dengan data validation\n",
    "feature_train, feature_valid, target_train, target_valid = train_test_split(feature_train, target_train, test_size = 0.25, random_state = 12345)"
   ]
  },
  {
   "cell_type": "code",
   "execution_count": 185,
   "metadata": {
    "id": "LDhd-HbimumS"
   },
   "outputs": [],
   "source": [
    "# Menentukan nama dataset yang telah dibuat\n",
    "feature_train.name = 'Feature_Train'\n",
    "target_train.name = 'Target_Train'\n",
    "feature_test.name = 'Feature_Test'\n",
    "target_test.name = 'Target_Test'\n",
    "feature_valid.name = 'Feature_Valid'\n",
    "target_valid.name = 'Target_Valid'"
   ]
  },
  {
   "cell_type": "code",
   "execution_count": 186,
   "metadata": {
    "colab": {
     "base_uri": "https://localhost:8080/"
    },
    "id": "7cIp6fe8fyAc",
    "outputId": "e45046f2-089e-4189-8515-080955a24b8b"
   },
   "outputs": [
    {
     "name": "stdout",
     "output_type": "stream",
     "text": [
      "Besar dari Feature_Train : 60.0 %\n",
      "Besar dari Target_Train : 60.0 %\n",
      "Besar dari Feature_Test : 20.0 %\n",
      "Besar dari Target_Test : 20.0 %\n",
      "Besar dari Feature_Valid : 20.0 %\n",
      "Besar dari Target_Valid : 20.0 %\n"
     ]
    }
   ],
   "source": [
    "# Menampilkan ukuran data yang sudah dibagi\n",
    "for dataset in [feature_train, target_train, feature_test, target_test, feature_valid, target_valid]:\n",
    "  print('Besar dari', dataset.name, ':', np.round(dataset.shape[0]/len(data)*100),'%')"
   ]
  },
  {
   "cell_type": "markdown",
   "metadata": {
    "id": "uv98qv9drBPR"
   },
   "source": [
    "Dataset Feature dan Target telah dibagi menjadi 3 :\n",
    "* 60 % untuk data training\n",
    "* 20 % untuk data test, dan\n",
    "* 20 % untuk data validation "
   ]
  },
  {
   "cell_type": "markdown",
   "metadata": {},
   "source": [
    "<div class=\"alert alert-success\">\n",
    "<b>Adipta's comment v.1</b> <a class=\"tocSkip\"></a>\n",
    "\n",
    "Bagus, semua berjalan lancar.\n",
    "\n",
    "</div>"
   ]
  },
  {
   "cell_type": "markdown",
   "metadata": {
    "id": "kkCXBHU-r_Eq"
   },
   "source": [
    "# 9 Memeriksa Kualitas Model dengan Hyperparameter"
   ]
  },
  {
   "cell_type": "markdown",
   "metadata": {
    "id": "y43fZM7GD0-V"
   },
   "source": [
    "Bagian ini membangun dan memeriksa kualitas model dengan menggunakan :\n",
    "* Logistic Regression\n",
    "* Decision Tree Classifier\n",
    "* Random Forest"
   ]
  },
  {
   "cell_type": "markdown",
   "metadata": {
    "id": "M41sR0U2vHzv"
   },
   "source": [
    "## 9.1 Logistic Regression\n",
    "Membangun model logistik regression dengan menggunakan `liblinear` pada `solver` sebagai hyperparameter. `liblinear` cocok untuk model klasifikasi.\n",
    "(https://medium.com/@data.science.enthusiast/logistic-regression-tune-hyperparameters-python-code-fintech-does-it-bring-any-value-619e172565e6)"
   ]
  },
  {
   "cell_type": "code",
   "execution_count": 187,
   "metadata": {
    "colab": {
     "base_uri": "https://localhost:8080/"
    },
    "id": "c7XfeJTFsBgI",
    "outputId": "4013dd1d-59fe-4338-d195-dcb24771cebb"
   },
   "outputs": [
    {
     "name": "stdout",
     "output_type": "stream",
     "text": [
      "Train accuracy: 0.7007261410788381 | Valid accuracy : 0.6998444790046656\n"
     ]
    }
   ],
   "source": [
    "# Membuat fungsi membangun dan memeriksa logistic regression model\n",
    "def logistic_regression(x_train, y_train, x_valid, y_valid):\n",
    "    model = LogisticRegression(random_state=12345, solver='liblinear') # Membuat model\n",
    "    model.fit(x_train, y_train) # Melatih model \n",
    "    model.score(x_train, y_train) # Memeriksa akurasi\n",
    "    train_predictions = model.predict(x_train) # prediksi dengan data train\n",
    "    predictions_valid = model.predict(x_valid) # prediksi dengan data validation\n",
    "    print(\"Train accuracy:\", accuracy_score(y_train, train_predictions),\"|\",\"Valid accuracy :\",accuracy_score(y_valid, predictions_valid))\n",
    "logistic_regression(feature_train, target_train, feature_valid, target_valid)"
   ]
  },
  {
   "cell_type": "markdown",
   "metadata": {
    "id": "fPU3gtRpExVP"
   },
   "source": [
    "Akurasi untuk train dan validation dibawah 75% (batas akurasi yang diharapkan) yakni 70% dan 69%. Dengan demikian model ini tidak dapat digunakan."
   ]
  },
  {
   "cell_type": "markdown",
   "metadata": {},
   "source": [
    "<div class=\"alert alert-success\">\n",
    "<b>Adipta's comment v.1</b> <a class=\"tocSkip\"></a>\n",
    "\n",
    "Bagus, semua berjalan lancar.\n",
    "\n",
    "</div>"
   ]
  },
  {
   "cell_type": "markdown",
   "metadata": {
    "id": "rKtAjSBODcid"
   },
   "source": [
    "## 9.2 Decision Tree Classifier\n",
    "Membuat Model Decision Tree Classifier dengan `max_depth` sebagai hyperparameter"
   ]
  },
  {
   "cell_type": "code",
   "execution_count": 188,
   "metadata": {
    "colab": {
     "base_uri": "https://localhost:8080/",
     "height": 664
    },
    "id": "5e3OUXfAFl20",
    "outputId": "4beaf6b9-15e4-4beb-b462-088b3f455440"
   },
   "outputs": [
    {
     "name": "stdout",
     "output_type": "stream",
     "text": [
      "max_depth = 1 : Train accuracy: 0.758298755186722 | Valid accuracy : 0.7387247278382582\n",
      "max_depth = 2 : Train accuracy: 0.7894190871369294 | Valid accuracy : 0.7589424572317263\n",
      "max_depth = 3 : Train accuracy: 0.8101659751037344 | Valid accuracy : 0.7651632970451011\n",
      "max_depth = 4 : Train accuracy: 0.8179460580912863 | Valid accuracy : 0.7620528771384136\n",
      "max_depth = 5 : Train accuracy: 0.8257261410788381 | Valid accuracy : 0.76049766718507\n",
      "max_depth = 6 : Train accuracy: 0.8360995850622407 | Valid accuracy : 0.7573872472783826\n",
      "max_depth = 7 : Train accuracy: 0.8475103734439834 | Valid accuracy : 0.7573872472783826\n",
      "max_depth = 8 : Train accuracy: 0.8651452282157677 | Valid accuracy : 0.7682737169517885\n",
      "max_depth = 9 : Train accuracy: 0.8770746887966805 | Valid accuracy : 0.7620528771384136\n",
      "max_depth = 10 : Train accuracy: 0.8905601659751037 | Valid accuracy : 0.7729393468118196\n",
      "max_depth = 11 : Train accuracy: 0.904045643153527 | Valid accuracy : 0.7667185069984448\n",
      "max_depth = 12 : Train accuracy: 0.9164937759336099 | Valid accuracy : 0.7573872472783826\n",
      "max_depth = 13 : Train accuracy: 0.9263485477178424 | Valid accuracy : 0.7542768273716952\n",
      "max_depth = 14 : Train accuracy: 0.9403526970954357 | Valid accuracy : 0.7356143079315708\n",
      "max_depth = 15 : Train accuracy: 0.9507261410788381 | Valid accuracy : 0.7356143079315708\n"
     ]
    },
    {
     "data": {
      "image/png": "[encoded data removed]",
      "text/plain": [
       "<Figure size 720x432 with 1 Axes>"
      ]
     },
     "metadata": {
      "needs_background": "light"
     },
     "output_type": "display_data"
    }
   ],
   "source": [
    "# Membuat fungsi membangun dan memeriksa decision tree classifier model\n",
    "def decision_tree_classifier(x_train, y_train, x_valid, y_valid):\n",
    "    # Membuat list untuk menampung skor\n",
    "    train_scores = []\n",
    "    valid_scores = []\n",
    "    # Menentukan kedalaman tree\n",
    "    tree_depth = [i for i in range(1, 16)]\n",
    "    # Membuat loop untuk max_depth\n",
    "    for depth in tree_depth:\n",
    "        model = DecisionTreeClassifier(random_state=12345, max_depth = depth) # Membuat model\n",
    "        model.fit(x_train, y_train) # Melatih model\n",
    "        # membuat prediksi untuk train\n",
    "        train_predictions = model.predict(x_train)\n",
    "        train_predictions_acc = accuracy_score(y_train, train_predictions)\n",
    "        train_scores.append(train_predictions_acc)\n",
    "        # membuat prediksi untuk validation\n",
    "        predictions_valid = model.predict(x_valid)\n",
    "        predictions_valid_acc = accuracy_score(y_valid, predictions_valid)\n",
    "        valid_scores.append(predictions_valid_acc)\n",
    "        print(\"max_depth =\", depth, \": \", end='')\n",
    "        print(\"Train accuracy:\",train_predictions_acc,\"|\",\"Valid accuracy :\",predictions_valid_acc)\n",
    "    # Membuat grafik/plot antara skor dan kedalaman tree\n",
    "    plt.figure(figsize=(10,6))\n",
    "    plt.plot(tree_depth, train_scores, '-*', label='Train')\n",
    "    plt.plot(tree_depth, valid_scores, '-o', label='Validation')\n",
    "    plt.title('Score vs Tree Depth')\n",
    "    plt.xlabel('Max depth')\n",
    "    plt.ylabel('Accuracy')\n",
    "    plt.legend()\n",
    "    plt.show()\n",
    "decision_tree_classifier(feature_train, target_train, feature_valid, target_valid)"
   ]
  },
  {
   "cell_type": "markdown",
   "metadata": {
    "id": "ec-IZ_cEJcu9"
   },
   "source": [
    "Dari 1 sampai 20 kedalaman (max_depth), max_depth yang ke-4 adalah yang paling bagus untuk train dan validation, dengan akurasi masing-masing 81% dan 76%. Selisih akurasi antara traing dan validation 5%, sehingga model ini dapat digunakan."
   ]
  },
  {
   "cell_type": "markdown",
   "metadata": {},
   "source": [
    "<div class=\"alert alert-success\">\n",
    "<b>Adipta's comment v.1</b> <a class=\"tocSkip\"></a>\n",
    "\n",
    "Bagus, semua berjalan lancar.\n",
    "\n",
    "</div>"
   ]
  },
  {
   "cell_type": "markdown",
   "metadata": {
    "id": "tVQVpxFXDn-N"
   },
   "source": [
    "## 9.3 Random Forest Classifier\n",
    "Membuat model dengan random forest classifier dengan n_estimators sebagai hyperparameter."
   ]
  },
  {
   "cell_type": "code",
   "execution_count": 189,
   "metadata": {
    "colab": {
     "base_uri": "https://localhost:8080/",
     "height": 578
    },
    "id": "iYrmPWKOKeQQ",
    "outputId": "17867a46-64dc-4a06-8c79-d886f94c6c5f"
   },
   "outputs": [
    {
     "name": "stdout",
     "output_type": "stream",
     "text": [
      "n_estimator = 1 : Train accuracy: 0.9118257261410788  |  Valid accuracy :  0.7309486780715396\n",
      "n_estimator = 2 : Train accuracy: 0.9144190871369294  |  Valid accuracy :  0.7589424572317263\n",
      "n_estimator = 3 : Train accuracy: 0.9553941908713693  |  Valid accuracy :  0.7620528771384136\n",
      "n_estimator = 4 : Train accuracy: 0.9522821576763485  |  Valid accuracy :  0.776049766718507\n",
      "n_estimator = 5 : Train accuracy: 0.9725103734439834  |  Valid accuracy :  0.7651632970451011\n",
      "n_estimator = 6 : Train accuracy: 0.9647302904564315  |  Valid accuracy :  0.776049766718507\n",
      "n_estimator = 7 : Train accuracy: 0.979253112033195  |  Valid accuracy :  0.7822706065318819\n",
      "n_estimator = 8 : Train accuracy: 0.9745850622406639  |  Valid accuracy :  0.7962674961119751\n",
      "n_estimator = 9 : Train accuracy: 0.9839211618257261  |  Valid accuracy :  0.7916018662519441\n",
      "n_estimator = 10 : Train accuracy: 0.9813278008298755  |  Valid accuracy :  0.7931570762052877\n"
     ]
    },
    {
     "data": {
      "image/png": "[encoded data removed]",
      "text/plain": [
       "<Figure size 720x432 with 1 Axes>"
      ]
     },
     "metadata": {
      "needs_background": "light"
     },
     "output_type": "display_data"
    }
   ],
   "source": [
    "# create the random forest classifier model\n",
    "def random_forest_classifier(x_train, y_train, x_valid, y_valid):\n",
    "    # Membuat list untuk menampung skor\n",
    "    train_scores = []\n",
    "    valid_scores = []\n",
    "    # Menentukan range n_estimator\n",
    "    estimator_depth = [i for i in range(1, 11)]\n",
    "    # Membuat loop untuk n_estimator\n",
    "    for est in estimator_depth:\n",
    "        model = RandomForestClassifier(random_state=12345, n_estimators=est)\n",
    "        model.fit(x_train, y_train) # Melatih model\n",
    "        # membuat prediksi untuk train\n",
    "        train_predictions = model.predict(x_train)\n",
    "        train_predictions_acc = accuracy_score(y_train, train_predictions)\n",
    "        train_scores.append(train_predictions_acc)\n",
    "        # membuat prediksi untuk validation\n",
    "        predictions_valid = model.predict(x_valid)\n",
    "        predictions_valid_acc = accuracy_score(y_valid, predictions_valid)\n",
    "        valid_scores.append(predictions_valid_acc)\n",
    "        print(\"n_estimator =\", est, \": \", end='')\n",
    "        print(\"Train accuracy:\",train_predictions_acc,\" | \",\"Valid accuracy : \",predictions_valid_acc)\n",
    "    # Membuat grafik/plot antarascores dan n_estimator\n",
    "    plt.figure(figsize=(10,6))\n",
    "    plt.plot(estimator_depth, train_scores, '-*', label='Train')\n",
    "    plt.plot(estimator_depth, valid_scores, '-o', label='Validation')\n",
    "    plt.title('Skor vs n_estimator')\n",
    "    plt.xlabel('Number of estimators')\n",
    "    plt.ylabel('Accuracy')\n",
    "    plt.legend()\n",
    "    plt.show()\n",
    "    # print the fn and the plot random forest classifier\n",
    "random_forest_classifier(feature_train, target_train, feature_valid, target_valid)"
   ]
  },
  {
   "cell_type": "markdown",
   "metadata": {
    "id": "3UUEI3X24Zri"
   },
   "source": [
    "Akurasi yang paling baik ada pada n_estimator ke-10, dengan nilai akurasi pada train dan validation masing-masing 98% dan 79%. Namun selisih antara train dan validation hampir mendekati 20%."
   ]
  },
  {
   "cell_type": "markdown",
   "metadata": {},
   "source": [
    "<div class=\"alert alert-warning\">\n",
    "<b>Adipta's comment v.1</b> <a class=\"tocSkip\"></a>\n",
    "\n",
    "- selain n_estimator, bisa dilakukan tuning hyperparams max_depth juga\n",
    "\n",
    "</div>"
   ]
  },
  {
   "cell_type": "markdown",
   "metadata": {
    "id": "odNhatV7ztMo"
   },
   "source": [
    "# 10 Memeriksa Kualitas Model dengan Test Set"
   ]
  },
  {
   "cell_type": "markdown",
   "metadata": {
    "id": "Juqz6Sq2X4uh"
   },
   "source": [
    "Dari ketiga model diatas, Decission Tree Classifier yang paling baik sebagai model untuk itu kita akan melakukan pemeriksaan kualitas dengan test set pada model ini."
   ]
  },
  {
   "cell_type": "code",
   "execution_count": 190,
   "metadata": {
    "colab": {
     "base_uri": "https://localhost:8080/"
    },
    "id": "KBjszPNAZHRQ",
    "outputId": "c13f6a66-1e2e-4e18-e835-f5e6b0172404"
   },
   "outputs": [
    {
     "data": {
      "text/plain": [
       "0.7900466562986003"
      ]
     },
     "execution_count": 190,
     "metadata": {},
     "output_type": "execute_result"
    }
   ],
   "source": [
    "# Test set dengan Decision Tree Classifier\n",
    "model = DecisionTreeClassifier(random_state=12345, max_depth = 4) # Membuat model\n",
    "model.fit(feature_train, target_train) # Melatih model\n",
    "test_predictions = model.predict(feature_test)# membuat prediksi untuk train\n",
    "accuracy_score(target_test, test_predictions) # Menghitung Akurasi Test"
   ]
  },
  {
   "cell_type": "markdown",
   "metadata": {
    "id": "6Jv9_LdVFdxh"
   },
   "source": [
    "Akurasi Test set 79% telah melewati batas akurasi minimum."
   ]
  },
  {
   "cell_type": "markdown",
   "metadata": {},
   "source": [
    "<div class=\"alert alert-success\">\n",
    "<b>Adipta's comment v.1</b> <a class=\"tocSkip\"></a>\n",
    "\n",
    "Bagus, semua berjalan lancar.\n",
    "\n",
    "</div>"
   ]
  },
  {
   "cell_type": "markdown",
   "metadata": {
    "id": "aprnINMBz4nu"
   },
   "source": [
    "# 11 Sanity Check\n",
    "Sanity check sudah dilakukan dengan accuracy_score, dibagian ini sanity check akan dilakukan dengan confusion_matrix."
   ]
  },
  {
   "cell_type": "code",
   "execution_count": 191,
   "metadata": {
    "colab": {
     "base_uri": "https://localhost:8080/"
    },
    "id": "sVwZERAemvC7",
    "outputId": "65177a16-a4d6-4476-de05-df04e329c4f6"
   },
   "outputs": [
    {
     "data": {
      "text/plain": [
       "array([[416,  27],\n",
       "       [126,  74]])"
      ]
     },
     "execution_count": 191,
     "metadata": {},
     "output_type": "execute_result"
    }
   ],
   "source": [
    "# Sanity check pada model dengan confusion_matrix\n",
    "model = DecisionTreeClassifier(random_state=12345, max_depth = 4) # Membuat model\n",
    "model.fit(feature_train, target_train) # Melatih model\n",
    "valid_predictions = model.predict(feature_valid) # membuat prediksi untuk validation\n",
    "confusion_matrix(target_valid, valid_predictions) # sanity check dengan confusion_matrix"
   ]
  },
  {
   "cell_type": "markdown",
   "metadata": {
    "id": "H6ryrTP1rTYX"
   },
   "source": [
    "Dari hasil sanitasi check terlihat bahwa:\n",
    "* Di baris 0 ada 443, tetapi hanya 416 yang dialokasikan dengan benar ke 0 dan 27 salah ditetapkan ke 1. \n",
    "* Di baris 1 ada 200, tetapi hanya 74 yang dialokasikan dengan benar ke 1 dan 126 yang salah dibagi ke 0."
   ]
  },
  {
   "cell_type": "markdown",
   "metadata": {},
   "source": [
    "<div class=\"alert alert-success\">\n",
    "<b>Adipta's comment v.1</b> <a class=\"tocSkip\"></a>\n",
    "\n",
    "Bagus, semua berjalan lancar.\n",
    "\n",
    "</div>"
   ]
  },
  {
   "cell_type": "markdown",
   "metadata": {
    "id": "_RVbn0YDz_vJ"
   },
   "source": [
    "# 12 Kesimpulan"
   ]
  },
  {
   "cell_type": "markdown",
   "metadata": {
    "id": "2v7ylpGjtNPa"
   },
   "source": [
    "Tujuan proyek ini adalah mengembangkan sebuah model yang dapat menganalisis perilaku konsumen dan merekomendasikan salah satu dari kedua paket terbaru Megaline: Smart atau Ultra.\n",
    "\n",
    "Berikut ini kesimpulan berdasarkan langkah-langkah yang telah diambil:\n",
    "1. Pada dasarnya data sudah bersih, tidak ada nilai hilang, tipe data sudah sesuai, tidak ada duplikat dan siap untuk di proses.\n",
    "2. Dari analisis data eksploratif ditemukan bahwa korelasi antara variable minutes dan calls sangat tinggi yakni 0.98 sehingga dapat dipilih salah satu. Sedangkan variable lainnya bersifat unik sehingga dapat disertakan dalam feature.\n",
    "3. Data dipisahakan menjadi Train, Valid dan Test dengan proporsi masing-masing 60%, 20%, dan 20%.\n",
    "4. Model dibuat dengan menggunakan 3 cara yaitu logistic regression, decision tree classifier, dan random forest.\n",
    "5. Dari hasil pemeriksaan model ditemukan bahwa decision tree classifier memiliki hasil yang paling baik dengan akurasi pada train 81% dan validation 76%. Hasil tersebut didapat dengan menggunakan `max_depth` sebagai hyperparameter dengan kedalaman ke-4.\n",
    "6. Ketika melakukan pemeriksaan kualitas model dengan test set didapatkan akurasi 79%.\n",
    "7. Sanity check mengambarkan bagaimana prediksi yang benar pada validation set.\n",
    "\n",
    "\n",
    "Secara umum model yang telah dibangun sudah melewati akurasi 75% yang diharapkan. Model ini sudah dapat memprediksi paket yang tepat untuk konsumen dengan benar sebanyak 79%."
   ]
  },
  {
   "cell_type": "markdown",
   "metadata": {},
   "source": [
    "<div class=\"alert alert-block alert-success\">\n",
    "\n",
    "# General comments #1\n",
    "<b>Reviewer's comment</b> <a class=\"tocSkip\"></a> \n",
    "\n",
    "Good Job Juliman! Sebagian besar kamu telah menyelesaikan project ini dengan baik dan tanpa revisi yah!\n",
    "    \n",
    "\n",
    "</div>"
   ]
  },
  {
   "cell_type": "code",
   "execution_count": null,
   "metadata": {},
   "outputs": [],
   "source": []
  }
 ],
 "metadata": {
  "colab": {
   "provenance": []
  },
  "kernelspec": {
   "display_name": "Python 3 (ipykernel)",
   "language": "python",
   "name": "python3"
  },
  "language_info": {
   "codemirror_mode": {
    "name": "ipython",
    "version": 3
   },
   "file_extension": ".py",
   "mimetype": "text/x-python",
   "name": "python",
   "nbconvert_exporter": "python",
   "pygments_lexer": "ipython3",
   "version": "3.9.5"
  },
  "toc": {
   "base_numbering": 1,
   "nav_menu": {},
   "number_sections": true,
   "sideBar": true,
   "skip_h1_title": true,
   "title_cell": "Table of Contents",
   "title_sidebar": "Contents",
   "toc_cell": false,
   "toc_position": {},
   "toc_section_display": true,
   "toc_window_display": false
  }
 },
 "nbformat": 4,
 "nbformat_minor": 1
}
